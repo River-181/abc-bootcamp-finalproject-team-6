{
 "cells": [
  {
   "cell_type": "markdown",
   "id": "9643ca62",
   "metadata": {},
   "source": [
    "# 01. 탐색적 데이터 분석 (EDA)\n",
    "\n",
    "이 노트북은 데이터의 기본 특성을 파악하고 분석하기 위한 탐색적 데이터 분석을 수행합니다.\n",
    "\n",
    "## 목표\n",
    "- 데이터 로드 및 기본 정보 확인\n",
    "- 데이터 품질 평가\n",
    "- 기술 통계 분석\n",
    "- 시각화를 통한 데이터 패턴 발견"
   ]
  },
  {
   "cell_type": "code",
   "execution_count": 1,
   "id": "e0a58e5c",
   "metadata": {},
   "outputs": [
    {
     "name": "stdout",
     "output_type": "stream",
     "text": [
      "라이브러리 임포트 완료!\n"
     ]
    }
   ],
   "source": [
    "# 필수 라이브러리 임포트\n",
    "import pandas as pd\n",
    "import numpy as np\n",
    "import matplotlib.pyplot as plt\n",
    "import seaborn as sns\n",
    "import plotly.express as px\n",
    "import plotly.graph_objects as go\n",
    "from pathlib import Path\n",
    "import warnings\n",
    "\n",
    "# 설정\n",
    "warnings.filterwarnings('ignore')\n",
    "plt.style.use('seaborn-v0_8')\n",
    "sns.set_palette(\"husl\")\n",
    "\n",
    "# 한글 폰트 설정 (필요시)\n",
    "plt.rcParams['font.family'] = 'DejaVu Sans'\n",
    "plt.rcParams['axes.unicode_minus'] = False\n",
    "\n",
    "print(\"라이브러리 임포트 완료!\")"
   ]
  },
  {
   "cell_type": "markdown",
   "id": "c25697c6",
   "metadata": {},
   "source": [
    "## 1. 데이터 로드\n",
    "\n",
    "데이터를 로드하고 기본 정보를 확인합니다."
   ]
  },
  {
   "cell_type": "code",
   "execution_count": 2,
   "id": "cf418e27",
   "metadata": {},
   "outputs": [
    {
     "name": "stdout",
     "output_type": "stream",
     "text": [
      "📁 사용 가능한 데이터 파일:\n",
      "\n",
      "🔄 샘플 데이터 생성 중...\n",
      "✅ 샘플 데이터 생성 완료!\n",
      "📊 데이터 크기: 1,000행 × 9열\n"
     ]
    }
   ],
   "source": [
    "# 데이터 파일 경로 설정\n",
    "data_path = Path(\"../data/raw\")\n",
    "\n",
    "# 사용 가능한 데이터 파일 확인\n",
    "if data_path.exists():\n",
    "    data_files = list(data_path.glob(\"*\"))\n",
    "    print(\"📁 사용 가능한 데이터 파일:\")\n",
    "    for file in data_files:\n",
    "        if file.suffix in ['.csv', '.xlsx', '.json', '.parquet']:\n",
    "            print(f\"  - {file.name}\")\n",
    "else:\n",
    "    print(\"⚠️ data/raw 폴더가 존재하지 않습니다.\")\n",
    "\n",
    "# 샘플 데이터 생성 (실제 데이터 대신 데모용)\n",
    "print(\"\\n🔄 샘플 데이터 생성 중...\")\n",
    "np.random.seed(42)\n",
    "\n",
    "# 고객 데이터 시뮬레이션\n",
    "n_customers = 1000\n",
    "sample_data = {\n",
    "    'customer_id': range(1, n_customers + 1),\n",
    "    'age': np.random.normal(35, 12, n_customers).astype(int),\n",
    "    'income': np.random.lognormal(10.5, 0.5, n_customers).astype(int),\n",
    "    'spending_score': np.random.beta(2, 5, n_customers) * 100,\n",
    "    'tenure_months': np.random.exponential(24, n_customers).astype(int),\n",
    "    'num_purchases': np.random.poisson(15, n_customers),\n",
    "    'category': np.random.choice(['Premium', 'Standard', 'Basic'], n_customers, p=[0.2, 0.5, 0.3]),\n",
    "    'region': np.random.choice(['North', 'South', 'East', 'West'], n_customers),\n",
    "    'is_churned': np.random.choice([0, 1], n_customers, p=[0.8, 0.2])\n",
    "}\n",
    "\n",
    "# 나이 제한 및 일부 결측값 추가\n",
    "sample_data['age'] = np.clip(sample_data['age'], 18, 80)\n",
    "sample_data['income'] = np.clip(sample_data['income'], 20000, 200000)\n",
    "\n",
    "df = pd.DataFrame(sample_data)\n",
    "\n",
    "# 일부 결측값 생성 (실제 데이터 상황 시뮬레이션)\n",
    "missing_indices = np.random.choice(df.index, size=50, replace=False)\n",
    "df.loc[missing_indices, 'income'] = np.nan\n",
    "\n",
    "print(f\"✅ 샘플 데이터 생성 완료!\")\n",
    "print(f\"📊 데이터 크기: {df.shape[0]:,}행 × {df.shape[1]}열\")"
   ]
  },
  {
   "cell_type": "markdown",
   "id": "8fe8a69b",
   "metadata": {},
   "source": [
    "## 2. 데이터 기본 정보\n",
    "\n",
    "데이터셋의 기본적인 구조와 정보를 파악합니다."
   ]
  },
  {
   "cell_type": "code",
   "execution_count": 3,
   "id": "51e56f6c",
   "metadata": {},
   "outputs": [
    {
     "name": "stdout",
     "output_type": "stream",
     "text": [
      "📊 데이터셋 기본 정보\n",
      "==================================================\n",
      "• 행(Rows): 1,000\n",
      "• 열(Columns): 9\n",
      "• 메모리 사용량: 0.16 MB\n",
      "\n",
      "📋 컬럼 정보:\n",
      "<class 'pandas.core.frame.DataFrame'>\n",
      "RangeIndex: 1000 entries, 0 to 999\n",
      "Data columns (total 9 columns):\n",
      " #   Column          Non-Null Count  Dtype  \n",
      "---  ------          --------------  -----  \n",
      " 0   customer_id     1000 non-null   int64  \n",
      " 1   age             1000 non-null   int64  \n",
      " 2   income          950 non-null    float64\n",
      " 3   spending_score  1000 non-null   float64\n",
      " 4   tenure_months   1000 non-null   int64  \n",
      " 5   num_purchases   1000 non-null   int64  \n",
      " 6   category        1000 non-null   object \n",
      " 7   region          1000 non-null   object \n",
      " 8   is_churned      1000 non-null   int64  \n",
      "dtypes: float64(2), int64(5), object(2)\n",
      "memory usage: 70.4+ KB\n",
      "None\n"
     ]
    }
   ],
   "source": [
    "# 데이터셋 기본 정보\n",
    "print(\"📊 데이터셋 기본 정보\")\n",
    "print(\"=\" * 50)\n",
    "print(f\"• 행(Rows): {df.shape[0]:,}\")\n",
    "print(f\"• 열(Columns): {df.shape[1]}\")\n",
    "print(f\"• 메모리 사용량: {df.memory_usage(deep=True).sum() / 1024**2:.2f} MB\")\n",
    "\n",
    "print(\"\\n📋 컬럼 정보:\")\n",
    "print(df.info())"
   ]
  },
  {
   "cell_type": "code",
   "execution_count": 4,
   "id": "6a0a0236",
   "metadata": {},
   "outputs": [
    {
     "name": "stdout",
     "output_type": "stream",
     "text": [
      "🔍 데이터 미리보기 (처음 5행)\n",
      "==================================================\n"
     ]
    },
    {
     "data": {
      "text/html": [
       "<div>\n",
       "<style scoped>\n",
       "    .dataframe tbody tr th:only-of-type {\n",
       "        vertical-align: middle;\n",
       "    }\n",
       "\n",
       "    .dataframe tbody tr th {\n",
       "        vertical-align: top;\n",
       "    }\n",
       "\n",
       "    .dataframe thead th {\n",
       "        text-align: right;\n",
       "    }\n",
       "</style>\n",
       "<table border=\"1\" class=\"dataframe\">\n",
       "  <thead>\n",
       "    <tr style=\"text-align: right;\">\n",
       "      <th></th>\n",
       "      <th>customer_id</th>\n",
       "      <th>age</th>\n",
       "      <th>income</th>\n",
       "      <th>spending_score</th>\n",
       "      <th>tenure_months</th>\n",
       "      <th>num_purchases</th>\n",
       "      <th>category</th>\n",
       "      <th>region</th>\n",
       "      <th>is_churned</th>\n",
       "    </tr>\n",
       "  </thead>\n",
       "  <tbody>\n",
       "    <tr>\n",
       "      <th>0</th>\n",
       "      <td>1</td>\n",
       "      <td>40</td>\n",
       "      <td>73106.0</td>\n",
       "      <td>17.702361</td>\n",
       "      <td>4</td>\n",
       "      <td>13</td>\n",
       "      <td>Premium</td>\n",
       "      <td>North</td>\n",
       "      <td>0</td>\n",
       "    </tr>\n",
       "    <tr>\n",
       "      <th>1</th>\n",
       "      <td>2</td>\n",
       "      <td>33</td>\n",
       "      <td>57659.0</td>\n",
       "      <td>4.146698</td>\n",
       "      <td>15</td>\n",
       "      <td>7</td>\n",
       "      <td>Basic</td>\n",
       "      <td>North</td>\n",
       "      <td>0</td>\n",
       "    </tr>\n",
       "    <tr>\n",
       "      <th>2</th>\n",
       "      <td>3</td>\n",
       "      <td>42</td>\n",
       "      <td>37414.0</td>\n",
       "      <td>27.619741</td>\n",
       "      <td>32</td>\n",
       "      <td>25</td>\n",
       "      <td>Standard</td>\n",
       "      <td>East</td>\n",
       "      <td>0</td>\n",
       "    </tr>\n",
       "    <tr>\n",
       "      <th>3</th>\n",
       "      <td>4</td>\n",
       "      <td>53</td>\n",
       "      <td>26279.0</td>\n",
       "      <td>9.425356</td>\n",
       "      <td>48</td>\n",
       "      <td>12</td>\n",
       "      <td>Basic</td>\n",
       "      <td>South</td>\n",
       "      <td>0</td>\n",
       "    </tr>\n",
       "    <tr>\n",
       "      <th>4</th>\n",
       "      <td>5</td>\n",
       "      <td>32</td>\n",
       "      <td>NaN</td>\n",
       "      <td>41.184453</td>\n",
       "      <td>23</td>\n",
       "      <td>17</td>\n",
       "      <td>Premium</td>\n",
       "      <td>West</td>\n",
       "      <td>0</td>\n",
       "    </tr>\n",
       "  </tbody>\n",
       "</table>\n",
       "</div>"
      ],
      "text/plain": [
       "   customer_id  age   income  spending_score  tenure_months  num_purchases  \\\n",
       "0            1   40  73106.0       17.702361              4             13   \n",
       "1            2   33  57659.0        4.146698             15              7   \n",
       "2            3   42  37414.0       27.619741             32             25   \n",
       "3            4   53  26279.0        9.425356             48             12   \n",
       "4            5   32      NaN       41.184453             23             17   \n",
       "\n",
       "   category region  is_churned  \n",
       "0   Premium  North           0  \n",
       "1     Basic  North           0  \n",
       "2  Standard   East           0  \n",
       "3     Basic  South           0  \n",
       "4   Premium   West           0  "
      ]
     },
     "metadata": {},
     "output_type": "display_data"
    },
    {
     "name": "stdout",
     "output_type": "stream",
     "text": [
      "\n",
      "🔍 데이터 미리보기 (마지막 5행)\n",
      "==================================================\n"
     ]
    },
    {
     "data": {
      "text/html": [
       "<div>\n",
       "<style scoped>\n",
       "    .dataframe tbody tr th:only-of-type {\n",
       "        vertical-align: middle;\n",
       "    }\n",
       "\n",
       "    .dataframe tbody tr th {\n",
       "        vertical-align: top;\n",
       "    }\n",
       "\n",
       "    .dataframe thead th {\n",
       "        text-align: right;\n",
       "    }\n",
       "</style>\n",
       "<table border=\"1\" class=\"dataframe\">\n",
       "  <thead>\n",
       "    <tr style=\"text-align: right;\">\n",
       "      <th></th>\n",
       "      <th>customer_id</th>\n",
       "      <th>age</th>\n",
       "      <th>income</th>\n",
       "      <th>spending_score</th>\n",
       "      <th>tenure_months</th>\n",
       "      <th>num_purchases</th>\n",
       "      <th>category</th>\n",
       "      <th>region</th>\n",
       "      <th>is_churned</th>\n",
       "    </tr>\n",
       "  </thead>\n",
       "  <tbody>\n",
       "    <tr>\n",
       "      <th>995</th>\n",
       "      <td>996</td>\n",
       "      <td>31</td>\n",
       "      <td>62011.0</td>\n",
       "      <td>57.345957</td>\n",
       "      <td>48</td>\n",
       "      <td>16</td>\n",
       "      <td>Standard</td>\n",
       "      <td>East</td>\n",
       "      <td>0</td>\n",
       "    </tr>\n",
       "    <tr>\n",
       "      <th>996</th>\n",
       "      <td>997</td>\n",
       "      <td>56</td>\n",
       "      <td>35837.0</td>\n",
       "      <td>16.397359</td>\n",
       "      <td>6</td>\n",
       "      <td>12</td>\n",
       "      <td>Standard</td>\n",
       "      <td>East</td>\n",
       "      <td>0</td>\n",
       "    </tr>\n",
       "    <tr>\n",
       "      <th>997</th>\n",
       "      <td>998</td>\n",
       "      <td>42</td>\n",
       "      <td>23366.0</td>\n",
       "      <td>41.380820</td>\n",
       "      <td>36</td>\n",
       "      <td>24</td>\n",
       "      <td>Basic</td>\n",
       "      <td>North</td>\n",
       "      <td>0</td>\n",
       "    </tr>\n",
       "    <tr>\n",
       "      <th>998</th>\n",
       "      <td>999</td>\n",
       "      <td>28</td>\n",
       "      <td>33472.0</td>\n",
       "      <td>29.331542</td>\n",
       "      <td>22</td>\n",
       "      <td>18</td>\n",
       "      <td>Standard</td>\n",
       "      <td>North</td>\n",
       "      <td>1</td>\n",
       "    </tr>\n",
       "    <tr>\n",
       "      <th>999</th>\n",
       "      <td>1000</td>\n",
       "      <td>41</td>\n",
       "      <td>25022.0</td>\n",
       "      <td>24.207957</td>\n",
       "      <td>84</td>\n",
       "      <td>12</td>\n",
       "      <td>Premium</td>\n",
       "      <td>East</td>\n",
       "      <td>0</td>\n",
       "    </tr>\n",
       "  </tbody>\n",
       "</table>\n",
       "</div>"
      ],
      "text/plain": [
       "     customer_id  age   income  spending_score  tenure_months  num_purchases  \\\n",
       "995          996   31  62011.0       57.345957             48             16   \n",
       "996          997   56  35837.0       16.397359              6             12   \n",
       "997          998   42  23366.0       41.380820             36             24   \n",
       "998          999   28  33472.0       29.331542             22             18   \n",
       "999         1000   41  25022.0       24.207957             84             12   \n",
       "\n",
       "     category region  is_churned  \n",
       "995  Standard   East           0  \n",
       "996  Standard   East           0  \n",
       "997     Basic  North           0  \n",
       "998  Standard  North           1  \n",
       "999   Premium   East           0  "
      ]
     },
     "metadata": {},
     "output_type": "display_data"
    },
    {
     "name": "stdout",
     "output_type": "stream",
     "text": [
      "\n",
      "🎲 무작위 샘플 (5행)\n",
      "==================================================\n"
     ]
    },
    {
     "data": {
      "text/html": [
       "<div>\n",
       "<style scoped>\n",
       "    .dataframe tbody tr th:only-of-type {\n",
       "        vertical-align: middle;\n",
       "    }\n",
       "\n",
       "    .dataframe tbody tr th {\n",
       "        vertical-align: top;\n",
       "    }\n",
       "\n",
       "    .dataframe thead th {\n",
       "        text-align: right;\n",
       "    }\n",
       "</style>\n",
       "<table border=\"1\" class=\"dataframe\">\n",
       "  <thead>\n",
       "    <tr style=\"text-align: right;\">\n",
       "      <th></th>\n",
       "      <th>customer_id</th>\n",
       "      <th>age</th>\n",
       "      <th>income</th>\n",
       "      <th>spending_score</th>\n",
       "      <th>tenure_months</th>\n",
       "      <th>num_purchases</th>\n",
       "      <th>category</th>\n",
       "      <th>region</th>\n",
       "      <th>is_churned</th>\n",
       "    </tr>\n",
       "  </thead>\n",
       "  <tbody>\n",
       "    <tr>\n",
       "      <th>919</th>\n",
       "      <td>920</td>\n",
       "      <td>37</td>\n",
       "      <td>28679.0</td>\n",
       "      <td>53.904710</td>\n",
       "      <td>77</td>\n",
       "      <td>23</td>\n",
       "      <td>Standard</td>\n",
       "      <td>West</td>\n",
       "      <td>0</td>\n",
       "    </tr>\n",
       "    <tr>\n",
       "      <th>85</th>\n",
       "      <td>86</td>\n",
       "      <td>28</td>\n",
       "      <td>45027.0</td>\n",
       "      <td>24.781566</td>\n",
       "      <td>66</td>\n",
       "      <td>13</td>\n",
       "      <td>Standard</td>\n",
       "      <td>East</td>\n",
       "      <td>1</td>\n",
       "    </tr>\n",
       "    <tr>\n",
       "      <th>322</th>\n",
       "      <td>323</td>\n",
       "      <td>25</td>\n",
       "      <td>35057.0</td>\n",
       "      <td>47.637186</td>\n",
       "      <td>163</td>\n",
       "      <td>19</td>\n",
       "      <td>Standard</td>\n",
       "      <td>South</td>\n",
       "      <td>1</td>\n",
       "    </tr>\n",
       "    <tr>\n",
       "      <th>785</th>\n",
       "      <td>786</td>\n",
       "      <td>47</td>\n",
       "      <td>20000.0</td>\n",
       "      <td>15.265936</td>\n",
       "      <td>2</td>\n",
       "      <td>14</td>\n",
       "      <td>Basic</td>\n",
       "      <td>South</td>\n",
       "      <td>1</td>\n",
       "    </tr>\n",
       "    <tr>\n",
       "      <th>355</th>\n",
       "      <td>356</td>\n",
       "      <td>22</td>\n",
       "      <td>20000.0</td>\n",
       "      <td>62.772397</td>\n",
       "      <td>21</td>\n",
       "      <td>13</td>\n",
       "      <td>Basic</td>\n",
       "      <td>West</td>\n",
       "      <td>1</td>\n",
       "    </tr>\n",
       "  </tbody>\n",
       "</table>\n",
       "</div>"
      ],
      "text/plain": [
       "     customer_id  age   income  spending_score  tenure_months  num_purchases  \\\n",
       "919          920   37  28679.0       53.904710             77             23   \n",
       "85            86   28  45027.0       24.781566             66             13   \n",
       "322          323   25  35057.0       47.637186            163             19   \n",
       "785          786   47  20000.0       15.265936              2             14   \n",
       "355          356   22  20000.0       62.772397             21             13   \n",
       "\n",
       "     category region  is_churned  \n",
       "919  Standard   West           0  \n",
       "85   Standard   East           1  \n",
       "322  Standard  South           1  \n",
       "785     Basic  South           1  \n",
       "355     Basic   West           1  "
      ]
     },
     "metadata": {},
     "output_type": "display_data"
    }
   ],
   "source": [
    "# 데이터 미리보기\n",
    "print(\"🔍 데이터 미리보기 (처음 5행)\")\n",
    "print(\"=\" * 50)\n",
    "display(df.head())\n",
    "\n",
    "print(\"\\n🔍 데이터 미리보기 (마지막 5행)\")\n",
    "print(\"=\" * 50)\n",
    "display(df.tail())\n",
    "\n",
    "print(\"\\n🎲 무작위 샘플 (5행)\")\n",
    "print(\"=\" * 50)\n",
    "display(df.sample(5))"
   ]
  },
  {
   "cell_type": "markdown",
   "id": "0096d430",
   "metadata": {},
   "source": [
    "## 3. 데이터 품질 평가\n",
    "\n",
    "데이터의 품질을 평가하고 결측값, 중복값, 이상치를 확인합니다."
   ]
  },
  {
   "cell_type": "code",
   "execution_count": 5,
   "id": "5a8ab67f",
   "metadata": {},
   "outputs": [
    {
     "name": "stdout",
     "output_type": "stream",
     "text": [
      "❓ 결측값 현황\n",
      "==================================================\n"
     ]
    },
    {
     "data": {
      "text/html": [
       "<div>\n",
       "<style scoped>\n",
       "    .dataframe tbody tr th:only-of-type {\n",
       "        vertical-align: middle;\n",
       "    }\n",
       "\n",
       "    .dataframe tbody tr th {\n",
       "        vertical-align: top;\n",
       "    }\n",
       "\n",
       "    .dataframe thead th {\n",
       "        text-align: right;\n",
       "    }\n",
       "</style>\n",
       "<table border=\"1\" class=\"dataframe\">\n",
       "  <thead>\n",
       "    <tr style=\"text-align: right;\">\n",
       "      <th></th>\n",
       "      <th>결측값 개수</th>\n",
       "      <th>결측값 비율(%)</th>\n",
       "    </tr>\n",
       "  </thead>\n",
       "  <tbody>\n",
       "    <tr>\n",
       "      <th>income</th>\n",
       "      <td>50</td>\n",
       "      <td>5.0</td>\n",
       "    </tr>\n",
       "  </tbody>\n",
       "</table>\n",
       "</div>"
      ],
      "text/plain": [
       "        결측값 개수  결측값 비율(%)\n",
       "income      50        5.0"
      ]
     },
     "metadata": {},
     "output_type": "display_data"
    },
    {
     "name": "stdout",
     "output_type": "stream",
     "text": [
      "\n",
      "🔄 중복값 현황\n",
      "==================================================\n",
      "• 중복된 행 수: 0\n",
      "• 중복 비율: 0.00%\n",
      "✅ 중복된 행이 없습니다!\n"
     ]
    }
   ],
   "source": [
    "# 결측값 확인\n",
    "print(\"❓ 결측값 현황\")\n",
    "print(\"=\" * 50)\n",
    "missing_counts = df.isnull().sum()\n",
    "missing_percentages = (df.isnull().sum() / len(df)) * 100\n",
    "\n",
    "missing_summary = pd.DataFrame({\n",
    "    '결측값 개수': missing_counts,\n",
    "    '결측값 비율(%)': missing_percentages.round(2)\n",
    "})\n",
    "\n",
    "missing_summary = missing_summary[missing_summary['결측값 개수'] > 0]\n",
    "\n",
    "if len(missing_summary) > 0:\n",
    "    display(missing_summary)\n",
    "else:\n",
    "    print(\"✅ 결측값이 없습니다!\")\n",
    "\n",
    "# 중복값 확인\n",
    "print(f\"\\n🔄 중복값 현황\")\n",
    "print(\"=\" * 50)\n",
    "duplicate_count = df.duplicated().sum()\n",
    "print(f\"• 중복된 행 수: {duplicate_count}\")\n",
    "print(f\"• 중복 비율: {(duplicate_count/len(df)*100):.2f}%\")\n",
    "\n",
    "if duplicate_count > 0:\n",
    "    print(\"⚠️ 중복된 행이 발견되었습니다!\")\n",
    "else:\n",
    "    print(\"✅ 중복된 행이 없습니다!\")"
   ]
  },
  {
   "cell_type": "markdown",
   "id": "81430218",
   "metadata": {},
   "source": [
    "## 4. 기술 통계 분석\n",
    "\n",
    "데이터의 분포와 기본 통계량을 확인합니다."
   ]
  },
  {
   "cell_type": "code",
   "execution_count": 6,
   "id": "db2eee59",
   "metadata": {},
   "outputs": [
    {
     "name": "stdout",
     "output_type": "stream",
     "text": [
      "📊 수치형 변수 기술 통계\n",
      "==================================================\n"
     ]
    },
    {
     "data": {
      "text/html": [
       "<div>\n",
       "<style scoped>\n",
       "    .dataframe tbody tr th:only-of-type {\n",
       "        vertical-align: middle;\n",
       "    }\n",
       "\n",
       "    .dataframe tbody tr th {\n",
       "        vertical-align: top;\n",
       "    }\n",
       "\n",
       "    .dataframe thead th {\n",
       "        text-align: right;\n",
       "    }\n",
       "</style>\n",
       "<table border=\"1\" class=\"dataframe\">\n",
       "  <thead>\n",
       "    <tr style=\"text-align: right;\">\n",
       "      <th></th>\n",
       "      <th>customer_id</th>\n",
       "      <th>age</th>\n",
       "      <th>income</th>\n",
       "      <th>spending_score</th>\n",
       "      <th>tenure_months</th>\n",
       "      <th>num_purchases</th>\n",
       "      <th>is_churned</th>\n",
       "    </tr>\n",
       "  </thead>\n",
       "  <tbody>\n",
       "    <tr>\n",
       "      <th>count</th>\n",
       "      <td>1000.00</td>\n",
       "      <td>1000.00</td>\n",
       "      <td>950.00</td>\n",
       "      <td>1000.00</td>\n",
       "      <td>1000.00</td>\n",
       "      <td>1000.00</td>\n",
       "      <td>1000.00</td>\n",
       "    </tr>\n",
       "    <tr>\n",
       "      <th>mean</th>\n",
       "      <td>500.50</td>\n",
       "      <td>35.10</td>\n",
       "      <td>43103.36</td>\n",
       "      <td>28.76</td>\n",
       "      <td>22.22</td>\n",
       "      <td>14.91</td>\n",
       "      <td>0.19</td>\n",
       "    </tr>\n",
       "    <tr>\n",
       "      <th>std</th>\n",
       "      <td>288.82</td>\n",
       "      <td>11.08</td>\n",
       "      <td>21900.31</td>\n",
       "      <td>15.97</td>\n",
       "      <td>22.62</td>\n",
       "      <td>3.75</td>\n",
       "      <td>0.39</td>\n",
       "    </tr>\n",
       "    <tr>\n",
       "      <th>min</th>\n",
       "      <td>1.00</td>\n",
       "      <td>18.00</td>\n",
       "      <td>20000.00</td>\n",
       "      <td>0.54</td>\n",
       "      <td>0.00</td>\n",
       "      <td>4.00</td>\n",
       "      <td>0.00</td>\n",
       "    </tr>\n",
       "    <tr>\n",
       "      <th>25%</th>\n",
       "      <td>250.75</td>\n",
       "      <td>27.00</td>\n",
       "      <td>26826.25</td>\n",
       "      <td>16.62</td>\n",
       "      <td>6.00</td>\n",
       "      <td>12.00</td>\n",
       "      <td>0.00</td>\n",
       "    </tr>\n",
       "    <tr>\n",
       "      <th>50%</th>\n",
       "      <td>500.50</td>\n",
       "      <td>35.00</td>\n",
       "      <td>37528.50</td>\n",
       "      <td>26.73</td>\n",
       "      <td>15.00</td>\n",
       "      <td>15.00</td>\n",
       "      <td>0.00</td>\n",
       "    </tr>\n",
       "    <tr>\n",
       "      <th>75%</th>\n",
       "      <td>750.25</td>\n",
       "      <td>42.00</td>\n",
       "      <td>52425.50</td>\n",
       "      <td>39.40</td>\n",
       "      <td>30.00</td>\n",
       "      <td>17.00</td>\n",
       "      <td>0.00</td>\n",
       "    </tr>\n",
       "    <tr>\n",
       "      <th>max</th>\n",
       "      <td>1000.00</td>\n",
       "      <td>80.00</td>\n",
       "      <td>179253.00</td>\n",
       "      <td>81.33</td>\n",
       "      <td>163.00</td>\n",
       "      <td>29.00</td>\n",
       "      <td>1.00</td>\n",
       "    </tr>\n",
       "  </tbody>\n",
       "</table>\n",
       "</div>"
      ],
      "text/plain": [
       "       customer_id      age     income  spending_score  tenure_months  \\\n",
       "count      1000.00  1000.00     950.00         1000.00        1000.00   \n",
       "mean        500.50    35.10   43103.36           28.76          22.22   \n",
       "std         288.82    11.08   21900.31           15.97          22.62   \n",
       "min           1.00    18.00   20000.00            0.54           0.00   \n",
       "25%         250.75    27.00   26826.25           16.62           6.00   \n",
       "50%         500.50    35.00   37528.50           26.73          15.00   \n",
       "75%         750.25    42.00   52425.50           39.40          30.00   \n",
       "max        1000.00    80.00  179253.00           81.33         163.00   \n",
       "\n",
       "       num_purchases  is_churned  \n",
       "count        1000.00     1000.00  \n",
       "mean           14.91        0.19  \n",
       "std             3.75        0.39  \n",
       "min             4.00        0.00  \n",
       "25%            12.00        0.00  \n",
       "50%            15.00        0.00  \n",
       "75%            17.00        0.00  \n",
       "max            29.00        1.00  "
      ]
     },
     "metadata": {},
     "output_type": "display_data"
    },
    {
     "name": "stdout",
     "output_type": "stream",
     "text": [
      "\n",
      "📋 범주형 변수 정보\n",
      "==================================================\n",
      "\n",
      "🏷️ category:\n",
      "  • 고유값 수: 3\n",
      "  • 가장 빈번한 값: Standard (500개, 50.0%)\n",
      "  • 값 분포:\n",
      "    - Standard: 500 (50.0%)\n",
      "    - Basic: 312 (31.2%)\n",
      "    - Premium: 188 (18.8%)\n",
      "\n",
      "🏷️ region:\n",
      "  • 고유값 수: 4\n",
      "  • 가장 빈번한 값: East (254개, 25.4%)\n",
      "  • 값 분포:\n",
      "    - East: 254 (25.4%)\n",
      "    - North: 251 (25.1%)\n",
      "    - South: 251 (25.1%)\n",
      "    - West: 244 (24.4%)\n"
     ]
    }
   ],
   "source": [
    "# 수치형 변수 기술 통계\n",
    "print(\"📊 수치형 변수 기술 통계\")\n",
    "print(\"=\" * 50)\n",
    "numeric_cols = df.select_dtypes(include=[np.number]).columns\n",
    "display(df[numeric_cols].describe().round(2))\n",
    "\n",
    "# 범주형 변수 정보\n",
    "print(\"\\n📋 범주형 변수 정보\")\n",
    "print(\"=\" * 50)\n",
    "categorical_cols = df.select_dtypes(include=['object']).columns\n",
    "\n",
    "for col in categorical_cols:\n",
    "    print(f\"\\n🏷️ {col}:\")\n",
    "    value_counts = df[col].value_counts()\n",
    "    print(f\"  • 고유값 수: {df[col].nunique()}\")\n",
    "    print(f\"  • 가장 빈번한 값: {value_counts.index[0]} ({value_counts.iloc[0]}개, {value_counts.iloc[0]/len(df)*100:.1f}%)\")\n",
    "    print(f\"  • 값 분포:\")\n",
    "    for idx, (value, count) in enumerate(value_counts.head().items()):\n",
    "        print(f\"    - {value}: {count} ({count/len(df)*100:.1f}%)\")"
   ]
  },
  {
   "cell_type": "markdown",
   "id": "2ab5f643",
   "metadata": {},
   "source": [
    "## 5. 데이터 시각화\n",
    "\n",
    "다양한 시각화를 통해 데이터의 패턴과 관계를 탐색합니다."
   ]
  },
  {
   "cell_type": "code",
   "execution_count": 7,
   "id": "50f55a8d",
   "metadata": {},
   "outputs": [
    {
     "data": {
      "image/png": "[encoded data removed]",
      "text/plain": [
       "<Figure size 1800x1200 with 5 Axes>"
      ]
     },
     "metadata": {},
     "output_type": "display_data"
    },
    {
     "data": {
      "image/png": "[encoded data removed]",
      "text/plain": [
       "<Figure size 2000x600 with 5 Axes>"
      ]
     },
     "metadata": {},
     "output_type": "display_data"
    }
   ],
   "source": [
    "# 수치형 변수 분포 시각화\n",
    "fig, axes = plt.subplots(2, 3, figsize=(18, 12))\n",
    "fig.suptitle('📊 수치형 변수 분포 분석', fontsize=16, y=1.02)\n",
    "\n",
    "numeric_columns = ['age', 'income', 'spending_score', 'tenure_months', 'num_purchases']\n",
    "\n",
    "for idx, col in enumerate(numeric_columns):\n",
    "    row = idx // 3\n",
    "    col_idx = idx % 3\n",
    "    \n",
    "    # 히스토그램\n",
    "    axes[row, col_idx].hist(df[col].dropna(), bins=30, alpha=0.7, color='skyblue', edgecolor='black')\n",
    "    axes[row, col_idx].set_title(f'{col} 분포')\n",
    "    axes[row, col_idx].set_xlabel(col)\n",
    "    axes[row, col_idx].set_ylabel('빈도')\n",
    "    axes[row, col_idx].grid(True, alpha=0.3)\n",
    "\n",
    "# 마지막 빈 subplot 제거\n",
    "if len(numeric_columns) < 6:\n",
    "    fig.delaxes(axes[1, 2])\n",
    "\n",
    "plt.tight_layout()\n",
    "plt.show()\n",
    "\n",
    "# 박스플롯으로 이상치 확인\n",
    "fig, axes = plt.subplots(1, len(numeric_columns), figsize=(20, 6))\n",
    "fig.suptitle('📦 박스플롯으로 이상치 확인', fontsize=16)\n",
    "\n",
    "for idx, col in enumerate(numeric_columns):\n",
    "    axes[idx].boxplot(df[col].dropna())\n",
    "    axes[idx].set_title(f'{col}')\n",
    "    axes[idx].grid(True, alpha=0.3)\n",
    "\n",
    "plt.tight_layout()\n",
    "plt.show()"
   ]
  },
  {
   "cell_type": "code",
   "execution_count": 8,
   "id": "ff17146b",
   "metadata": {},
   "outputs": [
    {
     "data": {
      "image/png": "[encoded data removed]",
      "text/plain": [
       "<Figure size 1800x600 with 3 Axes>"
      ]
     },
     "metadata": {},
     "output_type": "display_data"
    },
    {
     "data": {
      "image/png": "[encoded data removed]",
      "text/plain": [
       "<Figure size 1800x600 with 3 Axes>"
      ]
     },
     "metadata": {},
     "output_type": "display_data"
    }
   ],
   "source": [
    "# 범주형 변수 시각화\n",
    "fig, axes = plt.subplots(1, 3, figsize=(18, 6))\n",
    "fig.suptitle('📊 범주형 변수 분포', fontsize=16)\n",
    "\n",
    "categorical_columns = ['category', 'region', 'is_churned']\n",
    "\n",
    "for idx, col in enumerate(categorical_columns):\n",
    "    if col == 'is_churned':\n",
    "        # 이탈 여부는 0, 1을 문자로 변환\n",
    "        plot_data = df[col].map({0: 'Active', 1: 'Churned'})\n",
    "    else:\n",
    "        plot_data = df[col]\n",
    "    \n",
    "    value_counts = plot_data.value_counts()\n",
    "    \n",
    "    # 막대 그래프\n",
    "    bars = axes[idx].bar(value_counts.index, value_counts.values, \n",
    "                        color='lightcoral', alpha=0.7, edgecolor='black')\n",
    "    axes[idx].set_title(f'{col} 분포')\n",
    "    axes[idx].set_ylabel('개수')\n",
    "    \n",
    "    # 막대 위에 값 표시\n",
    "    for bar in bars:\n",
    "        height = bar.get_height()\n",
    "        axes[idx].text(bar.get_x() + bar.get_width()/2., height + height*0.01,\n",
    "                      f'{int(height)}', ha='center', va='bottom')\n",
    "    \n",
    "    axes[idx].grid(True, alpha=0.3)\n",
    "    axes[idx].tick_params(axis='x', rotation=45)\n",
    "\n",
    "plt.tight_layout()\n",
    "plt.show()\n",
    "\n",
    "# 파이 차트로도 표현\n",
    "fig, axes = plt.subplots(1, 3, figsize=(18, 6))\n",
    "fig.suptitle('🥧 범주형 변수 비율', fontsize=16)\n",
    "\n",
    "for idx, col in enumerate(categorical_columns):\n",
    "    if col == 'is_churned':\n",
    "        plot_data = df[col].map({0: 'Active', 1: 'Churned'})\n",
    "    else:\n",
    "        plot_data = df[col]\n",
    "    \n",
    "    value_counts = plot_data.value_counts()\n",
    "    \n",
    "    wedges, texts, autotexts = axes[idx].pie(value_counts.values, \n",
    "                                           labels=value_counts.index, \n",
    "                                           autopct='%1.1f%%',\n",
    "                                           startangle=90)\n",
    "    axes[idx].set_title(f'{col} 비율')\n",
    "\n",
    "plt.tight_layout()\n",
    "plt.show()"
   ]
  },
  {
   "cell_type": "code",
   "execution_count": 9,
   "id": "3d6f7eb4",
   "metadata": {},
   "outputs": [
    {
     "name": "stdout",
     "output_type": "stream",
     "text": [
      "🔗 상관관계 매트릭스\n",
      "==================================================\n"
     ]
    },
    {
     "data": {
      "image/png": "[encoded data removed]",
      "text/plain": [
       "<Figure size 1200x1000 with 2 Axes>"
      ]
     },
     "metadata": {},
     "output_type": "display_data"
    },
    {
     "name": "stdout",
     "output_type": "stream",
     "text": [
      "\n",
      "💪 강한 상관관계 (|상관계수| > 0.5):\n",
      "  강한 상관관계를 가진 변수 쌍이 없습니다.\n"
     ]
    }
   ],
   "source": [
    "# 상관관계 분석\n",
    "print(\"🔗 상관관계 매트릭스\")\n",
    "print(\"=\" * 50)\n",
    "\n",
    "# 수치형 변수들만 선택\n",
    "numeric_df = df.select_dtypes(include=[np.number])\n",
    "correlation_matrix = numeric_df.corr()\n",
    "\n",
    "# 히트맵으로 시각화\n",
    "plt.figure(figsize=(12, 10))\n",
    "mask = np.triu(np.ones_like(correlation_matrix, dtype=bool))  # 상삼각형 마스크\n",
    "\n",
    "sns.heatmap(correlation_matrix, \n",
    "            mask=mask,\n",
    "            annot=True, \n",
    "            cmap='RdYlBu_r', \n",
    "            center=0,\n",
    "            square=True, \n",
    "            linewidths=0.5,\n",
    "            cbar_kws={\"shrink\": 0.8})\n",
    "\n",
    "plt.title('수치형 변수 간 상관관계 매트릭스', fontsize=16, pad=20)\n",
    "plt.tight_layout()\n",
    "plt.show()\n",
    "\n",
    "# 강한 상관관계 (|r| > 0.5) 찾기\n",
    "print(\"\\n💪 강한 상관관계 (|상관계수| > 0.5):\")\n",
    "strong_correlations = []\n",
    "for i in range(len(correlation_matrix.columns)):\n",
    "    for j in range(i+1, len(correlation_matrix.columns)):\n",
    "        corr_value = correlation_matrix.iloc[i, j]\n",
    "        if abs(corr_value) > 0.5:\n",
    "            strong_correlations.append({\n",
    "                '변수1': correlation_matrix.columns[i],\n",
    "                '변수2': correlation_matrix.columns[j],\n",
    "                '상관계수': round(corr_value, 3)\n",
    "            })\n",
    "\n",
    "if strong_correlations:\n",
    "    strong_corr_df = pd.DataFrame(strong_correlations)\n",
    "    display(strong_corr_df)\n",
    "else:\n",
    "    print(\"  강한 상관관계를 가진 변수 쌍이 없습니다.\")"
   ]
  },
  {
   "cell_type": "markdown",
   "id": "1a767ffd",
   "metadata": {},
   "source": [
    "## 6. 인터랙티브 시각화 (Plotly)\n",
    "\n",
    "Plotly를 사용한 인터랙티브 시각화로 데이터를 더 자세히 탐색합니다."
   ]
  },
  {
   "cell_type": "code",
   "execution_count": 10,
   "id": "19752c34",
   "metadata": {},
   "outputs": [
    {
     "data": {
      "application/vnd.plotly.v1+json": {
       "config": {
        "plotlyServerURL": "https://plot.ly"
       },
       "data": [
        {
         "customdata": {
          "bdata": "BAANABcAEQADAAwAIQARAA4AEwAjAAwAKQAWAAwACAAcAA0AHQAMAAIACgA9ABAAFQAUABIADQALABEAEQALAAYADAAGAA4ADgAUABIACQANAAsAKQAMAAEADAAEABAAOgALAB4ADAALAA8ACgAKABgADQACABEAHgAPAFsAEAA0AAwAJQAPAFEAFQAIAA0AAAAMAAEAEQAgAA4ARAAJAAYAEAAHAAsADAAQABwACwARAAsAZAAMAA4AFAASAA8ANwAOAAQAEQATAAoAGwALAAkADAAnABIABAAPAAYAEwAOABQABwAUABIAEQAFAAoABQAQAAcAEQASAA0AGQASADEAEAAQAA8AAAAPAAkAEwABAAwAAQAPAC0ADwATAA8ACQAPACsAEACBAAgAAAARAAEAEwAKABUADAAPAAwACQASAA0ACgARAAwAEQAFABcABQAJADgADQA3ABIADgAPABkAEAAJAA0AFwANAA4ADwAhABIAHgAOABgAEAAYABQAAQAPAEIACgAIABcAAQAUABgAEAAGAAoAPQAOAGUADQATAA4AEgASAAMAFAAWAAoABAALAAgAEwAgABMAGgAKAAQACAAbAA0ADQAOACEADgAHABQAHgASAAkAEAAAABEAJwANAA4AEgAAAAsAPQAPABkADwAfAAwABAALAAMAEQBnAA4ALgAQAAUAEQAWABUAHAAQACoABwAlAAwADAAQAAMAEAAFAAoAQwAQABIAEQAZAAwAEAATAB0ADgAHAA8ABQAMACYADwAMABAAEgASABsAFAAdAA8AKQAQADcAFAABAA0AGgAJAA8AEAAAAA0ANgAMAAQAEQAhABMAHQATAA4ADwAFAA4AFAANABgAEgAbAAsADgARACwACgApABAAAgANAB0ADQAcAA0AJgAKABcADwAEAA4AAAAPAA4AEgAUAAcADQAOAAwACQAOABAAEgAQAA0ADwAVAAsABwASAAYAFQAIABYAAwALAFQADAA=",
          "dtype": "i2",
          "shape": "188, 2"
         },
         "hovertemplate": "고객등급=Premium<br>나이=%{x}<br>소득=%{y}<br>소비점수=%{marker.size}<br>tenure_months=%{customdata[0]}<br>num_purchases=%{customdata[1]}<extra></extra>",
         "legendgroup": "Premium",
         "marker": {
          "color": "#636efa",
          "size": {
           "bdata": "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",
           "dtype": "f8"
          },
          "sizemode": "area",
          "sizeref": 0.20333560125036285,
          "symbol": "circle"
         },
         "mode": "markers",
         "name": "Premium",
         "orientation": "v",
         "showlegend": true,
         "type": "scatter",
         "x": {
          "bdata": "KCA1EhwmIxsbOSUaKhUvGzUcIxI5JSMmMD0XGRQmKDAYLDRDKC0lFS8SKVAwEhorEjgTLjwsFjYjHjYqGTIfLhwlHRkhJysoPCU9GScoKjEzEhwWJR8wEiMSGxgpKRIUGSAeHR4+JR0YHx0UEipAJCsoGTkzLB4fICI5QRwcGhIwFiASEiciKyAjLxMjJCEaGyoiKioiKxgcHhIiNSAkJjQ4GTEcOSoxJx8vFiccEhwWKyUpMjQaFyItGik=",
          "dtype": "i1"
         },
         "xaxis": "x",
         "y": {
          "bdata": "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",
          "dtype": "f8"
         },
         "yaxis": "y"
        },
        {
         "customdata": {
          "bdata": "DwcwDBoWRRMDCyMOQQ8XDAkLFA0fDAYPIxAFDyQOCxMQEAQSAgsEDwsPDg4IEzYJLxJGCw0OAAsJERYYGg8ICi8KKAwuDgkUARUODwcMGhEAEQ8LAA0NGwEOFxISFUcRAQ0QDgQRGA8HDgAIKgcRDwoRBgsFCwoOAQ4ZFB0TBBAxDB0OEAsaCAIOAQkRCQINaBUSBwEONg8BEhwKDA0FDQ0OBBAFEAsKDAkaEQAXBxAYDwMQDQ4WFgYUDw8KEQsICwgrEBYNDA8ODQoQAxAMCBsTFQ0nDgwRGgwSDgMSRhIMCxYSPwoGEhYZFRACEAYQJQ8KDxULbAwEFAEIBhMqDkUSGg4aEAIWEBI8DhIRAxUEERQNAwwaDwwOHw0BCAMLbw8aEhQNCRcFCwkSIBRVFC8LHAs0Cw0UNwwWDQ0JHA8VFAELAwwBDBoSAAwxDAoQMwYSCyESDwsIDjMOGw8cGAoXBxEhDwEPABIKCwEOOBIDDEEIEQ0ADhgPAQsDEwYMBQsWEwILFwsQCwkRChE2FhEJRQsUDgUSDQsAEQATCQ0CEh4TBxEBEQ0NERsHEDgQCgsMCwkWMgUEDRQOARADDAgOABEJEAUTChMrCxkVARU0CgIQKRAQDCYRLQwUDgESdA0GEwIOGRABEgcOBw4RDA8PAxUfEgELFgsDDzIMFQ0ADBgPOA49Dx8OBQkbCiQTJAwlCwkQBxMOFDkQAhE9EwoUHBArDyMPEAwMEwwIEQ0nEyUPLhJdDQcPAA4xDQMRBBQJEBMOBwxQDx8PFgoVDgsQDw9IEB8UMxU4DCgVCxQBFAUPEBQjDBAPGg0SECQY",
          "dtype": "i1",
          "shape": "312, 2"
         },
         "hovertemplate": "고객등급=Basic<br>나이=%{x}<br>소득=%{y}<br>소비점수=%{marker.size}<br>tenure_months=%{customdata[0]}<br>num_purchases=%{customdata[1]}<extra></extra>",
         "legendgroup": "Basic",
         "marker": {
          "color": "#EF553B",
          "size": {
           "bdata": "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",
           "dtype": "f8"
          },
          "sizemode": "area",
          "sizeref": 0.20333560125036285,
          "symbol": "circle"
         },
         "mode": "markers",
         "name": "Basic",
         "orientation": "v",
         "showlegend": true,
         "type": "scatter",
         "x": {
          "bdata": "ITUgLB0pHRYkFSclEhoSLy4dJyIsHyQuHxImJh0ZJyIgIhQYKhccHBI1JTIpJiUaFBcsLBkZJx8qIiUpLxcsEiMWGyUtKS0dJxcSHxIdNDAbPCobIBocJBsgJiQULCoiIxohJRISGjQtFiImJSMjNC4ZLRkTODMxIx0pKxUSJhokIy8SEisSIhIhIhcpHCEjGiwcICklGRIWIhg1KRgZICkXJCwZIyMYHC00JCcnLTEeEhI3LBIeHSgcFyctGSUoFyEjISM3Eh8SMCMlISI1MRIeGS4rHCgrHigqHC84NzAkGRcSKC4aGRcSFxgrQTgcKicvKCgmHB0lNC8jLzQcFxYuIicoGxwbMRwlNRseOyASOCUdHiwvKiAeJSsqISYqHRocNTkcITkWEjQiJyU4EiQbHR0SLDUq",
          "dtype": "i1"
         },
         "xaxis": "x",
         "y": {
          "bdata": "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",
          "dtype": "f8"
         },
         "yaxis": "y"
        },
        {
         "customdata": {
          "bdata": "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",
          "dtype": "i2",
          "shape": "500, 2"
         },
         "hovertemplate": "고객등급=Standard<br>나이=%{x}<br>소득=%{y}<br>소비점수=%{marker.size}<br>tenure_months=%{customdata[0]}<br>num_purchases=%{customdata[1]}<extra></extra>",
         "legendgroup": "Standard",
         "marker": {
          "color": "#00cc96",
          "size": {
           "bdata": "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",
           "dtype": "f8"
          },
          "sizemode": "area",
          "sizeref": 0.20333560125036285,
          "symbol": "circle"
         },
         "mode": "markers",
         "name": "Standard",
         "orientation": "v",
         "showlegend": true,
         "type": "scatter",
         "x": {
          "bdata": "Kh0lEhgSNCASHB8iFiwUEhMlKyEfHS8nJh4uGB8mIBQsMyInNRIkJBIgJzQcGRwtJikaHiAeISYiEkAsLDMSJCMWKB8sEiUsFBMmJxomOSoZLic5ICImIxgWICsoGBIdFCcYJCMnKSkpLiofGSAdIz4rHTAaJSM8KhsZIRQeGy8SHTIaKCIUJBIjFyglJCoUEiEmHRstJy0mLCsqIjIpIDAsLCMrISoZPBYwKhgZHycZHCUgJiEiHyk1HiQZGBsSHCQ5LhwYMR0SIRIbIxYhJDI1OzggLioXKxQfNSM2JyITKycXFi4ZHBQ6ISAqHBISMzYmRyEXGzctNBYgLjkSKR0bIyYiGBwsEhsSJhgqEiIbHi8VKRIpJxshMSYdHSY7HxYjJiAsEiUwJyolLBgjJy8sFzMnOTQiJhUkNhwwEjUdFhITEyArHxUjIhwkHx4SFTgyFRQgKx4wKh8mEy4aKhMSJSEcIiQeJhISJSccJScvJjYSGyklGxIvF0IoJRwwIjgrLhIaICUSKS0SJRMWLyIjIy4kHR8dMiAdJRImLTM+HTUdHxklFysVQBscGSgcKhImJyoaIhwiQS8rKjApMyQxGSMyIxI8JSU1JSUkMRIiEigTLSoaIiUgJxMwKCgqKyEiGi0SEiwoIhUgIyUSIBYfOBw=",
          "dtype": "i1"
         },
         "xaxis": "x",
         "y": {
          "bdata": "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",
          "dtype": "f8"
         },
         "yaxis": "y"
        }
       ],
       "layout": {
        "height": 600,
        "legend": {
         "itemsizing": "constant",
         "title": {
          "text": "고객등급"
         },
         "tracegroupgap": 0
        },
        "showlegend": true,
        "template": {
         "data": {
          "bar": [
           {
            "error_x": {
             "color": "#2a3f5f"
            },
            "error_y": {
             "color": "#2a3f5f"
            },
            "marker": {
             "line": {
              "color": "#E5ECF6",
              "width": 0.5
             },
             "pattern": {
              "fillmode": "overlay",
              "size": 10,
              "solidity": 0.2
             }
            },
            "type": "bar"
           }
          ],
          "barpolar": [
           {
            "marker": {
             "line": {
              "color": "#E5ECF6",
              "width": 0.5
             },
             "pattern": {
              "fillmode": "overlay",
              "size": 10,
              "solidity": 0.2
             }
            },
            "type": "barpolar"
           }
          ],
          "carpet": [
           {
            "aaxis": {
             "endlinecolor": "#2a3f5f",
             "gridcolor": "white",
             "linecolor": "white",
             "minorgridcolor": "white",
             "startlinecolor": "#2a3f5f"
            },
            "baxis": {
             "endlinecolor": "#2a3f5f",
             "gridcolor": "white",
             "linecolor": "white",
             "minorgridcolor": "white",
             "startlinecolor": "#2a3f5f"
            },
            "type": "carpet"
           }
          ],
          "choropleth": [
           {
            "colorbar": {
             "outlinewidth": 0,
             "ticks": ""
            },
            "type": "choropleth"
           }
          ],
          "contour": [
           {
            "colorbar": {
             "outlinewidth": 0,
             "ticks": ""
            },
            "colorscale": [
             [
              0,
              "#0d0887"
             ],
             [
              0.1111111111111111,
              "#46039f"
             ],
             [
              0.2222222222222222,
              "#7201a8"
             ],
             [
              0.3333333333333333,
              "#9c179e"
             ],
             [
              0.4444444444444444,
              "#bd3786"
             ],
             [
              0.5555555555555556,
              "#d8576b"
             ],
             [
              0.6666666666666666,
              "#ed7953"
             ],
             [
              0.7777777777777778,
              "#fb9f3a"
             ],
             [
              0.8888888888888888,
              "#fdca26"
             ],
             [
              1,
              "#f0f921"
             ]
            ],
            "type": "contour"
           }
          ],
          "contourcarpet": [
           {
            "colorbar": {
             "outlinewidth": 0,
             "ticks": ""
            },
            "type": "contourcarpet"
           }
          ],
          "heatmap": [
           {
            "colorbar": {
             "outlinewidth": 0,
             "ticks": ""
            },
            "colorscale": [
             [
              0,
              "#0d0887"
             ],
             [
              0.1111111111111111,
              "#46039f"
             ],
             [
              0.2222222222222222,
              "#7201a8"
             ],
             [
              0.3333333333333333,
              "#9c179e"
             ],
             [
              0.4444444444444444,
              "#bd3786"
             ],
             [
              0.5555555555555556,
              "#d8576b"
             ],
             [
              0.6666666666666666,
              "#ed7953"
             ],
             [
              0.7777777777777778,
              "#fb9f3a"
             ],
             [
              0.8888888888888888,
              "#fdca26"
             ],
             [
              1,
              "#f0f921"
             ]
            ],
            "type": "heatmap"
           }
          ],
          "histogram": [
           {
            "marker": {
             "pattern": {
              "fillmode": "overlay",
              "size": 10,
              "solidity": 0.2
             }
            },
            "type": "histogram"
           }
          ],
          "histogram2d": [
           {
            "colorbar": {
             "outlinewidth": 0,
             "ticks": ""
            },
            "colorscale": [
             [
              0,
              "#0d0887"
             ],
             [
              0.1111111111111111,
              "#46039f"
             ],
             [
              0.2222222222222222,
              "#7201a8"
             ],
             [
              0.3333333333333333,
              "#9c179e"
             ],
             [
              0.4444444444444444,
              "#bd3786"
             ],
             [
              0.5555555555555556,
              "#d8576b"
             ],
             [
              0.6666666666666666,
              "#ed7953"
             ],
             [
              0.7777777777777778,
              "#fb9f3a"
             ],
             [
              0.8888888888888888,
              "#fdca26"
             ],
             [
              1,
              "#f0f921"
             ]
            ],
            "type": "histogram2d"
           }
          ],
          "histogram2dcontour": [
           {
            "colorbar": {
             "outlinewidth": 0,
             "ticks": ""
            },
            "colorscale": [
             [
              0,
              "#0d0887"
             ],
             [
              0.1111111111111111,
              "#46039f"
             ],
             [
              0.2222222222222222,
              "#7201a8"
             ],
             [
              0.3333333333333333,
              "#9c179e"
             ],
             [
              0.4444444444444444,
              "#bd3786"
             ],
             [
              0.5555555555555556,
              "#d8576b"
             ],
             [
              0.6666666666666666,
              "#ed7953"
             ],
             [
              0.7777777777777778,
              "#fb9f3a"
             ],
             [
              0.8888888888888888,
              "#fdca26"
             ],
             [
              1,
              "#f0f921"
             ]
            ],
            "type": "histogram2dcontour"
           }
          ],
          "mesh3d": [
           {
            "colorbar": {
             "outlinewidth": 0,
             "ticks": ""
            },
            "type": "mesh3d"
           }
          ],
          "parcoords": [
           {
            "line": {
             "colorbar": {
              "outlinewidth": 0,
              "ticks": ""
             }
            },
            "type": "parcoords"
           }
          ],
          "pie": [
           {
            "automargin": true,
            "type": "pie"
           }
          ],
          "scatter": [
           {
            "fillpattern": {
             "fillmode": "overlay",
             "size": 10,
             "solidity": 0.2
            },
            "type": "scatter"
           }
          ],
          "scatter3d": [
           {
            "line": {
             "colorbar": {
              "outlinewidth": 0,
              "ticks": ""
             }
            },
            "marker": {
             "colorbar": {
              "outlinewidth": 0,
              "ticks": ""
             }
            },
            "type": "scatter3d"
           }
          ],
          "scattercarpet": [
           {
            "marker": {
             "colorbar": {
              "outlinewidth": 0,
              "ticks": ""
             }
            },
            "type": "scattercarpet"
           }
          ],
          "scattergeo": [
           {
            "marker": {
             "colorbar": {
              "outlinewidth": 0,
              "ticks": ""
             }
            },
            "type": "scattergeo"
           }
          ],
          "scattergl": [
           {
            "marker": {
             "colorbar": {
              "outlinewidth": 0,
              "ticks": ""
             }
            },
            "type": "scattergl"
           }
          ],
          "scattermap": [
           {
            "marker": {
             "colorbar": {
              "outlinewidth": 0,
              "ticks": ""
             }
            },
            "type": "scattermap"
           }
          ],
          "scattermapbox": [
           {
            "marker": {
             "colorbar": {
              "outlinewidth": 0,
              "ticks": ""
             }
            },
            "type": "scattermapbox"
           }
          ],
          "scatterpolar": [
           {
            "marker": {
             "colorbar": {
              "outlinewidth": 0,
              "ticks": ""
             }
            },
            "type": "scatterpolar"
           }
          ],
          "scatterpolargl": [
           {
            "marker": {
             "colorbar": {
              "outlinewidth": 0,
              "ticks": ""
             }
            },
            "type": "scatterpolargl"
           }
          ],
          "scatterternary": [
           {
            "marker": {
             "colorbar": {
              "outlinewidth": 0,
              "ticks": ""
             }
            },
            "type": "scatterternary"
           }
          ],
          "surface": [
           {
            "colorbar": {
             "outlinewidth": 0,
             "ticks": ""
            },
            "colorscale": [
             [
              0,
              "#0d0887"
             ],
             [
              0.1111111111111111,
              "#46039f"
             ],
             [
              0.2222222222222222,
              "#7201a8"
             ],
             [
              0.3333333333333333,
              "#9c179e"
             ],
             [
              0.4444444444444444,
              "#bd3786"
             ],
             [
              0.5555555555555556,
              "#d8576b"
             ],
             [
              0.6666666666666666,
              "#ed7953"
             ],
             [
              0.7777777777777778,
              "#fb9f3a"
             ],
             [
              0.8888888888888888,
              "#fdca26"
             ],
             [
              1,
              "#f0f921"
             ]
            ],
            "type": "surface"
           }
          ],
          "table": [
           {
            "cells": {
             "fill": {
              "color": "#EBF0F8"
             },
             "line": {
              "color": "white"
             }
            },
            "header": {
             "fill": {
              "color": "#C8D4E3"
             },
             "line": {
              "color": "white"
             }
            },
            "type": "table"
           }
          ]
         },
         "layout": {
          "annotationdefaults": {
           "arrowcolor": "#2a3f5f",
           "arrowhead": 0,
           "arrowwidth": 1
          },
          "autotypenumbers": "strict",
          "coloraxis": {
           "colorbar": {
            "outlinewidth": 0,
            "ticks": ""
           }
          },
          "colorscale": {
           "diverging": [
            [
             0,
             "#8e0152"
            ],
            [
             0.1,
             "#c51b7d"
            ],
            [
             0.2,
             "#de77ae"
            ],
            [
             0.3,
             "#f1b6da"
            ],
            [
             0.4,
             "#fde0ef"
            ],
            [
             0.5,
             "#f7f7f7"
            ],
            [
             0.6,
             "#e6f5d0"
            ],
            [
             0.7,
             "#b8e186"
            ],
            [
             0.8,
             "#7fbc41"
            ],
            [
             0.9,
             "#4d9221"
            ],
            [
             1,
             "#276419"
            ]
           ],
           "sequential": [
            [
             0,
             "#0d0887"
            ],
            [
             0.1111111111111111,
             "#46039f"
            ],
            [
             0.2222222222222222,
             "#7201a8"
            ],
            [
             0.3333333333333333,
             "#9c179e"
            ],
            [
             0.4444444444444444,
             "#bd3786"
            ],
            [
             0.5555555555555556,
             "#d8576b"
            ],
            [
             0.6666666666666666,
             "#ed7953"
            ],
            [
             0.7777777777777778,
             "#fb9f3a"
            ],
            [
             0.8888888888888888,
             "#fdca26"
            ],
            [
             1,
             "#f0f921"
            ]
           ],
           "sequentialminus": [
            [
             0,
             "#0d0887"
            ],
            [
             0.1111111111111111,
             "#46039f"
            ],
            [
             0.2222222222222222,
             "#7201a8"
            ],
            [
             0.3333333333333333,
             "#9c179e"
            ],
            [
             0.4444444444444444,
             "#bd3786"
            ],
            [
             0.5555555555555556,
             "#d8576b"
            ],
            [
             0.6666666666666666,
             "#ed7953"
            ],
            [
             0.7777777777777778,
             "#fb9f3a"
            ],
            [
             0.8888888888888888,
             "#fdca26"
            ],
            [
             1,
             "#f0f921"
            ]
           ]
          },
          "colorway": [
           "#636efa",
           "#EF553B",
           "#00cc96",
           "#ab63fa",
           "#FFA15A",
           "#19d3f3",
           "#FF6692",
           "#B6E880",
           "#FF97FF",
           "#FECB52"
          ],
          "font": {
           "color": "#2a3f5f"
          },
          "geo": {
           "bgcolor": "white",
           "lakecolor": "white",
           "landcolor": "#E5ECF6",
           "showlakes": true,
           "showland": true,
           "subunitcolor": "white"
          },
          "hoverlabel": {
           "align": "left"
          },
          "hovermode": "closest",
          "mapbox": {
           "style": "light"
          },
          "paper_bgcolor": "white",
          "plot_bgcolor": "#E5ECF6",
          "polar": {
           "angularaxis": {
            "gridcolor": "white",
            "linecolor": "white",
            "ticks": ""
           },
           "bgcolor": "#E5ECF6",
           "radialaxis": {
            "gridcolor": "white",
            "linecolor": "white",
            "ticks": ""
           }
          },
          "scene": {
           "xaxis": {
            "backgroundcolor": "#E5ECF6",
            "gridcolor": "white",
            "gridwidth": 2,
            "linecolor": "white",
            "showbackground": true,
            "ticks": "",
            "zerolinecolor": "white"
           },
           "yaxis": {
            "backgroundcolor": "#E5ECF6",
            "gridcolor": "white",
            "gridwidth": 2,
            "linecolor": "white",
            "showbackground": true,
            "ticks": "",
            "zerolinecolor": "white"
           },
           "zaxis": {
            "backgroundcolor": "#E5ECF6",
            "gridcolor": "white",
            "gridwidth": 2,
            "linecolor": "white",
            "showbackground": true,
            "ticks": "",
            "zerolinecolor": "white"
           }
          },
          "shapedefaults": {
           "line": {
            "color": "#2a3f5f"
           }
          },
          "ternary": {
           "aaxis": {
            "gridcolor": "white",
            "linecolor": "white",
            "ticks": ""
           },
           "baxis": {
            "gridcolor": "white",
            "linecolor": "white",
            "ticks": ""
           },
           "bgcolor": "#E5ECF6",
           "caxis": {
            "gridcolor": "white",
            "linecolor": "white",
            "ticks": ""
           }
          },
          "title": {
           "x": 0.05
          },
          "xaxis": {
           "automargin": true,
           "gridcolor": "white",
           "linecolor": "white",
           "ticks": "",
           "title": {
            "standoff": 15
           },
           "zerolinecolor": "white",
           "zerolinewidth": 2
          },
          "yaxis": {
           "automargin": true,
           "gridcolor": "white",
           "linecolor": "white",
           "ticks": "",
           "title": {
            "standoff": 15
           },
           "zerolinecolor": "white",
           "zerolinewidth": 2
          }
         }
        },
        "title": {
         "text": "고객 분석: 나이 vs 소득 vs 소비점수"
        },
        "xaxis": {
         "anchor": "y",
         "domain": [
          0,
          1
         ],
         "title": {
          "text": "나이"
         }
        },
        "yaxis": {
         "anchor": "x",
         "domain": [
          0,
          1
         ],
         "title": {
          "text": "소득"
         }
        }
       }
      }
     },
     "metadata": {},
     "output_type": "display_data"
    },
    {
     "data": {
      "application/vnd.plotly.v1+json": {
       "config": {
        "plotlyServerURL": "https://plot.ly"
       },
       "data": [
        {
         "alignmentgroup": "True",
         "hovertemplate": "고객 등급=%{x}<br>소득=%{y}<extra></extra>",
         "legendgroup": "Premium",
         "marker": {
          "color": "#636efa"
         },
         "name": "Premium",
         "notched": false,
         "offsetgroup": "Premium",
         "orientation": "v",
         "showlegend": true,
         "type": "box",
         "x": [
          "Premium",
          "Premium",
          "Premium",
          "Premium",
          "Premium",
          "Premium",
          "Premium",
          "Premium",
          "Premium",
          "Premium",
          "Premium",
          "Premium",
          "Premium",
          "Premium",
          "Premium",
          "Premium",
          "Premium",
          "Premium",
          "Premium",
          "Premium",
          "Premium",
          "Premium",
          "Premium",
          "Premium",
          "Premium",
          "Premium",
          "Premium",
          "Premium",
          "Premium",
          "Premium",
          "Premium",
          "Premium",
          "Premium",
          "Premium",
          "Premium",
          "Premium",
          "Premium",
          "Premium",
          "Premium",
          "Premium",
          "Premium",
          "Premium",
          "Premium",
          "Premium",
          "Premium",
          "Premium",
          "Premium",
          "Premium",
          "Premium",
          "Premium",
          "Premium",
          "Premium",
          "Premium",
          "Premium",
          "Premium",
          "Premium",
          "Premium",
          "Premium",
          "Premium",
          "Premium",
          "Premium",
          "Premium",
          "Premium",
          "Premium",
          "Premium",
          "Premium",
          "Premium",
          "Premium",
          "Premium",
          "Premium",
          "Premium",
          "Premium",
          "Premium",
          "Premium",
          "Premium",
          "Premium",
          "Premium",
          "Premium",
          "Premium",
          "Premium",
          "Premium",
          "Premium",
          "Premium",
          "Premium",
          "Premium",
          "Premium",
          "Premium",
          "Premium",
          "Premium",
          "Premium",
          "Premium",
          "Premium",
          "Premium",
          "Premium",
          "Premium",
          "Premium",
          "Premium",
          "Premium",
          "Premium",
          "Premium",
          "Premium",
          "Premium",
          "Premium",
          "Premium",
          "Premium",
          "Premium",
          "Premium",
          "Premium",
          "Premium",
          "Premium",
          "Premium",
          "Premium",
          "Premium",
          "Premium",
          "Premium",
          "Premium",
          "Premium",
          "Premium",
          "Premium",
          "Premium",
          "Premium",
          "Premium",
          "Premium",
          "Premium",
          "Premium",
          "Premium",
          "Premium",
          "Premium",
          "Premium",
          "Premium",
          "Premium",
          "Premium",
          "Premium",
          "Premium",
          "Premium",
          "Premium",
          "Premium",
          "Premium",
          "Premium",
          "Premium",
          "Premium",
          "Premium",
          "Premium",
          "Premium",
          "Premium",
          "Premium",
          "Premium",
          "Premium",
          "Premium",
          "Premium",
          "Premium",
          "Premium",
          "Premium",
          "Premium",
          "Premium",
          "Premium",
          "Premium",
          "Premium",
          "Premium",
          "Premium",
          "Premium",
          "Premium",
          "Premium",
          "Premium",
          "Premium",
          "Premium",
          "Premium",
          "Premium",
          "Premium",
          "Premium",
          "Premium",
          "Premium",
          "Premium",
          "Premium",
          "Premium",
          "Premium",
          "Premium",
          "Premium",
          "Premium",
          "Premium",
          "Premium",
          "Premium",
          "Premium",
          "Premium",
          "Premium",
          "Premium",
          "Premium",
          "Premium"
         ],
         "x0": " ",
         "xaxis": "x",
         "y": {
          "bdata": "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",
          "dtype": "f8"
         },
         "y0": " ",
         "yaxis": "y"
        },
        {
         "alignmentgroup": "True",
         "hovertemplate": "고객 등급=%{x}<br>소득=%{y}<extra></extra>",
         "legendgroup": "Basic",
         "marker": {
          "color": "#EF553B"
         },
         "name": "Basic",
         "notched": false,
         "offsetgroup": "Basic",
         "orientation": "v",
         "showlegend": true,
         "type": "box",
         "x": [
          "Basic",
          "Basic",
          "Basic",
          "Basic",
          "Basic",
          "Basic",
          "Basic",
          "Basic",
          "Basic",
          "Basic",
          "Basic",
          "Basic",
          "Basic",
          "Basic",
          "Basic",
          "Basic",
          "Basic",
          "Basic",
          "Basic",
          "Basic",
          "Basic",
          "Basic",
          "Basic",
          "Basic",
          "Basic",
          "Basic",
          "Basic",
          "Basic",
          "Basic",
          "Basic",
          "Basic",
          "Basic",
          "Basic",
          "Basic",
          "Basic",
          "Basic",
          "Basic",
          "Basic",
          "Basic",
          "Basic",
          "Basic",
          "Basic",
          "Basic",
          "Basic",
          "Basic",
          "Basic",
          "Basic",
          "Basic",
          "Basic",
          "Basic",
          "Basic",
          "Basic",
          "Basic",
          "Basic",
          "Basic",
          "Basic",
          "Basic",
          "Basic",
          "Basic",
          "Basic",
          "Basic",
          "Basic",
          "Basic",
          "Basic",
          "Basic",
          "Basic",
          "Basic",
          "Basic",
          "Basic",
          "Basic",
          "Basic",
          "Basic",
          "Basic",
          "Basic",
          "Basic",
          "Basic",
          "Basic",
          "Basic",
          "Basic",
          "Basic",
          "Basic",
          "Basic",
          "Basic",
          "Basic",
          "Basic",
          "Basic",
          "Basic",
          "Basic",
          "Basic",
          "Basic",
          "Basic",
          "Basic",
          "Basic",
          "Basic",
          "Basic",
          "Basic",
          "Basic",
          "Basic",
          "Basic",
          "Basic",
          "Basic",
          "Basic",
          "Basic",
          "Basic",
          "Basic",
          "Basic",
          "Basic",
          "Basic",
          "Basic",
          "Basic",
          "Basic",
          "Basic",
          "Basic",
          "Basic",
          "Basic",
          "Basic",
          "Basic",
          "Basic",
          "Basic",
          "Basic",
          "Basic",
          "Basic",
          "Basic",
          "Basic",
          "Basic",
          "Basic",
          "Basic",
          "Basic",
          "Basic",
          "Basic",
          "Basic",
          "Basic",
          "Basic",
          "Basic",
          "Basic",
          "Basic",
          "Basic",
          "Basic",
          "Basic",
          "Basic",
          "Basic",
          "Basic",
          "Basic",
          "Basic",
          "Basic",
          "Basic",
          "Basic",
          "Basic",
          "Basic",
          "Basic",
          "Basic",
          "Basic",
          "Basic",
          "Basic",
          "Basic",
          "Basic",
          "Basic",
          "Basic",
          "Basic",
          "Basic",
          "Basic",
          "Basic",
          "Basic",
          "Basic",
          "Basic",
          "Basic",
          "Basic",
          "Basic",
          "Basic",
          "Basic",
          "Basic",
          "Basic",
          "Basic",
          "Basic",
          "Basic",
          "Basic",
          "Basic",
          "Basic",
          "Basic",
          "Basic",
          "Basic",
          "Basic",
          "Basic",
          "Basic",
          "Basic",
          "Basic",
          "Basic",
          "Basic",
          "Basic",
          "Basic",
          "Basic",
          "Basic",
          "Basic",
          "Basic",
          "Basic",
          "Basic",
          "Basic",
          "Basic",
          "Basic",
          "Basic",
          "Basic",
          "Basic",
          "Basic",
          "Basic",
          "Basic",
          "Basic",
          "Basic",
          "Basic",
          "Basic",
          "Basic",
          "Basic",
          "Basic",
          "Basic",
          "Basic",
          "Basic",
          "Basic",
          "Basic",
          "Basic",
          "Basic",
          "Basic",
          "Basic",
          "Basic",
          "Basic",
          "Basic",
          "Basic",
          "Basic",
          "Basic",
          "Basic",
          "Basic",
          "Basic",
          "Basic",
          "Basic",
          "Basic",
          "Basic",
          "Basic",
          "Basic",
          "Basic",
          "Basic",
          "Basic",
          "Basic",
          "Basic",
          "Basic",
          "Basic",
          "Basic",
          "Basic",
          "Basic",
          "Basic",
          "Basic",
          "Basic",
          "Basic",
          "Basic",
          "Basic",
          "Basic",
          "Basic",
          "Basic",
          "Basic",
          "Basic",
          "Basic",
          "Basic",
          "Basic",
          "Basic",
          "Basic",
          "Basic",
          "Basic",
          "Basic",
          "Basic",
          "Basic",
          "Basic",
          "Basic",
          "Basic",
          "Basic",
          "Basic",
          "Basic",
          "Basic",
          "Basic",
          "Basic",
          "Basic",
          "Basic",
          "Basic",
          "Basic",
          "Basic",
          "Basic",
          "Basic",
          "Basic",
          "Basic",
          "Basic",
          "Basic",
          "Basic",
          "Basic",
          "Basic",
          "Basic",
          "Basic",
          "Basic",
          "Basic",
          "Basic",
          "Basic",
          "Basic",
          "Basic",
          "Basic",
          "Basic",
          "Basic",
          "Basic",
          "Basic",
          "Basic",
          "Basic",
          "Basic",
          "Basic",
          "Basic",
          "Basic",
          "Basic",
          "Basic",
          "Basic"
         ],
         "x0": " ",
         "xaxis": "x",
         "y": {
          "bdata": "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",
          "dtype": "f8"
         },
         "y0": " ",
         "yaxis": "y"
        },
        {
         "alignmentgroup": "True",
         "hovertemplate": "고객 등급=%{x}<br>소득=%{y}<extra></extra>",
         "legendgroup": "Standard",
         "marker": {
          "color": "#00cc96"
         },
         "name": "Standard",
         "notched": false,
         "offsetgroup": "Standard",
         "orientation": "v",
         "showlegend": true,
         "type": "box",
         "x": [
          "Standard",
          "Standard",
          "Standard",
          "Standard",
          "Standard",
          "Standard",
          "Standard",
          "Standard",
          "Standard",
          "Standard",
          "Standard",
          "Standard",
          "Standard",
          "Standard",
          "Standard",
          "Standard",
          "Standard",
          "Standard",
          "Standard",
          "Standard",
          "Standard",
          "Standard",
          "Standard",
          "Standard",
          "Standard",
          "Standard",
          "Standard",
          "Standard",
          "Standard",
          "Standard",
          "Standard",
          "Standard",
          "Standard",
          "Standard",
          "Standard",
          "Standard",
          "Standard",
          "Standard",
          "Standard",
          "Standard",
          "Standard",
          "Standard",
          "Standard",
          "Standard",
          "Standard",
          "Standard",
          "Standard",
          "Standard",
          "Standard",
          "Standard",
          "Standard",
          "Standard",
          "Standard",
          "Standard",
          "Standard",
          "Standard",
          "Standard",
          "Standard",
          "Standard",
          "Standard",
          "Standard",
          "Standard",
          "Standard",
          "Standard",
          "Standard",
          "Standard",
          "Standard",
          "Standard",
          "Standard",
          "Standard",
          "Standard",
          "Standard",
          "Standard",
          "Standard",
          "Standard",
          "Standard",
          "Standard",
          "Standard",
          "Standard",
          "Standard",
          "Standard",
          "Standard",
          "Standard",
          "Standard",
          "Standard",
          "Standard",
          "Standard",
          "Standard",
          "Standard",
          "Standard",
          "Standard",
          "Standard",
          "Standard",
          "Standard",
          "Standard",
          "Standard",
          "Standard",
          "Standard",
          "Standard",
          "Standard",
          "Standard",
          "Standard",
          "Standard",
          "Standard",
          "Standard",
          "Standard",
          "Standard",
          "Standard",
          "Standard",
          "Standard",
          "Standard",
          "Standard",
          "Standard",
          "Standard",
          "Standard",
          "Standard",
          "Standard",
          "Standard",
          "Standard",
          "Standard",
          "Standard",
          "Standard",
          "Standard",
          "Standard",
          "Standard",
          "Standard",
          "Standard",
          "Standard",
          "Standard",
          "Standard",
          "Standard",
          "Standard",
          "Standard",
          "Standard",
          "Standard",
          "Standard",
          "Standard",
          "Standard",
          "Standard",
          "Standard",
          "Standard",
          "Standard",
          "Standard",
          "Standard",
          "Standard",
          "Standard",
          "Standard",
          "Standard",
          "Standard",
          "Standard",
          "Standard",
          "Standard",
          "Standard",
          "Standard",
          "Standard",
          "Standard",
          "Standard",
          "Standard",
          "Standard",
          "Standard",
          "Standard",
          "Standard",
          "Standard",
          "Standard",
          "Standard",
          "Standard",
          "Standard",
          "Standard",
          "Standard",
          "Standard",
          "Standard",
          "Standard",
          "Standard",
          "Standard",
          "Standard",
          "Standard",
          "Standard",
          "Standard",
          "Standard",
          "Standard",
          "Standard",
          "Standard",
          "Standard",
          "Standard",
          "Standard",
          "Standard",
          "Standard",
          "Standard",
          "Standard",
          "Standard",
          "Standard",
          "Standard",
          "Standard",
          "Standard",
          "Standard",
          "Standard",
          "Standard",
          "Standard",
          "Standard",
          "Standard",
          "Standard",
          "Standard",
          "Standard",
          "Standard",
          "Standard",
          "Standard",
          "Standard",
          "Standard",
          "Standard",
          "Standard",
          "Standard",
          "Standard",
          "Standard",
          "Standard",
          "Standard",
          "Standard",
          "Standard",
          "Standard",
          "Standard",
          "Standard",
          "Standard",
          "Standard",
          "Standard",
          "Standard",
          "Standard",
          "Standard",
          "Standard",
          "Standard",
          "Standard",
          "Standard",
          "Standard",
          "Standard",
          "Standard",
          "Standard",
          "Standard",
          "Standard",
          "Standard",
          "Standard",
          "Standard",
          "Standard",
          "Standard",
          "Standard",
          "Standard",
          "Standard",
          "Standard",
          "Standard",
          "Standard",
          "Standard",
          "Standard",
          "Standard",
          "Standard",
          "Standard",
          "Standard",
          "Standard",
          "Standard",
          "Standard",
          "Standard",
          "Standard",
          "Standard",
          "Standard",
          "Standard",
          "Standard",
          "Standard",
          "Standard",
          "Standard",
          "Standard",
          "Standard",
          "Standard",
          "Standard",
          "Standard",
          "Standard",
          "Standard",
          "Standard",
          "Standard",
          "Standard",
          "Standard",
          "Standard",
          "Standard",
          "Standard",
          "Standard",
          "Standard",
          "Standard",
          "Standard",
          "Standard",
          "Standard",
          "Standard",
          "Standard",
          "Standard",
          "Standard",
          "Standard",
          "Standard",
          "Standard",
          "Standard",
          "Standard",
          "Standard",
          "Standard",
          "Standard",
          "Standard",
          "Standard",
          "Standard",
          "Standard",
          "Standard",
          "Standard",
          "Standard",
          "Standard",
          "Standard",
          "Standard",
          "Standard",
          "Standard",
          "Standard",
          "Standard",
          "Standard",
          "Standard",
          "Standard",
          "Standard",
          "Standard",
          "Standard",
          "Standard",
          "Standard",
          "Standard",
          "Standard",
          "Standard",
          "Standard",
          "Standard",
          "Standard",
          "Standard",
          "Standard",
          "Standard",
          "Standard",
          "Standard",
          "Standard",
          "Standard",
          "Standard",
          "Standard",
          "Standard",
          "Standard",
          "Standard",
          "Standard",
          "Standard",
          "Standard",
          "Standard",
          "Standard",
          "Standard",
          "Standard",
          "Standard",
          "Standard",
          "Standard",
          "Standard",
          "Standard",
          "Standard",
          "Standard",
          "Standard",
          "Standard",
          "Standard",
          "Standard",
          "Standard",
          "Standard",
          "Standard",
          "Standard",
          "Standard",
          "Standard",
          "Standard",
          "Standard",
          "Standard",
          "Standard",
          "Standard",
          "Standard",
          "Standard",
          "Standard",
          "Standard",
          "Standard",
          "Standard",
          "Standard",
          "Standard",
          "Standard",
          "Standard",
          "Standard",
          "Standard",
          "Standard",
          "Standard",
          "Standard",
          "Standard",
          "Standard",
          "Standard",
          "Standard",
          "Standard",
          "Standard",
          "Standard",
          "Standard",
          "Standard",
          "Standard",
          "Standard",
          "Standard",
          "Standard",
          "Standard",
          "Standard",
          "Standard",
          "Standard",
          "Standard",
          "Standard",
          "Standard",
          "Standard",
          "Standard",
          "Standard",
          "Standard",
          "Standard",
          "Standard",
          "Standard",
          "Standard",
          "Standard",
          "Standard",
          "Standard",
          "Standard",
          "Standard",
          "Standard",
          "Standard",
          "Standard",
          "Standard",
          "Standard",
          "Standard",
          "Standard",
          "Standard",
          "Standard",
          "Standard",
          "Standard",
          "Standard",
          "Standard",
          "Standard",
          "Standard",
          "Standard",
          "Standard",
          "Standard",
          "Standard",
          "Standard",
          "Standard",
          "Standard",
          "Standard",
          "Standard",
          "Standard",
          "Standard",
          "Standard",
          "Standard",
          "Standard",
          "Standard",
          "Standard",
          "Standard",
          "Standard",
          "Standard",
          "Standard",
          "Standard",
          "Standard",
          "Standard",
          "Standard",
          "Standard",
          "Standard",
          "Standard",
          "Standard",
          "Standard",
          "Standard",
          "Standard",
          "Standard",
          "Standard",
          "Standard",
          "Standard",
          "Standard",
          "Standard",
          "Standard",
          "Standard",
          "Standard",
          "Standard",
          "Standard",
          "Standard",
          "Standard",
          "Standard",
          "Standard",
          "Standard",
          "Standard",
          "Standard",
          "Standard",
          "Standard",
          "Standard",
          "Standard",
          "Standard",
          "Standard",
          "Standard",
          "Standard",
          "Standard",
          "Standard",
          "Standard",
          "Standard",
          "Standard",
          "Standard",
          "Standard",
          "Standard",
          "Standard",
          "Standard",
          "Standard",
          "Standard",
          "Standard",
          "Standard"
         ],
         "x0": " ",
         "xaxis": "x",
         "y": {
          "bdata": "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",
          "dtype": "f8"
         },
         "y0": " ",
         "yaxis": "y"
        }
       ],
       "layout": {
        "boxmode": "overlay",
        "height": 500,
        "legend": {
         "title": {
          "text": "고객 등급"
         },
         "tracegroupgap": 0
        },
        "template": {
         "data": {
          "bar": [
           {
            "error_x": {
             "color": "#2a3f5f"
            },
            "error_y": {
             "color": "#2a3f5f"
            },
            "marker": {
             "line": {
              "color": "#E5ECF6",
              "width": 0.5
             },
             "pattern": {
              "fillmode": "overlay",
              "size": 10,
              "solidity": 0.2
             }
            },
            "type": "bar"
           }
          ],
          "barpolar": [
           {
            "marker": {
             "line": {
              "color": "#E5ECF6",
              "width": 0.5
             },
             "pattern": {
              "fillmode": "overlay",
              "size": 10,
              "solidity": 0.2
             }
            },
            "type": "barpolar"
           }
          ],
          "carpet": [
           {
            "aaxis": {
             "endlinecolor": "#2a3f5f",
             "gridcolor": "white",
             "linecolor": "white",
             "minorgridcolor": "white",
             "startlinecolor": "#2a3f5f"
            },
            "baxis": {
             "endlinecolor": "#2a3f5f",
             "gridcolor": "white",
             "linecolor": "white",
             "minorgridcolor": "white",
             "startlinecolor": "#2a3f5f"
            },
            "type": "carpet"
           }
          ],
          "choropleth": [
           {
            "colorbar": {
             "outlinewidth": 0,
             "ticks": ""
            },
            "type": "choropleth"
           }
          ],
          "contour": [
           {
            "colorbar": {
             "outlinewidth": 0,
             "ticks": ""
            },
            "colorscale": [
             [
              0,
              "#0d0887"
             ],
             [
              0.1111111111111111,
              "#46039f"
             ],
             [
              0.2222222222222222,
              "#7201a8"
             ],
             [
              0.3333333333333333,
              "#9c179e"
             ],
             [
              0.4444444444444444,
              "#bd3786"
             ],
             [
              0.5555555555555556,
              "#d8576b"
             ],
             [
              0.6666666666666666,
              "#ed7953"
             ],
             [
              0.7777777777777778,
              "#fb9f3a"
             ],
             [
              0.8888888888888888,
              "#fdca26"
             ],
             [
              1,
              "#f0f921"
             ]
            ],
            "type": "contour"
           }
          ],
          "contourcarpet": [
           {
            "colorbar": {
             "outlinewidth": 0,
             "ticks": ""
            },
            "type": "contourcarpet"
           }
          ],
          "heatmap": [
           {
            "colorbar": {
             "outlinewidth": 0,
             "ticks": ""
            },
            "colorscale": [
             [
              0,
              "#0d0887"
             ],
             [
              0.1111111111111111,
              "#46039f"
             ],
             [
              0.2222222222222222,
              "#7201a8"
             ],
             [
              0.3333333333333333,
              "#9c179e"
             ],
             [
              0.4444444444444444,
              "#bd3786"
             ],
             [
              0.5555555555555556,
              "#d8576b"
             ],
             [
              0.6666666666666666,
              "#ed7953"
             ],
             [
              0.7777777777777778,
              "#fb9f3a"
             ],
             [
              0.8888888888888888,
              "#fdca26"
             ],
             [
              1,
              "#f0f921"
             ]
            ],
            "type": "heatmap"
           }
          ],
          "histogram": [
           {
            "marker": {
             "pattern": {
              "fillmode": "overlay",
              "size": 10,
              "solidity": 0.2
             }
            },
            "type": "histogram"
           }
          ],
          "histogram2d": [
           {
            "colorbar": {
             "outlinewidth": 0,
             "ticks": ""
            },
            "colorscale": [
             [
              0,
              "#0d0887"
             ],
             [
              0.1111111111111111,
              "#46039f"
             ],
             [
              0.2222222222222222,
              "#7201a8"
             ],
             [
              0.3333333333333333,
              "#9c179e"
             ],
             [
              0.4444444444444444,
              "#bd3786"
             ],
             [
              0.5555555555555556,
              "#d8576b"
             ],
             [
              0.6666666666666666,
              "#ed7953"
             ],
             [
              0.7777777777777778,
              "#fb9f3a"
             ],
             [
              0.8888888888888888,
              "#fdca26"
             ],
             [
              1,
              "#f0f921"
             ]
            ],
            "type": "histogram2d"
           }
          ],
          "histogram2dcontour": [
           {
            "colorbar": {
             "outlinewidth": 0,
             "ticks": ""
            },
            "colorscale": [
             [
              0,
              "#0d0887"
             ],
             [
              0.1111111111111111,
              "#46039f"
             ],
             [
              0.2222222222222222,
              "#7201a8"
             ],
             [
              0.3333333333333333,
              "#9c179e"
             ],
             [
              0.4444444444444444,
              "#bd3786"
             ],
             [
              0.5555555555555556,
              "#d8576b"
             ],
             [
              0.6666666666666666,
              "#ed7953"
             ],
             [
              0.7777777777777778,
              "#fb9f3a"
             ],
             [
              0.8888888888888888,
              "#fdca26"
             ],
             [
              1,
              "#f0f921"
             ]
            ],
            "type": "histogram2dcontour"
           }
          ],
          "mesh3d": [
           {
            "colorbar": {
             "outlinewidth": 0,
             "ticks": ""
            },
            "type": "mesh3d"
           }
          ],
          "parcoords": [
           {
            "line": {
             "colorbar": {
              "outlinewidth": 0,
              "ticks": ""
             }
            },
            "type": "parcoords"
           }
          ],
          "pie": [
           {
            "automargin": true,
            "type": "pie"
           }
          ],
          "scatter": [
           {
            "fillpattern": {
             "fillmode": "overlay",
             "size": 10,
             "solidity": 0.2
            },
            "type": "scatter"
           }
          ],
          "scatter3d": [
           {
            "line": {
             "colorbar": {
              "outlinewidth": 0,
              "ticks": ""
             }
            },
            "marker": {
             "colorbar": {
              "outlinewidth": 0,
              "ticks": ""
             }
            },
            "type": "scatter3d"
           }
          ],
          "scattercarpet": [
           {
            "marker": {
             "colorbar": {
              "outlinewidth": 0,
              "ticks": ""
             }
            },
            "type": "scattercarpet"
           }
          ],
          "scattergeo": [
           {
            "marker": {
             "colorbar": {
              "outlinewidth": 0,
              "ticks": ""
             }
            },
            "type": "scattergeo"
           }
          ],
          "scattergl": [
           {
            "marker": {
             "colorbar": {
              "outlinewidth": 0,
              "ticks": ""
             }
            },
            "type": "scattergl"
           }
          ],
          "scattermap": [
           {
            "marker": {
             "colorbar": {
              "outlinewidth": 0,
              "ticks": ""
             }
            },
            "type": "scattermap"
           }
          ],
          "scattermapbox": [
           {
            "marker": {
             "colorbar": {
              "outlinewidth": 0,
              "ticks": ""
             }
            },
            "type": "scattermapbox"
           }
          ],
          "scatterpolar": [
           {
            "marker": {
             "colorbar": {
              "outlinewidth": 0,
              "ticks": ""
             }
            },
            "type": "scatterpolar"
           }
          ],
          "scatterpolargl": [
           {
            "marker": {
             "colorbar": {
              "outlinewidth": 0,
              "ticks": ""
             }
            },
            "type": "scatterpolargl"
           }
          ],
          "scatterternary": [
           {
            "marker": {
             "colorbar": {
              "outlinewidth": 0,
              "ticks": ""
             }
            },
            "type": "scatterternary"
           }
          ],
          "surface": [
           {
            "colorbar": {
             "outlinewidth": 0,
             "ticks": ""
            },
            "colorscale": [
             [
              0,
              "#0d0887"
             ],
             [
              0.1111111111111111,
              "#46039f"
             ],
             [
              0.2222222222222222,
              "#7201a8"
             ],
             [
              0.3333333333333333,
              "#9c179e"
             ],
             [
              0.4444444444444444,
              "#bd3786"
             ],
             [
              0.5555555555555556,
              "#d8576b"
             ],
             [
              0.6666666666666666,
              "#ed7953"
             ],
             [
              0.7777777777777778,
              "#fb9f3a"
             ],
             [
              0.8888888888888888,
              "#fdca26"
             ],
             [
              1,
              "#f0f921"
             ]
            ],
            "type": "surface"
           }
          ],
          "table": [
           {
            "cells": {
             "fill": {
              "color": "#EBF0F8"
             },
             "line": {
              "color": "white"
             }
            },
            "header": {
             "fill": {
              "color": "#C8D4E3"
             },
             "line": {
              "color": "white"
             }
            },
            "type": "table"
           }
          ]
         },
         "layout": {
          "annotationdefaults": {
           "arrowcolor": "#2a3f5f",
           "arrowhead": 0,
           "arrowwidth": 1
          },
          "autotypenumbers": "strict",
          "coloraxis": {
           "colorbar": {
            "outlinewidth": 0,
            "ticks": ""
           }
          },
          "colorscale": {
           "diverging": [
            [
             0,
             "#8e0152"
            ],
            [
             0.1,
             "#c51b7d"
            ],
            [
             0.2,
             "#de77ae"
            ],
            [
             0.3,
             "#f1b6da"
            ],
            [
             0.4,
             "#fde0ef"
            ],
            [
             0.5,
             "#f7f7f7"
            ],
            [
             0.6,
             "#e6f5d0"
            ],
            [
             0.7,
             "#b8e186"
            ],
            [
             0.8,
             "#7fbc41"
            ],
            [
             0.9,
             "#4d9221"
            ],
            [
             1,
             "#276419"
            ]
           ],
           "sequential": [
            [
             0,
             "#0d0887"
            ],
            [
             0.1111111111111111,
             "#46039f"
            ],
            [
             0.2222222222222222,
             "#7201a8"
            ],
            [
             0.3333333333333333,
             "#9c179e"
            ],
            [
             0.4444444444444444,
             "#bd3786"
            ],
            [
             0.5555555555555556,
             "#d8576b"
            ],
            [
             0.6666666666666666,
             "#ed7953"
            ],
            [
             0.7777777777777778,
             "#fb9f3a"
            ],
            [
             0.8888888888888888,
             "#fdca26"
            ],
            [
             1,
             "#f0f921"
            ]
           ],
           "sequentialminus": [
            [
             0,
             "#0d0887"
            ],
            [
             0.1111111111111111,
             "#46039f"
            ],
            [
             0.2222222222222222,
             "#7201a8"
            ],
            [
             0.3333333333333333,
             "#9c179e"
            ],
            [
             0.4444444444444444,
             "#bd3786"
            ],
            [
             0.5555555555555556,
             "#d8576b"
            ],
            [
             0.6666666666666666,
             "#ed7953"
            ],
            [
             0.7777777777777778,
             "#fb9f3a"
            ],
            [
             0.8888888888888888,
             "#fdca26"
            ],
            [
             1,
             "#f0f921"
            ]
           ]
          },
          "colorway": [
           "#636efa",
           "#EF553B",
           "#00cc96",
           "#ab63fa",
           "#FFA15A",
           "#19d3f3",
           "#FF6692",
           "#B6E880",
           "#FF97FF",
           "#FECB52"
          ],
          "font": {
           "color": "#2a3f5f"
          },
          "geo": {
           "bgcolor": "white",
           "lakecolor": "white",
           "landcolor": "#E5ECF6",
           "showlakes": true,
           "showland": true,
           "subunitcolor": "white"
          },
          "hoverlabel": {
           "align": "left"
          },
          "hovermode": "closest",
          "mapbox": {
           "style": "light"
          },
          "paper_bgcolor": "white",
          "plot_bgcolor": "#E5ECF6",
          "polar": {
           "angularaxis": {
            "gridcolor": "white",
            "linecolor": "white",
            "ticks": ""
           },
           "bgcolor": "#E5ECF6",
           "radialaxis": {
            "gridcolor": "white",
            "linecolor": "white",
            "ticks": ""
           }
          },
          "scene": {
           "xaxis": {
            "backgroundcolor": "#E5ECF6",
            "gridcolor": "white",
            "gridwidth": 2,
            "linecolor": "white",
            "showbackground": true,
            "ticks": "",
            "zerolinecolor": "white"
           },
           "yaxis": {
            "backgroundcolor": "#E5ECF6",
            "gridcolor": "white",
            "gridwidth": 2,
            "linecolor": "white",
            "showbackground": true,
            "ticks": "",
            "zerolinecolor": "white"
           },
           "zaxis": {
            "backgroundcolor": "#E5ECF6",
            "gridcolor": "white",
            "gridwidth": 2,
            "linecolor": "white",
            "showbackground": true,
            "ticks": "",
            "zerolinecolor": "white"
           }
          },
          "shapedefaults": {
           "line": {
            "color": "#2a3f5f"
           }
          },
          "ternary": {
           "aaxis": {
            "gridcolor": "white",
            "linecolor": "white",
            "ticks": ""
           },
           "baxis": {
            "gridcolor": "white",
            "linecolor": "white",
            "ticks": ""
           },
           "bgcolor": "#E5ECF6",
           "caxis": {
            "gridcolor": "white",
            "linecolor": "white",
            "ticks": ""
           }
          },
          "title": {
           "x": 0.05
          },
          "xaxis": {
           "automargin": true,
           "gridcolor": "white",
           "linecolor": "white",
           "ticks": "",
           "title": {
            "standoff": 15
           },
           "zerolinecolor": "white",
           "zerolinewidth": 2
          },
          "yaxis": {
           "automargin": true,
           "gridcolor": "white",
           "linecolor": "white",
           "ticks": "",
           "title": {
            "standoff": 15
           },
           "zerolinecolor": "white",
           "zerolinewidth": 2
          }
         }
        },
        "title": {
         "text": "고객 등급별 소득 분포"
        },
        "xaxis": {
         "anchor": "y",
         "categoryarray": [
          "Premium",
          "Basic",
          "Standard"
         ],
         "categoryorder": "array",
         "domain": [
          0,
          1
         ],
         "title": {
          "text": "고객 등급"
         }
        },
        "yaxis": {
         "anchor": "x",
         "domain": [
          0,
          1
         ],
         "title": {
          "text": "소득"
         }
        }
       }
      }
     },
     "metadata": {},
     "output_type": "display_data"
    }
   ],
   "source": [
    "# 인터랙티브 스캐터 플롯 - 나이 vs 소득 vs 소비점수\n",
    "fig = px.scatter(df, \n",
    "                x='age', \n",
    "                y='income', \n",
    "                size='spending_score', \n",
    "                color='category',\n",
    "                hover_data=['tenure_months', 'num_purchases'],\n",
    "                title='고객 분석: 나이 vs 소득 vs 소비점수',\n",
    "                labels={\n",
    "                    'age': '나이',\n",
    "                    'income': '소득',\n",
    "                    'spending_score': '소비점수',\n",
    "                    'category': '고객등급'\n",
    "                })\n",
    "\n",
    "fig.update_layout(height=600, showlegend=True)\n",
    "fig.show()\n",
    "\n",
    "# 박스플롯 - 카테고리별 소득 분포\n",
    "fig = px.box(df, \n",
    "            x='category', \n",
    "            y='income',\n",
    "            color='category',\n",
    "            title='고객 등급별 소득 분포',\n",
    "            labels={\n",
    "                'category': '고객 등급',\n",
    "                'income': '소득'\n",
    "            })\n",
    "\n",
    "fig.update_layout(height=500)\n",
    "fig.show()"
   ]
  },
  {
   "cell_type": "markdown",
   "id": "073b6d73",
   "metadata": {},
   "source": [
    "## 7. 고급 분석 및 인사이트\n",
    "\n",
    "데이터에서 발견된 주요 패턴과 인사이트를 정리합니다."
   ]
  },
  {
   "cell_type": "code",
   "execution_count": 11,
   "id": "18c755c1",
   "metadata": {},
   "outputs": [
    {
     "name": "stdout",
     "output_type": "stream",
     "text": [
      "🎯 고객 등급별 주요 지표 분석\n",
      "============================================================\n"
     ]
    },
    {
     "data": {
      "text/html": [
       "<div>\n",
       "<style scoped>\n",
       "    .dataframe tbody tr th:only-of-type {\n",
       "        vertical-align: middle;\n",
       "    }\n",
       "\n",
       "    .dataframe tbody tr th {\n",
       "        vertical-align: top;\n",
       "    }\n",
       "\n",
       "    .dataframe thead th {\n",
       "        text-align: right;\n",
       "    }\n",
       "</style>\n",
       "<table border=\"1\" class=\"dataframe\">\n",
       "  <thead>\n",
       "    <tr style=\"text-align: right;\">\n",
       "      <th></th>\n",
       "      <th>age_mean</th>\n",
       "      <th>age_std</th>\n",
       "      <th>income_mean</th>\n",
       "      <th>income_median</th>\n",
       "      <th>income_std</th>\n",
       "      <th>spending_score_mean</th>\n",
       "      <th>spending_score_std</th>\n",
       "      <th>tenure_months_mean</th>\n",
       "      <th>tenure_months_std</th>\n",
       "      <th>num_purchases_mean</th>\n",
       "      <th>num_purchases_std</th>\n",
       "      <th>is_churned_mean</th>\n",
       "      <th>is_churned_sum</th>\n",
       "    </tr>\n",
       "    <tr>\n",
       "      <th>category</th>\n",
       "      <th></th>\n",
       "      <th></th>\n",
       "      <th></th>\n",
       "      <th></th>\n",
       "      <th></th>\n",
       "      <th></th>\n",
       "      <th></th>\n",
       "      <th></th>\n",
       "      <th></th>\n",
       "      <th></th>\n",
       "      <th></th>\n",
       "      <th></th>\n",
       "      <th></th>\n",
       "    </tr>\n",
       "  </thead>\n",
       "  <tbody>\n",
       "    <tr>\n",
       "      <th>Basic</th>\n",
       "      <td>34.74</td>\n",
       "      <td>10.49</td>\n",
       "      <td>41213.85</td>\n",
       "      <td>35821.0</td>\n",
       "      <td>20499.69</td>\n",
       "      <td>29.07</td>\n",
       "      <td>16.71</td>\n",
       "      <td>21.49</td>\n",
       "      <td>21.37</td>\n",
       "      <td>14.92</td>\n",
       "      <td>3.82</td>\n",
       "      <td>0.20</td>\n",
       "      <td>63</td>\n",
       "    </tr>\n",
       "    <tr>\n",
       "      <th>Premium</th>\n",
       "      <td>36.26</td>\n",
       "      <td>12.35</td>\n",
       "      <td>43692.69</td>\n",
       "      <td>39727.0</td>\n",
       "      <td>19447.01</td>\n",
       "      <td>29.52</td>\n",
       "      <td>16.31</td>\n",
       "      <td>22.69</td>\n",
       "      <td>22.07</td>\n",
       "      <td>14.73</td>\n",
       "      <td>3.42</td>\n",
       "      <td>0.16</td>\n",
       "      <td>31</td>\n",
       "    </tr>\n",
       "    <tr>\n",
       "      <th>Standard</th>\n",
       "      <td>34.88</td>\n",
       "      <td>10.93</td>\n",
       "      <td>44033.57</td>\n",
       "      <td>37610.0</td>\n",
       "      <td>23487.27</td>\n",
       "      <td>28.28</td>\n",
       "      <td>15.38</td>\n",
       "      <td>22.50</td>\n",
       "      <td>23.60</td>\n",
       "      <td>14.98</td>\n",
       "      <td>3.82</td>\n",
       "      <td>0.20</td>\n",
       "      <td>99</td>\n",
       "    </tr>\n",
       "  </tbody>\n",
       "</table>\n",
       "</div>"
      ],
      "text/plain": [
       "          age_mean  age_std  income_mean  income_median  income_std  \\\n",
       "category                                                              \n",
       "Basic        34.74    10.49     41213.85        35821.0    20499.69   \n",
       "Premium      36.26    12.35     43692.69        39727.0    19447.01   \n",
       "Standard     34.88    10.93     44033.57        37610.0    23487.27   \n",
       "\n",
       "          spending_score_mean  spending_score_std  tenure_months_mean  \\\n",
       "category                                                                \n",
       "Basic                   29.07               16.71               21.49   \n",
       "Premium                 29.52               16.31               22.69   \n",
       "Standard                28.28               15.38               22.50   \n",
       "\n",
       "          tenure_months_std  num_purchases_mean  num_purchases_std  \\\n",
       "category                                                             \n",
       "Basic                 21.37               14.92               3.82   \n",
       "Premium               22.07               14.73               3.42   \n",
       "Standard              23.60               14.98               3.82   \n",
       "\n",
       "          is_churned_mean  is_churned_sum  \n",
       "category                                   \n",
       "Basic                0.20              63  \n",
       "Premium              0.16              31  \n",
       "Standard             0.20              99  "
      ]
     },
     "metadata": {},
     "output_type": "display_data"
    },
    {
     "name": "stdout",
     "output_type": "stream",
     "text": [
      "\n",
      "🌍 지역별 분석\n",
      "============================================================\n"
     ]
    },
    {
     "data": {
      "text/html": [
       "<div>\n",
       "<style scoped>\n",
       "    .dataframe tbody tr th:only-of-type {\n",
       "        vertical-align: middle;\n",
       "    }\n",
       "\n",
       "    .dataframe tbody tr th {\n",
       "        vertical-align: top;\n",
       "    }\n",
       "\n",
       "    .dataframe thead th {\n",
       "        text-align: right;\n",
       "    }\n",
       "</style>\n",
       "<table border=\"1\" class=\"dataframe\">\n",
       "  <thead>\n",
       "    <tr style=\"text-align: right;\">\n",
       "      <th></th>\n",
       "      <th>평균_소득</th>\n",
       "      <th>평균_소비점수</th>\n",
       "      <th>이탈률</th>\n",
       "      <th>고객수</th>\n",
       "    </tr>\n",
       "    <tr>\n",
       "      <th>region</th>\n",
       "      <th></th>\n",
       "      <th></th>\n",
       "      <th></th>\n",
       "      <th></th>\n",
       "    </tr>\n",
       "  </thead>\n",
       "  <tbody>\n",
       "    <tr>\n",
       "      <th>East</th>\n",
       "      <td>44000.56</td>\n",
       "      <td>28.38</td>\n",
       "      <td>0.18</td>\n",
       "      <td>254</td>\n",
       "    </tr>\n",
       "    <tr>\n",
       "      <th>North</th>\n",
       "      <td>43505.07</td>\n",
       "      <td>29.93</td>\n",
       "      <td>0.21</td>\n",
       "      <td>251</td>\n",
       "    </tr>\n",
       "    <tr>\n",
       "      <th>South</th>\n",
       "      <td>42854.27</td>\n",
       "      <td>29.48</td>\n",
       "      <td>0.19</td>\n",
       "      <td>251</td>\n",
       "    </tr>\n",
       "    <tr>\n",
       "      <th>West</th>\n",
       "      <td>41984.71</td>\n",
       "      <td>27.21</td>\n",
       "      <td>0.19</td>\n",
       "      <td>244</td>\n",
       "    </tr>\n",
       "  </tbody>\n",
       "</table>\n",
       "</div>"
      ],
      "text/plain": [
       "           평균_소득  평균_소비점수   이탈률  고객수\n",
       "region                              \n",
       "East    44000.56    28.38  0.18  254\n",
       "North   43505.07    29.93  0.21  251\n",
       "South   42854.27    29.48  0.19  251\n",
       "West    41984.71    27.21  0.19  244"
      ]
     },
     "metadata": {},
     "output_type": "display_data"
    },
    {
     "name": "stdout",
     "output_type": "stream",
     "text": [
      "\n",
      "👥 나이 그룹별 분석\n",
      "============================================================\n"
     ]
    },
    {
     "data": {
      "text/html": [
       "<div>\n",
       "<style scoped>\n",
       "    .dataframe tbody tr th:only-of-type {\n",
       "        vertical-align: middle;\n",
       "    }\n",
       "\n",
       "    .dataframe tbody tr th {\n",
       "        vertical-align: top;\n",
       "    }\n",
       "\n",
       "    .dataframe thead th {\n",
       "        text-align: right;\n",
       "    }\n",
       "</style>\n",
       "<table border=\"1\" class=\"dataframe\">\n",
       "  <thead>\n",
       "    <tr style=\"text-align: right;\">\n",
       "      <th></th>\n",
       "      <th>평균_소득</th>\n",
       "      <th>평균_소비점수</th>\n",
       "      <th>평균_구매횟수</th>\n",
       "      <th>이탈률</th>\n",
       "      <th>고객수</th>\n",
       "    </tr>\n",
       "    <tr>\n",
       "      <th>age_group</th>\n",
       "      <th></th>\n",
       "      <th></th>\n",
       "      <th></th>\n",
       "      <th></th>\n",
       "      <th></th>\n",
       "    </tr>\n",
       "  </thead>\n",
       "  <tbody>\n",
       "    <tr>\n",
       "      <th>18-25</th>\n",
       "      <td>45054.55</td>\n",
       "      <td>29.49</td>\n",
       "      <td>14.89</td>\n",
       "      <td>0.18</td>\n",
       "      <td>219</td>\n",
       "    </tr>\n",
       "    <tr>\n",
       "      <th>26-35</th>\n",
       "      <td>43257.77</td>\n",
       "      <td>28.33</td>\n",
       "      <td>14.77</td>\n",
       "      <td>0.18</td>\n",
       "      <td>309</td>\n",
       "    </tr>\n",
       "    <tr>\n",
       "      <th>36-45</th>\n",
       "      <td>42590.26</td>\n",
       "      <td>28.68</td>\n",
       "      <td>15.21</td>\n",
       "      <td>0.21</td>\n",
       "      <td>299</td>\n",
       "    </tr>\n",
       "    <tr>\n",
       "      <th>46-55</th>\n",
       "      <td>40745.72</td>\n",
       "      <td>29.38</td>\n",
       "      <td>14.78</td>\n",
       "      <td>0.19</td>\n",
       "      <td>125</td>\n",
       "    </tr>\n",
       "    <tr>\n",
       "      <th>56+</th>\n",
       "      <td>42457.44</td>\n",
       "      <td>27.05</td>\n",
       "      <td>14.42</td>\n",
       "      <td>0.19</td>\n",
       "      <td>48</td>\n",
       "    </tr>\n",
       "  </tbody>\n",
       "</table>\n",
       "</div>"
      ],
      "text/plain": [
       "              평균_소득  평균_소비점수  평균_구매횟수   이탈률  고객수\n",
       "age_group                                       \n",
       "18-25      45054.55    29.49    14.89  0.18  219\n",
       "26-35      43257.77    28.33    14.77  0.18  309\n",
       "36-45      42590.26    28.68    15.21  0.21  299\n",
       "46-55      40745.72    29.38    14.78  0.19  125\n",
       "56+        42457.44    27.05    14.42  0.19   48"
      ]
     },
     "metadata": {},
     "output_type": "display_data"
    }
   ],
   "source": [
    "# 고객 등급별 세부 분석\n",
    "print(\"🎯 고객 등급별 주요 지표 분석\")\n",
    "print(\"=\" * 60)\n",
    "\n",
    "customer_analysis = df.groupby('category').agg({\n",
    "    'age': ['mean', 'std'],\n",
    "    'income': ['mean', 'median', 'std'],\n",
    "    'spending_score': ['mean', 'std'],\n",
    "    'tenure_months': ['mean', 'std'],\n",
    "    'num_purchases': ['mean', 'std'],\n",
    "    'is_churned': ['mean', 'sum']\n",
    "}).round(2)\n",
    "\n",
    "# 컬럼명 정리\n",
    "customer_analysis.columns = ['_'.join(col).strip() for col in customer_analysis.columns]\n",
    "display(customer_analysis)\n",
    "\n",
    "# 지역별 분석\n",
    "print(\"\\n🌍 지역별 분석\")\n",
    "print(\"=\" * 60)\n",
    "\n",
    "region_analysis = df.groupby('region').agg({\n",
    "    'income': 'mean',\n",
    "    'spending_score': 'mean',\n",
    "    'is_churned': 'mean',\n",
    "    'customer_id': 'count'\n",
    "}).round(2)\n",
    "\n",
    "region_analysis.columns = ['평균_소득', '평균_소비점수', '이탈률', '고객수']\n",
    "display(region_analysis)\n",
    "\n",
    "# 나이 그룹별 분석\n",
    "print(\"\\n👥 나이 그룹별 분석\")\n",
    "print(\"=\" * 60)\n",
    "\n",
    "# 나이 그룹 생성\n",
    "df['age_group'] = pd.cut(df['age'], \n",
    "                        bins=[0, 25, 35, 45, 55, 100], \n",
    "                        labels=['18-25', '26-35', '36-45', '46-55', '56+'])\n",
    "\n",
    "age_analysis = df.groupby('age_group').agg({\n",
    "    'income': 'mean',\n",
    "    'spending_score': 'mean',\n",
    "    'num_purchases': 'mean',\n",
    "    'is_churned': 'mean',\n",
    "    'customer_id': 'count'\n",
    "}).round(2)\n",
    "\n",
    "age_analysis.columns = ['평균_소득', '평균_소비점수', '평균_구매횟수', '이탈률', '고객수']\n",
    "display(age_analysis)"
   ]
  },
  {
   "cell_type": "markdown",
   "id": "4d5f6912",
   "metadata": {},
   "source": [
    "## 8. 주요 발견사항 및 결론\n",
    "\n",
    "### 🔍 주요 발견사항\n",
    "\n",
    "1. **데이터 품질**\n",
    "   - 전체 1,000개 샘플 중 income 변수에 50개(5%) 결측값 존재\n",
    "   - 중복된 행은 없음\n",
    "   - 전반적으로 양질의 데이터\n",
    "\n",
    "2. **고객 특성**\n",
    "   - 평균 연령: 35세, 소득: 중간값 기준\n",
    "   - 고객 등급별로 뚜렷한 차이 존재\n",
    "   - 지역별 소득 및 소비 패턴 차이 관찰\n",
    "\n",
    "3. **이탈 패턴**\n",
    "   - 전체 이탈률: 20%\n",
    "   - 특정 연령대 및 소득 구간에서 이탈률 높음\n",
    "\n",
    "### 📈 다음 단계 권장사항\n",
    "\n",
    "1. **데이터 전처리**\n",
    "   - 결측값 처리 (평균값 대체 또는 예측 모델 사용)\n",
    "   - 이상치 검토 및 처리\n",
    "   - 피처 엔지니어링 (나이 그룹, 소득 구간 등)\n",
    "\n",
    "2. **모델링 방향**\n",
    "   - 고객 이탈 예측 모델 개발\n",
    "   - 고객 세분화 (클러스터링) 분석\n",
    "   - 소비 점수 예측 모델\n",
    "\n",
    "3. **추가 분석**\n",
    "   - 시계열 분석 (tenure 기반)\n",
    "   - 고객 생애 가치(CLV) 계산\n",
    "   - A/B 테스트 설계\n",
    "\n",
    "### 💡 비즈니스 인사이트\n",
    "\n",
    "- **Premium 고객**: 높은 소득과 소비력, 낮은 이탈률\n",
    "- **지역별 차이**: 마케팅 전략 지역화 필요\n",
    "- **연령별 패턴**: 연령대별 맞춤 서비스 개발 기회"
   ]
  },
  {
   "cell_type": "code",
   "execution_count": 14,
   "id": "1fd71fb2",
   "metadata": {},
   "outputs": [
    {
     "name": "stdout",
     "output_type": "stream",
     "text": [
      "✅ 전처리된 데이터 저장 완료: ../data/processed/customer_data_with_eda_features.csv\n",
      "✅ EDA 요약 리포트 저장 완료: ../data/processed/eda_summary_report.json\n",
      "\n",
      "📊 최종 데이터 정보:\n",
      "• 처리된 행 수: 1,000\n",
      "• 새로 생성된 변수: age_group\n",
      "• 다음 단계: 02_Preprocessing.ipynb에서 본격적인 전처리 시작\n",
      "\n",
      "🎉 EDA 분석 완료!\n",
      "============================================================\n",
      "다음 노트북(02_Preprocessing.ipynb)에서 데이터 전처리를 진행하세요.\n"
     ]
    }
   ],
   "source": [
    "# 전처리된 데이터 저장 (다음 단계를 위해)\n",
    "processed_data_path = Path(\"../data/processed\")\n",
    "processed_data_path.mkdir(exist_ok=True)\n",
    "\n",
    "# 기본 정보가 추가된 데이터 저장\n",
    "df_with_age_group = df.copy()\n",
    "df_processed_path = processed_data_path / \"customer_data_with_eda_features.csv\"\n",
    "df_with_age_group.to_csv(df_processed_path, index=False)\n",
    "\n",
    "print(f\"✅ 전처리된 데이터 저장 완료: {df_processed_path}\")\n",
    "\n",
    "# EDA 요약 리포트 생성\n",
    "summary_report = {\n",
    "    \"dataset_info\": {\n",
    "        \"총_행수\": len(df),\n",
    "        \"총_열수\": df.shape[1],\n",
    "        \"결측값_총개수\": df.isnull().sum().sum(),\n",
    "        \"중복행_개수\": df.duplicated().sum()\n",
    "    },\n",
    "    \"numeric_summary\": df.select_dtypes(include=[np.number]).describe().to_dict(),\n",
    "    \"categorical_summary\": {col: df[col].value_counts().to_dict() \n",
    "                          for col in df.select_dtypes(include=['object']).columns}\n",
    "}\n",
    "\n",
    "# JSON 형태로 저장\n",
    "import json\n",
    "\n",
    "def convert_numpy(obj):\n",
    "    if isinstance(obj, (np.integer, np.int64, np.int32)):\n",
    "        return int(obj)\n",
    "    elif isinstance(obj, (np.floating, np.float64, np.float32)):\n",
    "        return float(obj)\n",
    "    elif isinstance(obj, (np.ndarray,)):\n",
    "        return obj.tolist()\n",
    "    return obj\n",
    "\n",
    "summary_path = processed_data_path / \"eda_summary_report.json\"\n",
    "with open(summary_path, 'w', encoding='utf-8') as f:\n",
    "    json.dump(summary_report, f, ensure_ascii=False, indent=2, default=convert_numpy)\n",
    "\n",
    "print(f\"✅ EDA 요약 리포트 저장 완료: {summary_path}\")\n",
    "\n",
    "# 메모리 정리\n",
    "print(f\"\\n📊 최종 데이터 정보:\")\n",
    "print(f\"• 처리된 행 수: {len(df_with_age_group):,}\")\n",
    "print(f\"• 새로 생성된 변수: age_group\")\n",
    "print(f\"• 다음 단계: 02_Preprocessing.ipynb에서 본격적인 전처리 시작\")\n",
    "\n",
    "print(\"\\n🎉 EDA 분석 완료!\")\n",
    "print(\"=\" * 60)\n",
    "print(\"다음 노트북(02_Preprocessing.ipynb)에서 데이터 전처리를 진행하세요.\")"
   ]
  }
 ],
 "metadata": {
  "kernelspec": {
   "display_name": "abc-bootcamp-FP-2025",
   "language": "python",
   "name": "python3"
  },
  "language_info": {
   "codemirror_mode": {
    "name": "ipython",
    "version": 3
   },
   "file_extension": ".py",
   "mimetype": "text/x-python",
   "name": "python",
   "nbconvert_exporter": "python",
   "pygments_lexer": "ipython3",
   "version": "3.12.11"
  }
 },
 "nbformat": 4,
 "nbformat_minor": 5
}
