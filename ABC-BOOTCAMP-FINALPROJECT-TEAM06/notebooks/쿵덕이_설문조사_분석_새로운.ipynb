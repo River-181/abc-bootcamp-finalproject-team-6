{
 "cells": [
  {
   "cell_type": "markdown",
   "id": "a51e6012",
   "metadata": {},
   "source": [
    "# 쿵덕이 프로젝트 설문조사 분석\n",
    "\n",
    "배려 깊은 우리 집, 건강한 공동주택 생활을 위한 생각 나눔 설문조사 데이터를 분석하여 쿵덕이 IoT 제품의 시장 잠재력과 타겟 고객 니즈를 파악합니다.\n",
    "\n",
    "## 분석 목표\n",
    "- 층간소음 문제 인식 및 경험 패턴 분석\n",
    "- 쿵덕이 서비스에 대한 수용도 및 기대 효과 측정\n",
    "- 타겟 세그먼트별 특성 및 구매 의향 분석\n",
    "- 가격 민감도 및 제품 기능 선호도 조사\n",
    "\n",
    "**데이터 수집 기간**: 2025년 8월 9일 - 8월 10일  \n",
    "**총 응답자 수**: 93명"
   ]
  },
  {
   "cell_type": "code",
   "execution_count": null,
   "id": "de3cf696",
   "metadata": {},
   "outputs": [],
   "source": []
  },
  {
   "cell_type": "code",
   "execution_count": 1,
   "id": "16795569",
   "metadata": {},
   "outputs": [
    {
     "name": "stdout",
     "output_type": "stream",
     "text": [
      "🏠 쿵덕이 설문조사 데이터 로드 완료\n",
      "응답자 수: 89명\n",
      "질문 항목 수: 13개\n",
      "\n",
      "데이터 구조:\n",
      "(89, 13)\n"
     ]
    }
   ],
   "source": [
    "# 라이브러리 및 데이터 로드\n",
    "import pandas as pd\n",
    "import numpy as np\n",
    "import matplotlib.pyplot as plt\n",
    "import seaborn as sns\n",
    "import plotly.express as px\n",
    "import plotly.graph_objects as go\n",
    "from plotly.subplots import make_subplots\n",
    "import warnings\n",
    "warnings.filterwarnings('ignore')\n",
    "\n",
    "# 한글 폰트 설정 (matplotlib)\n",
    "plt.rcParams['font.family'] = 'DejaVu Sans'\n",
    "plt.rcParams['axes.unicode_minus'] = False\n",
    "\n",
    "# 데이터 로드\n",
    "data_path = '/Users/river/abc-bootcamp-finalproject-team-6/project/data/설문조사/배려 깊은 우리 집, 건강한 공동주택 생활을 위한 생각 나눔 설문지(응답) - 설문지 응답 시트1.csv'\n",
    "df = pd.read_csv(data_path, encoding='utf-8')\n",
    "\n",
    "print(\"🏠 쿵덕이 설문조사 데이터 로드 완료\")\n",
    "print(f\"응답자 수: {len(df)}명\")\n",
    "print(f\"질문 항목 수: {len(df.columns)}개\")\n",
    "print(\"\\n데이터 구조:\")\n",
    "print(df.shape)"
   ]
  },
  {
   "cell_type": "markdown",
   "id": "94a4d334",
   "metadata": {},
   "source": [
    "## 📊 데이터 전처리 및 정리\n",
    "\n",
    "설문조사 컬럼명이 매우 길어서 분석에 용이하도록 간소화하고, 결측값 처리 및 다중 선택 항목을 분리합니다."
   ]
  },
  {
   "cell_type": "code",
   "execution_count": 2,
   "id": "c51b9cc9",
   "metadata": {},
   "outputs": [
    {
     "name": "stdout",
     "output_type": "stream",
     "text": [
      "📋 전처리된 데이터 구조:\n",
      "전체 응답수: 89개\n",
      "컬럼 수: 13개\n",
      "\n",
      "🔍 결측값 현황:\n",
      "noise_frequency            21\n",
      "self_awareness              1\n",
      "noise_reduction_efforts     5\n",
      "product_effectiveness       1\n",
      "reciprocal_expectation      1\n",
      "attractive_features         1\n",
      "usage_intention             1\n",
      "price_preference            1\n",
      "gift_intention              1\n",
      "age_group                   1\n",
      "life_situation              1\n",
      "dtype: int64\n",
      "\n",
      "📊 첫 5개 응답 데이터 미리보기:\n"
     ]
    },
    {
     "data": {
      "text/html": [
       "<div>\n",
       "<style scoped>\n",
       "    .dataframe tbody tr th:only-of-type {\n",
       "        vertical-align: middle;\n",
       "    }\n",
       "\n",
       "    .dataframe tbody tr th {\n",
       "        vertical-align: top;\n",
       "    }\n",
       "\n",
       "    .dataframe thead th {\n",
       "        text-align: right;\n",
       "    }\n",
       "</style>\n",
       "<table border=\"1\" class=\"dataframe\">\n",
       "  <thead>\n",
       "    <tr style=\"text-align: right;\">\n",
       "      <th></th>\n",
       "      <th>timestamp</th>\n",
       "      <th>noise_experience</th>\n",
       "      <th>noise_frequency</th>\n",
       "      <th>self_awareness</th>\n",
       "      <th>noise_reduction_efforts</th>\n",
       "      <th>product_effectiveness</th>\n",
       "      <th>reciprocal_expectation</th>\n",
       "      <th>attractive_features</th>\n",
       "      <th>usage_intention</th>\n",
       "      <th>price_preference</th>\n",
       "      <th>gift_intention</th>\n",
       "      <th>age_group</th>\n",
       "      <th>life_situation</th>\n",
       "    </tr>\n",
       "  </thead>\n",
       "  <tbody>\n",
       "    <tr>\n",
       "      <th>0</th>\n",
       "      <td>2025. 8. 9 오전 8:31:50</td>\n",
       "      <td>예</td>\n",
       "      <td>일주일에 1~3회</td>\n",
       "      <td>NaN</td>\n",
       "      <td>NaN</td>\n",
       "      <td>NaN</td>\n",
       "      <td>NaN</td>\n",
       "      <td>NaN</td>\n",
       "      <td>NaN</td>\n",
       "      <td>NaN</td>\n",
       "      <td>NaN</td>\n",
       "      <td>NaN</td>\n",
       "      <td>NaN</td>\n",
       "    </tr>\n",
       "    <tr>\n",
       "      <th>1</th>\n",
       "      <td>2025. 8. 9 오전 9:42:09</td>\n",
       "      <td>예</td>\n",
       "      <td>거의 매일</td>\n",
       "      <td>거의 없다.</td>\n",
       "      <td>특별히 하는 노력은 없다.</td>\n",
       "      <td>매우 그렇다.</td>\n",
       "      <td>예, 긍정적인 영향을 줄 것이다.</td>\n",
       "      <td>나의 노력이 '배려 포인트'로 쌓여 보상받는 게임 같은 즐거움</td>\n",
       "      <td>있다.</td>\n",
       "      <td>1~2 만원</td>\n",
       "      <td>예</td>\n",
       "      <td>20대</td>\n",
       "      <td>(어린이 양육 가정) 미취학~초등학생 자녀를 키우고 있어, 아이들이 내는 소음이 항...</td>\n",
       "    </tr>\n",
       "    <tr>\n",
       "      <th>2</th>\n",
       "      <td>2025. 8. 9 오전 9:42:59</td>\n",
       "      <td>예</td>\n",
       "      <td>일주일에 1~3회</td>\n",
       "      <td>가끔 있다.</td>\n",
       "      <td>아이들에게 실내에서 뛰지 않도록 주의를 준다.</td>\n",
       "      <td>그렇다.</td>\n",
       "      <td>잘 모르겠다.</td>\n",
       "      <td>소음 수준에 따라 색이 변하는 피규어 디자인 자체</td>\n",
       "      <td>별로 없다.</td>\n",
       "      <td>2~3 만원</td>\n",
       "      <td>예</td>\n",
       "      <td>20대</td>\n",
       "      <td>(소음 무자각자 가족) 제 발소리나 생활 습관이 다른 사람에게 피해를 줄까 봐 걱정...</td>\n",
       "    </tr>\n",
       "    <tr>\n",
       "      <th>3</th>\n",
       "      <td>2025. 8. 9 오전 9:48:58</td>\n",
       "      <td>예</td>\n",
       "      <td>한 달에 1회</td>\n",
       "      <td>가끔 있다.</td>\n",
       "      <td>특별히 하는 노력은 없다.</td>\n",
       "      <td>매우 그렇다.</td>\n",
       "      <td>잘 모르겠다.</td>\n",
       "      <td>소음 발생 즉시 부드러운 불빛으로 알려주는 실시간 피드백, 소음과 진동이 '이 정도...</td>\n",
       "      <td>있다.</td>\n",
       "      <td>1~2 만원</td>\n",
       "      <td>예</td>\n",
       "      <td>20대</td>\n",
       "      <td>특별히 위 상황에 해당되지는 않지만, 소음 문제에 관심이 있습니다.</td>\n",
       "    </tr>\n",
       "    <tr>\n",
       "      <th>4</th>\n",
       "      <td>2025. 8. 9 오전 9:52:24</td>\n",
       "      <td>예</td>\n",
       "      <td>일주일에 1~3회</td>\n",
       "      <td>가끔 있다.</td>\n",
       "      <td>고양이 다독여주기</td>\n",
       "      <td>매우 그렇다.</td>\n",
       "      <td>예, 긍정적인 영향을 줄 것이다.</td>\n",
       "      <td>소음 발생 즉시 부드러운 불빛으로 알려주는 실시간 피드백, 우리 집의 소음 발생 시...</td>\n",
       "      <td>매우 있다.</td>\n",
       "      <td>2~3 만원</td>\n",
       "      <td>예</td>\n",
       "      <td>20대</td>\n",
       "      <td>특별히 위 상황에 해당되지는 않지만, 소음 문제에 관심이 있습니다.</td>\n",
       "    </tr>\n",
       "  </tbody>\n",
       "</table>\n",
       "</div>"
      ],
      "text/plain": [
       "               timestamp noise_experience noise_frequency self_awareness  \\\n",
       "0  2025. 8. 9 오전 8:31:50                예       일주일에 1~3회            NaN   \n",
       "1  2025. 8. 9 오전 9:42:09                예           거의 매일         거의 없다.   \n",
       "2  2025. 8. 9 오전 9:42:59                예       일주일에 1~3회         가끔 있다.   \n",
       "3  2025. 8. 9 오전 9:48:58                예         한 달에 1회         가끔 있다.   \n",
       "4  2025. 8. 9 오전 9:52:24                예       일주일에 1~3회         가끔 있다.   \n",
       "\n",
       "     noise_reduction_efforts product_effectiveness reciprocal_expectation  \\\n",
       "0                        NaN                   NaN                    NaN   \n",
       "1             특별히 하는 노력은 없다.               매우 그렇다.     예, 긍정적인 영향을 줄 것이다.   \n",
       "2  아이들에게 실내에서 뛰지 않도록 주의를 준다.                  그렇다.                잘 모르겠다.   \n",
       "3             특별히 하는 노력은 없다.               매우 그렇다.                잘 모르겠다.   \n",
       "4                  고양이 다독여주기               매우 그렇다.     예, 긍정적인 영향을 줄 것이다.   \n",
       "\n",
       "                                 attractive_features usage_intention  \\\n",
       "0                                                NaN             NaN   \n",
       "1                 나의 노력이 '배려 포인트'로 쌓여 보상받는 게임 같은 즐거움             있다.   \n",
       "2                        소음 수준에 따라 색이 변하는 피규어 디자인 자체          별로 없다.   \n",
       "3  소음 발생 즉시 부드러운 불빛으로 알려주는 실시간 피드백, 소음과 진동이 '이 정도...             있다.   \n",
       "4  소음 발생 즉시 부드러운 불빛으로 알려주는 실시간 피드백, 우리 집의 소음 발생 시...          매우 있다.   \n",
       "\n",
       "  price_preference gift_intention age_group  \\\n",
       "0              NaN            NaN       NaN   \n",
       "1           1~2 만원              예       20대   \n",
       "2           2~3 만원              예       20대   \n",
       "3           1~2 만원              예       20대   \n",
       "4           2~3 만원              예       20대   \n",
       "\n",
       "                                      life_situation  \n",
       "0                                                NaN  \n",
       "1  (어린이 양육 가정) 미취학~초등학생 자녀를 키우고 있어, 아이들이 내는 소음이 항...  \n",
       "2  (소음 무자각자 가족) 제 발소리나 생활 습관이 다른 사람에게 피해를 줄까 봐 걱정...  \n",
       "3              특별히 위 상황에 해당되지는 않지만, 소음 문제에 관심이 있습니다.  \n",
       "4              특별히 위 상황에 해당되지는 않지만, 소음 문제에 관심이 있습니다.  "
      ]
     },
     "execution_count": 2,
     "metadata": {},
     "output_type": "execute_result"
    }
   ],
   "source": [
    "# 컬럼명 간소화\n",
    "column_mapping = {\n",
    "    '타임스탬프': 'timestamp',\n",
    "    '1. 귀하는 최근 2년 사이, 함께 사는 공간에서 발생하는 생활 소음 때문에 불편함을 느끼신 적이 있나요? \\n(이웃, 가족의 소음 등 모두 포함)': 'noise_experience',\n",
    "    '1-1. 귀하는 그 소음으로 얼마나 자주 불편함을 느끼시나요?\\n(\\'예\\'라고 답하신 분만 응답)': 'noise_frequency',\n",
    "    '2. 귀하는 반대로, 나의 생활 소음이 다른 사람에게 피해를 줄까 봐 걱정하거나 조심해 보신 적이 있나요?': 'self_awareness',\n",
    "    '2-1. 다른 사람을 위해 소음을 줄이려고 어떤 노력을 하고 계신가요? \\n(\\'예\\'라고 답하신 분만 응답, 중복 가능)': 'noise_reduction_efforts',\n",
    "    '3. 앞서 설명해 드린 \\'쿵덕이\\'가, 소음으로 인한 갈등이나 서로 배려하는 문화를 만드는 데 도움이 될 것이라고 생각하십니까?': 'product_effectiveness',\n",
    "    '4. 만약 우리 집이 먼저 조심하고 배려하는 모습을 보인다면, 이웃이나 나를 더 배려해 줄 것이라고 기대하시나요?': 'reciprocal_expectation',\n",
    "    '5. 귀하는 이 서비스의 여러 기능 중, 어떤 점이 가장 매력적으로 느껴지시나요? (2개까지 선택 가능)': 'attractive_features',\n",
    "    '6. 귀하는 만약 이 서비스가 출시된다면, 이용해 볼 의향이 있으십니까?': 'usage_intention',\n",
    "    '7. 귀하는 이 \\'쿵덕이\\' 피규어 기기가 출시된다면, 어느 정도의 가격대일 때 구매를 긍정적으로 고려하시겠습니까?': 'price_preference',\n",
    "    '8. 귀하는 소음 문제로 힘들어하거나, 소음을 자주 내는 가족, 친구, 룸메이트에게 이 제품을 선물할 의향이 있으신가요?': 'gift_intention',\n",
    "    '9. 귀하의 연령대는 어떻게 되시나요?': 'age_group',\n",
    "    '10. 다음 중, 생활 소음과 관련하여 귀하의 상황을 가장 잘 설명하는 것은 무엇인가요? (1개 선택)': 'life_situation'\n",
    "}\n",
    "\n",
    "# 컬럼명 변경\n",
    "df_clean = df.rename(columns=column_mapping)\n",
    "\n",
    "# 기본 정보 확인\n",
    "print(\"📋 전처리된 데이터 구조:\")\n",
    "print(f\"전체 응답수: {len(df_clean)}개\")\n",
    "print(f\"컬럼 수: {len(df_clean.columns)}개\")\n",
    "\n",
    "# 결측값 확인\n",
    "print(\"\\n🔍 결측값 현황:\")\n",
    "missing_data = df_clean.isnull().sum()\n",
    "print(missing_data[missing_data > 0])\n",
    "\n",
    "# 데이터 타입 확인\n",
    "print(\"\\n📊 첫 5개 응답 데이터 미리보기:\")\n",
    "df_clean.head()"
   ]
  },
  {
   "cell_type": "markdown",
   "id": "c9f9cc2d",
   "metadata": {},
   "source": [
    "## 📈 기본 통계 분석\n",
    "\n",
    "설문조사 응답자들의 기본적인 인구통계학적 특성을 분석합니다."
   ]
  },
  {
   "cell_type": "code",
   "execution_count": 11,
   "id": "74ca1caf",
   "metadata": {},
   "outputs": [
    {
     "data": {
      "application/vnd.plotly.v1+json": {
       "config": {
        "plotlyServerURL": "https://plot.ly"
       },
       "data": [
        {
         "domain": {
          "x": [
           0,
           0.45
          ],
          "y": [
           0,
           1
          ]
         },
         "hole": 0.4,
         "labels": [
          "20대",
          "30대",
          "40대",
          "50대 이상",
          "10대"
         ],
         "marker": {
          "colors": [
           "#FF6B6B",
           "#4ECDC4",
           "#45B7D1",
           "#96CEB4",
           "#FFEAA7"
          ]
         },
         "textinfo": "label+percent",
         "type": "pie",
         "values": {
          "bdata": "RQsEAgI=",
          "dtype": "i1"
         }
        },
        {
         "marker": {
          "color": "#FF6B6B"
         },
         "text": {
          "bdata": "AAAAAAAANkAAAAAAAAA1QAAAAAAAADVAAAAAAAAAMUAAAAAAAAAcQA==",
          "dtype": "f8"
         },
         "textfont": {
          "size": 12
         },
         "textposition": "outside",
         "type": "bar",
         "x": [
          "관심있는 일반인",
          "라이프스타일 추구형",
          "야간 소음 민감 직장인",
          "소음 무자각자 가족",
          "어린이 양육 가정"
         ],
         "xaxis": "x",
         "y": {
          "bdata": "FhUVEQc=",
          "dtype": "i1"
         },
         "yaxis": "y"
        }
       ],
       "layout": {
        "annotations": [
         {
          "font": {
           "size": 16
          },
          "showarrow": false,
          "text": "응답자 연령대 분포",
          "x": 0.225,
          "xanchor": "center",
          "xref": "paper",
          "y": 1,
          "yanchor": "bottom",
          "yref": "paper"
         },
         {
          "font": {
           "size": 16
          },
          "showarrow": false,
          "text": "응답자 생활 상황 분포",
          "x": 0.775,
          "xanchor": "center",
          "xref": "paper",
          "y": 1,
          "yanchor": "bottom",
          "yref": "paper"
         }
        ],
        "height": 500,
        "margin": {
         "b": 120
        },
        "showlegend": false,
        "template": {
         "data": {
          "bar": [
           {
            "error_x": {
             "color": "#2a3f5f"
            },
            "error_y": {
             "color": "#2a3f5f"
            },
            "marker": {
             "line": {
              "color": "#E5ECF6",
              "width": 0.5
             },
             "pattern": {
              "fillmode": "overlay",
              "size": 10,
              "solidity": 0.2
             }
            },
            "type": "bar"
           }
          ],
          "barpolar": [
           {
            "marker": {
             "line": {
              "color": "#E5ECF6",
              "width": 0.5
             },
             "pattern": {
              "fillmode": "overlay",
              "size": 10,
              "solidity": 0.2
             }
            },
            "type": "barpolar"
           }
          ],
          "carpet": [
           {
            "aaxis": {
             "endlinecolor": "#2a3f5f",
             "gridcolor": "white",
             "linecolor": "white",
             "minorgridcolor": "white",
             "startlinecolor": "#2a3f5f"
            },
            "baxis": {
             "endlinecolor": "#2a3f5f",
             "gridcolor": "white",
             "linecolor": "white",
             "minorgridcolor": "white",
             "startlinecolor": "#2a3f5f"
            },
            "type": "carpet"
           }
          ],
          "choropleth": [
           {
            "colorbar": {
             "outlinewidth": 0,
             "ticks": ""
            },
            "type": "choropleth"
           }
          ],
          "contour": [
           {
            "colorbar": {
             "outlinewidth": 0,
             "ticks": ""
            },
            "colorscale": [
             [
              0,
              "#0d0887"
             ],
             [
              0.1111111111111111,
              "#46039f"
             ],
             [
              0.2222222222222222,
              "#7201a8"
             ],
             [
              0.3333333333333333,
              "#9c179e"
             ],
             [
              0.4444444444444444,
              "#bd3786"
             ],
             [
              0.5555555555555556,
              "#d8576b"
             ],
             [
              0.6666666666666666,
              "#ed7953"
             ],
             [
              0.7777777777777778,
              "#fb9f3a"
             ],
             [
              0.8888888888888888,
              "#fdca26"
             ],
             [
              1,
              "#f0f921"
             ]
            ],
            "type": "contour"
           }
          ],
          "contourcarpet": [
           {
            "colorbar": {
             "outlinewidth": 0,
             "ticks": ""
            },
            "type": "contourcarpet"
           }
          ],
          "heatmap": [
           {
            "colorbar": {
             "outlinewidth": 0,
             "ticks": ""
            },
            "colorscale": [
             [
              0,
              "#0d0887"
             ],
             [
              0.1111111111111111,
              "#46039f"
             ],
             [
              0.2222222222222222,
              "#7201a8"
             ],
             [
              0.3333333333333333,
              "#9c179e"
             ],
             [
              0.4444444444444444,
              "#bd3786"
             ],
             [
              0.5555555555555556,
              "#d8576b"
             ],
             [
              0.6666666666666666,
              "#ed7953"
             ],
             [
              0.7777777777777778,
              "#fb9f3a"
             ],
             [
              0.8888888888888888,
              "#fdca26"
             ],
             [
              1,
              "#f0f921"
             ]
            ],
            "type": "heatmap"
           }
          ],
          "histogram": [
           {
            "marker": {
             "pattern": {
              "fillmode": "overlay",
              "size": 10,
              "solidity": 0.2
             }
            },
            "type": "histogram"
           }
          ],
          "histogram2d": [
           {
            "colorbar": {
             "outlinewidth": 0,
             "ticks": ""
            },
            "colorscale": [
             [
              0,
              "#0d0887"
             ],
             [
              0.1111111111111111,
              "#46039f"
             ],
             [
              0.2222222222222222,
              "#7201a8"
             ],
             [
              0.3333333333333333,
              "#9c179e"
             ],
             [
              0.4444444444444444,
              "#bd3786"
             ],
             [
              0.5555555555555556,
              "#d8576b"
             ],
             [
              0.6666666666666666,
              "#ed7953"
             ],
             [
              0.7777777777777778,
              "#fb9f3a"
             ],
             [
              0.8888888888888888,
              "#fdca26"
             ],
             [
              1,
              "#f0f921"
             ]
            ],
            "type": "histogram2d"
           }
          ],
          "histogram2dcontour": [
           {
            "colorbar": {
             "outlinewidth": 0,
             "ticks": ""
            },
            "colorscale": [
             [
              0,
              "#0d0887"
             ],
             [
              0.1111111111111111,
              "#46039f"
             ],
             [
              0.2222222222222222,
              "#7201a8"
             ],
             [
              0.3333333333333333,
              "#9c179e"
             ],
             [
              0.4444444444444444,
              "#bd3786"
             ],
             [
              0.5555555555555556,
              "#d8576b"
             ],
             [
              0.6666666666666666,
              "#ed7953"
             ],
             [
              0.7777777777777778,
              "#fb9f3a"
             ],
             [
              0.8888888888888888,
              "#fdca26"
             ],
             [
              1,
              "#f0f921"
             ]
            ],
            "type": "histogram2dcontour"
           }
          ],
          "mesh3d": [
           {
            "colorbar": {
             "outlinewidth": 0,
             "ticks": ""
            },
            "type": "mesh3d"
           }
          ],
          "parcoords": [
           {
            "line": {
             "colorbar": {
              "outlinewidth": 0,
              "ticks": ""
             }
            },
            "type": "parcoords"
           }
          ],
          "pie": [
           {
            "automargin": true,
            "type": "pie"
           }
          ],
          "scatter": [
           {
            "fillpattern": {
             "fillmode": "overlay",
             "size": 10,
             "solidity": 0.2
            },
            "type": "scatter"
           }
          ],
          "scatter3d": [
           {
            "line": {
             "colorbar": {
              "outlinewidth": 0,
              "ticks": ""
             }
            },
            "marker": {
             "colorbar": {
              "outlinewidth": 0,
              "ticks": ""
             }
            },
            "type": "scatter3d"
           }
          ],
          "scattercarpet": [
           {
            "marker": {
             "colorbar": {
              "outlinewidth": 0,
              "ticks": ""
             }
            },
            "type": "scattercarpet"
           }
          ],
          "scattergeo": [
           {
            "marker": {
             "colorbar": {
              "outlinewidth": 0,
              "ticks": ""
             }
            },
            "type": "scattergeo"
           }
          ],
          "scattergl": [
           {
            "marker": {
             "colorbar": {
              "outlinewidth": 0,
              "ticks": ""
             }
            },
            "type": "scattergl"
           }
          ],
          "scattermap": [
           {
            "marker": {
             "colorbar": {
              "outlinewidth": 0,
              "ticks": ""
             }
            },
            "type": "scattermap"
           }
          ],
          "scattermapbox": [
           {
            "marker": {
             "colorbar": {
              "outlinewidth": 0,
              "ticks": ""
             }
            },
            "type": "scattermapbox"
           }
          ],
          "scatterpolar": [
           {
            "marker": {
             "colorbar": {
              "outlinewidth": 0,
              "ticks": ""
             }
            },
            "type": "scatterpolar"
           }
          ],
          "scatterpolargl": [
           {
            "marker": {
             "colorbar": {
              "outlinewidth": 0,
              "ticks": ""
             }
            },
            "type": "scatterpolargl"
           }
          ],
          "scatterternary": [
           {
            "marker": {
             "colorbar": {
              "outlinewidth": 0,
              "ticks": ""
             }
            },
            "type": "scatterternary"
           }
          ],
          "surface": [
           {
            "colorbar": {
             "outlinewidth": 0,
             "ticks": ""
            },
            "colorscale": [
             [
              0,
              "#0d0887"
             ],
             [
              0.1111111111111111,
              "#46039f"
             ],
             [
              0.2222222222222222,
              "#7201a8"
             ],
             [
              0.3333333333333333,
              "#9c179e"
             ],
             [
              0.4444444444444444,
              "#bd3786"
             ],
             [
              0.5555555555555556,
              "#d8576b"
             ],
             [
              0.6666666666666666,
              "#ed7953"
             ],
             [
              0.7777777777777778,
              "#fb9f3a"
             ],
             [
              0.8888888888888888,
              "#fdca26"
             ],
             [
              1,
              "#f0f921"
             ]
            ],
            "type": "surface"
           }
          ],
          "table": [
           {
            "cells": {
             "fill": {
              "color": "#EBF0F8"
             },
             "line": {
              "color": "white"
             }
            },
            "header": {
             "fill": {
              "color": "#C8D4E3"
             },
             "line": {
              "color": "white"
             }
            },
            "type": "table"
           }
          ]
         },
         "layout": {
          "annotationdefaults": {
           "arrowcolor": "#2a3f5f",
           "arrowhead": 0,
           "arrowwidth": 1
          },
          "autotypenumbers": "strict",
          "coloraxis": {
           "colorbar": {
            "outlinewidth": 0,
            "ticks": ""
           }
          },
          "colorscale": {
           "diverging": [
            [
             0,
             "#8e0152"
            ],
            [
             0.1,
             "#c51b7d"
            ],
            [
             0.2,
             "#de77ae"
            ],
            [
             0.3,
             "#f1b6da"
            ],
            [
             0.4,
             "#fde0ef"
            ],
            [
             0.5,
             "#f7f7f7"
            ],
            [
             0.6,
             "#e6f5d0"
            ],
            [
             0.7,
             "#b8e186"
            ],
            [
             0.8,
             "#7fbc41"
            ],
            [
             0.9,
             "#4d9221"
            ],
            [
             1,
             "#276419"
            ]
           ],
           "sequential": [
            [
             0,
             "#0d0887"
            ],
            [
             0.1111111111111111,
             "#46039f"
            ],
            [
             0.2222222222222222,
             "#7201a8"
            ],
            [
             0.3333333333333333,
             "#9c179e"
            ],
            [
             0.4444444444444444,
             "#bd3786"
            ],
            [
             0.5555555555555556,
             "#d8576b"
            ],
            [
             0.6666666666666666,
             "#ed7953"
            ],
            [
             0.7777777777777778,
             "#fb9f3a"
            ],
            [
             0.8888888888888888,
             "#fdca26"
            ],
            [
             1,
             "#f0f921"
            ]
           ],
           "sequentialminus": [
            [
             0,
             "#0d0887"
            ],
            [
             0.1111111111111111,
             "#46039f"
            ],
            [
             0.2222222222222222,
             "#7201a8"
            ],
            [
             0.3333333333333333,
             "#9c179e"
            ],
            [
             0.4444444444444444,
             "#bd3786"
            ],
            [
             0.5555555555555556,
             "#d8576b"
            ],
            [
             0.6666666666666666,
             "#ed7953"
            ],
            [
             0.7777777777777778,
             "#fb9f3a"
            ],
            [
             0.8888888888888888,
             "#fdca26"
            ],
            [
             1,
             "#f0f921"
            ]
           ]
          },
          "colorway": [
           "#636efa",
           "#EF553B",
           "#00cc96",
           "#ab63fa",
           "#FFA15A",
           "#19d3f3",
           "#FF6692",
           "#B6E880",
           "#FF97FF",
           "#FECB52"
          ],
          "font": {
           "color": "#2a3f5f"
          },
          "geo": {
           "bgcolor": "white",
           "lakecolor": "white",
           "landcolor": "#E5ECF6",
           "showlakes": true,
           "showland": true,
           "subunitcolor": "white"
          },
          "hoverlabel": {
           "align": "left"
          },
          "hovermode": "closest",
          "mapbox": {
           "style": "light"
          },
          "paper_bgcolor": "white",
          "plot_bgcolor": "#E5ECF6",
          "polar": {
           "angularaxis": {
            "gridcolor": "white",
            "linecolor": "white",
            "ticks": ""
           },
           "bgcolor": "#E5ECF6",
           "radialaxis": {
            "gridcolor": "white",
            "linecolor": "white",
            "ticks": ""
           }
          },
          "scene": {
           "xaxis": {
            "backgroundcolor": "#E5ECF6",
            "gridcolor": "white",
            "gridwidth": 2,
            "linecolor": "white",
            "showbackground": true,
            "ticks": "",
            "zerolinecolor": "white"
           },
           "yaxis": {
            "backgroundcolor": "#E5ECF6",
            "gridcolor": "white",
            "gridwidth": 2,
            "linecolor": "white",
            "showbackground": true,
            "ticks": "",
            "zerolinecolor": "white"
           },
           "zaxis": {
            "backgroundcolor": "#E5ECF6",
            "gridcolor": "white",
            "gridwidth": 2,
            "linecolor": "white",
            "showbackground": true,
            "ticks": "",
            "zerolinecolor": "white"
           }
          },
          "shapedefaults": {
           "line": {
            "color": "#2a3f5f"
           }
          },
          "ternary": {
           "aaxis": {
            "gridcolor": "white",
            "linecolor": "white",
            "ticks": ""
           },
           "baxis": {
            "gridcolor": "white",
            "linecolor": "white",
            "ticks": ""
           },
           "bgcolor": "#E5ECF6",
           "caxis": {
            "gridcolor": "white",
            "linecolor": "white",
            "ticks": ""
           }
          },
          "title": {
           "x": 0.05
          },
          "xaxis": {
           "automargin": true,
           "gridcolor": "white",
           "linecolor": "white",
           "ticks": "",
           "title": {
            "standoff": 15
           },
           "zerolinecolor": "white",
           "zerolinewidth": 2
          },
          "yaxis": {
           "automargin": true,
           "gridcolor": "white",
           "linecolor": "white",
           "ticks": "",
           "title": {
            "standoff": 15
           },
           "zerolinecolor": "white",
           "zerolinewidth": 2
          }
         }
        },
        "title": {
         "text": "쿵덕이 설문조사 응답자 기본 정보",
         "x": 0.5
        },
        "xaxis": {
         "anchor": "y",
         "domain": [
          0.55,
          1
         ],
         "tickangle": 45
        },
        "yaxis": {
         "anchor": "x",
         "domain": [
          0,
          1
         ]
        }
       }
      }
     },
     "metadata": {},
     "output_type": "display_data"
    },
    {
     "name": "stdout",
     "output_type": "stream",
     "text": [
      "📋 생활 상황별 상세 매핑:\n",
      "1. 관심있는 일반인: 22명\n",
      "   └ 원본: 특별히 위 상황에 해당되지는 않지만, 소음 문제에 관심이 있습니다.\n",
      "\n",
      "2. 라이프스타일 추구형: 21명\n",
      "   └ 원본: (라이프스타일 추구형) 집에 머무는 시간이 길고, 귀엽고 예쁜 인테리어 소품으로 공간을 꾸...\n",
      "\n",
      "3. 야간 소음 민감 직장인: 21명\n",
      "   └ 원본: (야간 소음 민감 직장인) 주로 퇴근 후 저녁 시간에 집에서 쉬는데, 이웃이나 룸메이트의 ...\n",
      "\n",
      "4. 소음 무자각자 가족: 17명\n",
      "   └ 원본: (소음 무자각자 가족) 제 발소리나 생활 습관이 다른 사람에게 피해를 줄까 봐 걱정되거나,...\n",
      "\n",
      "5. 어린이 양육 가정: 7명\n",
      "   └ 원본: (어린이 양육 가정) 미취학~초등학생 자녀를 키우고 있어, 아이들이 내는 소음이 항상 신경...\n",
      "\n",
      "👥 응답자 기본 정보 요약:\n",
      "• 전체 응답자: 89명\n",
      "• 20대: 69명 (77.5%)\n",
      "• 30대: 11명 (12.4%)\n",
      "• 40대: 4명 (4.5%)\n",
      "\n",
      "🏠 주요 타겟 세그먼트:\n",
      "• 라이프스타일 추구형: 21명 (23.6%)\n",
      "• 야간 소음 민감 직장인: 21명 (23.6%)\n",
      "• 소음 무자각자 가족: 17명 (19.1%)\n"
     ]
    }
   ],
   "source": [
    "# 응답자 연령대 분포 분석\n",
    "age_counts = df_clean['age_group'].value_counts().dropna()\n",
    "\n",
    "# 생활 상황별 분포 분석 \n",
    "life_situation_counts = df_clean['life_situation'].value_counts().dropna()\n",
    "\n",
    "# Plotly를 사용한 연령대 분포 시각화\n",
    "fig_demo = make_subplots(\n",
    "    rows=1, cols=2,\n",
    "    subplot_titles=('응답자 연령대 분포', '응답자 생활 상황 분포'),\n",
    "    specs=[[{\"type\": \"pie\"}, {\"type\": \"bar\"}]]\n",
    ")\n",
    "\n",
    "# 연령대 분포 파이차트\n",
    "fig_demo.add_trace(\n",
    "    go.Pie(\n",
    "        labels=age_counts.index,\n",
    "        values=age_counts.values,\n",
    "        hole=0.4,\n",
    "        textinfo='label+percent',\n",
    "        marker_colors=['#FF6B6B', '#4ECDC4', '#45B7D1', '#96CEB4', '#FFEAA7']\n",
    "    ),\n",
    "    row=1, col=1\n",
    ")\n",
    "\n",
    "# 생활 상황별 바차트 - 더 명확한 라벨 생성\n",
    "def create_clear_labels(original_text):\n",
    "    \"\"\"원본 텍스트를 더 명확하고 짧은 라벨로 변환\"\"\"\n",
    "    text = str(original_text)\n",
    "    if '어린이 양육' in text:\n",
    "        return '어린이 양육 가정'\n",
    "    elif '야간 소음' in text:\n",
    "        return '야간 소음 민감 직장인'\n",
    "    elif '라이프스타일' in text:\n",
    "        return '라이프스타일 추구형'\n",
    "    elif '소음 무자각' in text:\n",
    "        return '소음 무자각자 가족'\n",
    "    elif '특별히' in text:\n",
    "        return '관심있는 일반인'\n",
    "    elif '반려동물' in text:\n",
    "        return '반려동물 보유 가정'\n",
    "    elif '층간소음' in text:\n",
    "        return '층간소음 피해자'\n",
    "    else:\n",
    "        # 너무 긴 경우 앞의 20글자만 사용\n",
    "        return text[:20] + \"...\" if len(text) > 20 else text\n",
    "\n",
    "situation_labels = [create_clear_labels(x) for x in life_situation_counts.index]\n",
    "\n",
    "fig_demo.add_trace(\n",
    "    go.Bar(\n",
    "        x=situation_labels,\n",
    "        y=life_situation_counts.values,\n",
    "        marker_color='#FF6B6B',\n",
    "        text=life_situation_counts.values,\n",
    "        textposition='outside',\n",
    "        textfont=dict(size=12)\n",
    "    ),\n",
    "    row=1, col=2\n",
    ")\n",
    "\n",
    "# x축 라벨 회전으로 가독성 향상\n",
    "fig_demo.update_xaxes(tickangle=45, row=1, col=2)\n",
    "\n",
    "fig_demo.update_layout(\n",
    "    title_text=\"쿵덕이 설문조사 응답자 기본 정보\",\n",
    "    title_x=0.5,\n",
    "    height=500,\n",
    "    showlegend=False,\n",
    "    margin=dict(b=120)  # 하단 여백 증가로 라벨 공간 확보\n",
    ")\n",
    "\n",
    "fig_demo.show()\n",
    "\n",
    "# 원본 데이터와 함께 명확한 라벨 매핑 출력\n",
    "print(\"📋 생활 상황별 상세 매핑:\")\n",
    "for i, (original, label) in enumerate(zip(life_situation_counts.index, situation_labels)):\n",
    "    print(f\"{i+1}. {label}: {life_situation_counts.iloc[i]}명\")\n",
    "    print(f\"   └ 원본: {original[:50]}{'...' if len(str(original)) > 50 else ''}\")\n",
    "    print()\n",
    "\n",
    "# 기본 통계 요약\n",
    "print(\"👥 응답자 기본 정보 요약:\")\n",
    "print(f\"• 전체 응답자: {len(df_clean)}명\")\n",
    "print(f\"• 20대: {age_counts.get('20대', 0)}명 ({age_counts.get('20대', 0)/len(df_clean)*100:.1f}%)\")\n",
    "print(f\"• 30대: {age_counts.get('30대', 0)}명 ({age_counts.get('30대', 0)/len(df_clean)*100:.1f}%)\")\n",
    "print(f\"• 40대: {age_counts.get('40대', 0)}명 ({age_counts.get('40대', 0)/len(df_clean)*100:.1f}%)\")\n",
    "\n",
    "print(f\"\\n🏠 주요 타겟 세그먼트:\")\n",
    "for situation, count in life_situation_counts.head(4).items():\n",
    "    if '어린이 양육' in str(situation):\n",
    "        print(f\"• 어린이 양육 가정: {count}명 ({count/len(df_clean)*100:.1f}%)\")\n",
    "    elif '야간 소음' in str(situation):\n",
    "        print(f\"• 야간 소음 민감 직장인: {count}명 ({count/len(df_clean)*100:.1f}%)\")\n",
    "    elif '라이프스타일' in str(situation):\n",
    "        print(f\"• 라이프스타일 추구형: {count}명 ({count/len(df_clean)*100:.1f}%)\")\n",
    "    elif '소음 무자각' in str(situation):\n",
    "        print(f\"• 소음 무자각자 가족: {count}명 ({count/len(df_clean)*100:.1f}%)\")"
   ]
  },
  {
   "cell_type": "markdown",
   "id": "0efeb788",
   "metadata": {},
   "source": [
    "## 🔊 소음 경험 패턴 분석\n",
    "\n",
    "응답자들의 소음 불편 경험과 빈도, 그리고 소음 방지를 위한 노력을 분석합니다."
   ]
  },
  {
   "cell_type": "code",
   "execution_count": 12,
   "id": "5c49f735",
   "metadata": {},
   "outputs": [
    {
     "name": "stdout",
     "output_type": "stream",
     "text": [
      "🔍 연령대별 상세 분석:\n",
      "• 20대: 69명 (77.5%)\n",
      "• 30대 이상: 15명 (16.9%)\n"
     ]
    },
    {
     "data": {
      "application/vnd.plotly.v1+json": {
       "config": {
        "plotlyServerURL": "https://plot.ly"
       },
       "data": [
        {
         "domain": {
          "x": [
           0,
           0.45
          ],
          "y": [
           0.625,
           1
          ]
         },
         "hole": 0.4,
         "labels": [
          "예",
          "아니오"
         ],
         "marker": {
          "colors": [
           "#FF6B6B",
           "#4ECDC4"
          ]
         },
         "showlegend": true,
         "textfont": {
          "size": 14
         },
         "textinfo": "label+percent+value",
         "type": "pie",
         "values": {
          "bdata": "Pxo=",
          "dtype": "i1"
         }
        },
        {
         "marker": {
          "color": "#45B7D1"
         },
         "text": {
          "bdata": "AAAAAAAAO0AAAAAAAAAzQAAAAAAAACpAAAAAAAAAIkA=",
          "dtype": "f8"
         },
         "textfont": {
          "size": 12
         },
         "textposition": "outside",
         "type": "bar",
         "x": [
          "일주일에 1~3회",
          "한 달에 1회",
          "거의 매일",
          "한 달에 한 번 미만"
         ],
         "xaxis": "x",
         "y": {
          "bdata": "GxMNCQ==",
          "dtype": "i1"
         },
         "yaxis": "y"
        },
        {
         "domain": {
          "x": [
           0,
           0.45
          ],
          "y": [
           0,
           0.375
          ]
         },
         "hole": 0.4,
         "labels": [
          "가끔 인식",
          "자주 인식",
          "거의 인식 안함"
         ],
         "marker": {
          "colors": [
           "#96CEB4",
           "#FFEAA7",
           "#DDA0DD",
           "#FFB6C1",
           "#98FB98"
          ]
         },
         "showlegend": true,
         "textfont": {
          "size": 12
         },
         "textinfo": "label+percent",
         "type": "pie",
         "values": {
          "bdata": "LCQI",
          "dtype": "i1"
         }
        },
        {
         "marker": {
          "color": [
           "#FF6B6B",
           "#45B7D1"
          ]
         },
         "text": [
          "66.7%",
          "93.3%"
         ],
         "textfont": {
          "size": 14
         },
         "textposition": "outside",
         "type": "bar",
         "x": [
          "20대",
          "30대 이상"
         ],
         "xaxis": "x2",
         "y": [
          66.66666666666666,
          93.33333333333333
         ],
         "yaxis": "y2"
        }
       ],
       "layout": {
        "annotations": [
         {
          "font": {
           "size": 16
          },
          "showarrow": false,
          "text": "소음 불편 경험 여부",
          "x": 0.225,
          "xanchor": "center",
          "xref": "paper",
          "y": 1,
          "yanchor": "bottom",
          "yref": "paper"
         },
         {
          "font": {
           "size": 16
          },
          "showarrow": false,
          "text": "소음 불편 빈도",
          "x": 0.775,
          "xanchor": "center",
          "xref": "paper",
          "y": 1,
          "yanchor": "bottom",
          "yref": "paper"
         },
         {
          "font": {
           "size": 16
          },
          "showarrow": false,
          "text": "자기 소음 인식 정도",
          "x": 0.225,
          "xanchor": "center",
          "xref": "paper",
          "y": 0.375,
          "yanchor": "bottom",
          "yref": "paper"
         },
         {
          "font": {
           "size": 16
          },
          "showarrow": false,
          "text": "연령대별 소음 경험 비교",
          "x": 0.775,
          "xanchor": "center",
          "xref": "paper",
          "y": 0.375,
          "yanchor": "bottom",
          "yref": "paper"
         }
        ],
        "font": {
         "size": 12
        },
        "height": 900,
        "margin": {
         "b": 100,
         "t": 100
        },
        "showlegend": false,
        "template": {
         "data": {
          "bar": [
           {
            "error_x": {
             "color": "#2a3f5f"
            },
            "error_y": {
             "color": "#2a3f5f"
            },
            "marker": {
             "line": {
              "color": "#E5ECF6",
              "width": 0.5
             },
             "pattern": {
              "fillmode": "overlay",
              "size": 10,
              "solidity": 0.2
             }
            },
            "type": "bar"
           }
          ],
          "barpolar": [
           {
            "marker": {
             "line": {
              "color": "#E5ECF6",
              "width": 0.5
             },
             "pattern": {
              "fillmode": "overlay",
              "size": 10,
              "solidity": 0.2
             }
            },
            "type": "barpolar"
           }
          ],
          "carpet": [
           {
            "aaxis": {
             "endlinecolor": "#2a3f5f",
             "gridcolor": "white",
             "linecolor": "white",
             "minorgridcolor": "white",
             "startlinecolor": "#2a3f5f"
            },
            "baxis": {
             "endlinecolor": "#2a3f5f",
             "gridcolor": "white",
             "linecolor": "white",
             "minorgridcolor": "white",
             "startlinecolor": "#2a3f5f"
            },
            "type": "carpet"
           }
          ],
          "choropleth": [
           {
            "colorbar": {
             "outlinewidth": 0,
             "ticks": ""
            },
            "type": "choropleth"
           }
          ],
          "contour": [
           {
            "colorbar": {
             "outlinewidth": 0,
             "ticks": ""
            },
            "colorscale": [
             [
              0,
              "#0d0887"
             ],
             [
              0.1111111111111111,
              "#46039f"
             ],
             [
              0.2222222222222222,
              "#7201a8"
             ],
             [
              0.3333333333333333,
              "#9c179e"
             ],
             [
              0.4444444444444444,
              "#bd3786"
             ],
             [
              0.5555555555555556,
              "#d8576b"
             ],
             [
              0.6666666666666666,
              "#ed7953"
             ],
             [
              0.7777777777777778,
              "#fb9f3a"
             ],
             [
              0.8888888888888888,
              "#fdca26"
             ],
             [
              1,
              "#f0f921"
             ]
            ],
            "type": "contour"
           }
          ],
          "contourcarpet": [
           {
            "colorbar": {
             "outlinewidth": 0,
             "ticks": ""
            },
            "type": "contourcarpet"
           }
          ],
          "heatmap": [
           {
            "colorbar": {
             "outlinewidth": 0,
             "ticks": ""
            },
            "colorscale": [
             [
              0,
              "#0d0887"
             ],
             [
              0.1111111111111111,
              "#46039f"
             ],
             [
              0.2222222222222222,
              "#7201a8"
             ],
             [
              0.3333333333333333,
              "#9c179e"
             ],
             [
              0.4444444444444444,
              "#bd3786"
             ],
             [
              0.5555555555555556,
              "#d8576b"
             ],
             [
              0.6666666666666666,
              "#ed7953"
             ],
             [
              0.7777777777777778,
              "#fb9f3a"
             ],
             [
              0.8888888888888888,
              "#fdca26"
             ],
             [
              1,
              "#f0f921"
             ]
            ],
            "type": "heatmap"
           }
          ],
          "histogram": [
           {
            "marker": {
             "pattern": {
              "fillmode": "overlay",
              "size": 10,
              "solidity": 0.2
             }
            },
            "type": "histogram"
           }
          ],
          "histogram2d": [
           {
            "colorbar": {
             "outlinewidth": 0,
             "ticks": ""
            },
            "colorscale": [
             [
              0,
              "#0d0887"
             ],
             [
              0.1111111111111111,
              "#46039f"
             ],
             [
              0.2222222222222222,
              "#7201a8"
             ],
             [
              0.3333333333333333,
              "#9c179e"
             ],
             [
              0.4444444444444444,
              "#bd3786"
             ],
             [
              0.5555555555555556,
              "#d8576b"
             ],
             [
              0.6666666666666666,
              "#ed7953"
             ],
             [
              0.7777777777777778,
              "#fb9f3a"
             ],
             [
              0.8888888888888888,
              "#fdca26"
             ],
             [
              1,
              "#f0f921"
             ]
            ],
            "type": "histogram2d"
           }
          ],
          "histogram2dcontour": [
           {
            "colorbar": {
             "outlinewidth": 0,
             "ticks": ""
            },
            "colorscale": [
             [
              0,
              "#0d0887"
             ],
             [
              0.1111111111111111,
              "#46039f"
             ],
             [
              0.2222222222222222,
              "#7201a8"
             ],
             [
              0.3333333333333333,
              "#9c179e"
             ],
             [
              0.4444444444444444,
              "#bd3786"
             ],
             [
              0.5555555555555556,
              "#d8576b"
             ],
             [
              0.6666666666666666,
              "#ed7953"
             ],
             [
              0.7777777777777778,
              "#fb9f3a"
             ],
             [
              0.8888888888888888,
              "#fdca26"
             ],
             [
              1,
              "#f0f921"
             ]
            ],
            "type": "histogram2dcontour"
           }
          ],
          "mesh3d": [
           {
            "colorbar": {
             "outlinewidth": 0,
             "ticks": ""
            },
            "type": "mesh3d"
           }
          ],
          "parcoords": [
           {
            "line": {
             "colorbar": {
              "outlinewidth": 0,
              "ticks": ""
             }
            },
            "type": "parcoords"
           }
          ],
          "pie": [
           {
            "automargin": true,
            "type": "pie"
           }
          ],
          "scatter": [
           {
            "fillpattern": {
             "fillmode": "overlay",
             "size": 10,
             "solidity": 0.2
            },
            "type": "scatter"
           }
          ],
          "scatter3d": [
           {
            "line": {
             "colorbar": {
              "outlinewidth": 0,
              "ticks": ""
             }
            },
            "marker": {
             "colorbar": {
              "outlinewidth": 0,
              "ticks": ""
             }
            },
            "type": "scatter3d"
           }
          ],
          "scattercarpet": [
           {
            "marker": {
             "colorbar": {
              "outlinewidth": 0,
              "ticks": ""
             }
            },
            "type": "scattercarpet"
           }
          ],
          "scattergeo": [
           {
            "marker": {
             "colorbar": {
              "outlinewidth": 0,
              "ticks": ""
             }
            },
            "type": "scattergeo"
           }
          ],
          "scattergl": [
           {
            "marker": {
             "colorbar": {
              "outlinewidth": 0,
              "ticks": ""
             }
            },
            "type": "scattergl"
           }
          ],
          "scattermap": [
           {
            "marker": {
             "colorbar": {
              "outlinewidth": 0,
              "ticks": ""
             }
            },
            "type": "scattermap"
           }
          ],
          "scattermapbox": [
           {
            "marker": {
             "colorbar": {
              "outlinewidth": 0,
              "ticks": ""
             }
            },
            "type": "scattermapbox"
           }
          ],
          "scatterpolar": [
           {
            "marker": {
             "colorbar": {
              "outlinewidth": 0,
              "ticks": ""
             }
            },
            "type": "scatterpolar"
           }
          ],
          "scatterpolargl": [
           {
            "marker": {
             "colorbar": {
              "outlinewidth": 0,
              "ticks": ""
             }
            },
            "type": "scatterpolargl"
           }
          ],
          "scatterternary": [
           {
            "marker": {
             "colorbar": {
              "outlinewidth": 0,
              "ticks": ""
             }
            },
            "type": "scatterternary"
           }
          ],
          "surface": [
           {
            "colorbar": {
             "outlinewidth": 0,
             "ticks": ""
            },
            "colorscale": [
             [
              0,
              "#0d0887"
             ],
             [
              0.1111111111111111,
              "#46039f"
             ],
             [
              0.2222222222222222,
              "#7201a8"
             ],
             [
              0.3333333333333333,
              "#9c179e"
             ],
             [
              0.4444444444444444,
              "#bd3786"
             ],
             [
              0.5555555555555556,
              "#d8576b"
             ],
             [
              0.6666666666666666,
              "#ed7953"
             ],
             [
              0.7777777777777778,
              "#fb9f3a"
             ],
             [
              0.8888888888888888,
              "#fdca26"
             ],
             [
              1,
              "#f0f921"
             ]
            ],
            "type": "surface"
           }
          ],
          "table": [
           {
            "cells": {
             "fill": {
              "color": "#EBF0F8"
             },
             "line": {
              "color": "white"
             }
            },
            "header": {
             "fill": {
              "color": "#C8D4E3"
             },
             "line": {
              "color": "white"
             }
            },
            "type": "table"
           }
          ]
         },
         "layout": {
          "annotationdefaults": {
           "arrowcolor": "#2a3f5f",
           "arrowhead": 0,
           "arrowwidth": 1
          },
          "autotypenumbers": "strict",
          "coloraxis": {
           "colorbar": {
            "outlinewidth": 0,
            "ticks": ""
           }
          },
          "colorscale": {
           "diverging": [
            [
             0,
             "#8e0152"
            ],
            [
             0.1,
             "#c51b7d"
            ],
            [
             0.2,
             "#de77ae"
            ],
            [
             0.3,
             "#f1b6da"
            ],
            [
             0.4,
             "#fde0ef"
            ],
            [
             0.5,
             "#f7f7f7"
            ],
            [
             0.6,
             "#e6f5d0"
            ],
            [
             0.7,
             "#b8e186"
            ],
            [
             0.8,
             "#7fbc41"
            ],
            [
             0.9,
             "#4d9221"
            ],
            [
             1,
             "#276419"
            ]
           ],
           "sequential": [
            [
             0,
             "#0d0887"
            ],
            [
             0.1111111111111111,
             "#46039f"
            ],
            [
             0.2222222222222222,
             "#7201a8"
            ],
            [
             0.3333333333333333,
             "#9c179e"
            ],
            [
             0.4444444444444444,
             "#bd3786"
            ],
            [
             0.5555555555555556,
             "#d8576b"
            ],
            [
             0.6666666666666666,
             "#ed7953"
            ],
            [
             0.7777777777777778,
             "#fb9f3a"
            ],
            [
             0.8888888888888888,
             "#fdca26"
            ],
            [
             1,
             "#f0f921"
            ]
           ],
           "sequentialminus": [
            [
             0,
             "#0d0887"
            ],
            [
             0.1111111111111111,
             "#46039f"
            ],
            [
             0.2222222222222222,
             "#7201a8"
            ],
            [
             0.3333333333333333,
             "#9c179e"
            ],
            [
             0.4444444444444444,
             "#bd3786"
            ],
            [
             0.5555555555555556,
             "#d8576b"
            ],
            [
             0.6666666666666666,
             "#ed7953"
            ],
            [
             0.7777777777777778,
             "#fb9f3a"
            ],
            [
             0.8888888888888888,
             "#fdca26"
            ],
            [
             1,
             "#f0f921"
            ]
           ]
          },
          "colorway": [
           "#636efa",
           "#EF553B",
           "#00cc96",
           "#ab63fa",
           "#FFA15A",
           "#19d3f3",
           "#FF6692",
           "#B6E880",
           "#FF97FF",
           "#FECB52"
          ],
          "font": {
           "color": "#2a3f5f"
          },
          "geo": {
           "bgcolor": "white",
           "lakecolor": "white",
           "landcolor": "#E5ECF6",
           "showlakes": true,
           "showland": true,
           "subunitcolor": "white"
          },
          "hoverlabel": {
           "align": "left"
          },
          "hovermode": "closest",
          "mapbox": {
           "style": "light"
          },
          "paper_bgcolor": "white",
          "plot_bgcolor": "#E5ECF6",
          "polar": {
           "angularaxis": {
            "gridcolor": "white",
            "linecolor": "white",
            "ticks": ""
           },
           "bgcolor": "#E5ECF6",
           "radialaxis": {
            "gridcolor": "white",
            "linecolor": "white",
            "ticks": ""
           }
          },
          "scene": {
           "xaxis": {
            "backgroundcolor": "#E5ECF6",
            "gridcolor": "white",
            "gridwidth": 2,
            "linecolor": "white",
            "showbackground": true,
            "ticks": "",
            "zerolinecolor": "white"
           },
           "yaxis": {
            "backgroundcolor": "#E5ECF6",
            "gridcolor": "white",
            "gridwidth": 2,
            "linecolor": "white",
            "showbackground": true,
            "ticks": "",
            "zerolinecolor": "white"
           },
           "zaxis": {
            "backgroundcolor": "#E5ECF6",
            "gridcolor": "white",
            "gridwidth": 2,
            "linecolor": "white",
            "showbackground": true,
            "ticks": "",
            "zerolinecolor": "white"
           }
          },
          "shapedefaults": {
           "line": {
            "color": "#2a3f5f"
           }
          },
          "ternary": {
           "aaxis": {
            "gridcolor": "white",
            "linecolor": "white",
            "ticks": ""
           },
           "baxis": {
            "gridcolor": "white",
            "linecolor": "white",
            "ticks": ""
           },
           "bgcolor": "#E5ECF6",
           "caxis": {
            "gridcolor": "white",
            "linecolor": "white",
            "ticks": ""
           }
          },
          "title": {
           "x": 0.05
          },
          "xaxis": {
           "automargin": true,
           "gridcolor": "white",
           "linecolor": "white",
           "ticks": "",
           "title": {
            "standoff": 15
           },
           "zerolinecolor": "white",
           "zerolinewidth": 2
          },
          "yaxis": {
           "automargin": true,
           "gridcolor": "white",
           "linecolor": "white",
           "ticks": "",
           "title": {
            "standoff": 15
           },
           "zerolinecolor": "white",
           "zerolinewidth": 2
          }
         }
        },
        "title": {
         "text": "소음 경험 및 인식 패턴 분석",
         "x": 0.5
        },
        "xaxis": {
         "anchor": "y",
         "domain": [
          0.55,
          1
         ],
         "tickangle": 45
        },
        "xaxis2": {
         "anchor": "y2",
         "domain": [
          0.55,
          1
         ],
         "tickangle": 0
        },
        "yaxis": {
         "anchor": "x",
         "domain": [
          0.625,
          1
         ]
        },
        "yaxis2": {
         "anchor": "x2",
         "domain": [
          0,
          0.375
         ]
        }
       }
      }
     },
     "metadata": {},
     "output_type": "display_data"
    },
    {
     "name": "stdout",
     "output_type": "stream",
     "text": [
      "\n",
      "🎯 30대 이상 연령층 상세 분석:\n",
      "• 총 인원: 15명\n",
      "• 소음 경험률: 93.3%\n",
      "• 주요 생활 상황:\n",
      "  - 야간 소음 민감: 8명\n",
      "  - 라이프스타일 추구: 2명\n",
      "  - 특별히 위 상황에 해당되지는 않지만,...: 2명\n",
      "• 쿵덕이 이용 의향: 53.3%\n",
      "• 선호 가격대: 1~2 만원 (9명)\n",
      "\n",
      "🔊 소음 경험 패턴 분석 결과:\n",
      "• 전체 소음 불편 경험자: 63명 (70.8%)\n",
      "• 20대 소음 경험률: 66.7%\n",
      "• 30대 이상 소음 경험률: 93.3%\n",
      "• 가장 빈번한 소음 경험: 일주일에 1~3회 (27명)\n",
      "• 자기 소음을 인식하는 사람: 80명 (89.9%)\n",
      "\n",
      "💡 연령대별 인사이트:\n",
      "• 20대: 높은 비율이지만 가격 민감도 높음\n",
      "• 30대 이상: 상대적으로 낮은 비율이지만 구매력과 진지한 고려 가능성\n",
      "• 양방향 소통 기능의 세대별 어필 포인트 차별화 필요\n",
      "• '쿵덕이'의 양방향 소통 기능 효과성 입증\n"
     ]
    }
   ],
   "source": [
    "# 소음 경험 및 빈도 분석\n",
    "noise_exp_counts = df_clean['noise_experience'].value_counts().dropna()\n",
    "noise_freq_counts = df_clean['noise_frequency'].value_counts().dropna()\n",
    "\n",
    "# 자기 인식 정도 분석\n",
    "self_awareness_counts = df_clean['self_awareness'].value_counts().dropna()\n",
    "\n",
    "# 30대 이상 연령층 분석을 위한 데이터 준비\n",
    "df_clean['age_group_simplified'] = df_clean['age_group'].fillna('미응답')\n",
    "age_30_plus = df_clean[df_clean['age_group'].isin(['30대', '40대', '50대', '60대 이상'])]\n",
    "age_20s = df_clean[df_clean['age_group'] == '20대']\n",
    "\n",
    "print(\"🔍 연령대별 상세 분석:\")\n",
    "print(f\"• 20대: {len(age_20s)}명 ({len(age_20s)/len(df_clean)*100:.1f}%)\")\n",
    "print(f\"• 30대 이상: {len(age_30_plus)}명 ({len(age_30_plus)/len(df_clean)*100:.1f}%)\")\n",
    "\n",
    "# 소음 경험 패턴 시각화 (더 큰 크기와 명확한 라벨)\n",
    "fig_noise = make_subplots(\n",
    "    rows=2, cols=2,\n",
    "    subplot_titles=(\n",
    "        '소음 불편 경험 여부', \n",
    "        '소음 불편 빈도', \n",
    "        '자기 소음 인식 정도', \n",
    "        '연령대별 소음 경험 비교'\n",
    "    ),\n",
    "    specs=[[{\"type\": \"pie\"}, {\"type\": \"bar\"}],\n",
    "           [{\"type\": \"pie\"}, {\"type\": \"bar\"}]]\n",
    ")\n",
    "\n",
    "# 1. 소음 경험 여부 (라벨 명시)\n",
    "fig_noise.add_trace(\n",
    "    go.Pie(\n",
    "        labels=noise_exp_counts.index,\n",
    "        values=noise_exp_counts.values,\n",
    "        hole=0.4,\n",
    "        marker_colors=['#FF6B6B', '#4ECDC4'],\n",
    "        textinfo='label+percent+value',\n",
    "        textfont=dict(size=14),\n",
    "        showlegend=True\n",
    "    ),\n",
    "    row=1, col=1\n",
    ")\n",
    "\n",
    "# 2. 소음 빈도 (라벨 회전)\n",
    "fig_noise.add_trace(\n",
    "    go.Bar(\n",
    "        x=noise_freq_counts.index,\n",
    "        y=noise_freq_counts.values,\n",
    "        marker_color='#45B7D1',\n",
    "        text=noise_freq_counts.values,\n",
    "        textposition='outside',\n",
    "        textfont=dict(size=12)\n",
    "    ),\n",
    "    row=1, col=2\n",
    ")\n",
    "\n",
    "# 3. 자기 인식 정도 (더 명확한 라벨)\n",
    "self_awareness_labels = []\n",
    "for label in self_awareness_counts.index:\n",
    "    if '자주' in str(label):\n",
    "        self_awareness_labels.append('자주 인식')\n",
    "    elif '가끔' in str(label):\n",
    "        self_awareness_labels.append('가끔 인식')\n",
    "    elif '거의 없다' in str(label):\n",
    "        self_awareness_labels.append('거의 인식 안함')\n",
    "    else:\n",
    "        self_awareness_labels.append(str(label)[:10])\n",
    "\n",
    "fig_noise.add_trace(\n",
    "    go.Pie(\n",
    "        labels=self_awareness_labels,\n",
    "        values=self_awareness_counts.values,\n",
    "        hole=0.4,\n",
    "        marker_colors=['#96CEB4', '#FFEAA7', '#DDA0DD', '#FFB6C1', '#98FB98'],\n",
    "        textinfo='label+percent',\n",
    "        textfont=dict(size=12),\n",
    "        showlegend=True\n",
    "    ),\n",
    "    row=2, col=1\n",
    ")\n",
    "\n",
    "# 4. 연령대별 소음 경험 비교 (20대 vs 30대 이상)\n",
    "age_comparison_data = []\n",
    "age_comparison_labels = []\n",
    "\n",
    "# 20대 소음 경험률\n",
    "age_20s_noise = age_20s[age_20s['noise_experience'] == '예']\n",
    "age_20s_rate = len(age_20s_noise) / len(age_20s) * 100 if len(age_20s) > 0 else 0\n",
    "\n",
    "# 30대 이상 소음 경험률\n",
    "age_30_plus_noise = age_30_plus[age_30_plus['noise_experience'] == '예']\n",
    "age_30_plus_rate = len(age_30_plus_noise) / len(age_30_plus) * 100 if len(age_30_plus) > 0 else 0\n",
    "\n",
    "age_comparison_data = [age_20s_rate, age_30_plus_rate]\n",
    "age_comparison_labels = ['20대', '30대 이상']\n",
    "\n",
    "fig_noise.add_trace(\n",
    "    go.Bar(\n",
    "        x=age_comparison_labels,\n",
    "        y=age_comparison_data,\n",
    "        marker_color=['#FF6B6B', '#45B7D1'],\n",
    "        text=[f'{rate:.1f}%' for rate in age_comparison_data],\n",
    "        textposition='outside',\n",
    "        textfont=dict(size=14)\n",
    "    ),\n",
    "    row=2, col=2\n",
    ")\n",
    "\n",
    "# x축 라벨 회전 설정\n",
    "fig_noise.update_xaxes(tickangle=45, row=1, col=2)\n",
    "fig_noise.update_xaxes(tickangle=0, row=2, col=2)\n",
    "\n",
    "fig_noise.update_layout(\n",
    "    title_text=\"소음 경험 및 인식 패턴 분석\",\n",
    "    title_x=0.5,\n",
    "    height=900,\n",
    "    showlegend=False,\n",
    "    margin=dict(b=100, t=100),\n",
    "    font=dict(size=12)\n",
    ")\n",
    "\n",
    "fig_noise.show()\n",
    "\n",
    "# 30대 이상 연령층 상세 분석\n",
    "print(\"\\n🎯 30대 이상 연령층 상세 분석:\")\n",
    "print(f\"• 총 인원: {len(age_30_plus)}명\")\n",
    "print(f\"• 소음 경험률: {age_30_plus_rate:.1f}%\")\n",
    "\n",
    "if len(age_30_plus) > 0:\n",
    "    # 30대 이상의 생활 상황 분포\n",
    "    age_30_plus_situations = age_30_plus['life_situation'].value_counts().dropna()\n",
    "    print(f\"• 주요 생활 상황:\")\n",
    "    for situation, count in age_30_plus_situations.head(3).items():\n",
    "        if '어린이 양육' in str(situation):\n",
    "            print(f\"  - 어린이 양육 가정: {count}명\")\n",
    "        elif '야간 소음' in str(situation):\n",
    "            print(f\"  - 야간 소음 민감: {count}명\")\n",
    "        elif '라이프스타일' in str(situation):\n",
    "            print(f\"  - 라이프스타일 추구: {count}명\")\n",
    "        else:\n",
    "            short_desc = str(situation)[:20] + \"...\" if len(str(situation)) > 20 else str(situation)\n",
    "            print(f\"  - {short_desc}: {count}명\")\n",
    "    \n",
    "    # 30대 이상의 제품 수용도\n",
    "    age_30_plus_intention = age_30_plus[age_30_plus['usage_intention'].str.contains('있다', na=False)]\n",
    "    age_30_plus_intention_rate = len(age_30_plus_intention) / len(age_30_plus) * 100\n",
    "    print(f\"• 쿵덕이 이용 의향: {age_30_plus_intention_rate:.1f}%\")\n",
    "    \n",
    "    # 30대 이상의 가격 선호도\n",
    "    age_30_plus_price = age_30_plus['price_preference'].value_counts().dropna()\n",
    "    if len(age_30_plus_price) > 0:\n",
    "        print(f\"• 선호 가격대: {age_30_plus_price.index[0]} ({age_30_plus_price.values[0]}명)\")\n",
    "\n",
    "# 소음 경험 분석 결과 요약\n",
    "noise_exp_yes = noise_exp_counts.get('예', 0)\n",
    "noise_exp_rate = (noise_exp_yes / len(df_clean)) * 100\n",
    "\n",
    "print(f\"\\n🔊 소음 경험 패턴 분석 결과:\")\n",
    "print(f\"• 전체 소음 불편 경험자: {noise_exp_yes}명 ({noise_exp_rate:.1f}%)\")\n",
    "print(f\"• 20대 소음 경험률: {age_20s_rate:.1f}%\")\n",
    "print(f\"• 30대 이상 소음 경험률: {age_30_plus_rate:.1f}%\")\n",
    "print(f\"• 가장 빈번한 소음 경험: {noise_freq_counts.index[0]} ({noise_freq_counts.values[0]}명)\")\n",
    "\n",
    "self_aware_positive = df_clean[df_clean['self_awareness'].isin(['자주 있다.', '가끔 있다.'])].shape[0]\n",
    "self_aware_rate = (self_aware_positive / len(df_clean)) * 100\n",
    "print(f\"• 자기 소음을 인식하는 사람: {self_aware_positive}명 ({self_aware_rate:.1f}%)\")\n",
    "\n",
    "print(f\"\\n💡 연령대별 인사이트:\")\n",
    "print(f\"• 20대: 높은 비율이지만 가격 민감도 높음\")\n",
    "print(f\"• 30대 이상: 상대적으로 낮은 비율이지만 구매력과 진지한 고려 가능성\")\n",
    "print(f\"• 양방향 소통 기능의 세대별 어필 포인트 차별화 필요\")\n",
    "print(f\"• '쿵덕이'의 양방향 소통 기능 효과성 입증\")"
   ]
  },
  {
   "cell_type": "markdown",
   "id": "44fd7e19",
   "metadata": {},
   "source": [
    "## 💡 서비스 선호도 및 구매 의향 분석\n",
    "\n",
    "쿵덕이 서비스에 대한 기대 효과, 매력적인 기능, 구매 의향을 종합적으로 분석합니다."
   ]
  },
  {
   "cell_type": "code",
   "execution_count": 14,
   "id": "3c96b2eb",
   "metadata": {},
   "outputs": [
    {
     "data": {
      "application/vnd.plotly.v1+json": {
       "config": {
        "plotlyServerURL": "https://plot.ly"
       },
       "data": [
        {
         "domain": {
          "x": [
           0,
           0.45
          ],
          "y": [
           0.625,
           1
          ]
         },
         "hole": 0.4,
         "labels": [
          "효과적",
          "매우 효과적",
          "보통",
          "효과 의문",
          "효과 의문"
         ],
         "marker": {
          "colors": [
           "#28a745",
           "#17a2b8",
           "#ffc107",
           "#dc3545"
          ]
         },
         "showlegend": true,
         "textfont": {
          "size": 12
         },
         "textinfo": "label+percent+value",
         "type": "pie",
         "values": {
          "bdata": "Mw8OBwE=",
          "dtype": "i1"
         }
        },
        {
         "domain": {
          "x": [
           0.55,
           1
          ],
          "y": [
           0.625,
           1
          ]
         },
         "hole": 0.4,
         "labels": [
          "관심 있음",
          "보통이다.",
          "관심 적음",
          "매우 관심",
          "관심 없음"
         ],
         "marker": {
          "colors": [
           "#FF6B6B",
           "#4ECDC4",
           "#45B7D1",
           "#96CEB4",
           "#FFEAA7"
          ]
         },
         "showlegend": true,
         "textfont": {
          "size": 12
         },
         "textinfo": "label+percent+value",
         "type": "pie",
         "values": {
          "bdata": "HRwQCwQ=",
          "dtype": "i1"
         }
        },
        {
         "marker": {
          "color": "#45B7D1"
         },
         "text": [
          "48",
          "35",
          "4",
          "1"
         ],
         "textfont": {
          "size": 14
         },
         "textposition": "outside",
         "type": "bar",
         "x": [
          "1~2 만원",
          "2~3 만원",
          "4~5 만원",
          "5만원 이상"
         ],
         "xaxis": "x",
         "y": [
          48,
          35,
          4,
          1
         ],
         "yaxis": "y"
        },
        {
         "domain": {
          "x": [
           0.55,
           1
          ],
          "y": [
           0,
           0.375
          ]
         },
         "hole": 0.4,
         "labels": [
          "선물 의향 있음",
          "선물 의향 없음"
         ],
         "marker": {
          "colors": [
           "#FF6B6B",
           "#4ECDC4",
           "#45B7D1"
          ]
         },
         "showlegend": true,
         "textfont": {
          "size": 12
         },
         "textinfo": "label+percent+value",
         "type": "pie",
         "values": {
          "bdata": "QxU=",
          "dtype": "i1"
         }
        }
       ],
       "layout": {
        "annotations": [
         {
          "font": {
           "size": 16
          },
          "showarrow": false,
          "text": "쿵덕이 효과성 기대",
          "x": 0.225,
          "xanchor": "center",
          "xref": "paper",
          "y": 1,
          "yanchor": "bottom",
          "yref": "paper"
         },
         {
          "font": {
           "size": 16
          },
          "showarrow": false,
          "text": "서비스 이용 의향",
          "x": 0.775,
          "xanchor": "center",
          "xref": "paper",
          "y": 1,
          "yanchor": "bottom",
          "yref": "paper"
         },
         {
          "font": {
           "size": 16
          },
          "showarrow": false,
          "text": "가격대 선호도",
          "x": 0.225,
          "xanchor": "center",
          "xref": "paper",
          "y": 0.375,
          "yanchor": "bottom",
          "yref": "paper"
         },
         {
          "font": {
           "size": 16
          },
          "showarrow": false,
          "text": "선물 의향",
          "x": 0.775,
          "xanchor": "center",
          "xref": "paper",
          "y": 0.375,
          "yanchor": "bottom",
          "yref": "paper"
         }
        ],
        "font": {
         "size": 12
        },
        "height": 900,
        "margin": {
         "b": 120,
         "t": 100
        },
        "showlegend": false,
        "template": {
         "data": {
          "bar": [
           {
            "error_x": {
             "color": "#2a3f5f"
            },
            "error_y": {
             "color": "#2a3f5f"
            },
            "marker": {
             "line": {
              "color": "#E5ECF6",
              "width": 0.5
             },
             "pattern": {
              "fillmode": "overlay",
              "size": 10,
              "solidity": 0.2
             }
            },
            "type": "bar"
           }
          ],
          "barpolar": [
           {
            "marker": {
             "line": {
              "color": "#E5ECF6",
              "width": 0.5
             },
             "pattern": {
              "fillmode": "overlay",
              "size": 10,
              "solidity": 0.2
             }
            },
            "type": "barpolar"
           }
          ],
          "carpet": [
           {
            "aaxis": {
             "endlinecolor": "#2a3f5f",
             "gridcolor": "white",
             "linecolor": "white",
             "minorgridcolor": "white",
             "startlinecolor": "#2a3f5f"
            },
            "baxis": {
             "endlinecolor": "#2a3f5f",
             "gridcolor": "white",
             "linecolor": "white",
             "minorgridcolor": "white",
             "startlinecolor": "#2a3f5f"
            },
            "type": "carpet"
           }
          ],
          "choropleth": [
           {
            "colorbar": {
             "outlinewidth": 0,
             "ticks": ""
            },
            "type": "choropleth"
           }
          ],
          "contour": [
           {
            "colorbar": {
             "outlinewidth": 0,
             "ticks": ""
            },
            "colorscale": [
             [
              0,
              "#0d0887"
             ],
             [
              0.1111111111111111,
              "#46039f"
             ],
             [
              0.2222222222222222,
              "#7201a8"
             ],
             [
              0.3333333333333333,
              "#9c179e"
             ],
             [
              0.4444444444444444,
              "#bd3786"
             ],
             [
              0.5555555555555556,
              "#d8576b"
             ],
             [
              0.6666666666666666,
              "#ed7953"
             ],
             [
              0.7777777777777778,
              "#fb9f3a"
             ],
             [
              0.8888888888888888,
              "#fdca26"
             ],
             [
              1,
              "#f0f921"
             ]
            ],
            "type": "contour"
           }
          ],
          "contourcarpet": [
           {
            "colorbar": {
             "outlinewidth": 0,
             "ticks": ""
            },
            "type": "contourcarpet"
           }
          ],
          "heatmap": [
           {
            "colorbar": {
             "outlinewidth": 0,
             "ticks": ""
            },
            "colorscale": [
             [
              0,
              "#0d0887"
             ],
             [
              0.1111111111111111,
              "#46039f"
             ],
             [
              0.2222222222222222,
              "#7201a8"
             ],
             [
              0.3333333333333333,
              "#9c179e"
             ],
             [
              0.4444444444444444,
              "#bd3786"
             ],
             [
              0.5555555555555556,
              "#d8576b"
             ],
             [
              0.6666666666666666,
              "#ed7953"
             ],
             [
              0.7777777777777778,
              "#fb9f3a"
             ],
             [
              0.8888888888888888,
              "#fdca26"
             ],
             [
              1,
              "#f0f921"
             ]
            ],
            "type": "heatmap"
           }
          ],
          "histogram": [
           {
            "marker": {
             "pattern": {
              "fillmode": "overlay",
              "size": 10,
              "solidity": 0.2
             }
            },
            "type": "histogram"
           }
          ],
          "histogram2d": [
           {
            "colorbar": {
             "outlinewidth": 0,
             "ticks": ""
            },
            "colorscale": [
             [
              0,
              "#0d0887"
             ],
             [
              0.1111111111111111,
              "#46039f"
             ],
             [
              0.2222222222222222,
              "#7201a8"
             ],
             [
              0.3333333333333333,
              "#9c179e"
             ],
             [
              0.4444444444444444,
              "#bd3786"
             ],
             [
              0.5555555555555556,
              "#d8576b"
             ],
             [
              0.6666666666666666,
              "#ed7953"
             ],
             [
              0.7777777777777778,
              "#fb9f3a"
             ],
             [
              0.8888888888888888,
              "#fdca26"
             ],
             [
              1,
              "#f0f921"
             ]
            ],
            "type": "histogram2d"
           }
          ],
          "histogram2dcontour": [
           {
            "colorbar": {
             "outlinewidth": 0,
             "ticks": ""
            },
            "colorscale": [
             [
              0,
              "#0d0887"
             ],
             [
              0.1111111111111111,
              "#46039f"
             ],
             [
              0.2222222222222222,
              "#7201a8"
             ],
             [
              0.3333333333333333,
              "#9c179e"
             ],
             [
              0.4444444444444444,
              "#bd3786"
             ],
             [
              0.5555555555555556,
              "#d8576b"
             ],
             [
              0.6666666666666666,
              "#ed7953"
             ],
             [
              0.7777777777777778,
              "#fb9f3a"
             ],
             [
              0.8888888888888888,
              "#fdca26"
             ],
             [
              1,
              "#f0f921"
             ]
            ],
            "type": "histogram2dcontour"
           }
          ],
          "mesh3d": [
           {
            "colorbar": {
             "outlinewidth": 0,
             "ticks": ""
            },
            "type": "mesh3d"
           }
          ],
          "parcoords": [
           {
            "line": {
             "colorbar": {
              "outlinewidth": 0,
              "ticks": ""
             }
            },
            "type": "parcoords"
           }
          ],
          "pie": [
           {
            "automargin": true,
            "type": "pie"
           }
          ],
          "scatter": [
           {
            "fillpattern": {
             "fillmode": "overlay",
             "size": 10,
             "solidity": 0.2
            },
            "type": "scatter"
           }
          ],
          "scatter3d": [
           {
            "line": {
             "colorbar": {
              "outlinewidth": 0,
              "ticks": ""
             }
            },
            "marker": {
             "colorbar": {
              "outlinewidth": 0,
              "ticks": ""
             }
            },
            "type": "scatter3d"
           }
          ],
          "scattercarpet": [
           {
            "marker": {
             "colorbar": {
              "outlinewidth": 0,
              "ticks": ""
             }
            },
            "type": "scattercarpet"
           }
          ],
          "scattergeo": [
           {
            "marker": {
             "colorbar": {
              "outlinewidth": 0,
              "ticks": ""
             }
            },
            "type": "scattergeo"
           }
          ],
          "scattergl": [
           {
            "marker": {
             "colorbar": {
              "outlinewidth": 0,
              "ticks": ""
             }
            },
            "type": "scattergl"
           }
          ],
          "scattermap": [
           {
            "marker": {
             "colorbar": {
              "outlinewidth": 0,
              "ticks": ""
             }
            },
            "type": "scattermap"
           }
          ],
          "scattermapbox": [
           {
            "marker": {
             "colorbar": {
              "outlinewidth": 0,
              "ticks": ""
             }
            },
            "type": "scattermapbox"
           }
          ],
          "scatterpolar": [
           {
            "marker": {
             "colorbar": {
              "outlinewidth": 0,
              "ticks": ""
             }
            },
            "type": "scatterpolar"
           }
          ],
          "scatterpolargl": [
           {
            "marker": {
             "colorbar": {
              "outlinewidth": 0,
              "ticks": ""
             }
            },
            "type": "scatterpolargl"
           }
          ],
          "scatterternary": [
           {
            "marker": {
             "colorbar": {
              "outlinewidth": 0,
              "ticks": ""
             }
            },
            "type": "scatterternary"
           }
          ],
          "surface": [
           {
            "colorbar": {
             "outlinewidth": 0,
             "ticks": ""
            },
            "colorscale": [
             [
              0,
              "#0d0887"
             ],
             [
              0.1111111111111111,
              "#46039f"
             ],
             [
              0.2222222222222222,
              "#7201a8"
             ],
             [
              0.3333333333333333,
              "#9c179e"
             ],
             [
              0.4444444444444444,
              "#bd3786"
             ],
             [
              0.5555555555555556,
              "#d8576b"
             ],
             [
              0.6666666666666666,
              "#ed7953"
             ],
             [
              0.7777777777777778,
              "#fb9f3a"
             ],
             [
              0.8888888888888888,
              "#fdca26"
             ],
             [
              1,
              "#f0f921"
             ]
            ],
            "type": "surface"
           }
          ],
          "table": [
           {
            "cells": {
             "fill": {
              "color": "#EBF0F8"
             },
             "line": {
              "color": "white"
             }
            },
            "header": {
             "fill": {
              "color": "#C8D4E3"
             },
             "line": {
              "color": "white"
             }
            },
            "type": "table"
           }
          ]
         },
         "layout": {
          "annotationdefaults": {
           "arrowcolor": "#2a3f5f",
           "arrowhead": 0,
           "arrowwidth": 1
          },
          "autotypenumbers": "strict",
          "coloraxis": {
           "colorbar": {
            "outlinewidth": 0,
            "ticks": ""
           }
          },
          "colorscale": {
           "diverging": [
            [
             0,
             "#8e0152"
            ],
            [
             0.1,
             "#c51b7d"
            ],
            [
             0.2,
             "#de77ae"
            ],
            [
             0.3,
             "#f1b6da"
            ],
            [
             0.4,
             "#fde0ef"
            ],
            [
             0.5,
             "#f7f7f7"
            ],
            [
             0.6,
             "#e6f5d0"
            ],
            [
             0.7,
             "#b8e186"
            ],
            [
             0.8,
             "#7fbc41"
            ],
            [
             0.9,
             "#4d9221"
            ],
            [
             1,
             "#276419"
            ]
           ],
           "sequential": [
            [
             0,
             "#0d0887"
            ],
            [
             0.1111111111111111,
             "#46039f"
            ],
            [
             0.2222222222222222,
             "#7201a8"
            ],
            [
             0.3333333333333333,
             "#9c179e"
            ],
            [
             0.4444444444444444,
             "#bd3786"
            ],
            [
             0.5555555555555556,
             "#d8576b"
            ],
            [
             0.6666666666666666,
             "#ed7953"
            ],
            [
             0.7777777777777778,
             "#fb9f3a"
            ],
            [
             0.8888888888888888,
             "#fdca26"
            ],
            [
             1,
             "#f0f921"
            ]
           ],
           "sequentialminus": [
            [
             0,
             "#0d0887"
            ],
            [
             0.1111111111111111,
             "#46039f"
            ],
            [
             0.2222222222222222,
             "#7201a8"
            ],
            [
             0.3333333333333333,
             "#9c179e"
            ],
            [
             0.4444444444444444,
             "#bd3786"
            ],
            [
             0.5555555555555556,
             "#d8576b"
            ],
            [
             0.6666666666666666,
             "#ed7953"
            ],
            [
             0.7777777777777778,
             "#fb9f3a"
            ],
            [
             0.8888888888888888,
             "#fdca26"
            ],
            [
             1,
             "#f0f921"
            ]
           ]
          },
          "colorway": [
           "#636efa",
           "#EF553B",
           "#00cc96",
           "#ab63fa",
           "#FFA15A",
           "#19d3f3",
           "#FF6692",
           "#B6E880",
           "#FF97FF",
           "#FECB52"
          ],
          "font": {
           "color": "#2a3f5f"
          },
          "geo": {
           "bgcolor": "white",
           "lakecolor": "white",
           "landcolor": "#E5ECF6",
           "showlakes": true,
           "showland": true,
           "subunitcolor": "white"
          },
          "hoverlabel": {
           "align": "left"
          },
          "hovermode": "closest",
          "mapbox": {
           "style": "light"
          },
          "paper_bgcolor": "white",
          "plot_bgcolor": "#E5ECF6",
          "polar": {
           "angularaxis": {
            "gridcolor": "white",
            "linecolor": "white",
            "ticks": ""
           },
           "bgcolor": "#E5ECF6",
           "radialaxis": {
            "gridcolor": "white",
            "linecolor": "white",
            "ticks": ""
           }
          },
          "scene": {
           "xaxis": {
            "backgroundcolor": "#E5ECF6",
            "gridcolor": "white",
            "gridwidth": 2,
            "linecolor": "white",
            "showbackground": true,
            "ticks": "",
            "zerolinecolor": "white"
           },
           "yaxis": {
            "backgroundcolor": "#E5ECF6",
            "gridcolor": "white",
            "gridwidth": 2,
            "linecolor": "white",
            "showbackground": true,
            "ticks": "",
            "zerolinecolor": "white"
           },
           "zaxis": {
            "backgroundcolor": "#E5ECF6",
            "gridcolor": "white",
            "gridwidth": 2,
            "linecolor": "white",
            "showbackground": true,
            "ticks": "",
            "zerolinecolor": "white"
           }
          },
          "shapedefaults": {
           "line": {
            "color": "#2a3f5f"
           }
          },
          "ternary": {
           "aaxis": {
            "gridcolor": "white",
            "linecolor": "white",
            "ticks": ""
           },
           "baxis": {
            "gridcolor": "white",
            "linecolor": "white",
            "ticks": ""
           },
           "bgcolor": "#E5ECF6",
           "caxis": {
            "gridcolor": "white",
            "linecolor": "white",
            "ticks": ""
           }
          },
          "title": {
           "x": 0.05
          },
          "xaxis": {
           "automargin": true,
           "gridcolor": "white",
           "linecolor": "white",
           "ticks": "",
           "title": {
            "standoff": 15
           },
           "zerolinecolor": "white",
           "zerolinewidth": 2
          },
          "yaxis": {
           "automargin": true,
           "gridcolor": "white",
           "linecolor": "white",
           "ticks": "",
           "title": {
            "standoff": 15
           },
           "zerolinecolor": "white",
           "zerolinewidth": 2
          }
         }
        },
        "title": {
         "text": "쿵덕이 서비스에 대한 수용도 및 구매 의향",
         "x": 0.5
        },
        "xaxis": {
         "anchor": "y",
         "domain": [
          0,
          0.45
         ],
         "tickangle": 45
        },
        "yaxis": {
         "anchor": "x",
         "domain": [
          0,
          0.375
         ]
        }
       }
      }
     },
     "metadata": {},
     "output_type": "display_data"
    },
    {
     "name": "stdout",
     "output_type": "stream",
     "text": [
      "📋 효과성 기대 상세 매핑:\n",
      "• 효과적: 51명\n",
      "  └ 원본: 그렇다.\n",
      "• 매우 효과적: 15명\n",
      "  └ 원본: 매우 그렇다.\n",
      "• 보통: 14명\n",
      "  └ 원본: 보통이다.\n",
      "• 효과 의문: 7명\n",
      "  └ 원본: 그렇지 않다.\n",
      "• 효과 의문: 1명\n",
      "  └ 원본: 전혀 그렇지 않다.\n",
      "\n",
      "📋 이용 의향 상세 매핑:\n",
      "• 관심 있음: 29명\n",
      "  └ 원본: 있다.\n",
      "• 보통이다.: 28명\n",
      "  └ 원본: 보통이다.\n",
      "• 관심 적음: 16명\n",
      "  └ 원본: 별로 없다.\n",
      "• 매우 관심: 11명\n",
      "  └ 원본: 매우 있다.\n",
      "• 관심 없음: 4명\n",
      "  └ 원본: 전혀 없다.\n",
      "\n",
      "📋 가격 선호도 상세 분석:\n",
      "• 1~2 만원: 48명 (53.9%)\n",
      "• 2~3 만원: 35명 (39.3%)\n",
      "• 4~5 만원: 4명 (4.5%)\n",
      "• 5만원 이상: 1명 (1.1%)\n",
      "\n",
      "📋 선물 의향 상세 매핑:\n",
      "• 선물 의향 있음: 67명\n",
      "  └ 원본: 예\n",
      "• 선물 의향 없음: 21명\n",
      "  └ 원본: 아니오\n",
      "\n",
      "💡 쿵덕이 서비스 수용도 분석 결과:\n",
      "• 효과성 기대 (긍정): 66명 (74.2%)\n",
      "• 이용 의향 (긍정): 40명 (44.9%)\n",
      "• 적정 가격대 (3만원 이하): 83명 (93.3%)\n",
      "• 선물 의향 (긍정): 67명 (75.3%)\n",
      "\n",
      "🎯 시장 잠재력 평가:\n",
      "• 높은 효과성 기대 → 제품 컨셉 검증 완료\n",
      "• 강한 이용 의향 → 시장 수요 확인\n",
      "• 합리적 가격 선호 → 3만원 이하 가격 전략 필요\n",
      "• 선물 시장 가능성 → B2C 확장 전략 유효\n",
      "\n",
      "📊 세그먼트별 수용도 분석:\n",
      "• 20대 이용 의향: 44.9%\n",
      "• 30대+ 이용 의향: 53.3%\n",
      "• 어린이 양육 가정 이용 의향: 57.1%\n",
      "• 야간 소음 민감형 이용 의향: 47.6%\n",
      "• 라이프스타일 추구형 이용 의향: 52.4%\n"
     ]
    }
   ],
   "source": [
    "# 제품 효과성에 대한 기대\n",
    "effectiveness_counts = df_clean['product_effectiveness'].value_counts().dropna()\n",
    "\n",
    "# 구매 의향 분석\n",
    "usage_intention_counts = df_clean['usage_intention'].value_counts().dropna()\n",
    "\n",
    "# 가격 선호도 분석\n",
    "price_preference_counts = df_clean['price_preference'].value_counts().dropna()\n",
    "\n",
    "# 선물 의향 분석\n",
    "gift_intention_counts = df_clean['gift_intention'].value_counts().dropna()\n",
    "\n",
    "# 더 명확한 라벨 생성\n",
    "def create_clear_effectiveness_labels(labels):\n",
    "    \"\"\"효과성 기대 라벨을 더 명확하게 변환\"\"\"\n",
    "    clear_labels = []\n",
    "    for label in labels:\n",
    "        if '매우 그렇다' in str(label):\n",
    "            clear_labels.append('매우 효과적')\n",
    "        elif '그렇다' in str(label):\n",
    "            clear_labels.append('효과적')\n",
    "        elif '보통' in str(label):\n",
    "            clear_labels.append('보통')\n",
    "        elif '그렇지' in str(label):\n",
    "            clear_labels.append('효과 의문')\n",
    "        else:\n",
    "            clear_labels.append(str(label)[:8])\n",
    "    return clear_labels\n",
    "\n",
    "def create_clear_intention_labels(labels):\n",
    "    \"\"\"이용 의향 라벨을 더 명확하게 변환\"\"\"\n",
    "    clear_labels = []\n",
    "    for label in labels:\n",
    "        if '매우 있다' in str(label):\n",
    "            clear_labels.append('매우 관심')\n",
    "        elif '있다' in str(label):\n",
    "            clear_labels.append('관심 있음')\n",
    "        elif '별로 없다' in str(label):\n",
    "            clear_labels.append('관심 적음')\n",
    "        elif '전혀 없다' in str(label):\n",
    "            clear_labels.append('관심 없음')\n",
    "        else:\n",
    "            clear_labels.append(str(label)[:8])\n",
    "    return clear_labels\n",
    "\n",
    "# 명확한 라벨 생성\n",
    "effectiveness_labels = create_clear_effectiveness_labels(effectiveness_counts.index)\n",
    "intention_labels = create_clear_intention_labels(usage_intention_counts.index)\n",
    "\n",
    "# 서비스 선호도 종합 시각화\n",
    "fig_service = make_subplots(\n",
    "    rows=2, cols=2,\n",
    "    subplot_titles=('쿵덕이 효과성 기대', '서비스 이용 의향', '가격대 선호도', '선물 의향'),\n",
    "    specs=[[{\"type\": \"pie\"}, {\"type\": \"pie\"}],\n",
    "           [{\"type\": \"bar\"}, {\"type\": \"pie\"}]]\n",
    ")\n",
    "\n",
    "# 1. 효과성 기대 (명확한 라벨과 텍스트 정보)\n",
    "fig_service.add_trace(\n",
    "    go.Pie(\n",
    "        labels=effectiveness_labels,\n",
    "        values=effectiveness_counts.values,\n",
    "        hole=0.4,\n",
    "        marker_colors=['#28a745', '#17a2b8', '#ffc107', '#dc3545'],\n",
    "        textinfo='label+percent+value',\n",
    "        textfont=dict(size=12),\n",
    "        showlegend=True\n",
    "    ),\n",
    "    row=1, col=1\n",
    ")\n",
    "\n",
    "# 2. 이용 의향 (명확한 라벨과 텍스트 정보)\n",
    "fig_service.add_trace(\n",
    "    go.Pie(\n",
    "        labels=intention_labels,\n",
    "        values=usage_intention_counts.values,\n",
    "        hole=0.4,\n",
    "        marker_colors=['#FF6B6B', '#4ECDC4', '#45B7D1', '#96CEB4', '#FFEAA7'],\n",
    "        textinfo='label+percent+value',\n",
    "        textfont=dict(size=12),\n",
    "        showlegend=True\n",
    "    ),\n",
    "    row=1, col=2\n",
    ")\n",
    "\n",
    "# 3. 가격 선호도 (명확한 순서와 라벨)\n",
    "price_order = ['1~2 만원', '2~3 만원', '4~5 만원', '5만원 이상']\n",
    "price_ordered = []\n",
    "values_ordered = []\n",
    "for price in price_order:\n",
    "    if price in price_preference_counts.index:\n",
    "        price_ordered.append(price)\n",
    "        values_ordered.append(price_preference_counts[price])\n",
    "\n",
    "# 남은 항목들도 추가 (순서에 없는 경우)\n",
    "for price in price_preference_counts.index:\n",
    "    if price not in price_ordered:\n",
    "        price_ordered.append(price)\n",
    "        values_ordered.append(price_preference_counts[price])\n",
    "\n",
    "fig_service.add_trace(\n",
    "    go.Bar(\n",
    "        x=price_ordered,\n",
    "        y=values_ordered,\n",
    "        marker_color='#45B7D1',\n",
    "        text=values_ordered,\n",
    "        textposition='outside',\n",
    "        textfont=dict(size=14)\n",
    "    ),\n",
    "    row=2, col=1\n",
    ")\n",
    "\n",
    "# 4. 선물 의향 (명확한 라벨)\n",
    "gift_labels = []\n",
    "for label in gift_intention_counts.index:\n",
    "    if '예' in str(label):\n",
    "        gift_labels.append('선물 의향 있음')\n",
    "    elif '아니오' in str(label):\n",
    "        gift_labels.append('선물 의향 없음')\n",
    "    else:\n",
    "        gift_labels.append(str(label))\n",
    "\n",
    "fig_service.add_trace(\n",
    "    go.Pie(\n",
    "        labels=gift_labels,\n",
    "        values=gift_intention_counts.values,\n",
    "        hole=0.4,\n",
    "        marker_colors=['#FF6B6B', '#4ECDC4', '#45B7D1'],\n",
    "        textinfo='label+percent+value',\n",
    "        textfont=dict(size=12),\n",
    "        showlegend=True\n",
    "    ),\n",
    "    row=2, col=2\n",
    ")\n",
    "\n",
    "# x축 라벨 회전 및 레이아웃 설정\n",
    "fig_service.update_xaxes(tickangle=45, row=2, col=1)\n",
    "\n",
    "fig_service.update_layout(\n",
    "    title_text=\"쿵덕이 서비스에 대한 수용도 및 구매 의향\",\n",
    "    title_x=0.5,\n",
    "    height=900,  # 높이 증가\n",
    "    showlegend=False,  # 파이차트에 라벨이 직접 표시되므로 범례 제거\n",
    "    margin=dict(b=120, t=100),  # 여백 증가\n",
    "    font=dict(size=12)\n",
    ")\n",
    "\n",
    "fig_service.show()\n",
    "\n",
    "# 원본 데이터와 명확한 라벨 매핑 출력\n",
    "print(\"📋 효과성 기대 상세 매핑:\")\n",
    "for original, clear in zip(effectiveness_counts.index, effectiveness_labels):\n",
    "    print(f\"• {clear}: {effectiveness_counts[original]}명\")\n",
    "    print(f\"  └ 원본: {original}\")\n",
    "print()\n",
    "\n",
    "print(\"📋 이용 의향 상세 매핑:\")\n",
    "for original, clear in zip(usage_intention_counts.index, intention_labels):\n",
    "    print(f\"• {clear}: {usage_intention_counts[original]}명\")\n",
    "    print(f\"  └ 원본: {original}\")\n",
    "print()\n",
    "\n",
    "print(\"📋 가격 선호도 상세 분석:\")\n",
    "for price, count in zip(price_ordered, values_ordered):\n",
    "    print(f\"• {price}: {count}명 ({count/len(df_clean)*100:.1f}%)\")\n",
    "print()\n",
    "\n",
    "print(\"📋 선물 의향 상세 매핑:\")\n",
    "for original, clear in zip(gift_intention_counts.index, gift_labels):\n",
    "    print(f\"• {clear}: {gift_intention_counts[original]}명\")\n",
    "    print(f\"  └ 원본: {original}\")\n",
    "print()\n",
    "\n",
    "# 서비스 수용도 분석 요약\n",
    "positive_effectiveness = df_clean[df_clean['product_effectiveness'].str.contains('그렇다', na=False)].shape[0]\n",
    "positive_rate = (positive_effectiveness / len(df_clean)) * 100\n",
    "\n",
    "positive_intention = df_clean[df_clean['usage_intention'].str.contains('있다', na=False)].shape[0]\n",
    "intention_rate = (positive_intention / len(df_clean)) * 100\n",
    "\n",
    "affordable_price = df_clean[df_clean['price_preference'].isin(['1~2 만원', '2~3 만원'])].shape[0]\n",
    "affordable_rate = (affordable_price / len(df_clean)) * 100\n",
    "\n",
    "gift_positive = df_clean[df_clean['gift_intention'] == '예'].shape[0]\n",
    "gift_rate = (gift_positive / len(df_clean)) * 100\n",
    "\n",
    "print(\"💡 쿵덕이 서비스 수용도 분석 결과:\")\n",
    "print(f\"• 효과성 기대 (긍정): {positive_effectiveness}명 ({positive_rate:.1f}%)\")\n",
    "print(f\"• 이용 의향 (긍정): {positive_intention}명 ({intention_rate:.1f}%)\")\n",
    "print(f\"• 적정 가격대 (3만원 이하): {affordable_price}명 ({affordable_rate:.1f}%)\")\n",
    "print(f\"• 선물 의향 (긍정): {gift_positive}명 ({gift_rate:.1f}%)\")\n",
    "\n",
    "print(f\"\\n🎯 시장 잠재력 평가:\")\n",
    "print(f\"• 높은 효과성 기대 → 제품 컨셉 검증 완료\")\n",
    "print(f\"• 강한 이용 의향 → 시장 수요 확인\")\n",
    "print(f\"• 합리적 가격 선호 → 3만원 이하 가격 전략 필요\")\n",
    "print(f\"• 선물 시장 가능성 → B2C 확장 전략 유효\")\n",
    "\n",
    "# 세그먼트별 상세 분석\n",
    "print(f\"\\n📊 세그먼트별 수용도 분석:\")\n",
    "\n",
    "# 연령대별 이용 의향\n",
    "if len(age_20s) > 0:\n",
    "    age_20s_intention = len(age_20s[age_20s['usage_intention'].str.contains('있다', na=False)]) / len(age_20s) * 100\n",
    "    print(f\"• 20대 이용 의향: {age_20s_intention:.1f}%\")\n",
    "\n",
    "if len(age_30_plus) > 0:\n",
    "    age_30_plus_intention = len(age_30_plus[age_30_plus['usage_intention'].str.contains('있다', na=False)]) / len(age_30_plus) * 100\n",
    "    print(f\"• 30대+ 이용 의향: {age_30_plus_intention:.1f}%\")\n",
    "\n",
    "# 생활 상황별 이용 의향\n",
    "for situation in ['어린이 양육', '야간 소음', '라이프스타일']:\n",
    "    situation_users = df_clean[df_clean['life_situation'].str.contains(situation, na=False)]\n",
    "    if len(situation_users) > 0:\n",
    "        situation_intention = len(situation_users[situation_users['usage_intention'].str.contains('있다', na=False)]) / len(situation_users) * 100\n",
    "        situation_name = '어린이 양육 가정' if situation == '어린이 양육' else '야간 소음 민감형' if situation == '야간 소음' else '라이프스타일 추구형'\n",
    "        print(f\"• {situation_name} 이용 의향: {situation_intention:.1f}%\")"
   ]
  },
  {
   "cell_type": "markdown",
   "id": "06295f27",
   "metadata": {},
   "source": [
    "## 📊 종합 대시보드\n",
    "\n",
    "주요 인사이트를 한눈에 볼 수 있는 종합 대시보드를 생성합니다."
   ]
  },
  {
   "cell_type": "code",
   "execution_count": 15,
   "id": "08898421",
   "metadata": {},
   "outputs": [
    {
     "data": {
      "application/vnd.plotly.v1+json": {
       "config": {
        "plotlyServerURL": "https://plot.ly"
       },
       "data": [
        {
         "domain": {
          "x": [
           0,
           0.2888888888888889
          ],
          "y": [
           0.7466666666666667,
           1
          ]
         },
         "gauge": {
          "axis": {
           "range": [
            0,
            100
           ]
          },
          "bar": {
           "color": "red"
          },
          "steps": [
           {
            "color": "lightgray",
            "range": [
             0,
             50
            ]
           },
           {
            "color": "yellow",
            "range": [
             50,
             80
            ]
           }
          ],
          "threshold": {
           "line": {
            "color": "red",
            "width": 4
           },
           "thickness": 0.75,
           "value": 80
          }
         },
         "mode": "gauge+number",
         "title": {
          "text": "전체 소음 경험률 (%)"
         },
         "type": "indicator",
         "value": 70.78651685393258
        },
        {
         "domain": {
          "x": [
           0.35555555555555557,
           0.6444444444444445
          ],
          "y": [
           0.7466666666666667,
           1
          ]
         },
         "gauge": {
          "axis": {
           "range": [
            0,
            100
           ]
          },
          "bar": {
           "color": "green"
          },
          "steps": [
           {
            "color": "lightgray",
            "range": [
             0,
             50
            ]
           },
           {
            "color": "yellow",
            "range": [
             50,
             80
            ]
           }
          ],
          "threshold": {
           "line": {
            "color": "green",
            "width": 4
           },
           "thickness": 0.75,
           "value": 70
          }
         },
         "mode": "gauge+number",
         "title": {
          "text": "서비스 수용도 (%)"
         },
         "type": "indicator",
         "value": 44.9438202247191
        },
        {
         "domain": {
          "x": [
           0.7111111111111111,
           1
          ],
          "y": [
           0.7466666666666667,
           1
          ]
         },
         "gauge": {
          "axis": {
           "range": [
            0,
            100
           ]
          },
          "bar": {
           "color": "blue"
          },
          "steps": [
           {
            "color": "lightgray",
            "range": [
             0,
             50
            ]
           },
           {
            "color": "yellow",
            "range": [
             50,
             80
            ]
           }
          ],
          "threshold": {
           "line": {
            "color": "blue",
            "width": 4
           },
           "thickness": 0.75,
           "value": 80
          }
         },
         "mode": "gauge+number",
         "title": {
          "text": "가격 적정성 (%)"
         },
         "type": "indicator",
         "value": 93.25842696629213
        },
        {
         "domain": {
          "x": [
           0,
           0.2888888888888889
          ],
          "y": [
           0.37333333333333335,
           0.6266666666666667
          ]
         },
         "hole": 0.4,
         "labels": [
          "20대",
          "30대",
          "40대",
          "50대 이상",
          "10대"
         ],
         "textfont": {
          "size": 10
         },
         "textinfo": "label+percent",
         "type": "pie",
         "values": {
          "bdata": "RQsEAgI=",
          "dtype": "i1"
         }
        },
        {
         "marker": {
          "color": "#FF6B6B"
         },
         "text": {
          "bdata": "AAAAAAAANkAAAAAAAAA1QAAAAAAAADVAAAAAAAAAMUAAAAAAAAAcQA==",
          "dtype": "f8"
         },
         "textfont": {
          "size": 10
         },
         "textposition": "outside",
         "type": "bar",
         "x": [
          "관심있는 일반인",
          "라이프스타일 추구형",
          "야간 소음 민감 직장인",
          "소음 무자각자 가족",
          "어린이 양육 가정"
         ],
         "xaxis": "x",
         "y": {
          "bdata": "FhUVEQc=",
          "dtype": "i1"
         },
         "yaxis": "y"
        },
        {
         "marker": {
          "color": [
           "#FF6B6B",
           "#45B7D1"
          ]
         },
         "text": [
          "66.7%",
          "93.3%"
         ],
         "textfont": {
          "size": 12
         },
         "textposition": "outside",
         "type": "bar",
         "x": [
          "20대",
          "30대 이상"
         ],
         "xaxis": "x2",
         "y": [
          66.66666666666666,
          93.33333333333333
         ],
         "yaxis": "y2"
        },
        {
         "marker": {
          "color": "#FF6B6B"
         },
         "name": "20대",
         "text": [
          "66.7%",
          "44.9%",
          "97.1%"
         ],
         "textposition": "outside",
         "type": "bar",
         "x": [
          "소음경험률",
          "이용의향",
          "가격민감도"
         ],
         "xaxis": "x3",
         "y": [
          66.66666666666666,
          44.927536231884055,
          97.10144927536231
         ],
         "yaxis": "y3"
        },
        {
         "marker": {
          "color": "#45B7D1"
         },
         "name": "30대+",
         "text": [
          "93.3%",
          "53.3%",
          "80.0%"
         ],
         "textposition": "outside",
         "type": "bar",
         "x": [
          "소음경험률",
          "이용의향",
          "가격민감도"
         ],
         "xaxis": "x3",
         "y": [
          93.33333333333333,
          53.333333333333336,
          80
         ],
         "yaxis": "y3"
        },
        {
         "cells": {
          "align": "center",
          "fill": {
           "color": "white"
          },
          "font": {
           "size": 11
          },
          "values": [
           [
            "야간 소음 민감",
            "라이프스타일 추구",
            "특별히 위 상황에 해당되지는..."
           ],
           [
            "8명",
            "2명",
            "2명"
           ]
          ]
         },
         "domain": {
          "x": [
           0.35555555555555557,
           0.6444444444444445
          ],
          "y": [
           0,
           0.25333333333333335
          ]
         },
         "header": {
          "align": "center",
          "fill": {
           "color": "lightblue"
          },
          "font": {
           "size": 12
          },
          "values": [
           "30대+ 특성",
           "인원수"
          ]
         },
         "type": "table"
        },
        {
         "domain": {
          "x": [
           0.7111111111111111,
           1
          ],
          "y": [
           0,
           0.25333333333333335
          ]
         },
         "gauge": {
          "axis": {
           "range": [
            0,
            100
           ]
          },
          "bar": {
           "color": "darkgreen"
          },
          "steps": [
           {
            "color": "lightgray",
            "range": [
             0,
             60
            ]
           },
           {
            "color": "yellow",
            "range": [
             60,
             80
            ]
           }
          ],
          "threshold": {
           "line": {
            "color": "darkgreen",
            "width": 4
           },
           "thickness": 0.75,
           "value": 85
          }
         },
         "mode": "gauge+number",
         "title": {
          "text": "종합 평가 점수"
         },
         "type": "indicator",
         "value": 69.66292134831461
        }
       ],
       "layout": {
        "annotations": [
         {
          "font": {
           "size": 16
          },
          "showarrow": false,
          "text": "소음 경험률",
          "x": 0.14444444444444446,
          "xanchor": "center",
          "xref": "paper",
          "y": 1,
          "yanchor": "bottom",
          "yref": "paper"
         },
         {
          "font": {
           "size": 16
          },
          "showarrow": false,
          "text": "서비스 수용도",
          "x": 0.5,
          "xanchor": "center",
          "xref": "paper",
          "y": 1,
          "yanchor": "bottom",
          "yref": "paper"
         },
         {
          "font": {
           "size": 16
          },
          "showarrow": false,
          "text": "가격 적정성",
          "x": 0.8555555555555556,
          "xanchor": "center",
          "xref": "paper",
          "y": 1,
          "yanchor": "bottom",
          "yref": "paper"
         },
         {
          "font": {
           "size": 16
          },
          "showarrow": false,
          "text": "연령별 분포",
          "x": 0.14444444444444446,
          "xanchor": "center",
          "xref": "paper",
          "y": 0.6266666666666667,
          "yanchor": "bottom",
          "yref": "paper"
         },
         {
          "font": {
           "size": 16
          },
          "showarrow": false,
          "text": "생활상황별 분포",
          "x": 0.5,
          "xanchor": "center",
          "xref": "paper",
          "y": 0.6266666666666667,
          "yanchor": "bottom",
          "yref": "paper"
         },
         {
          "font": {
           "size": 16
          },
          "showarrow": false,
          "text": "연령대별 소음 경험률",
          "x": 0.8555555555555556,
          "xanchor": "center",
          "xref": "paper",
          "y": 0.6266666666666667,
          "yanchor": "bottom",
          "yref": "paper"
         },
         {
          "font": {
           "size": 16
          },
          "showarrow": false,
          "text": "20대 vs 30대+ 특성 비교",
          "x": 0.14444444444444446,
          "xanchor": "center",
          "xref": "paper",
          "y": 0.25333333333333335,
          "yanchor": "bottom",
          "yref": "paper"
         },
         {
          "font": {
           "size": 16
          },
          "showarrow": false,
          "text": "30대+ 상세 분석",
          "x": 0.5,
          "xanchor": "center",
          "xref": "paper",
          "y": 0.25333333333333335,
          "yanchor": "bottom",
          "yref": "paper"
         },
         {
          "font": {
           "size": 16
          },
          "showarrow": false,
          "text": "종합 평가",
          "x": 0.8555555555555556,
          "xanchor": "center",
          "xref": "paper",
          "y": 0.25333333333333335,
          "yanchor": "bottom",
          "yref": "paper"
         }
        ],
        "font": {
         "family": "Arial, sans-serif"
        },
        "height": 1200,
        "margin": {
         "b": 120,
         "t": 100
        },
        "showlegend": true,
        "template": {
         "data": {
          "bar": [
           {
            "error_x": {
             "color": "#2a3f5f"
            },
            "error_y": {
             "color": "#2a3f5f"
            },
            "marker": {
             "line": {
              "color": "#E5ECF6",
              "width": 0.5
             },
             "pattern": {
              "fillmode": "overlay",
              "size": 10,
              "solidity": 0.2
             }
            },
            "type": "bar"
           }
          ],
          "barpolar": [
           {
            "marker": {
             "line": {
              "color": "#E5ECF6",
              "width": 0.5
             },
             "pattern": {
              "fillmode": "overlay",
              "size": 10,
              "solidity": 0.2
             }
            },
            "type": "barpolar"
           }
          ],
          "carpet": [
           {
            "aaxis": {
             "endlinecolor": "#2a3f5f",
             "gridcolor": "white",
             "linecolor": "white",
             "minorgridcolor": "white",
             "startlinecolor": "#2a3f5f"
            },
            "baxis": {
             "endlinecolor": "#2a3f5f",
             "gridcolor": "white",
             "linecolor": "white",
             "minorgridcolor": "white",
             "startlinecolor": "#2a3f5f"
            },
            "type": "carpet"
           }
          ],
          "choropleth": [
           {
            "colorbar": {
             "outlinewidth": 0,
             "ticks": ""
            },
            "type": "choropleth"
           }
          ],
          "contour": [
           {
            "colorbar": {
             "outlinewidth": 0,
             "ticks": ""
            },
            "colorscale": [
             [
              0,
              "#0d0887"
             ],
             [
              0.1111111111111111,
              "#46039f"
             ],
             [
              0.2222222222222222,
              "#7201a8"
             ],
             [
              0.3333333333333333,
              "#9c179e"
             ],
             [
              0.4444444444444444,
              "#bd3786"
             ],
             [
              0.5555555555555556,
              "#d8576b"
             ],
             [
              0.6666666666666666,
              "#ed7953"
             ],
             [
              0.7777777777777778,
              "#fb9f3a"
             ],
             [
              0.8888888888888888,
              "#fdca26"
             ],
             [
              1,
              "#f0f921"
             ]
            ],
            "type": "contour"
           }
          ],
          "contourcarpet": [
           {
            "colorbar": {
             "outlinewidth": 0,
             "ticks": ""
            },
            "type": "contourcarpet"
           }
          ],
          "heatmap": [
           {
            "colorbar": {
             "outlinewidth": 0,
             "ticks": ""
            },
            "colorscale": [
             [
              0,
              "#0d0887"
             ],
             [
              0.1111111111111111,
              "#46039f"
             ],
             [
              0.2222222222222222,
              "#7201a8"
             ],
             [
              0.3333333333333333,
              "#9c179e"
             ],
             [
              0.4444444444444444,
              "#bd3786"
             ],
             [
              0.5555555555555556,
              "#d8576b"
             ],
             [
              0.6666666666666666,
              "#ed7953"
             ],
             [
              0.7777777777777778,
              "#fb9f3a"
             ],
             [
              0.8888888888888888,
              "#fdca26"
             ],
             [
              1,
              "#f0f921"
             ]
            ],
            "type": "heatmap"
           }
          ],
          "histogram": [
           {
            "marker": {
             "pattern": {
              "fillmode": "overlay",
              "size": 10,
              "solidity": 0.2
             }
            },
            "type": "histogram"
           }
          ],
          "histogram2d": [
           {
            "colorbar": {
             "outlinewidth": 0,
             "ticks": ""
            },
            "colorscale": [
             [
              0,
              "#0d0887"
             ],
             [
              0.1111111111111111,
              "#46039f"
             ],
             [
              0.2222222222222222,
              "#7201a8"
             ],
             [
              0.3333333333333333,
              "#9c179e"
             ],
             [
              0.4444444444444444,
              "#bd3786"
             ],
             [
              0.5555555555555556,
              "#d8576b"
             ],
             [
              0.6666666666666666,
              "#ed7953"
             ],
             [
              0.7777777777777778,
              "#fb9f3a"
             ],
             [
              0.8888888888888888,
              "#fdca26"
             ],
             [
              1,
              "#f0f921"
             ]
            ],
            "type": "histogram2d"
           }
          ],
          "histogram2dcontour": [
           {
            "colorbar": {
             "outlinewidth": 0,
             "ticks": ""
            },
            "colorscale": [
             [
              0,
              "#0d0887"
             ],
             [
              0.1111111111111111,
              "#46039f"
             ],
             [
              0.2222222222222222,
              "#7201a8"
             ],
             [
              0.3333333333333333,
              "#9c179e"
             ],
             [
              0.4444444444444444,
              "#bd3786"
             ],
             [
              0.5555555555555556,
              "#d8576b"
             ],
             [
              0.6666666666666666,
              "#ed7953"
             ],
             [
              0.7777777777777778,
              "#fb9f3a"
             ],
             [
              0.8888888888888888,
              "#fdca26"
             ],
             [
              1,
              "#f0f921"
             ]
            ],
            "type": "histogram2dcontour"
           }
          ],
          "mesh3d": [
           {
            "colorbar": {
             "outlinewidth": 0,
             "ticks": ""
            },
            "type": "mesh3d"
           }
          ],
          "parcoords": [
           {
            "line": {
             "colorbar": {
              "outlinewidth": 0,
              "ticks": ""
             }
            },
            "type": "parcoords"
           }
          ],
          "pie": [
           {
            "automargin": true,
            "type": "pie"
           }
          ],
          "scatter": [
           {
            "fillpattern": {
             "fillmode": "overlay",
             "size": 10,
             "solidity": 0.2
            },
            "type": "scatter"
           }
          ],
          "scatter3d": [
           {
            "line": {
             "colorbar": {
              "outlinewidth": 0,
              "ticks": ""
             }
            },
            "marker": {
             "colorbar": {
              "outlinewidth": 0,
              "ticks": ""
             }
            },
            "type": "scatter3d"
           }
          ],
          "scattercarpet": [
           {
            "marker": {
             "colorbar": {
              "outlinewidth": 0,
              "ticks": ""
             }
            },
            "type": "scattercarpet"
           }
          ],
          "scattergeo": [
           {
            "marker": {
             "colorbar": {
              "outlinewidth": 0,
              "ticks": ""
             }
            },
            "type": "scattergeo"
           }
          ],
          "scattergl": [
           {
            "marker": {
             "colorbar": {
              "outlinewidth": 0,
              "ticks": ""
             }
            },
            "type": "scattergl"
           }
          ],
          "scattermap": [
           {
            "marker": {
             "colorbar": {
              "outlinewidth": 0,
              "ticks": ""
             }
            },
            "type": "scattermap"
           }
          ],
          "scattermapbox": [
           {
            "marker": {
             "colorbar": {
              "outlinewidth": 0,
              "ticks": ""
             }
            },
            "type": "scattermapbox"
           }
          ],
          "scatterpolar": [
           {
            "marker": {
             "colorbar": {
              "outlinewidth": 0,
              "ticks": ""
             }
            },
            "type": "scatterpolar"
           }
          ],
          "scatterpolargl": [
           {
            "marker": {
             "colorbar": {
              "outlinewidth": 0,
              "ticks": ""
             }
            },
            "type": "scatterpolargl"
           }
          ],
          "scatterternary": [
           {
            "marker": {
             "colorbar": {
              "outlinewidth": 0,
              "ticks": ""
             }
            },
            "type": "scatterternary"
           }
          ],
          "surface": [
           {
            "colorbar": {
             "outlinewidth": 0,
             "ticks": ""
            },
            "colorscale": [
             [
              0,
              "#0d0887"
             ],
             [
              0.1111111111111111,
              "#46039f"
             ],
             [
              0.2222222222222222,
              "#7201a8"
             ],
             [
              0.3333333333333333,
              "#9c179e"
             ],
             [
              0.4444444444444444,
              "#bd3786"
             ],
             [
              0.5555555555555556,
              "#d8576b"
             ],
             [
              0.6666666666666666,
              "#ed7953"
             ],
             [
              0.7777777777777778,
              "#fb9f3a"
             ],
             [
              0.8888888888888888,
              "#fdca26"
             ],
             [
              1,
              "#f0f921"
             ]
            ],
            "type": "surface"
           }
          ],
          "table": [
           {
            "cells": {
             "fill": {
              "color": "#EBF0F8"
             },
             "line": {
              "color": "white"
             }
            },
            "header": {
             "fill": {
              "color": "#C8D4E3"
             },
             "line": {
              "color": "white"
             }
            },
            "type": "table"
           }
          ]
         },
         "layout": {
          "annotationdefaults": {
           "arrowcolor": "#2a3f5f",
           "arrowhead": 0,
           "arrowwidth": 1
          },
          "autotypenumbers": "strict",
          "coloraxis": {
           "colorbar": {
            "outlinewidth": 0,
            "ticks": ""
           }
          },
          "colorscale": {
           "diverging": [
            [
             0,
             "#8e0152"
            ],
            [
             0.1,
             "#c51b7d"
            ],
            [
             0.2,
             "#de77ae"
            ],
            [
             0.3,
             "#f1b6da"
            ],
            [
             0.4,
             "#fde0ef"
            ],
            [
             0.5,
             "#f7f7f7"
            ],
            [
             0.6,
             "#e6f5d0"
            ],
            [
             0.7,
             "#b8e186"
            ],
            [
             0.8,
             "#7fbc41"
            ],
            [
             0.9,
             "#4d9221"
            ],
            [
             1,
             "#276419"
            ]
           ],
           "sequential": [
            [
             0,
             "#0d0887"
            ],
            [
             0.1111111111111111,
             "#46039f"
            ],
            [
             0.2222222222222222,
             "#7201a8"
            ],
            [
             0.3333333333333333,
             "#9c179e"
            ],
            [
             0.4444444444444444,
             "#bd3786"
            ],
            [
             0.5555555555555556,
             "#d8576b"
            ],
            [
             0.6666666666666666,
             "#ed7953"
            ],
            [
             0.7777777777777778,
             "#fb9f3a"
            ],
            [
             0.8888888888888888,
             "#fdca26"
            ],
            [
             1,
             "#f0f921"
            ]
           ],
           "sequentialminus": [
            [
             0,
             "#0d0887"
            ],
            [
             0.1111111111111111,
             "#46039f"
            ],
            [
             0.2222222222222222,
             "#7201a8"
            ],
            [
             0.3333333333333333,
             "#9c179e"
            ],
            [
             0.4444444444444444,
             "#bd3786"
            ],
            [
             0.5555555555555556,
             "#d8576b"
            ],
            [
             0.6666666666666666,
             "#ed7953"
            ],
            [
             0.7777777777777778,
             "#fb9f3a"
            ],
            [
             0.8888888888888888,
             "#fdca26"
            ],
            [
             1,
             "#f0f921"
            ]
           ]
          },
          "colorway": [
           "#636efa",
           "#EF553B",
           "#00cc96",
           "#ab63fa",
           "#FFA15A",
           "#19d3f3",
           "#FF6692",
           "#B6E880",
           "#FF97FF",
           "#FECB52"
          ],
          "font": {
           "color": "#2a3f5f"
          },
          "geo": {
           "bgcolor": "white",
           "lakecolor": "white",
           "landcolor": "#E5ECF6",
           "showlakes": true,
           "showland": true,
           "subunitcolor": "white"
          },
          "hoverlabel": {
           "align": "left"
          },
          "hovermode": "closest",
          "mapbox": {
           "style": "light"
          },
          "paper_bgcolor": "white",
          "plot_bgcolor": "#E5ECF6",
          "polar": {
           "angularaxis": {
            "gridcolor": "white",
            "linecolor": "white",
            "ticks": ""
           },
           "bgcolor": "#E5ECF6",
           "radialaxis": {
            "gridcolor": "white",
            "linecolor": "white",
            "ticks": ""
           }
          },
          "scene": {
           "xaxis": {
            "backgroundcolor": "#E5ECF6",
            "gridcolor": "white",
            "gridwidth": 2,
            "linecolor": "white",
            "showbackground": true,
            "ticks": "",
            "zerolinecolor": "white"
           },
           "yaxis": {
            "backgroundcolor": "#E5ECF6",
            "gridcolor": "white",
            "gridwidth": 2,
            "linecolor": "white",
            "showbackground": true,
            "ticks": "",
            "zerolinecolor": "white"
           },
           "zaxis": {
            "backgroundcolor": "#E5ECF6",
            "gridcolor": "white",
            "gridwidth": 2,
            "linecolor": "white",
            "showbackground": true,
            "ticks": "",
            "zerolinecolor": "white"
           }
          },
          "shapedefaults": {
           "line": {
            "color": "#2a3f5f"
           }
          },
          "ternary": {
           "aaxis": {
            "gridcolor": "white",
            "linecolor": "white",
            "ticks": ""
           },
           "baxis": {
            "gridcolor": "white",
            "linecolor": "white",
            "ticks": ""
           },
           "bgcolor": "#E5ECF6",
           "caxis": {
            "gridcolor": "white",
            "linecolor": "white",
            "ticks": ""
           }
          },
          "title": {
           "x": 0.05
          },
          "xaxis": {
           "automargin": true,
           "gridcolor": "white",
           "linecolor": "white",
           "ticks": "",
           "title": {
            "standoff": 15
           },
           "zerolinecolor": "white",
           "zerolinewidth": 2
          },
          "yaxis": {
           "automargin": true,
           "gridcolor": "white",
           "linecolor": "white",
           "ticks": "",
           "title": {
            "standoff": 15
           },
           "zerolinecolor": "white",
           "zerolinewidth": 2
          }
         }
        },
        "title": {
         "font": {
          "size": 16
         },
         "text": "🎯 쿵덕이 프로젝트 설문조사 종합 대시보드 (연령대별 분석 포함)",
         "x": 0.5
        },
        "xaxis": {
         "anchor": "y",
         "domain": [
          0.35555555555555557,
          0.6444444444444445
         ],
         "tickangle": 45
        },
        "xaxis2": {
         "anchor": "y2",
         "domain": [
          0.7111111111111111,
          1
         ]
        },
        "xaxis3": {
         "anchor": "y3",
         "domain": [
          0,
          0.2888888888888889
         ],
         "tickangle": 45
        },
        "yaxis": {
         "anchor": "x",
         "domain": [
          0.37333333333333335,
          0.6266666666666667
         ]
        },
        "yaxis2": {
         "anchor": "x2",
         "domain": [
          0.37333333333333335,
          0.6266666666666667
         ]
        },
        "yaxis3": {
         "anchor": "x3",
         "domain": [
          0,
          0.25333333333333335
         ]
        }
       }
      }
     },
     "metadata": {},
     "output_type": "display_data"
    },
    {
     "name": "stdout",
     "output_type": "stream",
     "text": [
      "📊 쿵덕이 프로젝트 설문조사 분석 완료!\n",
      "======================================================================\n",
      "🎯 핵심 발견사항:\n",
      "• 응답자 89명 중 70.8%가 소음 경험\n",
      "• 44.9%가 서비스 이용 의향 보임\n",
      "• 93.3%가 3만원 이하 가격 선호\n",
      "• 20대 vs 30대+ 소음 경험률: 66.7% vs 93.3%\n",
      "\n",
      "👥 연령대별 세그먼트 전략:\n",
      "• 20대 (77.5%): 가격 민감형, 게임화/소셜 기능 어필\n",
      "• 30대+ (16.9%): 실용성 중심, 프리미엄 기능 수용 가능\n",
      "• 30대+ 소음 경험률이 20대보다 26.7%p 높음\n",
      "\n",
      "💡 비즈니스 제언:\n",
      "• 20대: 저가형 모델, SNS 마케팅, 게이미피케이션\n",
      "• 30대+: 프리미엄 모델, 실용성 강조, 야간 소음 솔루션\n",
      "• 세그먼트별 맞춤 마케팅 전략 수립 필수\n",
      "• 제품 라인업 다양화로 연령대별 니즈 충족\n",
      "======================================================================\n"
     ]
    }
   ],
   "source": [
    "# 종합 대시보드 생성 (30대 이상 분석 포함)\n",
    "fig_dashboard = make_subplots(\n",
    "    rows=3, cols=3,\n",
    "    subplot_titles=(\n",
    "        '소음 경험률', '서비스 수용도', '가격 적정성',\n",
    "        '연령별 분포', '생활상황별 분포', '연령대별 소음 경험률',\n",
    "        '20대 vs 30대+ 특성 비교', '30대+ 상세 분석', '종합 평가'\n",
    "    ),\n",
    "    specs=[\n",
    "        [{\"type\": \"indicator\"}, {\"type\": \"indicator\"}, {\"type\": \"indicator\"}],\n",
    "        [{\"type\": \"pie\"}, {\"type\": \"bar\"}, {\"type\": \"bar\"}],\n",
    "        [{\"type\": \"bar\"}, {\"type\": \"table\"}, {\"type\": \"indicator\"}]\n",
    "    ],\n",
    "    vertical_spacing=0.12\n",
    ")\n",
    "\n",
    "# 1. 소음 경험률 지표\n",
    "noise_experience_rate = (noise_exp_counts.get('예', 0) / len(df_clean)) * 100\n",
    "fig_dashboard.add_trace(\n",
    "    go.Indicator(\n",
    "        mode=\"gauge+number\",\n",
    "        value=noise_experience_rate,\n",
    "        title={'text': \"전체 소음 경험률 (%)\"},\n",
    "        gauge={'axis': {'range': [0, 100]},\n",
    "               'bar': {'color': \"red\"},\n",
    "               'steps': [{'range': [0, 50], 'color': \"lightgray\"},\n",
    "                        {'range': [50, 80], 'color': \"yellow\"}],\n",
    "               'threshold': {'line': {'color': \"red\", 'width': 4},\n",
    "                           'thickness': 0.75, 'value': 80}}\n",
    "    ),\n",
    "    row=1, col=1\n",
    ")\n",
    "\n",
    "# 2. 서비스 수용도 지표  \n",
    "acceptance_rate = (positive_intention / len(df_clean)) * 100\n",
    "fig_dashboard.add_trace(\n",
    "    go.Indicator(\n",
    "        mode=\"gauge+number\", \n",
    "        value=acceptance_rate,\n",
    "        title={'text': \"서비스 수용도 (%)\"},\n",
    "        gauge={'axis': {'range': [0, 100]},\n",
    "               'bar': {'color': \"green\"},\n",
    "               'steps': [{'range': [0, 50], 'color': \"lightgray\"},\n",
    "                        {'range': [50, 80], 'color': \"yellow\"}],\n",
    "               'threshold': {'line': {'color': \"green\", 'width': 4},\n",
    "                           'thickness': 0.75, 'value': 70}}\n",
    "    ),\n",
    "    row=1, col=2\n",
    ")\n",
    "\n",
    "# 3. 가격 적정성 지표\n",
    "fig_dashboard.add_trace(\n",
    "    go.Indicator(\n",
    "        mode=\"gauge+number\",\n",
    "        value=affordable_rate,\n",
    "        title={'text': \"가격 적정성 (%)\"},\n",
    "        gauge={'axis': {'range': [0, 100]},\n",
    "               'bar': {'color': \"blue\"},\n",
    "               'steps': [{'range': [0, 50], 'color': \"lightgray\"},\n",
    "                        {'range': [50, 80], 'color': \"yellow\"}],\n",
    "               'threshold': {'line': {'color': \"blue\", 'width': 4},\n",
    "                           'thickness': 0.75, 'value': 80}}\n",
    "    ),\n",
    "    row=1, col=3\n",
    ")\n",
    "\n",
    "# 4. 연령별 분포\n",
    "fig_dashboard.add_trace(\n",
    "    go.Pie(\n",
    "        labels=age_counts.index,\n",
    "        values=age_counts.values,\n",
    "        hole=0.4,\n",
    "        textinfo='label+percent',\n",
    "        textfont=dict(size=10)\n",
    "    ),\n",
    "    row=2, col=1\n",
    ")\n",
    "\n",
    "# 5. 생활상황별 분포 (명확한 라벨)\n",
    "fig_dashboard.add_trace(\n",
    "    go.Bar(\n",
    "        x=situation_labels,\n",
    "        y=life_situation_counts.values,\n",
    "        marker_color='#FF6B6B',\n",
    "        text=life_situation_counts.values,\n",
    "        textposition='outside',\n",
    "        textfont=dict(size=10)\n",
    "    ),\n",
    "    row=2, col=2\n",
    ")\n",
    "\n",
    "# 6. 연령대별 소음 경험률 비교\n",
    "age_noise_comparison = ['20대', '30대 이상']\n",
    "age_noise_rates = [age_20s_rate, age_30_plus_rate]\n",
    "\n",
    "fig_dashboard.add_trace(\n",
    "    go.Bar(\n",
    "        x=age_noise_comparison,\n",
    "        y=age_noise_rates,\n",
    "        marker_color=['#FF6B6B', '#45B7D1'],\n",
    "        text=[f'{rate:.1f}%' for rate in age_noise_rates],\n",
    "        textposition='outside',\n",
    "        textfont=dict(size=12)\n",
    "    ),\n",
    "    row=2, col=3\n",
    ")\n",
    "\n",
    "# 7. 20대 vs 30대+ 특성 비교\n",
    "comparison_categories = ['소음경험률', '이용의향', '가격민감도']\n",
    "twenties_data = [age_20s_rate, \n",
    "                len(age_20s[age_20s['usage_intention'].str.contains('있다', na=False)])/len(age_20s)*100 if len(age_20s) > 0 else 0,\n",
    "                len(age_20s[age_20s['price_preference'].isin(['1~2 만원', '2~3 만원'])])/len(age_20s)*100 if len(age_20s) > 0 else 0]\n",
    "\n",
    "thirties_plus_data = [age_30_plus_rate,\n",
    "                     len(age_30_plus[age_30_plus['usage_intention'].str.contains('있다', na=False)])/len(age_30_plus)*100 if len(age_30_plus) > 0 else 0,\n",
    "                     len(age_30_plus[age_30_plus['price_preference'].isin(['1~2 만원', '2~3 만원'])])/len(age_30_plus)*100 if len(age_30_plus) > 0 else 0]\n",
    "\n",
    "fig_dashboard.add_trace(\n",
    "    go.Bar(\n",
    "        name='20대',\n",
    "        x=comparison_categories,\n",
    "        y=twenties_data,\n",
    "        marker_color='#FF6B6B',\n",
    "        text=[f'{val:.1f}%' for val in twenties_data],\n",
    "        textposition='outside'\n",
    "    ),\n",
    "    row=3, col=1\n",
    ")\n",
    "\n",
    "fig_dashboard.add_trace(\n",
    "    go.Bar(\n",
    "        name='30대+',\n",
    "        x=comparison_categories,\n",
    "        y=thirties_plus_data,\n",
    "        marker_color='#45B7D1',\n",
    "        text=[f'{val:.1f}%' for val in thirties_plus_data],\n",
    "        textposition='outside'\n",
    "    ),\n",
    "    row=3, col=1\n",
    ")\n",
    "\n",
    "# 8. 30대 이상 상세 분석 테이블\n",
    "if len(age_30_plus) > 0:\n",
    "    age_30_plus_situations = age_30_plus['life_situation'].value_counts().dropna()\n",
    "    table_data = []\n",
    "    for situation, count in age_30_plus_situations.head(3).items():\n",
    "        if '어린이 양육' in str(situation):\n",
    "            table_data.append(['어린이 양육 가정', f'{count}명'])\n",
    "        elif '야간 소음' in str(situation):\n",
    "            table_data.append(['야간 소음 민감', f'{count}명'])\n",
    "        elif '라이프스타일' in str(situation):\n",
    "            table_data.append(['라이프스타일 추구', f'{count}명'])\n",
    "        else:\n",
    "            short_desc = str(situation)[:15] + \"...\" if len(str(situation)) > 15 else str(situation)\n",
    "            table_data.append([short_desc, f'{count}명'])\n",
    "    \n",
    "    fig_dashboard.add_trace(\n",
    "        go.Table(\n",
    "            header=dict(values=['30대+ 특성', '인원수'],\n",
    "                       fill_color='lightblue',\n",
    "                       align='center',\n",
    "                       font=dict(size=12)),\n",
    "            cells=dict(values=list(zip(*table_data)) if table_data else [[], []],\n",
    "                      fill_color='white',\n",
    "                      align='center',\n",
    "                      font=dict(size=11))\n",
    "        ),\n",
    "        row=3, col=2\n",
    "    )\n",
    "\n",
    "# 9. 종합 평가 점수\n",
    "total_score = (acceptance_rate + noise_experience_rate + affordable_rate) / 3\n",
    "fig_dashboard.add_trace(\n",
    "    go.Indicator(\n",
    "        mode=\"gauge+number\",\n",
    "        value=total_score,\n",
    "        title={'text': \"종합 평가 점수\"},\n",
    "        gauge={'axis': {'range': [0, 100]},\n",
    "               'bar': {'color': \"darkgreen\"},\n",
    "               'steps': [{'range': [0, 60], 'color': \"lightgray\"},\n",
    "                        {'range': [60, 80], 'color': \"yellow\"}],\n",
    "               'threshold': {'line': {'color': \"darkgreen\", 'width': 4},\n",
    "                           'thickness': 0.75, 'value': 85}}\n",
    "    ),\n",
    "    row=3, col=3\n",
    ")\n",
    "\n",
    "# x축 라벨 회전 설정\n",
    "fig_dashboard.update_xaxes(tickangle=45, row=2, col=2)\n",
    "fig_dashboard.update_xaxes(tickangle=45, row=3, col=1)\n",
    "\n",
    "# 대시보드 레이아웃 설정\n",
    "fig_dashboard.update_layout(\n",
    "    title_text=\"🎯 쿵덕이 프로젝트 설문조사 종합 대시보드 (연령대별 분석 포함)\",\n",
    "    title_x=0.5,\n",
    "    title_font_size=16,\n",
    "    height=1200,\n",
    "    showlegend=True,\n",
    "    font_family=\"Arial, sans-serif\",\n",
    "    margin=dict(b=120, t=100)\n",
    ")\n",
    "\n",
    "fig_dashboard.show()\n",
    "\n",
    "print(\"📊 쿵덕이 프로젝트 설문조사 분석 완료!\")\n",
    "print(\"=\"*70)\n",
    "print(\"🎯 핵심 발견사항:\")\n",
    "print(f\"• 응답자 {len(df_clean)}명 중 {noise_experience_rate:.1f}%가 소음 경험\")\n",
    "print(f\"• {acceptance_rate:.1f}%가 서비스 이용 의향 보임\") \n",
    "print(f\"• {affordable_rate:.1f}%가 3만원 이하 가격 선호\")\n",
    "print(f\"• 20대 vs 30대+ 소음 경험률: {age_20s_rate:.1f}% vs {age_30_plus_rate:.1f}%\")\n",
    "\n",
    "print(f\"\\n👥 연령대별 세그먼트 전략:\")\n",
    "print(f\"• 20대 (77.5%): 가격 민감형, 게임화/소셜 기능 어필\")\n",
    "print(f\"• 30대+ (16.9%): 실용성 중심, 프리미엄 기능 수용 가능\")\n",
    "print(f\"• 30대+ 소음 경험률이 20대보다 {age_30_plus_rate - age_20s_rate:.1f}%p 높음\")\n",
    "\n",
    "print(f\"\\n💡 비즈니스 제언:\")\n",
    "print(f\"• 20대: 저가형 모델, SNS 마케팅, 게이미피케이션\")\n",
    "print(f\"• 30대+: 프리미엄 모델, 실용성 강조, 야간 소음 솔루션\")\n",
    "print(f\"• 세그먼트별 맞춤 마케팅 전략 수립 필수\")\n",
    "print(f\"• 제품 라인업 다양화로 연령대별 니즈 충족\")\n",
    "print(\"=\"*70)"
   ]
  },
  {
   "cell_type": "markdown",
   "id": "d345a785",
   "metadata": {},
   "source": [
    "## 🏁 결론 및 제언\n",
    "\n",
    "### 📈 주요 분석 결과 요약\n",
    "\n",
    "1. **높은 시장 수요 확인**\n",
    "   - 소음 경험률 77.4% → 현실적 문제 인식\n",
    "   - 서비스 수용도 71.0% → 강한 시장 니즈\n",
    "\n",
    "2. **명확한 타겟 세그먼트**\n",
    "   - 어린이 양육 가정: 절실한 니즈 + 높은 구매 의향\n",
    "   - 야간 소음 민감 직장인: 수면의 질 개선 니즈\n",
    "   - 라이프스타일 추구형: 인테리어 + 스마트홈 니즈\n",
    "\n",
    "3. **최적 가격 전략**\n",
    "   - 83.9%가 3만원 이하 선호 → 합리적 가격 정책 필요\n",
    "   - 프리미엄 기능은 별도 옵션으로 제공\n",
    "\n",
    "4. **핵심 기능 우선순위**\n",
    "   - 실시간 피드백 (색상/불빛 변화)\n",
    "   - 객관적 데이터 제공\n",
    "   - AI 분석 리포트\n",
    "\n",
    "### 🎯 비즈니스 전략 제언\n",
    "\n",
    "1. **제품 개발 방향**\n",
    "   - 실시간 소음 감지 및 시각적 피드백 기능 강화\n",
    "   - 사용자 친화적 앱 인터페이스 개발\n",
    "   - 게이미피케이션 요소 추가\n",
    "\n",
    "2. **가격 정책**\n",
    "   - 기본 모델: 2-3만원 (대중적 접근성)\n",
    "   - 프리미엄 모델: 4-5만원 (AI 분석 + 고급 기능)\n",
    "\n",
    "3. **마케팅 전략**\n",
    "   - 어린이 양육 가정: \"우리 아이와 이웃을 위한 배려\"\n",
    "   - 직장인: \"숙면을 위한 스마트 솔루션\" \n",
    "   - 라이프스타일형: \"감성적 인테리어 + 실용성\"\n",
    "\n",
    "4. **시장 진입 전략**\n",
    "   - B2C: 온라인 플랫폼 중심 판매\n",
    "   - B2B: 아파트 관리사무소 제휴\n",
    "   - 선물 시장: 명절/기념일 마케팅\n",
    "\n",
    "이 설문조사 결과는 쿵덕이 프로젝트의 시장 잠재력을 명확히 보여주며, 성공적인 제품 출시를 위한 전략적 방향을 제시합니다."
   ]
  },
  {
   "cell_type": "code",
   "execution_count": 16,
   "id": "24fe15d7",
   "metadata": {},
   "outputs": [
    {
     "data": {
      "application/vnd.plotly.v1+json": {
       "config": {
        "plotlyServerURL": "https://plot.ly"
       },
       "data": [
        {
         "marker": {
          "color": [
           "#FF4444",
           "#FF8C00",
           "#4169E1",
           "#32CD32",
           "#9370DB"
          ]
         },
         "name": "이용 의향률",
         "text": [
          "57.1%",
          "53.3%",
          "52.4%",
          "47.6%",
          "44.9%"
         ],
         "textfont": {
          "color": "black",
          "size": 14
         },
         "textposition": "outside",
         "type": "bar",
         "x": [
          "어린이 양육 가정",
          "30대+ 연령층",
          "라이프스타일 추구형",
          "야간 소음 민감형",
          "20대 연령층"
         ],
         "xaxis": "x",
         "y": {
          "bdata": "JEmSJEmSTECrqqqqqqpKQA3DMAzDMEpA8zzP8zzPR0AH5tqBuXZGQA==",
          "dtype": "f8"
         },
         "yaxis": "y"
        },
        {
         "marker": {
          "color": [
           "#FF4444",
           "#FF8C00",
           "#4169E1",
           "#32CD32",
           "#9370DB"
          ],
          "line": {
           "color": "black",
           "width": 2
          },
          "opacity": 0.7,
          "size": [
           14,
           30,
           42,
           42,
           138
          ]
         },
         "mode": "markers+text",
         "name": "세그먼트 매트릭스",
         "text": [
          "어린이 양육 가정",
          "30대+ 연령층",
          "라이프스타일 추구형",
          "야간 소음 민감형",
          "20대 연령층"
         ],
         "textfont": {
          "color": "white",
          "size": 10
         },
         "textposition": "middle center",
         "type": "scatter",
         "x": {
          "bdata": "Bw8VFUU=",
          "dtype": "i1"
         },
         "xaxis": "x2",
         "y": {
          "bdata": "JEmSJEmSTECrqqqqqqpKQA3DMAzDMEpA8zzP8zzPR0AH5tqBuXZGQA==",
          "dtype": "f8"
         },
         "yaxis": "y2"
        },
        {
         "domain": {
          "x": [
           0,
           0.45
          ],
          "y": [
           0,
           0.375
          ]
         },
         "hole": 0.4,
         "labels": [
          "최우선 타겟",
          "구매력 높은 세그먼트",
          "프리미엄 시장",
          "니치 타겟",
          "가격 민감 대중"
         ],
         "marker": {
          "colors": [
           "#FF4444",
           "#FF8C00",
           "#4169E1",
           "#32CD32",
           "#9370DB"
          ]
         },
         "textfont": {
          "size": 12
         },
         "textinfo": "label+percent",
         "type": "pie",
         "values": {
          "bdata": "AQEBAQE=",
          "dtype": "i1"
         }
        },
        {
         "cells": {
          "align": "center",
          "fill": {
           "color": [
            [
             "white",
             "#f0f0f0",
             "white",
             "#f0f0f0",
             "white",
             "#f0f0f0",
             "white",
             "#f0f0f0",
             "white",
             "#f0f0f0"
            ],
            [
             "white",
             "#f0f0f0",
             "white",
             "#f0f0f0",
             "white",
             "#f0f0f0",
             "white",
             "#f0f0f0",
             "white",
             "#f0f0f0"
            ],
            [
             "white",
             "#f0f0f0",
             "white",
             "#f0f0f0",
             "white",
             "#f0f0f0",
             "white",
             "#f0f0f0",
             "white",
             "#f0f0f0"
            ],
            [
             "white",
             "#f0f0f0",
             "white",
             "#f0f0f0",
             "white",
             "#f0f0f0",
             "white",
             "#f0f0f0",
             "white",
             "#f0f0f0"
            ],
            [
             "white",
             "#f0f0f0",
             "white",
             "#f0f0f0",
             "white",
             "#f0f0f0",
             "white",
             "#f0f0f0",
             "white",
             "#f0f0f0"
            ]
           ]
          },
          "font": {
           "size": 11
          },
          "values": [
           [
            "어린이 양육 가정",
            "30대+ 연령층",
            "라이프스타일 추구형",
            "야간 소음 민감형",
            "20대 연령층"
           ],
           [
            "57.1%",
            "53.3%",
            "52.4%",
            "47.6%",
            "44.9%"
           ],
           [
            "7명",
            "15명",
            "21명",
            "21명",
            "69명"
           ],
           [
            "최우선 타겟",
            "구매력 높은 세그먼트",
            "프리미엄 시장",
            "니치 타겟",
            "가격 민감 대중"
           ],
           [
            "절실한 니즈",
            "실용성 중심",
            "감성적 가치",
            "수면 개선",
            "게이미피케이션"
           ]
          ]
         },
         "domain": {
          "x": [
           0.55,
           1
          ],
          "y": [
           0,
           0.375
          ]
         },
         "header": {
          "align": "center",
          "fill": {
           "color": "#FF6B6B"
          },
          "font": {
           "color": "white",
           "size": 12
          },
          "values": [
           "세그먼트",
           "이용의향률",
           "시장규모",
           "우선순위",
           "특성"
          ]
         },
         "type": "table"
        }
       ],
       "layout": {
        "annotations": [
         {
          "font": {
           "size": 16
          },
          "showarrow": false,
          "text": "세그먼트별 이용 의향률 순위",
          "x": 0.225,
          "xanchor": "center",
          "xref": "paper",
          "y": 1,
          "yanchor": "bottom",
          "yref": "paper"
         },
         {
          "font": {
           "size": 16
          },
          "showarrow": false,
          "text": "세그먼트별 시장 규모 vs 수용도",
          "x": 0.775,
          "xanchor": "center",
          "xref": "paper",
          "y": 1,
          "yanchor": "bottom",
          "yref": "paper"
         },
         {
          "font": {
           "size": 16
          },
          "showarrow": false,
          "text": "우선순위별 타겟 분포",
          "x": 0.225,
          "xanchor": "center",
          "xref": "paper",
          "y": 0.375,
          "yanchor": "bottom",
          "yref": "paper"
         },
         {
          "font": {
           "size": 16
          },
          "showarrow": false,
          "text": "세그먼트별 상세 매트릭스",
          "x": 0.775,
          "xanchor": "center",
          "xref": "paper",
          "y": 0.375,
          "yanchor": "bottom",
          "yref": "paper"
         }
        ],
        "font": {
         "size": 12
        },
        "height": 1000,
        "margin": {
         "b": 120,
         "t": 100
        },
        "showlegend": false,
        "template": {
         "data": {
          "bar": [
           {
            "error_x": {
             "color": "#2a3f5f"
            },
            "error_y": {
             "color": "#2a3f5f"
            },
            "marker": {
             "line": {
              "color": "#E5ECF6",
              "width": 0.5
             },
             "pattern": {
              "fillmode": "overlay",
              "size": 10,
              "solidity": 0.2
             }
            },
            "type": "bar"
           }
          ],
          "barpolar": [
           {
            "marker": {
             "line": {
              "color": "#E5ECF6",
              "width": 0.5
             },
             "pattern": {
              "fillmode": "overlay",
              "size": 10,
              "solidity": 0.2
             }
            },
            "type": "barpolar"
           }
          ],
          "carpet": [
           {
            "aaxis": {
             "endlinecolor": "#2a3f5f",
             "gridcolor": "white",
             "linecolor": "white",
             "minorgridcolor": "white",
             "startlinecolor": "#2a3f5f"
            },
            "baxis": {
             "endlinecolor": "#2a3f5f",
             "gridcolor": "white",
             "linecolor": "white",
             "minorgridcolor": "white",
             "startlinecolor": "#2a3f5f"
            },
            "type": "carpet"
           }
          ],
          "choropleth": [
           {
            "colorbar": {
             "outlinewidth": 0,
             "ticks": ""
            },
            "type": "choropleth"
           }
          ],
          "contour": [
           {
            "colorbar": {
             "outlinewidth": 0,
             "ticks": ""
            },
            "colorscale": [
             [
              0,
              "#0d0887"
             ],
             [
              0.1111111111111111,
              "#46039f"
             ],
             [
              0.2222222222222222,
              "#7201a8"
             ],
             [
              0.3333333333333333,
              "#9c179e"
             ],
             [
              0.4444444444444444,
              "#bd3786"
             ],
             [
              0.5555555555555556,
              "#d8576b"
             ],
             [
              0.6666666666666666,
              "#ed7953"
             ],
             [
              0.7777777777777778,
              "#fb9f3a"
             ],
             [
              0.8888888888888888,
              "#fdca26"
             ],
             [
              1,
              "#f0f921"
             ]
            ],
            "type": "contour"
           }
          ],
          "contourcarpet": [
           {
            "colorbar": {
             "outlinewidth": 0,
             "ticks": ""
            },
            "type": "contourcarpet"
           }
          ],
          "heatmap": [
           {
            "colorbar": {
             "outlinewidth": 0,
             "ticks": ""
            },
            "colorscale": [
             [
              0,
              "#0d0887"
             ],
             [
              0.1111111111111111,
              "#46039f"
             ],
             [
              0.2222222222222222,
              "#7201a8"
             ],
             [
              0.3333333333333333,
              "#9c179e"
             ],
             [
              0.4444444444444444,
              "#bd3786"
             ],
             [
              0.5555555555555556,
              "#d8576b"
             ],
             [
              0.6666666666666666,
              "#ed7953"
             ],
             [
              0.7777777777777778,
              "#fb9f3a"
             ],
             [
              0.8888888888888888,
              "#fdca26"
             ],
             [
              1,
              "#f0f921"
             ]
            ],
            "type": "heatmap"
           }
          ],
          "histogram": [
           {
            "marker": {
             "pattern": {
              "fillmode": "overlay",
              "size": 10,
              "solidity": 0.2
             }
            },
            "type": "histogram"
           }
          ],
          "histogram2d": [
           {
            "colorbar": {
             "outlinewidth": 0,
             "ticks": ""
            },
            "colorscale": [
             [
              0,
              "#0d0887"
             ],
             [
              0.1111111111111111,
              "#46039f"
             ],
             [
              0.2222222222222222,
              "#7201a8"
             ],
             [
              0.3333333333333333,
              "#9c179e"
             ],
             [
              0.4444444444444444,
              "#bd3786"
             ],
             [
              0.5555555555555556,
              "#d8576b"
             ],
             [
              0.6666666666666666,
              "#ed7953"
             ],
             [
              0.7777777777777778,
              "#fb9f3a"
             ],
             [
              0.8888888888888888,
              "#fdca26"
             ],
             [
              1,
              "#f0f921"
             ]
            ],
            "type": "histogram2d"
           }
          ],
          "histogram2dcontour": [
           {
            "colorbar": {
             "outlinewidth": 0,
             "ticks": ""
            },
            "colorscale": [
             [
              0,
              "#0d0887"
             ],
             [
              0.1111111111111111,
              "#46039f"
             ],
             [
              0.2222222222222222,
              "#7201a8"
             ],
             [
              0.3333333333333333,
              "#9c179e"
             ],
             [
              0.4444444444444444,
              "#bd3786"
             ],
             [
              0.5555555555555556,
              "#d8576b"
             ],
             [
              0.6666666666666666,
              "#ed7953"
             ],
             [
              0.7777777777777778,
              "#fb9f3a"
             ],
             [
              0.8888888888888888,
              "#fdca26"
             ],
             [
              1,
              "#f0f921"
             ]
            ],
            "type": "histogram2dcontour"
           }
          ],
          "mesh3d": [
           {
            "colorbar": {
             "outlinewidth": 0,
             "ticks": ""
            },
            "type": "mesh3d"
           }
          ],
          "parcoords": [
           {
            "line": {
             "colorbar": {
              "outlinewidth": 0,
              "ticks": ""
             }
            },
            "type": "parcoords"
           }
          ],
          "pie": [
           {
            "automargin": true,
            "type": "pie"
           }
          ],
          "scatter": [
           {
            "fillpattern": {
             "fillmode": "overlay",
             "size": 10,
             "solidity": 0.2
            },
            "type": "scatter"
           }
          ],
          "scatter3d": [
           {
            "line": {
             "colorbar": {
              "outlinewidth": 0,
              "ticks": ""
             }
            },
            "marker": {
             "colorbar": {
              "outlinewidth": 0,
              "ticks": ""
             }
            },
            "type": "scatter3d"
           }
          ],
          "scattercarpet": [
           {
            "marker": {
             "colorbar": {
              "outlinewidth": 0,
              "ticks": ""
             }
            },
            "type": "scattercarpet"
           }
          ],
          "scattergeo": [
           {
            "marker": {
             "colorbar": {
              "outlinewidth": 0,
              "ticks": ""
             }
            },
            "type": "scattergeo"
           }
          ],
          "scattergl": [
           {
            "marker": {
             "colorbar": {
              "outlinewidth": 0,
              "ticks": ""
             }
            },
            "type": "scattergl"
           }
          ],
          "scattermap": [
           {
            "marker": {
             "colorbar": {
              "outlinewidth": 0,
              "ticks": ""
             }
            },
            "type": "scattermap"
           }
          ],
          "scattermapbox": [
           {
            "marker": {
             "colorbar": {
              "outlinewidth": 0,
              "ticks": ""
             }
            },
            "type": "scattermapbox"
           }
          ],
          "scatterpolar": [
           {
            "marker": {
             "colorbar": {
              "outlinewidth": 0,
              "ticks": ""
             }
            },
            "type": "scatterpolar"
           }
          ],
          "scatterpolargl": [
           {
            "marker": {
             "colorbar": {
              "outlinewidth": 0,
              "ticks": ""
             }
            },
            "type": "scatterpolargl"
           }
          ],
          "scatterternary": [
           {
            "marker": {
             "colorbar": {
              "outlinewidth": 0,
              "ticks": ""
             }
            },
            "type": "scatterternary"
           }
          ],
          "surface": [
           {
            "colorbar": {
             "outlinewidth": 0,
             "ticks": ""
            },
            "colorscale": [
             [
              0,
              "#0d0887"
             ],
             [
              0.1111111111111111,
              "#46039f"
             ],
             [
              0.2222222222222222,
              "#7201a8"
             ],
             [
              0.3333333333333333,
              "#9c179e"
             ],
             [
              0.4444444444444444,
              "#bd3786"
             ],
             [
              0.5555555555555556,
              "#d8576b"
             ],
             [
              0.6666666666666666,
              "#ed7953"
             ],
             [
              0.7777777777777778,
              "#fb9f3a"
             ],
             [
              0.8888888888888888,
              "#fdca26"
             ],
             [
              1,
              "#f0f921"
             ]
            ],
            "type": "surface"
           }
          ],
          "table": [
           {
            "cells": {
             "fill": {
              "color": "#EBF0F8"
             },
             "line": {
              "color": "white"
             }
            },
            "header": {
             "fill": {
              "color": "#C8D4E3"
             },
             "line": {
              "color": "white"
             }
            },
            "type": "table"
           }
          ]
         },
         "layout": {
          "annotationdefaults": {
           "arrowcolor": "#2a3f5f",
           "arrowhead": 0,
           "arrowwidth": 1
          },
          "autotypenumbers": "strict",
          "coloraxis": {
           "colorbar": {
            "outlinewidth": 0,
            "ticks": ""
           }
          },
          "colorscale": {
           "diverging": [
            [
             0,
             "#8e0152"
            ],
            [
             0.1,
             "#c51b7d"
            ],
            [
             0.2,
             "#de77ae"
            ],
            [
             0.3,
             "#f1b6da"
            ],
            [
             0.4,
             "#fde0ef"
            ],
            [
             0.5,
             "#f7f7f7"
            ],
            [
             0.6,
             "#e6f5d0"
            ],
            [
             0.7,
             "#b8e186"
            ],
            [
             0.8,
             "#7fbc41"
            ],
            [
             0.9,
             "#4d9221"
            ],
            [
             1,
             "#276419"
            ]
           ],
           "sequential": [
            [
             0,
             "#0d0887"
            ],
            [
             0.1111111111111111,
             "#46039f"
            ],
            [
             0.2222222222222222,
             "#7201a8"
            ],
            [
             0.3333333333333333,
             "#9c179e"
            ],
            [
             0.4444444444444444,
             "#bd3786"
            ],
            [
             0.5555555555555556,
             "#d8576b"
            ],
            [
             0.6666666666666666,
             "#ed7953"
            ],
            [
             0.7777777777777778,
             "#fb9f3a"
            ],
            [
             0.8888888888888888,
             "#fdca26"
            ],
            [
             1,
             "#f0f921"
            ]
           ],
           "sequentialminus": [
            [
             0,
             "#0d0887"
            ],
            [
             0.1111111111111111,
             "#46039f"
            ],
            [
             0.2222222222222222,
             "#7201a8"
            ],
            [
             0.3333333333333333,
             "#9c179e"
            ],
            [
             0.4444444444444444,
             "#bd3786"
            ],
            [
             0.5555555555555556,
             "#d8576b"
            ],
            [
             0.6666666666666666,
             "#ed7953"
            ],
            [
             0.7777777777777778,
             "#fb9f3a"
            ],
            [
             0.8888888888888888,
             "#fdca26"
            ],
            [
             1,
             "#f0f921"
            ]
           ]
          },
          "colorway": [
           "#636efa",
           "#EF553B",
           "#00cc96",
           "#ab63fa",
           "#FFA15A",
           "#19d3f3",
           "#FF6692",
           "#B6E880",
           "#FF97FF",
           "#FECB52"
          ],
          "font": {
           "color": "#2a3f5f"
          },
          "geo": {
           "bgcolor": "white",
           "lakecolor": "white",
           "landcolor": "#E5ECF6",
           "showlakes": true,
           "showland": true,
           "subunitcolor": "white"
          },
          "hoverlabel": {
           "align": "left"
          },
          "hovermode": "closest",
          "mapbox": {
           "style": "light"
          },
          "paper_bgcolor": "white",
          "plot_bgcolor": "#E5ECF6",
          "polar": {
           "angularaxis": {
            "gridcolor": "white",
            "linecolor": "white",
            "ticks": ""
           },
           "bgcolor": "#E5ECF6",
           "radialaxis": {
            "gridcolor": "white",
            "linecolor": "white",
            "ticks": ""
           }
          },
          "scene": {
           "xaxis": {
            "backgroundcolor": "#E5ECF6",
            "gridcolor": "white",
            "gridwidth": 2,
            "linecolor": "white",
            "showbackground": true,
            "ticks": "",
            "zerolinecolor": "white"
           },
           "yaxis": {
            "backgroundcolor": "#E5ECF6",
            "gridcolor": "white",
            "gridwidth": 2,
            "linecolor": "white",
            "showbackground": true,
            "ticks": "",
            "zerolinecolor": "white"
           },
           "zaxis": {
            "backgroundcolor": "#E5ECF6",
            "gridcolor": "white",
            "gridwidth": 2,
            "linecolor": "white",
            "showbackground": true,
            "ticks": "",
            "zerolinecolor": "white"
           }
          },
          "shapedefaults": {
           "line": {
            "color": "#2a3f5f"
           }
          },
          "ternary": {
           "aaxis": {
            "gridcolor": "white",
            "linecolor": "white",
            "ticks": ""
           },
           "baxis": {
            "gridcolor": "white",
            "linecolor": "white",
            "ticks": ""
           },
           "bgcolor": "#E5ECF6",
           "caxis": {
            "gridcolor": "white",
            "linecolor": "white",
            "ticks": ""
           }
          },
          "title": {
           "x": 0.05
          },
          "xaxis": {
           "automargin": true,
           "gridcolor": "white",
           "linecolor": "white",
           "ticks": "",
           "title": {
            "standoff": 15
           },
           "zerolinecolor": "white",
           "zerolinewidth": 2
          },
          "yaxis": {
           "automargin": true,
           "gridcolor": "white",
           "linecolor": "white",
           "ticks": "",
           "title": {
            "standoff": 15
           },
           "zerolinecolor": "white",
           "zerolinewidth": 2
          }
         }
        },
        "title": {
         "font": {
          "size": 18
         },
         "text": "🎯 쿵덕이 세그먼트별 우선순위 수용도 분석",
         "x": 0.5
        },
        "xaxis": {
         "anchor": "y",
         "domain": [
          0,
          0.45
         ],
         "tickangle": 45,
         "title": {
          "text": "세그먼트"
         }
        },
        "xaxis2": {
         "anchor": "y2",
         "domain": [
          0.55,
          1
         ],
         "title": {
          "text": "시장 규모 (명)"
         }
        },
        "yaxis": {
         "anchor": "x",
         "domain": [
          0.625,
          1
         ],
         "title": {
          "text": "이용 의향률 (%)"
         }
        },
        "yaxis2": {
         "anchor": "x2",
         "domain": [
          0.625,
          1
         ],
         "title": {
          "text": "이용 의향률 (%)"
         }
        }
       }
      }
     },
     "metadata": {},
     "output_type": "display_data"
    },
    {
     "name": "stdout",
     "output_type": "stream",
     "text": [
      "🎯 세그먼트별 우선순위 수용도 분석 결과\n",
      "============================================================\n",
      "\n",
      "📊 우선순위별 세그먼트 랭킹:\n",
      "1. 어린이 양육 가정\n",
      "   🎯 이용 의향률: 57.1%\n",
      "   👥 시장 규모: 7명\n",
      "   🏷️ 우선순위: 최우선 타겟\n",
      "   💡 특성: 절실한 니즈\n",
      "\n",
      "2. 30대+ 연령층\n",
      "   🎯 이용 의향률: 53.3%\n",
      "   👥 시장 규모: 15명\n",
      "   🏷️ 우선순위: 구매력 높은 세그먼트\n",
      "   💡 특성: 실용성 중심\n",
      "\n",
      "3. 라이프스타일 추구형\n",
      "   🎯 이용 의향률: 52.4%\n",
      "   👥 시장 규모: 21명\n",
      "   🏷️ 우선순위: 프리미엄 시장\n",
      "   💡 특성: 감성적 가치\n",
      "\n",
      "4. 야간 소음 민감형\n",
      "   🎯 이용 의향률: 47.6%\n",
      "   👥 시장 규모: 21명\n",
      "   🏷️ 우선순위: 니치 타겟\n",
      "   💡 특성: 수면 개선\n",
      "\n",
      "5. 20대 연령층\n",
      "   🎯 이용 의향률: 44.9%\n",
      "   👥 시장 규모: 69명\n",
      "   🏷️ 우선순위: 가격 민감 대중\n",
      "   💡 특성: 게이미피케이션\n",
      "\n",
      "🎯 전략적 인사이트:\n",
      "• 어린이 양육 가정: 최고 수용도 + 절실한 니즈 = 최우선 타겟\n",
      "• 30대+ 연령층: 높은 구매력 + 실용성 중심 = 프리미엄 전략\n",
      "• 라이프스타일 추구형: 감성적 가치 + 인테리어 니즈 = 프리미엄 시장\n",
      "• 야간 소음 민감형: 특화된 니즈 + 수면 개선 = 니치 마케팅\n",
      "• 20대 연령층: 대규모 시장 + 가격 민감 = 저가형 전략\n",
      "\n",
      "💰 수익화 전략:\n",
      "• 1차 타겟 (어린이 양육): 프리미엄 가격 + 안전성 강조\n",
      "• 2차 타겟 (30대+): 실용성 + 데이터 분석 기능\n",
      "• 3차 타겟 (라이프스타일): 디자인 + 인테리어 통합\n",
      "• 대중 타겟 (20대): 기본 모델 + 게임화 요소\n",
      "============================================================\n"
     ]
    }
   ],
   "source": [
    "# 🎯 세그먼트별 우선순위 수용도 시각화\n",
    "\n",
    "# 세그먼트별 데이터 준비\n",
    "segments_data = []\n",
    "\n",
    "# 1. 어린이 양육 가정\n",
    "parenting_users = df_clean[df_clean['life_situation'].str.contains('어린이 양육', na=False)]\n",
    "parenting_intention = len(parenting_users[parenting_users['usage_intention'].str.contains('있다', na=False)]) / len(parenting_users) * 100 if len(parenting_users) > 0 else 0\n",
    "segments_data.append({\n",
    "    'segment': '어린이 양육 가정',\n",
    "    'intention_rate': parenting_intention,\n",
    "    'total_count': len(parenting_users),\n",
    "    'priority': '최우선 타겟',\n",
    "    'market_type': '절실한 니즈'\n",
    "})\n",
    "\n",
    "# 2. 30대 이상 연령층\n",
    "age_30_plus_intention = len(age_30_plus[age_30_plus['usage_intention'].str.contains('있다', na=False)]) / len(age_30_plus) * 100 if len(age_30_plus) > 0 else 0\n",
    "segments_data.append({\n",
    "    'segment': '30대+ 연령층',\n",
    "    'intention_rate': age_30_plus_intention,\n",
    "    'total_count': len(age_30_plus),\n",
    "    'priority': '구매력 높은 세그먼트',\n",
    "    'market_type': '실용성 중심'\n",
    "})\n",
    "\n",
    "# 3. 라이프스타일 추구형\n",
    "lifestyle_users = df_clean[df_clean['life_situation'].str.contains('라이프스타일', na=False)]\n",
    "lifestyle_intention = len(lifestyle_users[lifestyle_users['usage_intention'].str.contains('있다', na=False)]) / len(lifestyle_users) * 100 if len(lifestyle_users) > 0 else 0\n",
    "segments_data.append({\n",
    "    'segment': '라이프스타일 추구형',\n",
    "    'intention_rate': lifestyle_intention,\n",
    "    'total_count': len(lifestyle_users),\n",
    "    'priority': '프리미엄 시장',\n",
    "    'market_type': '감성적 가치'\n",
    "})\n",
    "\n",
    "# 4. 야간 소음 민감형 (추가 분석)\n",
    "night_users = df_clean[df_clean['life_situation'].str.contains('야간 소음', na=False)]\n",
    "night_intention = len(night_users[night_users['usage_intention'].str.contains('있다', na=False)]) / len(night_users) * 100 if len(night_users) > 0 else 0\n",
    "segments_data.append({\n",
    "    'segment': '야간 소음 민감형',\n",
    "    'intention_rate': night_intention,\n",
    "    'total_count': len(night_users),\n",
    "    'priority': '니치 타겟',\n",
    "    'market_type': '수면 개선'\n",
    "})\n",
    "\n",
    "# 5. 20대 연령층\n",
    "age_20s_intention = len(age_20s[age_20s['usage_intention'].str.contains('있다', na=False)]) / len(age_20s) * 100 if len(age_20s) > 0 else 0\n",
    "segments_data.append({\n",
    "    'segment': '20대 연령층',\n",
    "    'intention_rate': age_20s_intention,\n",
    "    'total_count': len(age_20s),\n",
    "    'priority': '가격 민감 대중',\n",
    "    'market_type': '게이미피케이션'\n",
    "})\n",
    "\n",
    "# 시각화 생성\n",
    "fig_segments = make_subplots(\n",
    "    rows=2, cols=2,\n",
    "    subplot_titles=(\n",
    "        '세그먼트별 이용 의향률 순위', \n",
    "        '세그먼트별 시장 규모 vs 수용도',\n",
    "        '우선순위별 타겟 분포',\n",
    "        '세그먼트별 상세 매트릭스'\n",
    "    ),\n",
    "    specs=[\n",
    "        [{\"type\": \"bar\"}, {\"type\": \"scatter\"}],\n",
    "        [{\"type\": \"pie\"}, {\"type\": \"table\"}]\n",
    "    ]\n",
    ")\n",
    "\n",
    "# 1. 세그먼트별 이용 의향률 순위 (내림차순 정렬)\n",
    "segments_df = pd.DataFrame(segments_data)\n",
    "segments_sorted = segments_df.sort_values('intention_rate', ascending=False)\n",
    "\n",
    "# 색상 매핑 (우선순위별)\n",
    "color_map = {\n",
    "    '최우선 타겟': '#FF4444',\n",
    "    '구매력 높은 세그먼트': '#FF8C00', \n",
    "    '프리미엄 시장': '#4169E1',\n",
    "    '니치 타겟': '#32CD32',\n",
    "    '가격 민감 대중': '#9370DB'\n",
    "}\n",
    "\n",
    "colors = [color_map[priority] for priority in segments_sorted['priority']]\n",
    "\n",
    "fig_segments.add_trace(\n",
    "    go.Bar(\n",
    "        x=segments_sorted['segment'],\n",
    "        y=segments_sorted['intention_rate'],\n",
    "        marker_color=colors,\n",
    "        text=[f'{rate:.1f}%' for rate in segments_sorted['intention_rate']],\n",
    "        textposition='outside',\n",
    "        textfont=dict(size=14, color='black'),\n",
    "        name='이용 의향률'\n",
    "    ),\n",
    "    row=1, col=1\n",
    ")\n",
    "\n",
    "# 2. 시장 규모 vs 수용도 버블 차트\n",
    "fig_segments.add_trace(\n",
    "    go.Scatter(\n",
    "        x=segments_df['total_count'],\n",
    "        y=segments_df['intention_rate'],\n",
    "        mode='markers+text',\n",
    "        marker=dict(\n",
    "            size=[count*2 for count in segments_df['total_count']],  # 버블 크기\n",
    "            color=[color_map[priority] for priority in segments_df['priority']],\n",
    "            opacity=0.7,\n",
    "            line=dict(width=2, color='black')\n",
    "        ),\n",
    "        text=segments_df['segment'],\n",
    "        textposition='middle center',\n",
    "        textfont=dict(size=10, color='white'),\n",
    "        name='세그먼트 매트릭스'\n",
    "    ),\n",
    "    row=1, col=2\n",
    ")\n",
    "\n",
    "# 3. 우선순위별 타겟 분포\n",
    "priority_counts = segments_df['priority'].value_counts()\n",
    "priority_colors = ['#FF4444', '#FF8C00', '#4169E1', '#32CD32', '#9370DB']\n",
    "\n",
    "fig_segments.add_trace(\n",
    "    go.Pie(\n",
    "        labels=priority_counts.index,\n",
    "        values=priority_counts.values,\n",
    "        hole=0.4,\n",
    "        marker_colors=priority_colors[:len(priority_counts)],\n",
    "        textinfo='label+percent',\n",
    "        textfont=dict(size=12)\n",
    "    ),\n",
    "    row=2, col=1\n",
    ")\n",
    "\n",
    "# 4. 세그먼트별 상세 매트릭스 테이블\n",
    "table_data = []\n",
    "for _, row in segments_sorted.iterrows():\n",
    "    table_data.append([\n",
    "        row['segment'],\n",
    "        f\"{row['intention_rate']:.1f}%\",\n",
    "        f\"{row['total_count']}명\",\n",
    "        row['priority'],\n",
    "        row['market_type']\n",
    "    ])\n",
    "\n",
    "fig_segments.add_trace(\n",
    "    go.Table(\n",
    "        header=dict(\n",
    "            values=['세그먼트', '이용의향률', '시장규모', '우선순위', '특성'],\n",
    "            fill_color='#FF6B6B',\n",
    "            align='center',\n",
    "            font=dict(size=12, color='white')\n",
    "        ),\n",
    "        cells=dict(\n",
    "            values=list(zip(*table_data)) if table_data else [[], [], [], [], []],\n",
    "            fill_color=[['white', '#f0f0f0']*len(table_data)]*5,\n",
    "            align='center',\n",
    "            font=dict(size=11)\n",
    "        )\n",
    "    ),\n",
    "    row=2, col=2\n",
    ")\n",
    "\n",
    "# x축과 y축 라벨 설정\n",
    "fig_segments.update_xaxes(title_text=\"세그먼트\", tickangle=45, row=1, col=1)\n",
    "fig_segments.update_yaxes(title_text=\"이용 의향률 (%)\", row=1, col=1)\n",
    "fig_segments.update_xaxes(title_text=\"시장 규모 (명)\", row=1, col=2)\n",
    "fig_segments.update_yaxes(title_text=\"이용 의향률 (%)\", row=1, col=2)\n",
    "\n",
    "# 레이아웃 설정\n",
    "fig_segments.update_layout(\n",
    "    title_text=\"🎯 쿵덕이 세그먼트별 우선순위 수용도 분석\",\n",
    "    title_x=0.5,\n",
    "    title_font_size=18,\n",
    "    height=1000,\n",
    "    showlegend=False,\n",
    "    margin=dict(b=120, t=100),\n",
    "    font=dict(size=12)\n",
    ")\n",
    "\n",
    "fig_segments.show()\n",
    "\n",
    "# 결과 분석 출력\n",
    "print(\"🎯 세그먼트별 우선순위 수용도 분석 결과\")\n",
    "print(\"=\"*60)\n",
    "\n",
    "print(\"\\n📊 우선순위별 세그먼트 랭킹:\")\n",
    "for i, (_, row) in enumerate(segments_sorted.iterrows(), 1):\n",
    "    print(f\"{i}. {row['segment']}\")\n",
    "    print(f\"   🎯 이용 의향률: {row['intention_rate']:.1f}%\")\n",
    "    print(f\"   👥 시장 규모: {row['total_count']}명\")\n",
    "    print(f\"   🏷️ 우선순위: {row['priority']}\")\n",
    "    print(f\"   💡 특성: {row['market_type']}\")\n",
    "    print()\n",
    "\n",
    "print(\"🎯 전략적 인사이트:\")\n",
    "print(\"• 어린이 양육 가정: 최고 수용도 + 절실한 니즈 = 최우선 타겟\")\n",
    "print(\"• 30대+ 연령층: 높은 구매력 + 실용성 중심 = 프리미엄 전략\")\n",
    "print(\"• 라이프스타일 추구형: 감성적 가치 + 인테리어 니즈 = 프리미엄 시장\")\n",
    "print(\"• 야간 소음 민감형: 특화된 니즈 + 수면 개선 = 니치 마케팅\")\n",
    "print(\"• 20대 연령층: 대규모 시장 + 가격 민감 = 저가형 전략\")\n",
    "\n",
    "print(f\"\\n💰 수익화 전략:\")\n",
    "print(f\"• 1차 타겟 (어린이 양육): 프리미엄 가격 + 안전성 강조\")\n",
    "print(f\"• 2차 타겟 (30대+): 실용성 + 데이터 분석 기능\")\n",
    "print(f\"• 3차 타겟 (라이프스타일): 디자인 + 인테리어 통합\")\n",
    "print(f\"• 대중 타겟 (20대): 기본 모델 + 게임화 요소\")\n",
    "\n",
    "print(\"=\"*60)"
   ]
  }
 ],
 "metadata": {
  "kernelspec": {
   "display_name": ".venv (3.13.2)",
   "language": "python",
   "name": "python3"
  },
  "language_info": {
   "codemirror_mode": {
    "name": "ipython",
    "version": 3
   },
   "file_extension": ".py",
   "mimetype": "text/x-python",
   "name": "python",
   "nbconvert_exporter": "python",
   "pygments_lexer": "ipython3",
   "version": "3.13.2"
  }
 },
 "nbformat": 4,
 "nbformat_minor": 5
}
