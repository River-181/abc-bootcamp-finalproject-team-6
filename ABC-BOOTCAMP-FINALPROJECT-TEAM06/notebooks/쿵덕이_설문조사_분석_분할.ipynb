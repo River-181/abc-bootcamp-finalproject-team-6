{
 "cells": [
  {
   "cell_type": "markdown",
   "id": "5339909c",
   "metadata": {},
   "source": [
    "# 🎯 쿵덕이 프로젝트 설문조사 분석\n",
    "\n",
    "배려 깊은 우리 집, 건강한 공동주택 생활을 위한 생각 나눔 설문조사 데이터를 분석하여 쿵덕이 IoT 제품의 시장 잠재력과 타겟 고객 니즈를 파악합니다.\n",
    "\n",
    "## 분석 목표\n",
    "- 층간소음 문제 인식 및 경험 패턴 분석\n",
    "- 쿵덕이 서비스에 대한 수용도 및 기대 효과 측정\n",
    "- 타겟 세그먼트별 특성 및 구매 의향 분석\n",
    "- 가격 민감도 및 제품 기능 선호도 조사\n",
    "\n",
    "**데이터 수집 기간**: 2025년 8월 9일 - 8월 10일  \n",
    "**총 응답자 수**: 93명"
   ]
  },
  {
   "cell_type": "code",
   "execution_count": 1,
   "id": "aee26305",
   "metadata": {},
   "outputs": [
    {
     "name": "stdout",
     "output_type": "stream",
     "text": [
      "🏠 쿵덕이 설문조사 데이터 로드 완료\n",
      "응답자 수: 89명\n",
      "질문 항목 수: 13개\n",
      "\n",
      "데이터 구조:\n",
      "(89, 13)\n"
     ]
    }
   ],
   "source": [
    "# 라이브러리 및 데이터 로드\n",
    "import pandas as pd\n",
    "import numpy as np\n",
    "import matplotlib.pyplot as plt\n",
    "import seaborn as sns\n",
    "import plotly.express as px\n",
    "import plotly.graph_objects as go\n",
    "from plotly.subplots import make_subplots\n",
    "import warnings\n",
    "warnings.filterwarnings('ignore')\n",
    "\n",
    "# 한글 폰트 설정 (matplotlib)\n",
    "plt.rcParams['font.family'] = 'DejaVu Sans'\n",
    "plt.rcParams['axes.unicode_minus'] = False\n",
    "\n",
    "# 데이터 로드\n",
    "data_path = '/Users/river/abc-bootcamp-finalproject-team-6/project/data/설문조사/배려 깊은 우리 집, 건강한 공동주택 생활을 위한 생각 나눔 설문지(응답) - 설문지 응답 시트1.csv'\n",
    "df = pd.read_csv(data_path, encoding='utf-8')\n",
    "\n",
    "print(\"🏠 쿵덕이 설문조사 데이터 로드 완료\")\n",
    "print(f\"응답자 수: {len(df)}명\")\n",
    "print(f\"질문 항목 수: {len(df.columns)}개\")\n",
    "print(\"\\n데이터 구조:\")\n",
    "print(df.shape)"
   ]
  },
  {
   "cell_type": "markdown",
   "id": "7311de88",
   "metadata": {},
   "source": [
    "## 📊 데이터 전처리 및 정리\n",
    "\n",
    "설문조사 컬럼명이 매우 길어서 분석에 용이하도록 간소화하고, 결측값 처리 및 다중 선택 항목을 분리합니다."
   ]
  },
  {
   "cell_type": "code",
   "execution_count": 2,
   "id": "0ee5e709",
   "metadata": {},
   "outputs": [
    {
     "name": "stdout",
     "output_type": "stream",
     "text": [
      "📋 전처리된 데이터 구조:\n",
      "전체 응답수: 89개\n",
      "컬럼 수: 13개\n",
      "\n",
      "🔍 결측값 현황:\n",
      "noise_frequency            21\n",
      "self_awareness              1\n",
      "noise_reduction_efforts     5\n",
      "product_effectiveness       1\n",
      "reciprocal_expectation      1\n",
      "attractive_features         1\n",
      "usage_intention             1\n",
      "price_preference            1\n",
      "gift_intention              1\n",
      "age_group                   1\n",
      "life_situation              1\n",
      "dtype: int64\n",
      "\n",
      "📊 첫 5개 응답 데이터 미리보기:\n"
     ]
    },
    {
     "data": {
      "text/html": [
       "<div>\n",
       "<style scoped>\n",
       "    .dataframe tbody tr th:only-of-type {\n",
       "        vertical-align: middle;\n",
       "    }\n",
       "\n",
       "    .dataframe tbody tr th {\n",
       "        vertical-align: top;\n",
       "    }\n",
       "\n",
       "    .dataframe thead th {\n",
       "        text-align: right;\n",
       "    }\n",
       "</style>\n",
       "<table border=\"1\" class=\"dataframe\">\n",
       "  <thead>\n",
       "    <tr style=\"text-align: right;\">\n",
       "      <th></th>\n",
       "      <th>timestamp</th>\n",
       "      <th>noise_experience</th>\n",
       "      <th>noise_frequency</th>\n",
       "      <th>self_awareness</th>\n",
       "      <th>noise_reduction_efforts</th>\n",
       "      <th>product_effectiveness</th>\n",
       "      <th>reciprocal_expectation</th>\n",
       "      <th>attractive_features</th>\n",
       "      <th>usage_intention</th>\n",
       "      <th>price_preference</th>\n",
       "      <th>gift_intention</th>\n",
       "      <th>age_group</th>\n",
       "      <th>life_situation</th>\n",
       "    </tr>\n",
       "  </thead>\n",
       "  <tbody>\n",
       "    <tr>\n",
       "      <th>0</th>\n",
       "      <td>2025. 8. 9 오전 8:31:50</td>\n",
       "      <td>예</td>\n",
       "      <td>일주일에 1~3회</td>\n",
       "      <td>NaN</td>\n",
       "      <td>NaN</td>\n",
       "      <td>NaN</td>\n",
       "      <td>NaN</td>\n",
       "      <td>NaN</td>\n",
       "      <td>NaN</td>\n",
       "      <td>NaN</td>\n",
       "      <td>NaN</td>\n",
       "      <td>NaN</td>\n",
       "      <td>NaN</td>\n",
       "    </tr>\n",
       "    <tr>\n",
       "      <th>1</th>\n",
       "      <td>2025. 8. 9 오전 9:42:09</td>\n",
       "      <td>예</td>\n",
       "      <td>거의 매일</td>\n",
       "      <td>거의 없다.</td>\n",
       "      <td>특별히 하는 노력은 없다.</td>\n",
       "      <td>매우 그렇다.</td>\n",
       "      <td>예, 긍정적인 영향을 줄 것이다.</td>\n",
       "      <td>나의 노력이 '배려 포인트'로 쌓여 보상받는 게임 같은 즐거움</td>\n",
       "      <td>있다.</td>\n",
       "      <td>1~2 만원</td>\n",
       "      <td>예</td>\n",
       "      <td>20대</td>\n",
       "      <td>(어린이 양육 가정) 미취학~초등학생 자녀를 키우고 있어, 아이들이 내는 소음이 항...</td>\n",
       "    </tr>\n",
       "    <tr>\n",
       "      <th>2</th>\n",
       "      <td>2025. 8. 9 오전 9:42:59</td>\n",
       "      <td>예</td>\n",
       "      <td>일주일에 1~3회</td>\n",
       "      <td>가끔 있다.</td>\n",
       "      <td>아이들에게 실내에서 뛰지 않도록 주의를 준다.</td>\n",
       "      <td>그렇다.</td>\n",
       "      <td>잘 모르겠다.</td>\n",
       "      <td>소음 수준에 따라 색이 변하는 피규어 디자인 자체</td>\n",
       "      <td>별로 없다.</td>\n",
       "      <td>2~3 만원</td>\n",
       "      <td>예</td>\n",
       "      <td>20대</td>\n",
       "      <td>(소음 무자각자 가족) 제 발소리나 생활 습관이 다른 사람에게 피해를 줄까 봐 걱정...</td>\n",
       "    </tr>\n",
       "    <tr>\n",
       "      <th>3</th>\n",
       "      <td>2025. 8. 9 오전 9:48:58</td>\n",
       "      <td>예</td>\n",
       "      <td>한 달에 1회</td>\n",
       "      <td>가끔 있다.</td>\n",
       "      <td>특별히 하는 노력은 없다.</td>\n",
       "      <td>매우 그렇다.</td>\n",
       "      <td>잘 모르겠다.</td>\n",
       "      <td>소음 발생 즉시 부드러운 불빛으로 알려주는 실시간 피드백, 소음과 진동이 '이 정도...</td>\n",
       "      <td>있다.</td>\n",
       "      <td>1~2 만원</td>\n",
       "      <td>예</td>\n",
       "      <td>20대</td>\n",
       "      <td>특별히 위 상황에 해당되지는 않지만, 소음 문제에 관심이 있습니다.</td>\n",
       "    </tr>\n",
       "    <tr>\n",
       "      <th>4</th>\n",
       "      <td>2025. 8. 9 오전 9:52:24</td>\n",
       "      <td>예</td>\n",
       "      <td>일주일에 1~3회</td>\n",
       "      <td>가끔 있다.</td>\n",
       "      <td>고양이 다독여주기</td>\n",
       "      <td>매우 그렇다.</td>\n",
       "      <td>예, 긍정적인 영향을 줄 것이다.</td>\n",
       "      <td>소음 발생 즉시 부드러운 불빛으로 알려주는 실시간 피드백, 우리 집의 소음 발생 시...</td>\n",
       "      <td>매우 있다.</td>\n",
       "      <td>2~3 만원</td>\n",
       "      <td>예</td>\n",
       "      <td>20대</td>\n",
       "      <td>특별히 위 상황에 해당되지는 않지만, 소음 문제에 관심이 있습니다.</td>\n",
       "    </tr>\n",
       "  </tbody>\n",
       "</table>\n",
       "</div>"
      ],
      "text/plain": [
       "               timestamp noise_experience noise_frequency self_awareness  \\\n",
       "0  2025. 8. 9 오전 8:31:50                예       일주일에 1~3회            NaN   \n",
       "1  2025. 8. 9 오전 9:42:09                예           거의 매일         거의 없다.   \n",
       "2  2025. 8. 9 오전 9:42:59                예       일주일에 1~3회         가끔 있다.   \n",
       "3  2025. 8. 9 오전 9:48:58                예         한 달에 1회         가끔 있다.   \n",
       "4  2025. 8. 9 오전 9:52:24                예       일주일에 1~3회         가끔 있다.   \n",
       "\n",
       "     noise_reduction_efforts product_effectiveness reciprocal_expectation  \\\n",
       "0                        NaN                   NaN                    NaN   \n",
       "1             특별히 하는 노력은 없다.               매우 그렇다.     예, 긍정적인 영향을 줄 것이다.   \n",
       "2  아이들에게 실내에서 뛰지 않도록 주의를 준다.                  그렇다.                잘 모르겠다.   \n",
       "3             특별히 하는 노력은 없다.               매우 그렇다.                잘 모르겠다.   \n",
       "4                  고양이 다독여주기               매우 그렇다.     예, 긍정적인 영향을 줄 것이다.   \n",
       "\n",
       "                                 attractive_features usage_intention  \\\n",
       "0                                                NaN             NaN   \n",
       "1                 나의 노력이 '배려 포인트'로 쌓여 보상받는 게임 같은 즐거움             있다.   \n",
       "2                        소음 수준에 따라 색이 변하는 피규어 디자인 자체          별로 없다.   \n",
       "3  소음 발생 즉시 부드러운 불빛으로 알려주는 실시간 피드백, 소음과 진동이 '이 정도...             있다.   \n",
       "4  소음 발생 즉시 부드러운 불빛으로 알려주는 실시간 피드백, 우리 집의 소음 발생 시...          매우 있다.   \n",
       "\n",
       "  price_preference gift_intention age_group  \\\n",
       "0              NaN            NaN       NaN   \n",
       "1           1~2 만원              예       20대   \n",
       "2           2~3 만원              예       20대   \n",
       "3           1~2 만원              예       20대   \n",
       "4           2~3 만원              예       20대   \n",
       "\n",
       "                                      life_situation  \n",
       "0                                                NaN  \n",
       "1  (어린이 양육 가정) 미취학~초등학생 자녀를 키우고 있어, 아이들이 내는 소음이 항...  \n",
       "2  (소음 무자각자 가족) 제 발소리나 생활 습관이 다른 사람에게 피해를 줄까 봐 걱정...  \n",
       "3              특별히 위 상황에 해당되지는 않지만, 소음 문제에 관심이 있습니다.  \n",
       "4              특별히 위 상황에 해당되지는 않지만, 소음 문제에 관심이 있습니다.  "
      ]
     },
     "execution_count": 2,
     "metadata": {},
     "output_type": "execute_result"
    }
   ],
   "source": [
    "# 컬럼명 간소화\n",
    "column_mapping = {\n",
    "    '타임스탬프': 'timestamp',\n",
    "    '1. 귀하는 최근 2년 사이, 함께 사는 공간에서 발생하는 생활 소음 때문에 불편함을 느끼신 적이 있나요? \\n(이웃, 가족의 소음 등 모두 포함)': 'noise_experience',\n",
    "    '1-1. 귀하는 그 소음으로 얼마나 자주 불편함을 느끼시나요?\\n(\\'예\\'라고 답하신 분만 응답)': 'noise_frequency',\n",
    "    '2. 귀하는 반대로, 나의 생활 소음이 다른 사람에게 피해를 줄까 봐 걱정하거나 조심해 보신 적이 있나요?': 'self_awareness',\n",
    "    '2-1. 다른 사람을 위해 소음을 줄이려고 어떤 노력을 하고 계신가요? \\n(\\'예\\'라고 답하신 분만 응답, 중복 가능)': 'noise_reduction_efforts',\n",
    "    '3. 앞서 설명해 드린 \\'쿵덕이\\'가, 소음으로 인한 갈등이나 서로 배려하는 문화를 만드는 데 도움이 될 것이라고 생각하십니까?': 'product_effectiveness',\n",
    "    '4. 만약 우리 집이 먼저 조심하고 배려하는 모습을 보인다면, 이웃이나 나를 더 배려해 줄 것이라고 기대하시나요?': 'reciprocal_expectation',\n",
    "    '5. 귀하는 이 서비스의 여러 기능 중, 어떤 점이 가장 매력적으로 느껴지시나요? (2개까지 선택 가능)': 'attractive_features',\n",
    "    '6. 귀하는 만약 이 서비스가 출시된다면, 이용해 볼 의향이 있으십니까?': 'usage_intention',\n",
    "    '7. 귀하는 이 \\'쿵덕이\\' 피규어 기기가 출시된다면, 어느 정도의 가격대일 때 구매를 긍정적으로 고려하시겠습니까?': 'price_preference',\n",
    "    '8. 귀하는 소음 문제로 힘들어하거나, 소음을 자주 내는 가족, 친구, 룸메이트에게 이 제품을 선물할 의향이 있으신가요?': 'gift_intention',\n",
    "    '9. 귀하의 연령대는 어떻게 되시나요?': 'age_group',\n",
    "    '10. 다음 중, 생활 소음과 관련하여 귀하의 상황을 가장 잘 설명하는 것은 무엇인가요? (1개 선택)': 'life_situation'\n",
    "}\n",
    "\n",
    "# 컬럼명 변경\n",
    "df_clean = df.rename(columns=column_mapping)\n",
    "\n",
    "# 기본 정보 확인\n",
    "print(\"📋 전처리된 데이터 구조:\")\n",
    "print(f\"전체 응답수: {len(df_clean)}개\")\n",
    "print(f\"컬럼 수: {len(df_clean.columns)}개\")\n",
    "\n",
    "# 결측값 확인\n",
    "print(\"\\n🔍 결측값 현황:\")\n",
    "missing_data = df_clean.isnull().sum()\n",
    "print(missing_data[missing_data > 0])\n",
    "\n",
    "# 데이터 타입 확인\n",
    "print(\"\\n📊 첫 5개 응답 데이터 미리보기:\")\n",
    "df_clean.head()"
   ]
  },
  {
   "cell_type": "markdown",
   "id": "36fdbee7",
   "metadata": {},
   "source": [
    "## 📈 기본 통계 분석\n",
    "\n",
    "설문조사 응답자들의 기본적인 인구통계학적 특성을 분석합니다."
   ]
  },
  {
   "cell_type": "code",
   "execution_count": 3,
   "id": "8c46b189",
   "metadata": {},
   "outputs": [
    {
     "name": "stdout",
     "output_type": "stream",
     "text": [
      "👥 응답자 기본 정보 요약:\n",
      "• 전체 응답자: 89명\n",
      "• 20대: 69명 (77.5%)\n",
      "• 30대: 11명 (12.4%)\n",
      "• 40대: 4명 (4.5%)\n",
      "\n",
      "🏠 주요 타겟 세그먼트:\n",
      "• 라이프스타일 추구형: 21명 (23.6%)\n",
      "• 야간 소음 민감 직장인: 21명 (23.6%)\n",
      "• 소음 무자각자 가족: 17명 (19.1%)\n"
     ]
    }
   ],
   "source": [
    "# 응답자 연령대 분포 분석\n",
    "age_counts = df_clean['age_group'].value_counts().dropna()\n",
    "\n",
    "# 생활 상황별 분포 분석 \n",
    "life_situation_counts = df_clean['life_situation'].value_counts().dropna()\n",
    "\n",
    "# 기본 통계 요약\n",
    "print(\"👥 응답자 기본 정보 요약:\")\n",
    "print(f\"• 전체 응답자: {len(df_clean)}명\")\n",
    "print(f\"• 20대: {age_counts.get('20대', 0)}명 ({age_counts.get('20대', 0)/len(df_clean)*100:.1f}%)\")\n",
    "print(f\"• 30대: {age_counts.get('30대', 0)}명 ({age_counts.get('30대', 0)/len(df_clean)*100:.1f}%)\")\n",
    "print(f\"• 40대: {age_counts.get('40대', 0)}명 ({age_counts.get('40대', 0)/len(df_clean)*100:.1f}%)\")\n",
    "\n",
    "print(f\"\\n🏠 주요 타겟 세그먼트:\")\n",
    "for situation, count in life_situation_counts.head(4).items():\n",
    "    if '어린이 양육' in str(situation):\n",
    "        print(f\"• 어린이 양육 가정: {count}명 ({count/len(df_clean)*100:.1f}%)\")\n",
    "    elif '야간 소음' in str(situation):\n",
    "        print(f\"• 야간 소음 민감 직장인: {count}명 ({count/len(df_clean)*100:.1f}%)\")\n",
    "    elif '라이프스타일' in str(situation):\n",
    "        print(f\"• 라이프스타일 추구형: {count}명 ({count/len(df_clean)*100:.1f}%)\")\n",
    "    elif '소음 무자각' in str(situation):\n",
    "        print(f\"• 소음 무자각자 가족: {count}명 ({count/len(df_clean)*100:.1f}%)\")"
   ]
  },
  {
   "cell_type": "code",
   "execution_count": null,
   "id": "d9cd3f3a",
   "metadata": {},
   "outputs": [
    {
     "data": {
      "application/vnd.plotly.v1+json": {
       "config": {
        "plotlyServerURL": "https://plot.ly"
       },
       "data": [
        {
         "domain": {
          "x": [
           0,
           0.45
          ],
          "y": [
           0,
           1
          ]
         },
         "hole": 0.4,
         "labels": [
          "20대",
          "30대",
          "40대",
          "50대 이상",
          "10대"
         ],
         "marker": {
          "colors": [
           "#FF6B6B",
           "#4ECDC4",
           "#45B7D1",
           "#96CEB4",
           "#FFEAA7"
          ]
         },
         "textinfo": "label+percent",
         "type": "pie",
         "values": {
          "bdata": "RQsEAgI=",
          "dtype": "i1"
         }
        },
        {
         "marker": {
          "color": "#FF6B6B"
         },
         "text": {
          "bdata": "AAAAAAAANkAAAAAAAAA1QAAAAAAAADVAAAAAAAAAMUAAAAAAAAAcQA==",
          "dtype": "f8"
         },
         "textposition": "outside",
         "type": "bar",
         "x": [
          "관심있는 일반인",
          "라이프스타일 추구형",
          "야간 소음 민감 직장인",
          "소음 무자각자 가족",
          "어린이 양육 가정"
         ],
         "xaxis": "x",
         "y": {
          "bdata": "FhUVEQc=",
          "dtype": "i1"
         },
         "yaxis": "y"
        }
       ],
       "layout": {
        "annotations": [
         {
          "font": {
           "size": 16
          },
          "showarrow": false,
          "text": "응답자 연령대 분포",
          "x": 0.225,
          "xanchor": "center",
          "xref": "paper",
          "y": 1,
          "yanchor": "bottom",
          "yref": "paper"
         },
         {
          "font": {
           "size": 16
          },
          "showarrow": false,
          "text": "응답자 생활 상황 분포",
          "x": 0.775,
          "xanchor": "center",
          "xref": "paper",
          "y": 1,
          "yanchor": "bottom",
          "yref": "paper"
         }
        ],
        "height": 500,
        "showlegend": false,
        "template": {
         "data": {
          "bar": [
           {
            "error_x": {
             "color": "#2a3f5f"
            },
            "error_y": {
             "color": "#2a3f5f"
            },
            "marker": {
             "line": {
              "color": "#E5ECF6",
              "width": 0.5
             },
             "pattern": {
              "fillmode": "overlay",
              "size": 10,
              "solidity": 0.2
             }
            },
            "type": "bar"
           }
          ],
          "barpolar": [
           {
            "marker": {
             "line": {
              "color": "#E5ECF6",
              "width": 0.5
             },
             "pattern": {
              "fillmode": "overlay",
              "size": 10,
              "solidity": 0.2
             }
            },
            "type": "barpolar"
           }
          ],
          "carpet": [
           {
            "aaxis": {
             "endlinecolor": "#2a3f5f",
             "gridcolor": "white",
             "linecolor": "white",
             "minorgridcolor": "white",
             "startlinecolor": "#2a3f5f"
            },
            "baxis": {
             "endlinecolor": "#2a3f5f",
             "gridcolor": "white",
             "linecolor": "white",
             "minorgridcolor": "white",
             "startlinecolor": "#2a3f5f"
            },
            "type": "carpet"
           }
          ],
          "choropleth": [
           {
            "colorbar": {
             "outlinewidth": 0,
             "ticks": ""
            },
            "type": "choropleth"
           }
          ],
          "contour": [
           {
            "colorbar": {
             "outlinewidth": 0,
             "ticks": ""
            },
            "colorscale": [
             [
              0,
              "#0d0887"
             ],
             [
              0.1111111111111111,
              "#46039f"
             ],
             [
              0.2222222222222222,
              "#7201a8"
             ],
             [
              0.3333333333333333,
              "#9c179e"
             ],
             [
              0.4444444444444444,
              "#bd3786"
             ],
             [
              0.5555555555555556,
              "#d8576b"
             ],
             [
              0.6666666666666666,
              "#ed7953"
             ],
             [
              0.7777777777777778,
              "#fb9f3a"
             ],
             [
              0.8888888888888888,
              "#fdca26"
             ],
             [
              1,
              "#f0f921"
             ]
            ],
            "type": "contour"
           }
          ],
          "contourcarpet": [
           {
            "colorbar": {
             "outlinewidth": 0,
             "ticks": ""
            },
            "type": "contourcarpet"
           }
          ],
          "heatmap": [
           {
            "colorbar": {
             "outlinewidth": 0,
             "ticks": ""
            },
            "colorscale": [
             [
              0,
              "#0d0887"
             ],
             [
              0.1111111111111111,
              "#46039f"
             ],
             [
              0.2222222222222222,
              "#7201a8"
             ],
             [
              0.3333333333333333,
              "#9c179e"
             ],
             [
              0.4444444444444444,
              "#bd3786"
             ],
             [
              0.5555555555555556,
              "#d8576b"
             ],
             [
              0.6666666666666666,
              "#ed7953"
             ],
             [
              0.7777777777777778,
              "#fb9f3a"
             ],
             [
              0.8888888888888888,
              "#fdca26"
             ],
             [
              1,
              "#f0f921"
             ]
            ],
            "type": "heatmap"
           }
          ],
          "histogram": [
           {
            "marker": {
             "pattern": {
              "fillmode": "overlay",
              "size": 10,
              "solidity": 0.2
             }
            },
            "type": "histogram"
           }
          ],
          "histogram2d": [
           {
            "colorbar": {
             "outlinewidth": 0,
             "ticks": ""
            },
            "colorscale": [
             [
              0,
              "#0d0887"
             ],
             [
              0.1111111111111111,
              "#46039f"
             ],
             [
              0.2222222222222222,
              "#7201a8"
             ],
             [
              0.3333333333333333,
              "#9c179e"
             ],
             [
              0.4444444444444444,
              "#bd3786"
             ],
             [
              0.5555555555555556,
              "#d8576b"
             ],
             [
              0.6666666666666666,
              "#ed7953"
             ],
             [
              0.7777777777777778,
              "#fb9f3a"
             ],
             [
              0.8888888888888888,
              "#fdca26"
             ],
             [
              1,
              "#f0f921"
             ]
            ],
            "type": "histogram2d"
           }
          ],
          "histogram2dcontour": [
           {
            "colorbar": {
             "outlinewidth": 0,
             "ticks": ""
            },
            "colorscale": [
             [
              0,
              "#0d0887"
             ],
             [
              0.1111111111111111,
              "#46039f"
             ],
             [
              0.2222222222222222,
              "#7201a8"
             ],
             [
              0.3333333333333333,
              "#9c179e"
             ],
             [
              0.4444444444444444,
              "#bd3786"
             ],
             [
              0.5555555555555556,
              "#d8576b"
             ],
             [
              0.6666666666666666,
              "#ed7953"
             ],
             [
              0.7777777777777778,
              "#fb9f3a"
             ],
             [
              0.8888888888888888,
              "#fdca26"
             ],
             [
              1,
              "#f0f921"
             ]
            ],
            "type": "histogram2dcontour"
           }
          ],
          "mesh3d": [
           {
            "colorbar": {
             "outlinewidth": 0,
             "ticks": ""
            },
            "type": "mesh3d"
           }
          ],
          "parcoords": [
           {
            "line": {
             "colorbar": {
              "outlinewidth": 0,
              "ticks": ""
             }
            },
            "type": "parcoords"
           }
          ],
          "pie": [
           {
            "automargin": true,
            "type": "pie"
           }
          ],
          "scatter": [
           {
            "fillpattern": {
             "fillmode": "overlay",
             "size": 10,
             "solidity": 0.2
            },
            "type": "scatter"
           }
          ],
          "scatter3d": [
           {
            "line": {
             "colorbar": {
              "outlinewidth": 0,
              "ticks": ""
             }
            },
            "marker": {
             "colorbar": {
              "outlinewidth": 0,
              "ticks": ""
             }
            },
            "type": "scatter3d"
           }
          ],
          "scattercarpet": [
           {
            "marker": {
             "colorbar": {
              "outlinewidth": 0,
              "ticks": ""
             }
            },
            "type": "scattercarpet"
           }
          ],
          "scattergeo": [
           {
            "marker": {
             "colorbar": {
              "outlinewidth": 0,
              "ticks": ""
             }
            },
            "type": "scattergeo"
           }
          ],
          "scattergl": [
           {
            "marker": {
             "colorbar": {
              "outlinewidth": 0,
              "ticks": ""
             }
            },
            "type": "scattergl"
           }
          ],
          "scattermap": [
           {
            "marker": {
             "colorbar": {
              "outlinewidth": 0,
              "ticks": ""
             }
            },
            "type": "scattermap"
           }
          ],
          "scattermapbox": [
           {
            "marker": {
             "colorbar": {
              "outlinewidth": 0,
              "ticks": ""
             }
            },
            "type": "scattermapbox"
           }
          ],
          "scatterpolar": [
           {
            "marker": {
             "colorbar": {
              "outlinewidth": 0,
              "ticks": ""
             }
            },
            "type": "scatterpolar"
           }
          ],
          "scatterpolargl": [
           {
            "marker": {
             "colorbar": {
              "outlinewidth": 0,
              "ticks": ""
             }
            },
            "type": "scatterpolargl"
           }
          ],
          "scatterternary": [
           {
            "marker": {
             "colorbar": {
              "outlinewidth": 0,
              "ticks": ""
             }
            },
            "type": "scatterternary"
           }
          ],
          "surface": [
           {
            "colorbar": {
             "outlinewidth": 0,
             "ticks": ""
            },
            "colorscale": [
             [
              0,
              "#0d0887"
             ],
             [
              0.1111111111111111,
              "#46039f"
             ],
             [
              0.2222222222222222,
              "#7201a8"
             ],
             [
              0.3333333333333333,
              "#9c179e"
             ],
             [
              0.4444444444444444,
              "#bd3786"
             ],
             [
              0.5555555555555556,
              "#d8576b"
             ],
             [
              0.6666666666666666,
              "#ed7953"
             ],
             [
              0.7777777777777778,
              "#fb9f3a"
             ],
             [
              0.8888888888888888,
              "#fdca26"
             ],
             [
              1,
              "#f0f921"
             ]
            ],
            "type": "surface"
           }
          ],
          "table": [
           {
            "cells": {
             "fill": {
              "color": "#EBF0F8"
             },
             "line": {
              "color": "white"
             }
            },
            "header": {
             "fill": {
              "color": "#C8D4E3"
             },
             "line": {
              "color": "white"
             }
            },
            "type": "table"
           }
          ]
         },
         "layout": {
          "annotationdefaults": {
           "arrowcolor": "#2a3f5f",
           "arrowhead": 0,
           "arrowwidth": 1
          },
          "autotypenumbers": "strict",
          "coloraxis": {
           "colorbar": {
            "outlinewidth": 0,
            "ticks": ""
           }
          },
          "colorscale": {
           "diverging": [
            [
             0,
             "#8e0152"
            ],
            [
             0.1,
             "#c51b7d"
            ],
            [
             0.2,
             "#de77ae"
            ],
            [
             0.3,
             "#f1b6da"
            ],
            [
             0.4,
             "#fde0ef"
            ],
            [
             0.5,
             "#f7f7f7"
            ],
            [
             0.6,
             "#e6f5d0"
            ],
            [
             0.7,
             "#b8e186"
            ],
            [
             0.8,
             "#7fbc41"
            ],
            [
             0.9,
             "#4d9221"
            ],
            [
             1,
             "#276419"
            ]
           ],
           "sequential": [
            [
             0,
             "#0d0887"
            ],
            [
             0.1111111111111111,
             "#46039f"
            ],
            [
             0.2222222222222222,
             "#7201a8"
            ],
            [
             0.3333333333333333,
             "#9c179e"
            ],
            [
             0.4444444444444444,
             "#bd3786"
            ],
            [
             0.5555555555555556,
             "#d8576b"
            ],
            [
             0.6666666666666666,
             "#ed7953"
            ],
            [
             0.7777777777777778,
             "#fb9f3a"
            ],
            [
             0.8888888888888888,
             "#fdca26"
            ],
            [
             1,
             "#f0f921"
            ]
           ],
           "sequentialminus": [
            [
             0,
             "#0d0887"
            ],
            [
             0.1111111111111111,
             "#46039f"
            ],
            [
             0.2222222222222222,
             "#7201a8"
            ],
            [
             0.3333333333333333,
             "#9c179e"
            ],
            [
             0.4444444444444444,
             "#bd3786"
            ],
            [
             0.5555555555555556,
             "#d8576b"
            ],
            [
             0.6666666666666666,
             "#ed7953"
            ],
            [
             0.7777777777777778,
             "#fb9f3a"
            ],
            [
             0.8888888888888888,
             "#fdca26"
            ],
            [
             1,
             "#f0f921"
            ]
           ]
          },
          "colorway": [
           "#636efa",
           "#EF553B",
           "#00cc96",
           "#ab63fa",
           "#FFA15A",
           "#19d3f3",
           "#FF6692",
           "#B6E880",
           "#FF97FF",
           "#FECB52"
          ],
          "font": {
           "color": "#2a3f5f"
          },
          "geo": {
           "bgcolor": "white",
           "lakecolor": "white",
           "landcolor": "#E5ECF6",
           "showlakes": true,
           "showland": true,
           "subunitcolor": "white"
          },
          "hoverlabel": {
           "align": "left"
          },
          "hovermode": "closest",
          "mapbox": {
           "style": "light"
          },
          "paper_bgcolor": "white",
          "plot_bgcolor": "#E5ECF6",
          "polar": {
           "angularaxis": {
            "gridcolor": "white",
            "linecolor": "white",
            "ticks": ""
           },
           "bgcolor": "#E5ECF6",
           "radialaxis": {
            "gridcolor": "white",
            "linecolor": "white",
            "ticks": ""
           }
          },
          "scene": {
           "xaxis": {
            "backgroundcolor": "#E5ECF6",
            "gridcolor": "white",
            "gridwidth": 2,
            "linecolor": "white",
            "showbackground": true,
            "ticks": "",
            "zerolinecolor": "white"
           },
           "yaxis": {
            "backgroundcolor": "#E5ECF6",
            "gridcolor": "white",
            "gridwidth": 2,
            "linecolor": "white",
            "showbackground": true,
            "ticks": "",
            "zerolinecolor": "white"
           },
           "zaxis": {
            "backgroundcolor": "#E5ECF6",
            "gridcolor": "white",
            "gridwidth": 2,
            "linecolor": "white",
            "showbackground": true,
            "ticks": "",
            "zerolinecolor": "white"
           }
          },
          "shapedefaults": {
           "line": {
            "color": "#2a3f5f"
           }
          },
          "ternary": {
           "aaxis": {
            "gridcolor": "white",
            "linecolor": "white",
            "ticks": ""
           },
           "baxis": {
            "gridcolor": "white",
            "linecolor": "white",
            "ticks": ""
           },
           "bgcolor": "#E5ECF6",
           "caxis": {
            "gridcolor": "white",
            "linecolor": "white",
            "ticks": ""
           }
          },
          "title": {
           "x": 0.05
          },
          "xaxis": {
           "automargin": true,
           "gridcolor": "white",
           "linecolor": "white",
           "ticks": "",
           "title": {
            "standoff": 15
           },
           "zerolinecolor": "white",
           "zerolinewidth": 2
          },
          "yaxis": {
           "automargin": true,
           "gridcolor": "white",
           "linecolor": "white",
           "ticks": "",
           "title": {
            "standoff": 15
           },
           "zerolinecolor": "white",
           "zerolinewidth": 2
          }
         }
        },
        "title": {
         "text": "쿵덕이 설문조사 응답자 기본 정보",
         "x": 0.5
        },
        "xaxis": {
         "anchor": "y",
         "domain": [
          0.55,
          1
         ]
        },
        "yaxis": {
         "anchor": "x",
         "domain": [
          0,
          1
         ]
        }
       }
      }
     },
     "metadata": {},
     "output_type": "display_data"
    }
   ],
   "source": [
    "# Plotly를 사용한 연령대 분포 시각화\n",
    "fig_demo = make_subplots(\n",
    "    rows=1, cols=2,\n",
    "    subplot_titles=('응답자 연령대 분포', '응답자 생활 상황 분포'),\n",
    "    specs=[[{\"type\": \"pie\"}, {\"type\": \"bar\"}]]\n",
    ")\n",
    "\n",
    "# 연령대 분포 파이차트\n",
    "fig_demo.add_trace(\n",
    "    go.Pie(\n",
    "        labels=age_counts.index,\n",
    "        values=age_counts.values,\n",
    "        hole=0.4,\n",
    "        textinfo='label+percent+value',\n",
    "        textfont=dict(size=12),\n",
    "        marker_colors=['#FF6B6B', '#4ECDC4', '#45B7D1', '#96CEB4', '#FFEAA7']\n",
    "    ),\n",
    "    row=1, col=1\n",
    ")\n",
    "\n",
    "# 생활 상황별 바차트\n",
    "situation_labels = [\n",
    "    '어린이 양육 가정' if '어린이 양육' in str(x) else\n",
    "    '야간 소음 민감 직장인' if '야간 소음' in str(x) else\n",
    "    '라이프스타일 추구형' if '라이프스타일' in str(x) else\n",
    "    '소음 무자각자 가족' if '소음 무자각' in str(x) else\n",
    "    '관심있는 일반인' if '특별히' in str(x) else str(x)[:15]\n",
    "    for x in life_situation_counts.index\n",
    "]\n",
    "\n",
    "fig_demo.add_trace(\n",
    "    go.Bar(\n",
    "        x=situation_labels,\n",
    "        y=life_situation_counts.values,\n",
    "        marker_color='#FF6B6B',\n",
    "        text=life_situation_counts.values,\n",
    "        textposition='outside',\n",
    "        textfont=dict(size=12)\n",
    "    ),\n",
    "    row=1, col=2\n",
    ")\n",
    "\n",
    "fig_demo.update_layout(\n",
    "    title_text=\"쿵덕이 설문조사 응답자 기본 정보\",\n",
    "    title_x=0.5,\n",
    "    height=500,\n",
    "    showlegend=False\n",
    ")\n",
    "\n",
    "# x축 라벨 회전으로 가독성 향상\n",
    "fig_demo.update_xaxes(tickangle=45, row=1, col=2)\n",
    "\n",
    "fig_demo.show()"
   ]
  },
  {
   "cell_type": "markdown",
   "id": "87939cca",
   "metadata": {},
   "source": [
    "## 🔊 소음 경험 패턴 분석\n",
    "\n",
    "응답자들의 소음 불편 경험과 빈도, 그리고 소음 방지를 위한 노력을 분석합니다."
   ]
  },
  {
   "cell_type": "code",
   "execution_count": 8,
   "id": "d233fbff",
   "metadata": {},
   "outputs": [
    {
     "name": "stdout",
     "output_type": "stream",
     "text": [
      "🔊 소음 경험 패턴 분석 결과:\n",
      "• 소음 불편 경험자: 63명 (70.8%)\n",
      "• 가장 빈번한 소음 경험: 일주일에 1~3회 (27명)\n",
      "• 자기 소음을 인식하는 사람: 80명 (89.9%)\n",
      "\n",
      "💡 인사이트:\n",
      "• 높은 소음 경험률 → 절실한 문제로 인식\n",
      "• 상당한 자기 인식률 → 상호 배려 솔루션 수요\n",
      "• '쿵덕이'의 양방향 소통 기능 효과성 입증\n"
     ]
    }
   ],
   "source": [
    "# 소음 경험 및 빈도 분석\n",
    "noise_exp_counts = df_clean['noise_experience'].value_counts().dropna()\n",
    "noise_freq_counts = df_clean['noise_frequency'].value_counts().dropna()\n",
    "\n",
    "# 자기 인식 정도 분석\n",
    "self_awareness_counts = df_clean['self_awareness'].value_counts().dropna()\n",
    "\n",
    "# 소음 경험 분석 결과 요약\n",
    "noise_exp_yes = noise_exp_counts.get('예', 0)\n",
    "noise_exp_rate = (noise_exp_yes / len(df_clean)) * 100\n",
    "\n",
    "print(\"🔊 소음 경험 패턴 분석 결과:\")\n",
    "print(f\"• 소음 불편 경험자: {noise_exp_yes}명 ({noise_exp_rate:.1f}%)\")\n",
    "print(f\"• 가장 빈번한 소음 경험: {noise_freq_counts.index[0]} ({noise_freq_counts.values[0]}명)\")\n",
    "\n",
    "self_aware_positive = df_clean[df_clean['self_awareness'].isin(['자주 있다.', '가끔 있다.'])].shape[0]\n",
    "self_aware_rate = (self_aware_positive / len(df_clean)) * 100\n",
    "print(f\"• 자기 소음을 인식하는 사람: {self_aware_positive}명 ({self_aware_rate:.1f}%)\")\n",
    "\n",
    "print(f\"\\n💡 인사이트:\")\n",
    "print(f\"• 높은 소음 경험률 → 절실한 문제로 인식\")\n",
    "print(f\"• 상당한 자기 인식률 → 상호 배려 솔루션 수요\")\n",
    "print(f\"• '쿵덕이'의 양방향 소통 기능 효과성 입증\")"
   ]
  },
  {
   "cell_type": "code",
   "execution_count": null,
   "id": "cbf787c4",
   "metadata": {},
   "outputs": [
    {
     "data": {
      "application/vnd.plotly.v1+json": {
       "config": {
        "plotlyServerURL": "https://plot.ly"
       },
       "data": [
        {
         "domain": {
          "x": [
           0,
           0.45
          ],
          "y": [
           0.625,
           1
          ]
         },
         "hole": 0.4,
         "labels": [
          "예",
          "아니오"
         ],
         "marker": {
          "colors": [
           "#FF6B6B",
           "#4ECDC4"
          ]
         },
         "textfont": {
          "size": 12
         },
         "textinfo": "label+percent+value",
         "type": "pie",
         "values": {
          "bdata": "Pxo=",
          "dtype": "i1"
         }
        },
        {
         "marker": {
          "color": "#45B7D1"
         },
         "text": {
          "bdata": "AAAAAAAAO0AAAAAAAAAzQAAAAAAAACpAAAAAAAAAIkA=",
          "dtype": "f8"
         },
         "textposition": "outside",
         "type": "bar",
         "x": [
          "일주일에 1~3회",
          "한 달에 1회",
          "거의 매일",
          "한 달에 한 번 미만"
         ],
         "xaxis": "x",
         "y": {
          "bdata": "GxMNCQ==",
          "dtype": "i1"
         },
         "yaxis": "y"
        },
        {
         "domain": {
          "x": [
           0,
           0.45
          ],
          "y": [
           0,
           0.375
          ]
         },
         "hole": 0.4,
         "labels": [
          "가끔 있다.",
          "자주 있다.",
          "거의 없다."
         ],
         "marker": {
          "colors": [
           "#96CEB4",
           "#FFEAA7",
           "#DDA0DD",
           "#FFB6C1",
           "#98FB98"
          ]
         },
         "type": "pie",
         "values": {
          "bdata": "LCQI",
          "dtype": "i1"
         }
        },
        {
         "marker": {
          "color": "#FF6B6B"
         },
         "name": "소음 경험 있음 (%)",
         "type": "bar",
         "x": [
          "10대",
          "20대",
          "30대",
          "40대",
          "50대 이상"
         ],
         "xaxis": "x2",
         "y": {
          "bdata": "AAAAAAAASUCqqqqqqqpQQLrooosuulZAAAAAAAAAWUAAAAAAAABJQA==",
          "dtype": "f8"
         },
         "yaxis": "y2"
        }
       ],
       "layout": {
        "annotations": [
         {
          "font": {
           "size": 16
          },
          "showarrow": false,
          "text": "소음 불편 경험 여부",
          "x": 0.225,
          "xanchor": "center",
          "xref": "paper",
          "y": 1,
          "yanchor": "bottom",
          "yref": "paper"
         },
         {
          "font": {
           "size": 16
          },
          "showarrow": false,
          "text": "소음 불편 빈도",
          "x": 0.775,
          "xanchor": "center",
          "xref": "paper",
          "y": 1,
          "yanchor": "bottom",
          "yref": "paper"
         },
         {
          "font": {
           "size": 16
          },
          "showarrow": false,
          "text": "자기 소음 인식 정도",
          "x": 0.225,
          "xanchor": "center",
          "xref": "paper",
          "y": 0.375,
          "yanchor": "bottom",
          "yref": "paper"
         },
         {
          "font": {
           "size": 16
          },
          "showarrow": false,
          "text": "연령대별 소음 경험",
          "x": 0.775,
          "xanchor": "center",
          "xref": "paper",
          "y": 0.375,
          "yanchor": "bottom",
          "yref": "paper"
         }
        ],
        "height": 800,
        "showlegend": false,
        "template": {
         "data": {
          "bar": [
           {
            "error_x": {
             "color": "#2a3f5f"
            },
            "error_y": {
             "color": "#2a3f5f"
            },
            "marker": {
             "line": {
              "color": "#E5ECF6",
              "width": 0.5
             },
             "pattern": {
              "fillmode": "overlay",
              "size": 10,
              "solidity": 0.2
             }
            },
            "type": "bar"
           }
          ],
          "barpolar": [
           {
            "marker": {
             "line": {
              "color": "#E5ECF6",
              "width": 0.5
             },
             "pattern": {
              "fillmode": "overlay",
              "size": 10,
              "solidity": 0.2
             }
            },
            "type": "barpolar"
           }
          ],
          "carpet": [
           {
            "aaxis": {
             "endlinecolor": "#2a3f5f",
             "gridcolor": "white",
             "linecolor": "white",
             "minorgridcolor": "white",
             "startlinecolor": "#2a3f5f"
            },
            "baxis": {
             "endlinecolor": "#2a3f5f",
             "gridcolor": "white",
             "linecolor": "white",
             "minorgridcolor": "white",
             "startlinecolor": "#2a3f5f"
            },
            "type": "carpet"
           }
          ],
          "choropleth": [
           {
            "colorbar": {
             "outlinewidth": 0,
             "ticks": ""
            },
            "type": "choropleth"
           }
          ],
          "contour": [
           {
            "colorbar": {
             "outlinewidth": 0,
             "ticks": ""
            },
            "colorscale": [
             [
              0,
              "#0d0887"
             ],
             [
              0.1111111111111111,
              "#46039f"
             ],
             [
              0.2222222222222222,
              "#7201a8"
             ],
             [
              0.3333333333333333,
              "#9c179e"
             ],
             [
              0.4444444444444444,
              "#bd3786"
             ],
             [
              0.5555555555555556,
              "#d8576b"
             ],
             [
              0.6666666666666666,
              "#ed7953"
             ],
             [
              0.7777777777777778,
              "#fb9f3a"
             ],
             [
              0.8888888888888888,
              "#fdca26"
             ],
             [
              1,
              "#f0f921"
             ]
            ],
            "type": "contour"
           }
          ],
          "contourcarpet": [
           {
            "colorbar": {
             "outlinewidth": 0,
             "ticks": ""
            },
            "type": "contourcarpet"
           }
          ],
          "heatmap": [
           {
            "colorbar": {
             "outlinewidth": 0,
             "ticks": ""
            },
            "colorscale": [
             [
              0,
              "#0d0887"
             ],
             [
              0.1111111111111111,
              "#46039f"
             ],
             [
              0.2222222222222222,
              "#7201a8"
             ],
             [
              0.3333333333333333,
              "#9c179e"
             ],
             [
              0.4444444444444444,
              "#bd3786"
             ],
             [
              0.5555555555555556,
              "#d8576b"
             ],
             [
              0.6666666666666666,
              "#ed7953"
             ],
             [
              0.7777777777777778,
              "#fb9f3a"
             ],
             [
              0.8888888888888888,
              "#fdca26"
             ],
             [
              1,
              "#f0f921"
             ]
            ],
            "type": "heatmap"
           }
          ],
          "histogram": [
           {
            "marker": {
             "pattern": {
              "fillmode": "overlay",
              "size": 10,
              "solidity": 0.2
             }
            },
            "type": "histogram"
           }
          ],
          "histogram2d": [
           {
            "colorbar": {
             "outlinewidth": 0,
             "ticks": ""
            },
            "colorscale": [
             [
              0,
              "#0d0887"
             ],
             [
              0.1111111111111111,
              "#46039f"
             ],
             [
              0.2222222222222222,
              "#7201a8"
             ],
             [
              0.3333333333333333,
              "#9c179e"
             ],
             [
              0.4444444444444444,
              "#bd3786"
             ],
             [
              0.5555555555555556,
              "#d8576b"
             ],
             [
              0.6666666666666666,
              "#ed7953"
             ],
             [
              0.7777777777777778,
              "#fb9f3a"
             ],
             [
              0.8888888888888888,
              "#fdca26"
             ],
             [
              1,
              "#f0f921"
             ]
            ],
            "type": "histogram2d"
           }
          ],
          "histogram2dcontour": [
           {
            "colorbar": {
             "outlinewidth": 0,
             "ticks": ""
            },
            "colorscale": [
             [
              0,
              "#0d0887"
             ],
             [
              0.1111111111111111,
              "#46039f"
             ],
             [
              0.2222222222222222,
              "#7201a8"
             ],
             [
              0.3333333333333333,
              "#9c179e"
             ],
             [
              0.4444444444444444,
              "#bd3786"
             ],
             [
              0.5555555555555556,
              "#d8576b"
             ],
             [
              0.6666666666666666,
              "#ed7953"
             ],
             [
              0.7777777777777778,
              "#fb9f3a"
             ],
             [
              0.8888888888888888,
              "#fdca26"
             ],
             [
              1,
              "#f0f921"
             ]
            ],
            "type": "histogram2dcontour"
           }
          ],
          "mesh3d": [
           {
            "colorbar": {
             "outlinewidth": 0,
             "ticks": ""
            },
            "type": "mesh3d"
           }
          ],
          "parcoords": [
           {
            "line": {
             "colorbar": {
              "outlinewidth": 0,
              "ticks": ""
             }
            },
            "type": "parcoords"
           }
          ],
          "pie": [
           {
            "automargin": true,
            "type": "pie"
           }
          ],
          "scatter": [
           {
            "fillpattern": {
             "fillmode": "overlay",
             "size": 10,
             "solidity": 0.2
            },
            "type": "scatter"
           }
          ],
          "scatter3d": [
           {
            "line": {
             "colorbar": {
              "outlinewidth": 0,
              "ticks": ""
             }
            },
            "marker": {
             "colorbar": {
              "outlinewidth": 0,
              "ticks": ""
             }
            },
            "type": "scatter3d"
           }
          ],
          "scattercarpet": [
           {
            "marker": {
             "colorbar": {
              "outlinewidth": 0,
              "ticks": ""
             }
            },
            "type": "scattercarpet"
           }
          ],
          "scattergeo": [
           {
            "marker": {
             "colorbar": {
              "outlinewidth": 0,
              "ticks": ""
             }
            },
            "type": "scattergeo"
           }
          ],
          "scattergl": [
           {
            "marker": {
             "colorbar": {
              "outlinewidth": 0,
              "ticks": ""
             }
            },
            "type": "scattergl"
           }
          ],
          "scattermap": [
           {
            "marker": {
             "colorbar": {
              "outlinewidth": 0,
              "ticks": ""
             }
            },
            "type": "scattermap"
           }
          ],
          "scattermapbox": [
           {
            "marker": {
             "colorbar": {
              "outlinewidth": 0,
              "ticks": ""
             }
            },
            "type": "scattermapbox"
           }
          ],
          "scatterpolar": [
           {
            "marker": {
             "colorbar": {
              "outlinewidth": 0,
              "ticks": ""
             }
            },
            "type": "scatterpolar"
           }
          ],
          "scatterpolargl": [
           {
            "marker": {
             "colorbar": {
              "outlinewidth": 0,
              "ticks": ""
             }
            },
            "type": "scatterpolargl"
           }
          ],
          "scatterternary": [
           {
            "marker": {
             "colorbar": {
              "outlinewidth": 0,
              "ticks": ""
             }
            },
            "type": "scatterternary"
           }
          ],
          "surface": [
           {
            "colorbar": {
             "outlinewidth": 0,
             "ticks": ""
            },
            "colorscale": [
             [
              0,
              "#0d0887"
             ],
             [
              0.1111111111111111,
              "#46039f"
             ],
             [
              0.2222222222222222,
              "#7201a8"
             ],
             [
              0.3333333333333333,
              "#9c179e"
             ],
             [
              0.4444444444444444,
              "#bd3786"
             ],
             [
              0.5555555555555556,
              "#d8576b"
             ],
             [
              0.6666666666666666,
              "#ed7953"
             ],
             [
              0.7777777777777778,
              "#fb9f3a"
             ],
             [
              0.8888888888888888,
              "#fdca26"
             ],
             [
              1,
              "#f0f921"
             ]
            ],
            "type": "surface"
           }
          ],
          "table": [
           {
            "cells": {
             "fill": {
              "color": "#EBF0F8"
             },
             "line": {
              "color": "white"
             }
            },
            "header": {
             "fill": {
              "color": "#C8D4E3"
             },
             "line": {
              "color": "white"
             }
            },
            "type": "table"
           }
          ]
         },
         "layout": {
          "annotationdefaults": {
           "arrowcolor": "#2a3f5f",
           "arrowhead": 0,
           "arrowwidth": 1
          },
          "autotypenumbers": "strict",
          "coloraxis": {
           "colorbar": {
            "outlinewidth": 0,
            "ticks": ""
           }
          },
          "colorscale": {
           "diverging": [
            [
             0,
             "#8e0152"
            ],
            [
             0.1,
             "#c51b7d"
            ],
            [
             0.2,
             "#de77ae"
            ],
            [
             0.3,
             "#f1b6da"
            ],
            [
             0.4,
             "#fde0ef"
            ],
            [
             0.5,
             "#f7f7f7"
            ],
            [
             0.6,
             "#e6f5d0"
            ],
            [
             0.7,
             "#b8e186"
            ],
            [
             0.8,
             "#7fbc41"
            ],
            [
             0.9,
             "#4d9221"
            ],
            [
             1,
             "#276419"
            ]
           ],
           "sequential": [
            [
             0,
             "#0d0887"
            ],
            [
             0.1111111111111111,
             "#46039f"
            ],
            [
             0.2222222222222222,
             "#7201a8"
            ],
            [
             0.3333333333333333,
             "#9c179e"
            ],
            [
             0.4444444444444444,
             "#bd3786"
            ],
            [
             0.5555555555555556,
             "#d8576b"
            ],
            [
             0.6666666666666666,
             "#ed7953"
            ],
            [
             0.7777777777777778,
             "#fb9f3a"
            ],
            [
             0.8888888888888888,
             "#fdca26"
            ],
            [
             1,
             "#f0f921"
            ]
           ],
           "sequentialminus": [
            [
             0,
             "#0d0887"
            ],
            [
             0.1111111111111111,
             "#46039f"
            ],
            [
             0.2222222222222222,
             "#7201a8"
            ],
            [
             0.3333333333333333,
             "#9c179e"
            ],
            [
             0.4444444444444444,
             "#bd3786"
            ],
            [
             0.5555555555555556,
             "#d8576b"
            ],
            [
             0.6666666666666666,
             "#ed7953"
            ],
            [
             0.7777777777777778,
             "#fb9f3a"
            ],
            [
             0.8888888888888888,
             "#fdca26"
            ],
            [
             1,
             "#f0f921"
            ]
           ]
          },
          "colorway": [
           "#636efa",
           "#EF553B",
           "#00cc96",
           "#ab63fa",
           "#FFA15A",
           "#19d3f3",
           "#FF6692",
           "#B6E880",
           "#FF97FF",
           "#FECB52"
          ],
          "font": {
           "color": "#2a3f5f"
          },
          "geo": {
           "bgcolor": "white",
           "lakecolor": "white",
           "landcolor": "#E5ECF6",
           "showlakes": true,
           "showland": true,
           "subunitcolor": "white"
          },
          "hoverlabel": {
           "align": "left"
          },
          "hovermode": "closest",
          "mapbox": {
           "style": "light"
          },
          "paper_bgcolor": "white",
          "plot_bgcolor": "#E5ECF6",
          "polar": {
           "angularaxis": {
            "gridcolor": "white",
            "linecolor": "white",
            "ticks": ""
           },
           "bgcolor": "#E5ECF6",
           "radialaxis": {
            "gridcolor": "white",
            "linecolor": "white",
            "ticks": ""
           }
          },
          "scene": {
           "xaxis": {
            "backgroundcolor": "#E5ECF6",
            "gridcolor": "white",
            "gridwidth": 2,
            "linecolor": "white",
            "showbackground": true,
            "ticks": "",
            "zerolinecolor": "white"
           },
           "yaxis": {
            "backgroundcolor": "#E5ECF6",
            "gridcolor": "white",
            "gridwidth": 2,
            "linecolor": "white",
            "showbackground": true,
            "ticks": "",
            "zerolinecolor": "white"
           },
           "zaxis": {
            "backgroundcolor": "#E5ECF6",
            "gridcolor": "white",
            "gridwidth": 2,
            "linecolor": "white",
            "showbackground": true,
            "ticks": "",
            "zerolinecolor": "white"
           }
          },
          "shapedefaults": {
           "line": {
            "color": "#2a3f5f"
           }
          },
          "ternary": {
           "aaxis": {
            "gridcolor": "white",
            "linecolor": "white",
            "ticks": ""
           },
           "baxis": {
            "gridcolor": "white",
            "linecolor": "white",
            "ticks": ""
           },
           "bgcolor": "#E5ECF6",
           "caxis": {
            "gridcolor": "white",
            "linecolor": "white",
            "ticks": ""
           }
          },
          "title": {
           "x": 0.05
          },
          "xaxis": {
           "automargin": true,
           "gridcolor": "white",
           "linecolor": "white",
           "ticks": "",
           "title": {
            "standoff": 15
           },
           "zerolinecolor": "white",
           "zerolinewidth": 2
          },
          "yaxis": {
           "automargin": true,
           "gridcolor": "white",
           "linecolor": "white",
           "ticks": "",
           "title": {
            "standoff": 15
           },
           "zerolinecolor": "white",
           "zerolinewidth": 2
          }
         }
        },
        "title": {
         "text": "소음 경험 및 인식 패턴 분석",
         "x": 0.5
        },
        "xaxis": {
         "anchor": "y",
         "domain": [
          0.55,
          1
         ]
        },
        "xaxis2": {
         "anchor": "y2",
         "domain": [
          0.55,
          1
         ]
        },
        "yaxis": {
         "anchor": "x",
         "domain": [
          0.625,
          1
         ]
        },
        "yaxis2": {
         "anchor": "x2",
         "domain": [
          0,
          0.375
         ]
        }
       }
      }
     },
     "metadata": {},
     "output_type": "display_data"
    }
   ],
   "source": [
    "# 소음 경험 패턴 시각화\n",
    "fig_noise = make_subplots(\n",
    "    rows=2, cols=2,\n",
    "    subplot_titles=('소음 불편 경험 여부', '소음 불편 빈도', '자기 소음 인식 정도', '연령대별 소음 경험'),\n",
    "    specs=[[{\"type\": \"pie\"}, {\"type\": \"bar\"}],\n",
    "           [{\"type\": \"pie\"}, {\"type\": \"bar\"}]]\n",
    ")\n",
    "\n",
    "# 소음 경험 여부\n",
    "fig_noise.add_trace(\n",
    "    go.Pie(\n",
    "        labels=noise_exp_counts.index,\n",
    "        values=noise_exp_counts.values,\n",
    "        hole=0.4,\n",
    "        textinfo='label+percent+value',\n",
    "        textfont=dict(size=12),\n",
    "        marker_colors=['#FF6B6B', '#4ECDC4']\n",
    "    ),\n",
    "    row=1, col=1\n",
    ")\n",
    "\n",
    "# 소음 빈도\n",
    "fig_noise.add_trace(\n",
    "    go.Bar(\n",
    "        x=noise_freq_counts.index,\n",
    "        y=noise_freq_counts.values,\n",
    "        marker_color='#45B7D1',\n",
    "        text=noise_freq_counts.values,\n",
    "        textposition='outside',\n",
    "        textfont=dict(size=12)\n",
    "    ),\n",
    "    row=1, col=2\n",
    ")\n",
    "\n",
    "# 자기 인식 정도\n",
    "fig_noise.add_trace(\n",
    "    go.Pie(\n",
    "        labels=self_awareness_counts.index,\n",
    "        values=self_awareness_counts.values,\n",
    "        hole=0.4,\n",
    "        textinfo='label+percent+value',\n",
    "        textfont=dict(size=10),\n",
    "        marker_colors=['#96CEB4', '#FFEAA7', '#DDA0DD', '#FFB6C1', '#98FB98']\n",
    "    ),\n",
    "    row=2, col=1\n",
    ")\n",
    "\n",
    "# 연령대별 소음 경험 크로스 분석\n",
    "age_noise_cross = pd.crosstab(df_clean['age_group'], df_clean['noise_experience'], normalize='index') * 100\n",
    "\n",
    "fig_noise.add_trace(\n",
    "    go.Bar(\n",
    "        x=age_noise_cross.index,\n",
    "        y=age_noise_cross['예'] if '예' in age_noise_cross.columns else [0],\n",
    "        name='소음 경험 있음 (%)',\n",
    "        marker_color='#FF6B6B',\n",
    "        text=[f'{val:.1f}%' for val in age_noise_cross['예']] if '예' in age_noise_cross.columns else ['0%'],\n",
    "        textposition='outside',\n",
    "        textfont=dict(size=12)\n",
    "    ),\n",
    "    row=2, col=2\n",
    ")\n",
    "\n",
    "fig_noise.update_layout(\n",
    "    title_text=\"소음 경험 및 인식 패턴 분석\",\n",
    "    title_x=0.5,\n",
    "    height=800,\n",
    "    showlegend=False\n",
    ")\n",
    "\n",
    "fig_noise.show()"
   ]
  },
  {
   "cell_type": "markdown",
   "id": "02632c25",
   "metadata": {},
   "source": [
    "## 💡 서비스 선호도 및 구매 의향 분석\n",
    "\n",
    "쿵덕이 서비스에 대한 기대 효과, 매력적인 기능, 구매 의향을 종합적으로 분석합니다."
   ]
  },
  {
   "cell_type": "code",
   "execution_count": 10,
   "id": "18e5c1ec",
   "metadata": {},
   "outputs": [
    {
     "name": "stdout",
     "output_type": "stream",
     "text": [
      "💡 쿵덕이 서비스 수용도 분석 결과:\n",
      "• 효과성 기대 (긍정): 66명 (74.2%)\n",
      "• 이용 의향 (긍정): 40명 (44.9%)\n",
      "• 적정 가격대 (3만원 이하): 83명 (93.3%)\n",
      "• 선물 의향 (긍정): 67명 (75.3%)\n",
      "\n",
      "🎯 시장 잠재력 평가:\n",
      "• 높은 효과성 기대 → 제품 컨셉 검증 완료\n",
      "• 강한 이용 의향 → 시장 수요 확인\n",
      "• 합리적 가격 선호 → 3만원 이하 가격 전략 필요\n",
      "• 선물 시장 가능성 → B2C 확장 전략 유효\n"
     ]
    }
   ],
   "source": [
    "# 제품 효과성에 대한 기대\n",
    "effectiveness_counts = df_clean['product_effectiveness'].value_counts().dropna()\n",
    "\n",
    "# 구매 의향 분석\n",
    "usage_intention_counts = df_clean['usage_intention'].value_counts().dropna()\n",
    "\n",
    "# 가격 선호도 분석\n",
    "price_preference_counts = df_clean['price_preference'].value_counts().dropna()\n",
    "\n",
    "# 선물 의향 분석\n",
    "gift_intention_counts = df_clean['gift_intention'].value_counts().dropna()\n",
    "\n",
    "# 서비스 수용도 분석 요약\n",
    "positive_effectiveness = df_clean[df_clean['product_effectiveness'].str.contains('그렇다', na=False)].shape[0]\n",
    "positive_rate = (positive_effectiveness / len(df_clean)) * 100\n",
    "\n",
    "positive_intention = df_clean[df_clean['usage_intention'].str.contains('있다', na=False)].shape[0]\n",
    "intention_rate = (positive_intention / len(df_clean)) * 100\n",
    "\n",
    "affordable_price = df_clean[df_clean['price_preference'].isin(['1~2 만원', '2~3 만원'])].shape[0]\n",
    "affordable_rate = (affordable_price / len(df_clean)) * 100\n",
    "\n",
    "gift_positive = df_clean[df_clean['gift_intention'] == '예'].shape[0]\n",
    "gift_rate = (gift_positive / len(df_clean)) * 100\n",
    "\n",
    "print(\"💡 쿵덕이 서비스 수용도 분석 결과:\")\n",
    "print(f\"• 효과성 기대 (긍정): {positive_effectiveness}명 ({positive_rate:.1f}%)\")\n",
    "print(f\"• 이용 의향 (긍정): {positive_intention}명 ({intention_rate:.1f}%)\")\n",
    "print(f\"• 적정 가격대 (3만원 이하): {affordable_price}명 ({affordable_rate:.1f}%)\")\n",
    "print(f\"• 선물 의향 (긍정): {gift_positive}명 ({gift_rate:.1f}%)\")\n",
    "\n",
    "print(f\"\\n🎯 시장 잠재력 평가:\")\n",
    "print(f\"• 높은 효과성 기대 → 제품 컨셉 검증 완료\")\n",
    "print(f\"• 강한 이용 의향 → 시장 수요 확인\")\n",
    "print(f\"• 합리적 가격 선호 → 3만원 이하 가격 전략 필요\")\n",
    "print(f\"• 선물 시장 가능성 → B2C 확장 전략 유효\")"
   ]
  },
  {
   "cell_type": "code",
   "execution_count": null,
   "id": "01cc40d3",
   "metadata": {},
   "outputs": [
    {
     "data": {
      "application/vnd.plotly.v1+json": {
       "config": {
        "plotlyServerURL": "https://plot.ly"
       },
       "data": [
        {
         "domain": {
          "x": [
           0,
           0.45
          ],
          "y": [
           0.625,
           1
          ]
         },
         "hole": 0.4,
         "labels": [
          "그렇다.",
          "매우 그렇다.",
          "보통이다.",
          "그렇지 않다.",
          "전혀 그렇지 않다."
         ],
         "marker": {
          "colors": [
           "#28a745",
           "#17a2b8",
           "#ffc107",
           "#dc3545"
          ]
         },
         "type": "pie",
         "values": {
          "bdata": "Mw8OBwE=",
          "dtype": "i1"
         }
        },
        {
         "domain": {
          "x": [
           0.55,
           1
          ],
          "y": [
           0.625,
           1
          ]
         },
         "hole": 0.4,
         "labels": [
          "있다.",
          "보통이다.",
          "별로 없다.",
          "매우 있다.",
          "전혀 없다."
         ],
         "marker": {
          "colors": [
           "#FF6B6B",
           "#4ECDC4",
           "#45B7D1",
           "#96CEB4",
           "#FFEAA7"
          ]
         },
         "type": "pie",
         "values": {
          "bdata": "HRwQCwQ=",
          "dtype": "i1"
         }
        },
        {
         "marker": {
          "color": "#45B7D1"
         },
         "text": [
          "48",
          "35",
          "4",
          "1"
         ],
         "textposition": "outside",
         "type": "bar",
         "x": [
          "1~2 만원",
          "2~3 만원",
          "4~5 만원",
          "5만원 이상"
         ],
         "xaxis": "x",
         "y": [
          48,
          35,
          4,
          1
         ],
         "yaxis": "y"
        },
        {
         "domain": {
          "x": [
           0.55,
           1
          ],
          "y": [
           0,
           0.375
          ]
         },
         "hole": 0.4,
         "labels": [
          "예",
          "아니오"
         ],
         "marker": {
          "colors": [
           "#FF6B6B",
           "#4ECDC4",
           "#45B7D1"
          ]
         },
         "type": "pie",
         "values": {
          "bdata": "QxU=",
          "dtype": "i1"
         }
        }
       ],
       "layout": {
        "annotations": [
         {
          "font": {
           "size": 16
          },
          "showarrow": false,
          "text": "쿵덕이 효과성 기대",
          "x": 0.225,
          "xanchor": "center",
          "xref": "paper",
          "y": 1,
          "yanchor": "bottom",
          "yref": "paper"
         },
         {
          "font": {
           "size": 16
          },
          "showarrow": false,
          "text": "서비스 이용 의향",
          "x": 0.775,
          "xanchor": "center",
          "xref": "paper",
          "y": 1,
          "yanchor": "bottom",
          "yref": "paper"
         },
         {
          "font": {
           "size": 16
          },
          "showarrow": false,
          "text": "가격대 선호도",
          "x": 0.225,
          "xanchor": "center",
          "xref": "paper",
          "y": 0.375,
          "yanchor": "bottom",
          "yref": "paper"
         },
         {
          "font": {
           "size": 16
          },
          "showarrow": false,
          "text": "선물 의향",
          "x": 0.775,
          "xanchor": "center",
          "xref": "paper",
          "y": 0.375,
          "yanchor": "bottom",
          "yref": "paper"
         }
        ],
        "height": 800,
        "showlegend": false,
        "template": {
         "data": {
          "bar": [
           {
            "error_x": {
             "color": "#2a3f5f"
            },
            "error_y": {
             "color": "#2a3f5f"
            },
            "marker": {
             "line": {
              "color": "#E5ECF6",
              "width": 0.5
             },
             "pattern": {
              "fillmode": "overlay",
              "size": 10,
              "solidity": 0.2
             }
            },
            "type": "bar"
           }
          ],
          "barpolar": [
           {
            "marker": {
             "line": {
              "color": "#E5ECF6",
              "width": 0.5
             },
             "pattern": {
              "fillmode": "overlay",
              "size": 10,
              "solidity": 0.2
             }
            },
            "type": "barpolar"
           }
          ],
          "carpet": [
           {
            "aaxis": {
             "endlinecolor": "#2a3f5f",
             "gridcolor": "white",
             "linecolor": "white",
             "minorgridcolor": "white",
             "startlinecolor": "#2a3f5f"
            },
            "baxis": {
             "endlinecolor": "#2a3f5f",
             "gridcolor": "white",
             "linecolor": "white",
             "minorgridcolor": "white",
             "startlinecolor": "#2a3f5f"
            },
            "type": "carpet"
           }
          ],
          "choropleth": [
           {
            "colorbar": {
             "outlinewidth": 0,
             "ticks": ""
            },
            "type": "choropleth"
           }
          ],
          "contour": [
           {
            "colorbar": {
             "outlinewidth": 0,
             "ticks": ""
            },
            "colorscale": [
             [
              0,
              "#0d0887"
             ],
             [
              0.1111111111111111,
              "#46039f"
             ],
             [
              0.2222222222222222,
              "#7201a8"
             ],
             [
              0.3333333333333333,
              "#9c179e"
             ],
             [
              0.4444444444444444,
              "#bd3786"
             ],
             [
              0.5555555555555556,
              "#d8576b"
             ],
             [
              0.6666666666666666,
              "#ed7953"
             ],
             [
              0.7777777777777778,
              "#fb9f3a"
             ],
             [
              0.8888888888888888,
              "#fdca26"
             ],
             [
              1,
              "#f0f921"
             ]
            ],
            "type": "contour"
           }
          ],
          "contourcarpet": [
           {
            "colorbar": {
             "outlinewidth": 0,
             "ticks": ""
            },
            "type": "contourcarpet"
           }
          ],
          "heatmap": [
           {
            "colorbar": {
             "outlinewidth": 0,
             "ticks": ""
            },
            "colorscale": [
             [
              0,
              "#0d0887"
             ],
             [
              0.1111111111111111,
              "#46039f"
             ],
             [
              0.2222222222222222,
              "#7201a8"
             ],
             [
              0.3333333333333333,
              "#9c179e"
             ],
             [
              0.4444444444444444,
              "#bd3786"
             ],
             [
              0.5555555555555556,
              "#d8576b"
             ],
             [
              0.6666666666666666,
              "#ed7953"
             ],
             [
              0.7777777777777778,
              "#fb9f3a"
             ],
             [
              0.8888888888888888,
              "#fdca26"
             ],
             [
              1,
              "#f0f921"
             ]
            ],
            "type": "heatmap"
           }
          ],
          "histogram": [
           {
            "marker": {
             "pattern": {
              "fillmode": "overlay",
              "size": 10,
              "solidity": 0.2
             }
            },
            "type": "histogram"
           }
          ],
          "histogram2d": [
           {
            "colorbar": {
             "outlinewidth": 0,
             "ticks": ""
            },
            "colorscale": [
             [
              0,
              "#0d0887"
             ],
             [
              0.1111111111111111,
              "#46039f"
             ],
             [
              0.2222222222222222,
              "#7201a8"
             ],
             [
              0.3333333333333333,
              "#9c179e"
             ],
             [
              0.4444444444444444,
              "#bd3786"
             ],
             [
              0.5555555555555556,
              "#d8576b"
             ],
             [
              0.6666666666666666,
              "#ed7953"
             ],
             [
              0.7777777777777778,
              "#fb9f3a"
             ],
             [
              0.8888888888888888,
              "#fdca26"
             ],
             [
              1,
              "#f0f921"
             ]
            ],
            "type": "histogram2d"
           }
          ],
          "histogram2dcontour": [
           {
            "colorbar": {
             "outlinewidth": 0,
             "ticks": ""
            },
            "colorscale": [
             [
              0,
              "#0d0887"
             ],
             [
              0.1111111111111111,
              "#46039f"
             ],
             [
              0.2222222222222222,
              "#7201a8"
             ],
             [
              0.3333333333333333,
              "#9c179e"
             ],
             [
              0.4444444444444444,
              "#bd3786"
             ],
             [
              0.5555555555555556,
              "#d8576b"
             ],
             [
              0.6666666666666666,
              "#ed7953"
             ],
             [
              0.7777777777777778,
              "#fb9f3a"
             ],
             [
              0.8888888888888888,
              "#fdca26"
             ],
             [
              1,
              "#f0f921"
             ]
            ],
            "type": "histogram2dcontour"
           }
          ],
          "mesh3d": [
           {
            "colorbar": {
             "outlinewidth": 0,
             "ticks": ""
            },
            "type": "mesh3d"
           }
          ],
          "parcoords": [
           {
            "line": {
             "colorbar": {
              "outlinewidth": 0,
              "ticks": ""
             }
            },
            "type": "parcoords"
           }
          ],
          "pie": [
           {
            "automargin": true,
            "type": "pie"
           }
          ],
          "scatter": [
           {
            "fillpattern": {
             "fillmode": "overlay",
             "size": 10,
             "solidity": 0.2
            },
            "type": "scatter"
           }
          ],
          "scatter3d": [
           {
            "line": {
             "colorbar": {
              "outlinewidth": 0,
              "ticks": ""
             }
            },
            "marker": {
             "colorbar": {
              "outlinewidth": 0,
              "ticks": ""
             }
            },
            "type": "scatter3d"
           }
          ],
          "scattercarpet": [
           {
            "marker": {
             "colorbar": {
              "outlinewidth": 0,
              "ticks": ""
             }
            },
            "type": "scattercarpet"
           }
          ],
          "scattergeo": [
           {
            "marker": {
             "colorbar": {
              "outlinewidth": 0,
              "ticks": ""
             }
            },
            "type": "scattergeo"
           }
          ],
          "scattergl": [
           {
            "marker": {
             "colorbar": {
              "outlinewidth": 0,
              "ticks": ""
             }
            },
            "type": "scattergl"
           }
          ],
          "scattermap": [
           {
            "marker": {
             "colorbar": {
              "outlinewidth": 0,
              "ticks": ""
             }
            },
            "type": "scattermap"
           }
          ],
          "scattermapbox": [
           {
            "marker": {
             "colorbar": {
              "outlinewidth": 0,
              "ticks": ""
             }
            },
            "type": "scattermapbox"
           }
          ],
          "scatterpolar": [
           {
            "marker": {
             "colorbar": {
              "outlinewidth": 0,
              "ticks": ""
             }
            },
            "type": "scatterpolar"
           }
          ],
          "scatterpolargl": [
           {
            "marker": {
             "colorbar": {
              "outlinewidth": 0,
              "ticks": ""
             }
            },
            "type": "scatterpolargl"
           }
          ],
          "scatterternary": [
           {
            "marker": {
             "colorbar": {
              "outlinewidth": 0,
              "ticks": ""
             }
            },
            "type": "scatterternary"
           }
          ],
          "surface": [
           {
            "colorbar": {
             "outlinewidth": 0,
             "ticks": ""
            },
            "colorscale": [
             [
              0,
              "#0d0887"
             ],
             [
              0.1111111111111111,
              "#46039f"
             ],
             [
              0.2222222222222222,
              "#7201a8"
             ],
             [
              0.3333333333333333,
              "#9c179e"
             ],
             [
              0.4444444444444444,
              "#bd3786"
             ],
             [
              0.5555555555555556,
              "#d8576b"
             ],
             [
              0.6666666666666666,
              "#ed7953"
             ],
             [
              0.7777777777777778,
              "#fb9f3a"
             ],
             [
              0.8888888888888888,
              "#fdca26"
             ],
             [
              1,
              "#f0f921"
             ]
            ],
            "type": "surface"
           }
          ],
          "table": [
           {
            "cells": {
             "fill": {
              "color": "#EBF0F8"
             },
             "line": {
              "color": "white"
             }
            },
            "header": {
             "fill": {
              "color": "#C8D4E3"
             },
             "line": {
              "color": "white"
             }
            },
            "type": "table"
           }
          ]
         },
         "layout": {
          "annotationdefaults": {
           "arrowcolor": "#2a3f5f",
           "arrowhead": 0,
           "arrowwidth": 1
          },
          "autotypenumbers": "strict",
          "coloraxis": {
           "colorbar": {
            "outlinewidth": 0,
            "ticks": ""
           }
          },
          "colorscale": {
           "diverging": [
            [
             0,
             "#8e0152"
            ],
            [
             0.1,
             "#c51b7d"
            ],
            [
             0.2,
             "#de77ae"
            ],
            [
             0.3,
             "#f1b6da"
            ],
            [
             0.4,
             "#fde0ef"
            ],
            [
             0.5,
             "#f7f7f7"
            ],
            [
             0.6,
             "#e6f5d0"
            ],
            [
             0.7,
             "#b8e186"
            ],
            [
             0.8,
             "#7fbc41"
            ],
            [
             0.9,
             "#4d9221"
            ],
            [
             1,
             "#276419"
            ]
           ],
           "sequential": [
            [
             0,
             "#0d0887"
            ],
            [
             0.1111111111111111,
             "#46039f"
            ],
            [
             0.2222222222222222,
             "#7201a8"
            ],
            [
             0.3333333333333333,
             "#9c179e"
            ],
            [
             0.4444444444444444,
             "#bd3786"
            ],
            [
             0.5555555555555556,
             "#d8576b"
            ],
            [
             0.6666666666666666,
             "#ed7953"
            ],
            [
             0.7777777777777778,
             "#fb9f3a"
            ],
            [
             0.8888888888888888,
             "#fdca26"
            ],
            [
             1,
             "#f0f921"
            ]
           ],
           "sequentialminus": [
            [
             0,
             "#0d0887"
            ],
            [
             0.1111111111111111,
             "#46039f"
            ],
            [
             0.2222222222222222,
             "#7201a8"
            ],
            [
             0.3333333333333333,
             "#9c179e"
            ],
            [
             0.4444444444444444,
             "#bd3786"
            ],
            [
             0.5555555555555556,
             "#d8576b"
            ],
            [
             0.6666666666666666,
             "#ed7953"
            ],
            [
             0.7777777777777778,
             "#fb9f3a"
            ],
            [
             0.8888888888888888,
             "#fdca26"
            ],
            [
             1,
             "#f0f921"
            ]
           ]
          },
          "colorway": [
           "#636efa",
           "#EF553B",
           "#00cc96",
           "#ab63fa",
           "#FFA15A",
           "#19d3f3",
           "#FF6692",
           "#B6E880",
           "#FF97FF",
           "#FECB52"
          ],
          "font": {
           "color": "#2a3f5f"
          },
          "geo": {
           "bgcolor": "white",
           "lakecolor": "white",
           "landcolor": "#E5ECF6",
           "showlakes": true,
           "showland": true,
           "subunitcolor": "white"
          },
          "hoverlabel": {
           "align": "left"
          },
          "hovermode": "closest",
          "mapbox": {
           "style": "light"
          },
          "paper_bgcolor": "white",
          "plot_bgcolor": "#E5ECF6",
          "polar": {
           "angularaxis": {
            "gridcolor": "white",
            "linecolor": "white",
            "ticks": ""
           },
           "bgcolor": "#E5ECF6",
           "radialaxis": {
            "gridcolor": "white",
            "linecolor": "white",
            "ticks": ""
           }
          },
          "scene": {
           "xaxis": {
            "backgroundcolor": "#E5ECF6",
            "gridcolor": "white",
            "gridwidth": 2,
            "linecolor": "white",
            "showbackground": true,
            "ticks": "",
            "zerolinecolor": "white"
           },
           "yaxis": {
            "backgroundcolor": "#E5ECF6",
            "gridcolor": "white",
            "gridwidth": 2,
            "linecolor": "white",
            "showbackground": true,
            "ticks": "",
            "zerolinecolor": "white"
           },
           "zaxis": {
            "backgroundcolor": "#E5ECF6",
            "gridcolor": "white",
            "gridwidth": 2,
            "linecolor": "white",
            "showbackground": true,
            "ticks": "",
            "zerolinecolor": "white"
           }
          },
          "shapedefaults": {
           "line": {
            "color": "#2a3f5f"
           }
          },
          "ternary": {
           "aaxis": {
            "gridcolor": "white",
            "linecolor": "white",
            "ticks": ""
           },
           "baxis": {
            "gridcolor": "white",
            "linecolor": "white",
            "ticks": ""
           },
           "bgcolor": "#E5ECF6",
           "caxis": {
            "gridcolor": "white",
            "linecolor": "white",
            "ticks": ""
           }
          },
          "title": {
           "x": 0.05
          },
          "xaxis": {
           "automargin": true,
           "gridcolor": "white",
           "linecolor": "white",
           "ticks": "",
           "title": {
            "standoff": 15
           },
           "zerolinecolor": "white",
           "zerolinewidth": 2
          },
          "yaxis": {
           "automargin": true,
           "gridcolor": "white",
           "linecolor": "white",
           "ticks": "",
           "title": {
            "standoff": 15
           },
           "zerolinecolor": "white",
           "zerolinewidth": 2
          }
         }
        },
        "title": {
         "text": "쿵덕이 서비스에 대한 수용도 및 구매 의향",
         "x": 0.5
        },
        "xaxis": {
         "anchor": "y",
         "domain": [
          0,
          0.45
         ]
        },
        "yaxis": {
         "anchor": "x",
         "domain": [
          0,
          0.375
         ]
        }
       }
      }
     },
     "metadata": {},
     "output_type": "display_data"
    }
   ],
   "source": [
    "# 서비스 선호도 종합 시각화\n",
    "fig_service = make_subplots(\n",
    "    rows=2, cols=2,\n",
    "    subplot_titles=('쿵덕이 효과성 기대', '서비스 이용 의향', '가격대 선호도', '선물 의향'),\n",
    "    specs=[[{\"type\": \"pie\"}, {\"type\": \"pie\"}],\n",
    "           [{\"type\": \"bar\"}, {\"type\": \"pie\"}]]\n",
    ")\n",
    "\n",
    "# 효과성 기대\n",
    "fig_service.add_trace(\n",
    "    go.Pie(\n",
    "        labels=effectiveness_counts.index,\n",
    "        values=effectiveness_counts.values,\n",
    "        hole=0.4,\n",
    "        textinfo='label+percent+value',\n",
    "        textfont=dict(size=10),\n",
    "        marker_colors=['#28a745', '#17a2b8', '#ffc107', '#dc3545']\n",
    "    ),\n",
    "    row=1, col=1\n",
    ")\n",
    "\n",
    "# 이용 의향\n",
    "fig_service.add_trace(\n",
    "    go.Pie(\n",
    "        labels=usage_intention_counts.index,\n",
    "        values=usage_intention_counts.values,\n",
    "        hole=0.4,\n",
    "        textinfo='label+percent+value',\n",
    "        textfont=dict(size=10),\n",
    "        marker_colors=['#FF6B6B', '#4ECDC4', '#45B7D1', '#96CEB4', '#FFEAA7']\n",
    "    ),\n",
    "    row=1, col=2\n",
    ")\n",
    "\n",
    "# 가격 선호도\n",
    "price_order = ['1~2 만원', '2~3 만원', '4~5 만원', '5만원 이상']\n",
    "price_ordered = []\n",
    "values_ordered = []\n",
    "for price in price_order:\n",
    "    if price in price_preference_counts.index:\n",
    "        price_ordered.append(price)\n",
    "        values_ordered.append(price_preference_counts[price])\n",
    "\n",
    "fig_service.add_trace(\n",
    "    go.Bar(\n",
    "        x=price_ordered,\n",
    "        y=values_ordered,\n",
    "        marker_color='#45B7D1',\n",
    "        text=values_ordered,\n",
    "        textposition='outside',\n",
    "        textfont=dict(size=12)\n",
    "    ),\n",
    "    row=2, col=1\n",
    ")\n",
    "\n",
    "# 선물 의향\n",
    "fig_service.add_trace(\n",
    "    go.Pie(\n",
    "        labels=gift_intention_counts.index,\n",
    "        values=gift_intention_counts.values,\n",
    "        hole=0.4,\n",
    "        textinfo='label+percent+value',\n",
    "        textfont=dict(size=12),\n",
    "        marker_colors=['#FF6B6B', '#4ECDC4', '#45B7D1']\n",
    "    ),\n",
    "    row=2, col=2\n",
    ")\n",
    "\n",
    "fig_service.update_layout(\n",
    "    title_text=\"쿵덕이 서비스에 대한 수용도 및 구매 의향\",\n",
    "    title_x=0.5,\n",
    "    height=800,\n",
    "    showlegend=False\n",
    ")\n",
    "\n",
    "fig_service.show()"
   ]
  },
  {
   "cell_type": "markdown",
   "id": "1d633ecd",
   "metadata": {},
   "source": [
    "## 👨‍👩‍👧‍👦 사용자 세그먼트별 분석\n",
    "\n",
    "주요 타겟 세그먼트별로 특성과 니즈를 비교 분석합니다."
   ]
  },
  {
   "cell_type": "code",
   "execution_count": 12,
   "id": "e0161a2a",
   "metadata": {},
   "outputs": [
    {
     "name": "stdout",
     "output_type": "stream",
     "text": [
      "👨‍👩‍👧‍👦 타겟 세그먼트별 특성 분석:\n",
      "\n",
      "세그먼트별 주요 지표 (%):\n",
      "              응답자수  구매의향   효과기대   적정가격  소음경험\n",
      "어린이 양육 가정      7.0  57.1  100.0   85.7  85.7\n",
      "야간 소음 민감 직장인  21.0  47.6   66.7   95.2  81.0\n",
      "라이프스타일 추구형    21.0  52.4   76.2   85.7  61.9\n",
      "소음 무자각자 가족    17.0  47.1   64.7  100.0  76.5\n",
      "\n",
      "🎯 세그먼트별 마케팅 전략:\n",
      "\n",
      "• 어린이 양육 가정 (7명)\n",
      "  - 강한 효과 기대 (100.0%) → 핵심 니즈 충족\n",
      "  - 높은 소음 경험률 (85.7%) → 절실한 니즈\n",
      "  → 전략: 아이 안전 + 이웃 배려 메시지\n",
      "\n",
      "• 야간 소음 민감 직장인 (21명)\n",
      "  - 높은 소음 경험률 (81.0%) → 절실한 니즈\n",
      "  → 전략: 수면의 질 향상 + 스트레스 감소\n",
      "\n",
      "• 라이프스타일 추구형 (21명)\n",
      "  → 전략: 인테리어 디자인 + 스마트홈 연동\n",
      "\n",
      "• 소음 무자각자 가족 (17명)\n",
      "  → 전략: 객관적 측정 + 행동 개선 가이드\n"
     ]
    }
   ],
   "source": [
    "# 주요 타겟 세그먼트 정의\n",
    "segments = {\n",
    "    '어린이 양육 가정': df_clean[df_clean['life_situation'].str.contains('어린이 양육', na=False)],\n",
    "    '야간 소음 민감 직장인': df_clean[df_clean['life_situation'].str.contains('야간 소음', na=False)],\n",
    "    '라이프스타일 추구형': df_clean[df_clean['life_situation'].str.contains('라이프스타일', na=False)],\n",
    "    '소음 무자각자 가족': df_clean[df_clean['life_situation'].str.contains('소음 무자각', na=False)]\n",
    "}\n",
    "\n",
    "# 세그먼트별 주요 지표 분석\n",
    "segment_analysis = {}\n",
    "\n",
    "for segment_name, segment_data in segments.items():\n",
    "    if len(segment_data) > 0:\n",
    "        # 구매 의향\n",
    "        positive_intention = len(segment_data[segment_data['usage_intention'].str.contains('있다', na=False)])\n",
    "        intention_rate = (positive_intention / len(segment_data)) * 100\n",
    "        \n",
    "        # 효과성 기대\n",
    "        positive_effect = len(segment_data[segment_data['product_effectiveness'].str.contains('그렇다', na=False)])\n",
    "        effect_rate = (positive_effect / len(segment_data)) * 100\n",
    "        \n",
    "        # 가격 선호도 (3만원 이하)\n",
    "        affordable = len(segment_data[segment_data['price_preference'].isin(['1~2 만원', '2~3 만원'])])\n",
    "        affordable_rate = (affordable / len(segment_data)) * 100\n",
    "        \n",
    "        # 소음 경험률\n",
    "        noise_exp = len(segment_data[segment_data['noise_experience'] == '예'])\n",
    "        noise_rate = (noise_exp / len(segment_data)) * 100\n",
    "        \n",
    "        segment_analysis[segment_name] = {\n",
    "            '응답자수': len(segment_data),\n",
    "            '구매의향': intention_rate,\n",
    "            '효과기대': effect_rate,\n",
    "            '적정가격': affordable_rate,\n",
    "            '소음경험': noise_rate\n",
    "        }\n",
    "\n",
    "# 세그먼트 분석 결과를 DataFrame으로 변환\n",
    "segment_df = pd.DataFrame(segment_analysis).T\n",
    "\n",
    "# 세그먼트별 상세 분석 테이블\n",
    "print(\"👨‍👩‍👧‍👦 타겟 세그먼트별 특성 분석:\")\n",
    "print(\"\\n세그먼트별 주요 지표 (%):\")\n",
    "print(segment_df.round(1))\n",
    "\n",
    "print(f\"\\n🎯 세그먼트별 마케팅 전략:\")\n",
    "for segment, data in segment_analysis.items():\n",
    "    print(f\"\\n• {segment} ({data['응답자수']}명)\")\n",
    "    if data['구매의향'] >= 70:\n",
    "        print(f\"  - 높은 구매 의향 ({data['구매의향']:.1f}%) → 우선 타겟\")\n",
    "    if data['효과기대'] >= 80:\n",
    "        print(f\"  - 강한 효과 기대 ({data['효과기대']:.1f}%) → 핵심 니즈 충족\")\n",
    "    if data['소음경험'] >= 80:\n",
    "        print(f\"  - 높은 소음 경험률 ({data['소음경험']:.1f}%) → 절실한 니즈\")\n",
    "    \n",
    "    # 세그먼트별 맞춤 전략\n",
    "    if segment == '어린이 양육 가정':\n",
    "        print(f\"  → 전략: 아이 안전 + 이웃 배려 메시지\")\n",
    "    elif segment == '야간 소음 민감 직장인':\n",
    "        print(f\"  → 전략: 수면의 질 향상 + 스트레스 감소\")\n",
    "    elif segment == '라이프스타일 추구형':\n",
    "        print(f\"  → 전략: 인테리어 디자인 + 스마트홈 연동\")\n",
    "    elif segment == '소음 무자각자 가족':\n",
    "        print(f\"  → 전략: 객관적 측정 + 행동 개선 가이드\")"
   ]
  },
  {
   "cell_type": "code",
   "execution_count": 13,
   "id": "b4b98653",
   "metadata": {},
   "outputs": [
    {
     "data": {
      "application/vnd.plotly.v1+json": {
       "config": {
        "plotlyServerURL": "https://plot.ly"
       },
       "data": [
        {
         "fill": "toself",
         "line": {
          "color": "#FF6B6B"
         },
         "name": "어린이 양육 가정",
         "r": [
          57.14285714285714,
          100,
          85.71428571428571,
          85.71428571428571,
          57.14285714285714
         ],
         "theta": [
          "구매의향",
          "효과기대",
          "적정가격",
          "소음경험",
          "구매의향"
         ],
         "type": "scatterpolar"
        },
        {
         "fill": "toself",
         "line": {
          "color": "#4ECDC4"
         },
         "name": "야간 소음 민감 직장인",
         "r": [
          47.61904761904761,
          66.66666666666666,
          95.23809523809523,
          80.95238095238095,
          47.61904761904761
         ],
         "theta": [
          "구매의향",
          "효과기대",
          "적정가격",
          "소음경험",
          "구매의향"
         ],
         "type": "scatterpolar"
        },
        {
         "fill": "toself",
         "line": {
          "color": "#45B7D1"
         },
         "name": "라이프스타일 추구형",
         "r": [
          52.38095238095239,
          76.19047619047619,
          85.71428571428571,
          61.904761904761905,
          52.38095238095239
         ],
         "theta": [
          "구매의향",
          "효과기대",
          "적정가격",
          "소음경험",
          "구매의향"
         ],
         "type": "scatterpolar"
        },
        {
         "fill": "toself",
         "line": {
          "color": "#96CEB4"
         },
         "name": "소음 무자각자 가족",
         "r": [
          47.05882352941176,
          64.70588235294117,
          100,
          76.47058823529412,
          47.05882352941176
         ],
         "theta": [
          "구매의향",
          "효과기대",
          "적정가격",
          "소음경험",
          "구매의향"
         ],
         "type": "scatterpolar"
        }
       ],
       "layout": {
        "height": 600,
        "polar": {
         "radialaxis": {
          "range": [
           0,
           100
          ],
          "visible": true
         }
        },
        "template": {
         "data": {
          "bar": [
           {
            "error_x": {
             "color": "#2a3f5f"
            },
            "error_y": {
             "color": "#2a3f5f"
            },
            "marker": {
             "line": {
              "color": "#E5ECF6",
              "width": 0.5
             },
             "pattern": {
              "fillmode": "overlay",
              "size": 10,
              "solidity": 0.2
             }
            },
            "type": "bar"
           }
          ],
          "barpolar": [
           {
            "marker": {
             "line": {
              "color": "#E5ECF6",
              "width": 0.5
             },
             "pattern": {
              "fillmode": "overlay",
              "size": 10,
              "solidity": 0.2
             }
            },
            "type": "barpolar"
           }
          ],
          "carpet": [
           {
            "aaxis": {
             "endlinecolor": "#2a3f5f",
             "gridcolor": "white",
             "linecolor": "white",
             "minorgridcolor": "white",
             "startlinecolor": "#2a3f5f"
            },
            "baxis": {
             "endlinecolor": "#2a3f5f",
             "gridcolor": "white",
             "linecolor": "white",
             "minorgridcolor": "white",
             "startlinecolor": "#2a3f5f"
            },
            "type": "carpet"
           }
          ],
          "choropleth": [
           {
            "colorbar": {
             "outlinewidth": 0,
             "ticks": ""
            },
            "type": "choropleth"
           }
          ],
          "contour": [
           {
            "colorbar": {
             "outlinewidth": 0,
             "ticks": ""
            },
            "colorscale": [
             [
              0,
              "#0d0887"
             ],
             [
              0.1111111111111111,
              "#46039f"
             ],
             [
              0.2222222222222222,
              "#7201a8"
             ],
             [
              0.3333333333333333,
              "#9c179e"
             ],
             [
              0.4444444444444444,
              "#bd3786"
             ],
             [
              0.5555555555555556,
              "#d8576b"
             ],
             [
              0.6666666666666666,
              "#ed7953"
             ],
             [
              0.7777777777777778,
              "#fb9f3a"
             ],
             [
              0.8888888888888888,
              "#fdca26"
             ],
             [
              1,
              "#f0f921"
             ]
            ],
            "type": "contour"
           }
          ],
          "contourcarpet": [
           {
            "colorbar": {
             "outlinewidth": 0,
             "ticks": ""
            },
            "type": "contourcarpet"
           }
          ],
          "heatmap": [
           {
            "colorbar": {
             "outlinewidth": 0,
             "ticks": ""
            },
            "colorscale": [
             [
              0,
              "#0d0887"
             ],
             [
              0.1111111111111111,
              "#46039f"
             ],
             [
              0.2222222222222222,
              "#7201a8"
             ],
             [
              0.3333333333333333,
              "#9c179e"
             ],
             [
              0.4444444444444444,
              "#bd3786"
             ],
             [
              0.5555555555555556,
              "#d8576b"
             ],
             [
              0.6666666666666666,
              "#ed7953"
             ],
             [
              0.7777777777777778,
              "#fb9f3a"
             ],
             [
              0.8888888888888888,
              "#fdca26"
             ],
             [
              1,
              "#f0f921"
             ]
            ],
            "type": "heatmap"
           }
          ],
          "histogram": [
           {
            "marker": {
             "pattern": {
              "fillmode": "overlay",
              "size": 10,
              "solidity": 0.2
             }
            },
            "type": "histogram"
           }
          ],
          "histogram2d": [
           {
            "colorbar": {
             "outlinewidth": 0,
             "ticks": ""
            },
            "colorscale": [
             [
              0,
              "#0d0887"
             ],
             [
              0.1111111111111111,
              "#46039f"
             ],
             [
              0.2222222222222222,
              "#7201a8"
             ],
             [
              0.3333333333333333,
              "#9c179e"
             ],
             [
              0.4444444444444444,
              "#bd3786"
             ],
             [
              0.5555555555555556,
              "#d8576b"
             ],
             [
              0.6666666666666666,
              "#ed7953"
             ],
             [
              0.7777777777777778,
              "#fb9f3a"
             ],
             [
              0.8888888888888888,
              "#fdca26"
             ],
             [
              1,
              "#f0f921"
             ]
            ],
            "type": "histogram2d"
           }
          ],
          "histogram2dcontour": [
           {
            "colorbar": {
             "outlinewidth": 0,
             "ticks": ""
            },
            "colorscale": [
             [
              0,
              "#0d0887"
             ],
             [
              0.1111111111111111,
              "#46039f"
             ],
             [
              0.2222222222222222,
              "#7201a8"
             ],
             [
              0.3333333333333333,
              "#9c179e"
             ],
             [
              0.4444444444444444,
              "#bd3786"
             ],
             [
              0.5555555555555556,
              "#d8576b"
             ],
             [
              0.6666666666666666,
              "#ed7953"
             ],
             [
              0.7777777777777778,
              "#fb9f3a"
             ],
             [
              0.8888888888888888,
              "#fdca26"
             ],
             [
              1,
              "#f0f921"
             ]
            ],
            "type": "histogram2dcontour"
           }
          ],
          "mesh3d": [
           {
            "colorbar": {
             "outlinewidth": 0,
             "ticks": ""
            },
            "type": "mesh3d"
           }
          ],
          "parcoords": [
           {
            "line": {
             "colorbar": {
              "outlinewidth": 0,
              "ticks": ""
             }
            },
            "type": "parcoords"
           }
          ],
          "pie": [
           {
            "automargin": true,
            "type": "pie"
           }
          ],
          "scatter": [
           {
            "fillpattern": {
             "fillmode": "overlay",
             "size": 10,
             "solidity": 0.2
            },
            "type": "scatter"
           }
          ],
          "scatter3d": [
           {
            "line": {
             "colorbar": {
              "outlinewidth": 0,
              "ticks": ""
             }
            },
            "marker": {
             "colorbar": {
              "outlinewidth": 0,
              "ticks": ""
             }
            },
            "type": "scatter3d"
           }
          ],
          "scattercarpet": [
           {
            "marker": {
             "colorbar": {
              "outlinewidth": 0,
              "ticks": ""
             }
            },
            "type": "scattercarpet"
           }
          ],
          "scattergeo": [
           {
            "marker": {
             "colorbar": {
              "outlinewidth": 0,
              "ticks": ""
             }
            },
            "type": "scattergeo"
           }
          ],
          "scattergl": [
           {
            "marker": {
             "colorbar": {
              "outlinewidth": 0,
              "ticks": ""
             }
            },
            "type": "scattergl"
           }
          ],
          "scattermap": [
           {
            "marker": {
             "colorbar": {
              "outlinewidth": 0,
              "ticks": ""
             }
            },
            "type": "scattermap"
           }
          ],
          "scattermapbox": [
           {
            "marker": {
             "colorbar": {
              "outlinewidth": 0,
              "ticks": ""
             }
            },
            "type": "scattermapbox"
           }
          ],
          "scatterpolar": [
           {
            "marker": {
             "colorbar": {
              "outlinewidth": 0,
              "ticks": ""
             }
            },
            "type": "scatterpolar"
           }
          ],
          "scatterpolargl": [
           {
            "marker": {
             "colorbar": {
              "outlinewidth": 0,
              "ticks": ""
             }
            },
            "type": "scatterpolargl"
           }
          ],
          "scatterternary": [
           {
            "marker": {
             "colorbar": {
              "outlinewidth": 0,
              "ticks": ""
             }
            },
            "type": "scatterternary"
           }
          ],
          "surface": [
           {
            "colorbar": {
             "outlinewidth": 0,
             "ticks": ""
            },
            "colorscale": [
             [
              0,
              "#0d0887"
             ],
             [
              0.1111111111111111,
              "#46039f"
             ],
             [
              0.2222222222222222,
              "#7201a8"
             ],
             [
              0.3333333333333333,
              "#9c179e"
             ],
             [
              0.4444444444444444,
              "#bd3786"
             ],
             [
              0.5555555555555556,
              "#d8576b"
             ],
             [
              0.6666666666666666,
              "#ed7953"
             ],
             [
              0.7777777777777778,
              "#fb9f3a"
             ],
             [
              0.8888888888888888,
              "#fdca26"
             ],
             [
              1,
              "#f0f921"
             ]
            ],
            "type": "surface"
           }
          ],
          "table": [
           {
            "cells": {
             "fill": {
              "color": "#EBF0F8"
             },
             "line": {
              "color": "white"
             }
            },
            "header": {
             "fill": {
              "color": "#C8D4E3"
             },
             "line": {
              "color": "white"
             }
            },
            "type": "table"
           }
          ]
         },
         "layout": {
          "annotationdefaults": {
           "arrowcolor": "#2a3f5f",
           "arrowhead": 0,
           "arrowwidth": 1
          },
          "autotypenumbers": "strict",
          "coloraxis": {
           "colorbar": {
            "outlinewidth": 0,
            "ticks": ""
           }
          },
          "colorscale": {
           "diverging": [
            [
             0,
             "#8e0152"
            ],
            [
             0.1,
             "#c51b7d"
            ],
            [
             0.2,
             "#de77ae"
            ],
            [
             0.3,
             "#f1b6da"
            ],
            [
             0.4,
             "#fde0ef"
            ],
            [
             0.5,
             "#f7f7f7"
            ],
            [
             0.6,
             "#e6f5d0"
            ],
            [
             0.7,
             "#b8e186"
            ],
            [
             0.8,
             "#7fbc41"
            ],
            [
             0.9,
             "#4d9221"
            ],
            [
             1,
             "#276419"
            ]
           ],
           "sequential": [
            [
             0,
             "#0d0887"
            ],
            [
             0.1111111111111111,
             "#46039f"
            ],
            [
             0.2222222222222222,
             "#7201a8"
            ],
            [
             0.3333333333333333,
             "#9c179e"
            ],
            [
             0.4444444444444444,
             "#bd3786"
            ],
            [
             0.5555555555555556,
             "#d8576b"
            ],
            [
             0.6666666666666666,
             "#ed7953"
            ],
            [
             0.7777777777777778,
             "#fb9f3a"
            ],
            [
             0.8888888888888888,
             "#fdca26"
            ],
            [
             1,
             "#f0f921"
            ]
           ],
           "sequentialminus": [
            [
             0,
             "#0d0887"
            ],
            [
             0.1111111111111111,
             "#46039f"
            ],
            [
             0.2222222222222222,
             "#7201a8"
            ],
            [
             0.3333333333333333,
             "#9c179e"
            ],
            [
             0.4444444444444444,
             "#bd3786"
            ],
            [
             0.5555555555555556,
             "#d8576b"
            ],
            [
             0.6666666666666666,
             "#ed7953"
            ],
            [
             0.7777777777777778,
             "#fb9f3a"
            ],
            [
             0.8888888888888888,
             "#fdca26"
            ],
            [
             1,
             "#f0f921"
            ]
           ]
          },
          "colorway": [
           "#636efa",
           "#EF553B",
           "#00cc96",
           "#ab63fa",
           "#FFA15A",
           "#19d3f3",
           "#FF6692",
           "#B6E880",
           "#FF97FF",
           "#FECB52"
          ],
          "font": {
           "color": "#2a3f5f"
          },
          "geo": {
           "bgcolor": "white",
           "lakecolor": "white",
           "landcolor": "#E5ECF6",
           "showlakes": true,
           "showland": true,
           "subunitcolor": "white"
          },
          "hoverlabel": {
           "align": "left"
          },
          "hovermode": "closest",
          "mapbox": {
           "style": "light"
          },
          "paper_bgcolor": "white",
          "plot_bgcolor": "#E5ECF6",
          "polar": {
           "angularaxis": {
            "gridcolor": "white",
            "linecolor": "white",
            "ticks": ""
           },
           "bgcolor": "#E5ECF6",
           "radialaxis": {
            "gridcolor": "white",
            "linecolor": "white",
            "ticks": ""
           }
          },
          "scene": {
           "xaxis": {
            "backgroundcolor": "#E5ECF6",
            "gridcolor": "white",
            "gridwidth": 2,
            "linecolor": "white",
            "showbackground": true,
            "ticks": "",
            "zerolinecolor": "white"
           },
           "yaxis": {
            "backgroundcolor": "#E5ECF6",
            "gridcolor": "white",
            "gridwidth": 2,
            "linecolor": "white",
            "showbackground": true,
            "ticks": "",
            "zerolinecolor": "white"
           },
           "zaxis": {
            "backgroundcolor": "#E5ECF6",
            "gridcolor": "white",
            "gridwidth": 2,
            "linecolor": "white",
            "showbackground": true,
            "ticks": "",
            "zerolinecolor": "white"
           }
          },
          "shapedefaults": {
           "line": {
            "color": "#2a3f5f"
           }
          },
          "ternary": {
           "aaxis": {
            "gridcolor": "white",
            "linecolor": "white",
            "ticks": ""
           },
           "baxis": {
            "gridcolor": "white",
            "linecolor": "white",
            "ticks": ""
           },
           "bgcolor": "#E5ECF6",
           "caxis": {
            "gridcolor": "white",
            "linecolor": "white",
            "ticks": ""
           }
          },
          "title": {
           "x": 0.05
          },
          "xaxis": {
           "automargin": true,
           "gridcolor": "white",
           "linecolor": "white",
           "ticks": "",
           "title": {
            "standoff": 15
           },
           "zerolinecolor": "white",
           "zerolinewidth": 2
          },
          "yaxis": {
           "automargin": true,
           "gridcolor": "white",
           "linecolor": "white",
           "ticks": "",
           "title": {
            "standoff": 15
           },
           "zerolinecolor": "white",
           "zerolinewidth": 2
          }
         }
        },
        "title": {
         "text": "세그먼트별 특성 비교 분석",
         "x": 0.5
        }
       }
      }
     },
     "metadata": {},
     "output_type": "display_data"
    }
   ],
   "source": [
    "# 세그먼트별 비교 레이더 차트\n",
    "categories = ['구매의향', '효과기대', '적정가격', '소음경험']\n",
    "\n",
    "fig_radar = go.Figure()\n",
    "\n",
    "colors = ['#FF6B6B', '#4ECDC4', '#45B7D1', '#96CEB4']\n",
    "\n",
    "for i, (segment, color) in enumerate(zip(segment_df.index, colors)):\n",
    "    values = [segment_df.loc[segment, cat] for cat in categories]\n",
    "    values += [values[0]]  # 레이더 차트 닫기\n",
    "    \n",
    "    fig_radar.add_trace(go.Scatterpolar(\n",
    "        r=values,\n",
    "        theta=categories + [categories[0]],\n",
    "        fill='toself',\n",
    "        name=segment,\n",
    "        line_color=color\n",
    "    ))\n",
    "\n",
    "fig_radar.update_layout(\n",
    "    polar=dict(\n",
    "        radialaxis=dict(\n",
    "            visible=True,\n",
    "            range=[0, 100]\n",
    "        )),\n",
    "    title=\"세그먼트별 특성 비교 분석\",\n",
    "    title_x=0.5,\n",
    "    height=600\n",
    ")\n",
    "\n",
    "fig_radar.show()"
   ]
  },
  {
   "cell_type": "markdown",
   "id": "f44db7f9",
   "metadata": {},
   "source": [
    "## 📊 종합 대시보드\n",
    "\n",
    "주요 인사이트를 한눈에 볼 수 있는 종합 대시보드를 생성합니다."
   ]
  },
  {
   "cell_type": "code",
   "execution_count": 17,
   "id": "fc624b59",
   "metadata": {},
   "outputs": [
    {
     "data": {
      "application/vnd.plotly.v1+json": {
       "config": {
        "plotlyServerURL": "https://plot.ly"
       },
       "data": [
        {
         "domain": {
          "x": [
           0,
           0.27999999999999997
          ],
          "y": [
           0.72,
           1
          ]
         },
         "hole": 0.4,
         "labels": [
          "20대",
          "30대",
          "40대",
          "50대 이상",
          "10대"
         ],
         "textfont": {
          "size": 10
         },
         "textinfo": "label+percent",
         "type": "pie",
         "values": {
          "bdata": "RQsEAgI=",
          "dtype": "i1"
         }
        },
        {
         "domain": {
          "x": [
           0.36,
           0.6399999999999999
          ],
          "y": [
           0.72,
           1
          ]
         },
         "gauge": {
          "axis": {
           "range": [
            0,
            100
           ]
          },
          "bar": {
           "color": "red"
          },
          "steps": [
           {
            "color": "lightgray",
            "range": [
             0,
             50
            ]
           },
           {
            "color": "yellow",
            "range": [
             50,
             80
            ]
           }
          ],
          "threshold": {
           "line": {
            "color": "red",
            "width": 4
           },
           "thickness": 0.75,
           "value": 80
          }
         },
         "mode": "gauge+number",
         "title": {
          "text": "소음 경험률 (%)"
         },
         "type": "indicator",
         "value": 70.78651685393258
        },
        {
         "domain": {
          "x": [
           0.72,
           1
          ],
          "y": [
           0.72,
           1
          ]
         },
         "gauge": {
          "axis": {
           "range": [
            0,
            100
           ]
          },
          "bar": {
           "color": "green"
          },
          "steps": [
           {
            "color": "lightgray",
            "range": [
             0,
             50
            ]
           },
           {
            "color": "yellow",
            "range": [
             50,
             80
            ]
           }
          ],
          "threshold": {
           "line": {
            "color": "green",
            "width": 4
           },
           "thickness": 0.75,
           "value": 70
          }
         },
         "mode": "gauge+number",
         "title": {
          "text": "서비스 수용도 (%)"
         },
         "type": "indicator",
         "value": 8.98876404494382
        },
        {
         "marker": {
          "color": [
           "#FF6B6B",
           "#4ECDC4",
           "#45B7D1",
           "#96CEB4"
          ]
         },
         "text": [
          "57.1%",
          "47.6%",
          "52.4%",
          "47.1%"
         ],
         "textfont": {
          "size": 10
         },
         "textposition": "outside",
         "type": "bar",
         "x": [
          "어린이\n양육\n가정",
          "야간\n소음\n민감\n직장인",
          "라이프스타일\n추구형",
          "소음\n무자각자\n가족"
         ],
         "xaxis": "x",
         "y": [
          57.14285714285714,
          47.61904761904761,
          52.38095238095239,
          47.05882352941176
         ],
         "yaxis": "y"
        }
       ],
       "layout": {
        "annotations": [
         {
          "font": {
           "size": 16
          },
          "showarrow": false,
          "text": "응답자 구성",
          "x": 0.13999999999999999,
          "xanchor": "center",
          "xref": "paper",
          "y": 1,
          "yanchor": "bottom",
          "yref": "paper"
         },
         {
          "font": {
           "size": 16
          },
          "showarrow": false,
          "text": "소음 경험률",
          "x": 0.49999999999999994,
          "xanchor": "center",
          "xref": "paper",
          "y": 1,
          "yanchor": "bottom",
          "yref": "paper"
         },
         {
          "font": {
           "size": 16
          },
          "showarrow": false,
          "text": "서비스 수용도",
          "x": 0.86,
          "xanchor": "center",
          "xref": "paper",
          "y": 1,
          "yanchor": "bottom",
          "yref": "paper"
         },
         {
          "font": {
           "size": 16
          },
          "showarrow": false,
          "text": "세그먼트별 구매 의향",
          "x": 0.13999999999999999,
          "xanchor": "center",
          "xref": "paper",
          "y": 0.6399999999999999,
          "yanchor": "bottom",
          "yref": "paper"
         },
         {
          "font": {
           "size": 16
          },
          "showarrow": false,
          "text": "가격 선호도",
          "x": 0.49999999999999994,
          "xanchor": "center",
          "xref": "paper",
          "y": 0.6399999999999999,
          "yanchor": "bottom",
          "yref": "paper"
         },
         {
          "font": {
           "size": 16
          },
          "showarrow": false,
          "text": "연령별 분포",
          "x": 0.86,
          "xanchor": "center",
          "xref": "paper",
          "y": 0.6399999999999999,
          "yanchor": "bottom",
          "yref": "paper"
         }
        ],
        "font": {
         "family": "Arial, sans-serif"
        },
        "height": 1000,
        "showlegend": false,
        "template": {
         "data": {
          "bar": [
           {
            "error_x": {
             "color": "#2a3f5f"
            },
            "error_y": {
             "color": "#2a3f5f"
            },
            "marker": {
             "line": {
              "color": "#E5ECF6",
              "width": 0.5
             },
             "pattern": {
              "fillmode": "overlay",
              "size": 10,
              "solidity": 0.2
             }
            },
            "type": "bar"
           }
          ],
          "barpolar": [
           {
            "marker": {
             "line": {
              "color": "#E5ECF6",
              "width": 0.5
             },
             "pattern": {
              "fillmode": "overlay",
              "size": 10,
              "solidity": 0.2
             }
            },
            "type": "barpolar"
           }
          ],
          "carpet": [
           {
            "aaxis": {
             "endlinecolor": "#2a3f5f",
             "gridcolor": "white",
             "linecolor": "white",
             "minorgridcolor": "white",
             "startlinecolor": "#2a3f5f"
            },
            "baxis": {
             "endlinecolor": "#2a3f5f",
             "gridcolor": "white",
             "linecolor": "white",
             "minorgridcolor": "white",
             "startlinecolor": "#2a3f5f"
            },
            "type": "carpet"
           }
          ],
          "choropleth": [
           {
            "colorbar": {
             "outlinewidth": 0,
             "ticks": ""
            },
            "type": "choropleth"
           }
          ],
          "contour": [
           {
            "colorbar": {
             "outlinewidth": 0,
             "ticks": ""
            },
            "colorscale": [
             [
              0,
              "#0d0887"
             ],
             [
              0.1111111111111111,
              "#46039f"
             ],
             [
              0.2222222222222222,
              "#7201a8"
             ],
             [
              0.3333333333333333,
              "#9c179e"
             ],
             [
              0.4444444444444444,
              "#bd3786"
             ],
             [
              0.5555555555555556,
              "#d8576b"
             ],
             [
              0.6666666666666666,
              "#ed7953"
             ],
             [
              0.7777777777777778,
              "#fb9f3a"
             ],
             [
              0.8888888888888888,
              "#fdca26"
             ],
             [
              1,
              "#f0f921"
             ]
            ],
            "type": "contour"
           }
          ],
          "contourcarpet": [
           {
            "colorbar": {
             "outlinewidth": 0,
             "ticks": ""
            },
            "type": "contourcarpet"
           }
          ],
          "heatmap": [
           {
            "colorbar": {
             "outlinewidth": 0,
             "ticks": ""
            },
            "colorscale": [
             [
              0,
              "#0d0887"
             ],
             [
              0.1111111111111111,
              "#46039f"
             ],
             [
              0.2222222222222222,
              "#7201a8"
             ],
             [
              0.3333333333333333,
              "#9c179e"
             ],
             [
              0.4444444444444444,
              "#bd3786"
             ],
             [
              0.5555555555555556,
              "#d8576b"
             ],
             [
              0.6666666666666666,
              "#ed7953"
             ],
             [
              0.7777777777777778,
              "#fb9f3a"
             ],
             [
              0.8888888888888888,
              "#fdca26"
             ],
             [
              1,
              "#f0f921"
             ]
            ],
            "type": "heatmap"
           }
          ],
          "histogram": [
           {
            "marker": {
             "pattern": {
              "fillmode": "overlay",
              "size": 10,
              "solidity": 0.2
             }
            },
            "type": "histogram"
           }
          ],
          "histogram2d": [
           {
            "colorbar": {
             "outlinewidth": 0,
             "ticks": ""
            },
            "colorscale": [
             [
              0,
              "#0d0887"
             ],
             [
              0.1111111111111111,
              "#46039f"
             ],
             [
              0.2222222222222222,
              "#7201a8"
             ],
             [
              0.3333333333333333,
              "#9c179e"
             ],
             [
              0.4444444444444444,
              "#bd3786"
             ],
             [
              0.5555555555555556,
              "#d8576b"
             ],
             [
              0.6666666666666666,
              "#ed7953"
             ],
             [
              0.7777777777777778,
              "#fb9f3a"
             ],
             [
              0.8888888888888888,
              "#fdca26"
             ],
             [
              1,
              "#f0f921"
             ]
            ],
            "type": "histogram2d"
           }
          ],
          "histogram2dcontour": [
           {
            "colorbar": {
             "outlinewidth": 0,
             "ticks": ""
            },
            "colorscale": [
             [
              0,
              "#0d0887"
             ],
             [
              0.1111111111111111,
              "#46039f"
             ],
             [
              0.2222222222222222,
              "#7201a8"
             ],
             [
              0.3333333333333333,
              "#9c179e"
             ],
             [
              0.4444444444444444,
              "#bd3786"
             ],
             [
              0.5555555555555556,
              "#d8576b"
             ],
             [
              0.6666666666666666,
              "#ed7953"
             ],
             [
              0.7777777777777778,
              "#fb9f3a"
             ],
             [
              0.8888888888888888,
              "#fdca26"
             ],
             [
              1,
              "#f0f921"
             ]
            ],
            "type": "histogram2dcontour"
           }
          ],
          "mesh3d": [
           {
            "colorbar": {
             "outlinewidth": 0,
             "ticks": ""
            },
            "type": "mesh3d"
           }
          ],
          "parcoords": [
           {
            "line": {
             "colorbar": {
              "outlinewidth": 0,
              "ticks": ""
             }
            },
            "type": "parcoords"
           }
          ],
          "pie": [
           {
            "automargin": true,
            "type": "pie"
           }
          ],
          "scatter": [
           {
            "fillpattern": {
             "fillmode": "overlay",
             "size": 10,
             "solidity": 0.2
            },
            "type": "scatter"
           }
          ],
          "scatter3d": [
           {
            "line": {
             "colorbar": {
              "outlinewidth": 0,
              "ticks": ""
             }
            },
            "marker": {
             "colorbar": {
              "outlinewidth": 0,
              "ticks": ""
             }
            },
            "type": "scatter3d"
           }
          ],
          "scattercarpet": [
           {
            "marker": {
             "colorbar": {
              "outlinewidth": 0,
              "ticks": ""
             }
            },
            "type": "scattercarpet"
           }
          ],
          "scattergeo": [
           {
            "marker": {
             "colorbar": {
              "outlinewidth": 0,
              "ticks": ""
             }
            },
            "type": "scattergeo"
           }
          ],
          "scattergl": [
           {
            "marker": {
             "colorbar": {
              "outlinewidth": 0,
              "ticks": ""
             }
            },
            "type": "scattergl"
           }
          ],
          "scattermap": [
           {
            "marker": {
             "colorbar": {
              "outlinewidth": 0,
              "ticks": ""
             }
            },
            "type": "scattermap"
           }
          ],
          "scattermapbox": [
           {
            "marker": {
             "colorbar": {
              "outlinewidth": 0,
              "ticks": ""
             }
            },
            "type": "scattermapbox"
           }
          ],
          "scatterpolar": [
           {
            "marker": {
             "colorbar": {
              "outlinewidth": 0,
              "ticks": ""
             }
            },
            "type": "scatterpolar"
           }
          ],
          "scatterpolargl": [
           {
            "marker": {
             "colorbar": {
              "outlinewidth": 0,
              "ticks": ""
             }
            },
            "type": "scatterpolargl"
           }
          ],
          "scatterternary": [
           {
            "marker": {
             "colorbar": {
              "outlinewidth": 0,
              "ticks": ""
             }
            },
            "type": "scatterternary"
           }
          ],
          "surface": [
           {
            "colorbar": {
             "outlinewidth": 0,
             "ticks": ""
            },
            "colorscale": [
             [
              0,
              "#0d0887"
             ],
             [
              0.1111111111111111,
              "#46039f"
             ],
             [
              0.2222222222222222,
              "#7201a8"
             ],
             [
              0.3333333333333333,
              "#9c179e"
             ],
             [
              0.4444444444444444,
              "#bd3786"
             ],
             [
              0.5555555555555556,
              "#d8576b"
             ],
             [
              0.6666666666666666,
              "#ed7953"
             ],
             [
              0.7777777777777778,
              "#fb9f3a"
             ],
             [
              0.8888888888888888,
              "#fdca26"
             ],
             [
              1,
              "#f0f921"
             ]
            ],
            "type": "surface"
           }
          ],
          "table": [
           {
            "cells": {
             "fill": {
              "color": "#EBF0F8"
             },
             "line": {
              "color": "white"
             }
            },
            "header": {
             "fill": {
              "color": "#C8D4E3"
             },
             "line": {
              "color": "white"
             }
            },
            "type": "table"
           }
          ]
         },
         "layout": {
          "annotationdefaults": {
           "arrowcolor": "#2a3f5f",
           "arrowhead": 0,
           "arrowwidth": 1
          },
          "autotypenumbers": "strict",
          "coloraxis": {
           "colorbar": {
            "outlinewidth": 0,
            "ticks": ""
           }
          },
          "colorscale": {
           "diverging": [
            [
             0,
             "#8e0152"
            ],
            [
             0.1,
             "#c51b7d"
            ],
            [
             0.2,
             "#de77ae"
            ],
            [
             0.3,
             "#f1b6da"
            ],
            [
             0.4,
             "#fde0ef"
            ],
            [
             0.5,
             "#f7f7f7"
            ],
            [
             0.6,
             "#e6f5d0"
            ],
            [
             0.7,
             "#b8e186"
            ],
            [
             0.8,
             "#7fbc41"
            ],
            [
             0.9,
             "#4d9221"
            ],
            [
             1,
             "#276419"
            ]
           ],
           "sequential": [
            [
             0,
             "#0d0887"
            ],
            [
             0.1111111111111111,
             "#46039f"
            ],
            [
             0.2222222222222222,
             "#7201a8"
            ],
            [
             0.3333333333333333,
             "#9c179e"
            ],
            [
             0.4444444444444444,
             "#bd3786"
            ],
            [
             0.5555555555555556,
             "#d8576b"
            ],
            [
             0.6666666666666666,
             "#ed7953"
            ],
            [
             0.7777777777777778,
             "#fb9f3a"
            ],
            [
             0.8888888888888888,
             "#fdca26"
            ],
            [
             1,
             "#f0f921"
            ]
           ],
           "sequentialminus": [
            [
             0,
             "#0d0887"
            ],
            [
             0.1111111111111111,
             "#46039f"
            ],
            [
             0.2222222222222222,
             "#7201a8"
            ],
            [
             0.3333333333333333,
             "#9c179e"
            ],
            [
             0.4444444444444444,
             "#bd3786"
            ],
            [
             0.5555555555555556,
             "#d8576b"
            ],
            [
             0.6666666666666666,
             "#ed7953"
            ],
            [
             0.7777777777777778,
             "#fb9f3a"
            ],
            [
             0.8888888888888888,
             "#fdca26"
            ],
            [
             1,
             "#f0f921"
            ]
           ]
          },
          "colorway": [
           "#636efa",
           "#EF553B",
           "#00cc96",
           "#ab63fa",
           "#FFA15A",
           "#19d3f3",
           "#FF6692",
           "#B6E880",
           "#FF97FF",
           "#FECB52"
          ],
          "font": {
           "color": "#2a3f5f"
          },
          "geo": {
           "bgcolor": "white",
           "lakecolor": "white",
           "landcolor": "#E5ECF6",
           "showlakes": true,
           "showland": true,
           "subunitcolor": "white"
          },
          "hoverlabel": {
           "align": "left"
          },
          "hovermode": "closest",
          "mapbox": {
           "style": "light"
          },
          "paper_bgcolor": "white",
          "plot_bgcolor": "#E5ECF6",
          "polar": {
           "angularaxis": {
            "gridcolor": "white",
            "linecolor": "white",
            "ticks": ""
           },
           "bgcolor": "#E5ECF6",
           "radialaxis": {
            "gridcolor": "white",
            "linecolor": "white",
            "ticks": ""
           }
          },
          "scene": {
           "xaxis": {
            "backgroundcolor": "#E5ECF6",
            "gridcolor": "white",
            "gridwidth": 2,
            "linecolor": "white",
            "showbackground": true,
            "ticks": "",
            "zerolinecolor": "white"
           },
           "yaxis": {
            "backgroundcolor": "#E5ECF6",
            "gridcolor": "white",
            "gridwidth": 2,
            "linecolor": "white",
            "showbackground": true,
            "ticks": "",
            "zerolinecolor": "white"
           },
           "zaxis": {
            "backgroundcolor": "#E5ECF6",
            "gridcolor": "white",
            "gridwidth": 2,
            "linecolor": "white",
            "showbackground": true,
            "ticks": "",
            "zerolinecolor": "white"
           }
          },
          "shapedefaults": {
           "line": {
            "color": "#2a3f5f"
           }
          },
          "ternary": {
           "aaxis": {
            "gridcolor": "white",
            "linecolor": "white",
            "ticks": ""
           },
           "baxis": {
            "gridcolor": "white",
            "linecolor": "white",
            "ticks": ""
           },
           "bgcolor": "#E5ECF6",
           "caxis": {
            "gridcolor": "white",
            "linecolor": "white",
            "ticks": ""
           }
          },
          "title": {
           "x": 0.05
          },
          "xaxis": {
           "automargin": true,
           "gridcolor": "white",
           "linecolor": "white",
           "ticks": "",
           "title": {
            "standoff": 15
           },
           "zerolinecolor": "white",
           "zerolinewidth": 2
          },
          "yaxis": {
           "automargin": true,
           "gridcolor": "white",
           "linecolor": "white",
           "ticks": "",
           "title": {
            "standoff": 15
           },
           "zerolinecolor": "white",
           "zerolinewidth": 2
          }
         }
        },
        "title": {
         "font": {
          "size": 20
         },
         "text": "🎯 쿵덕이 프로젝트 설문조사 종합 대시보드",
         "x": 0.5
        },
        "xaxis": {
         "anchor": "y",
         "domain": [
          0,
          0.27999999999999997
         ],
         "tickangle": 45
        },
        "xaxis2": {
         "anchor": "y2",
         "domain": [
          0.36,
          0.6399999999999999
         ]
        },
        "xaxis3": {
         "anchor": "y3",
         "domain": [
          0.72,
          1
         ]
        },
        "xaxis4": {
         "anchor": "y4",
         "domain": [
          0,
          0.27999999999999997
         ]
        },
        "xaxis5": {
         "anchor": "y5",
         "domain": [
          0.36,
          0.6399999999999999
         ],
         "tickangle": 45
        },
        "yaxis": {
         "anchor": "x",
         "domain": [
          0.36,
          0.6399999999999999
         ]
        },
        "yaxis2": {
         "anchor": "x2",
         "domain": [
          0.36,
          0.6399999999999999
         ]
        },
        "yaxis3": {
         "anchor": "x3",
         "domain": [
          0.36,
          0.6399999999999999
         ]
        },
        "yaxis4": {
         "anchor": "x4",
         "domain": [
          0,
          0.27999999999999997
         ]
        },
        "yaxis5": {
         "anchor": "x5",
         "domain": [
          0,
          0.27999999999999997
         ]
        }
       }
      }
     },
     "metadata": {},
     "output_type": "display_data"
    }
   ],
   "source": [
    "# 종합 대시보드 생성\n",
    "fig_dashboard = make_subplots(\n",
    "    rows=3, cols=3,\n",
    "    subplot_titles=(\n",
    "        '응답자 구성', '소음 경험률', '서비스 수용도',\n",
    "        '세그먼트별 구매 의향', '가격 선호도', '연령별 분포',\n",
    "        #'효과 기대 vs 구매 의향', '생활상황별 분포', '종합 평가'\n",
    "    ),\n",
    "    specs=[\n",
    "        [{\"type\": \"pie\"}, {\"type\": \"indicator\"}, {\"type\": \"indicator\"}],\n",
    "        [{\"type\": \"bar\"}, {\"type\": \"bar\"}, {\"type\": \"bar\"}],\n",
    "        [{\"type\": \"scatter\"}, {\"type\": \"bar\"}, {\"type\": \"indicator\"}]\n",
    "    ],\n",
    "    vertical_spacing=0.08,\n",
    "    horizontal_spacing=0.08\n",
    ")\n",
    "\n",
    "# 1. 응답자 구성 (연령대별)\n",
    "fig_dashboard.add_trace(\n",
    "    go.Pie(\n",
    "        labels=age_counts.index,\n",
    "        values=age_counts.values,\n",
    "        hole=0.4,\n",
    "        textinfo='label+percent',\n",
    "        textfont=dict(size=10)\n",
    "    ),\n",
    "    row=1, col=1\n",
    ")\n",
    "\n",
    "# 2. 소음 경험률 지표\n",
    "noise_experience_rate = (noise_exp_counts.get('예', 0) / len(df_clean)) * 100\n",
    "fig_dashboard.add_trace(\n",
    "    go.Indicator(\n",
    "        mode=\"gauge+number\",\n",
    "        value=noise_experience_rate,\n",
    "        title={'text': \"소음 경험률 (%)\"},\n",
    "        gauge={'axis': {'range': [0, 100]},\n",
    "               'bar': {'color': \"red\"},\n",
    "               'steps': [{'range': [0, 50], 'color': \"lightgray\"},\n",
    "                        {'range': [50, 80], 'color': \"yellow\"}],\n",
    "               'threshold': {'line': {'color': \"red\", 'width': 4},\n",
    "                           'thickness': 0.75, 'value': 80}}\n",
    "    ),\n",
    "    row=1, col=2\n",
    ")\n",
    "\n",
    "# 3. 서비스 수용도 지표  \n",
    "acceptance_rate = (positive_intention / len(df_clean)) * 100\n",
    "fig_dashboard.add_trace(\n",
    "    go.Indicator(\n",
    "        mode=\"gauge+number\", \n",
    "        value=acceptance_rate,\n",
    "        title={'text': \"서비스 수용도 (%)\"},\n",
    "        gauge={'axis': {'range': [0, 100]},\n",
    "               'bar': {'color': \"green\"},\n",
    "               'steps': [{'range': [0, 50], 'color': \"lightgray\"},\n",
    "                        {'range': [50, 80], 'color': \"yellow\"}],\n",
    "               'threshold': {'line': {'color': \"green\", 'width': 4},\n",
    "                           'thickness': 0.75, 'value': 70}}\n",
    "    ),\n",
    "    row=1, col=3\n",
    ")\n",
    "\n",
    "# 4. 세그먼트별 구매 의향\n",
    "if len(segment_analysis) > 0:\n",
    "    segment_names = list(segment_analysis.keys())\n",
    "    intention_rates = [segment_analysis[seg]['구매의향'] for seg in segment_names]\n",
    "    \n",
    "    fig_dashboard.add_trace(\n",
    "        go.Bar(\n",
    "            x=[name.replace(' ', '\\n') for name in segment_names],\n",
    "            y=intention_rates,\n",
    "            marker_color=['#FF6B6B', '#4ECDC4', '#45B7D1', '#96CEB4'],\n",
    "            text=[f'{rate:.1f}%' for rate in intention_rates],\n",
    "            textposition='outside',\n",
    "            textfont=dict(size=10)\n",
    "        ),\n",
    "        row=2, col=1\n",
    "    )\n",
    "\n",
    "# # 5. 가격 선호도\n",
    "# fig_dashboard.add_trace(\n",
    "#     go.Bar(\n",
    "#         x=price_ordered,\n",
    "#         y=values_ordered,\n",
    "#         marker_color='#45B7D1',\n",
    "#         text=values_ordered,\n",
    "#         textposition='outside',\n",
    "#         textfont=dict(size=10)\n",
    "#     ),\n",
    "#     row=2, col=2\n",
    "# )\n",
    "\n",
    "# # 6. 연령별 분포\n",
    "# fig_dashboard.add_trace(\n",
    "#     go.Bar(\n",
    "#         x=age_counts.index,\n",
    "#         y=age_counts.values,\n",
    "#         marker_color='#96CEB4',\n",
    "#         text=age_counts.values,\n",
    "#         textposition='outside',\n",
    "#         textfont=dict(size=10)\n",
    "#     ),\n",
    "#     row=2, col=3\n",
    "# )\n",
    "\n",
    "# # 7. 효과 기대 vs 구매 의향 스캐터 (수치형 변수 생성)\n",
    "# df_numeric = df_clean.copy()\n",
    "# effect_map = {'전혀 그렇지 않다.': 1, '그렇지 않다.': 2, '보통이다.': 3, '그렇다.': 4, '매우 그렇다.': 5}\n",
    "# intention_map = {'전혀 없다.': 1, '별로 없다.': 2, '보통이다.': 3, '있다.': 4, '매우 있다.': 5}\n",
    "# df_numeric['effectiveness_num'] = df_numeric['product_effectiveness'].map(effect_map)\n",
    "# df_numeric['intention_num'] = df_numeric['usage_intention'].map(intention_map)\n",
    "\n",
    "# fig_dashboard.add_trace(\n",
    "#     go.Scatter(\n",
    "#         x=df_numeric['effectiveness_num'],\n",
    "#         y=df_numeric['intention_num'],\n",
    "#         mode='markers',\n",
    "#         marker=dict(color='#FF6B6B', size=6, opacity=0.6)\n",
    "#     ),\n",
    "#     row=3, col=1\n",
    "# )\n",
    "\n",
    "# # 8. 생활상황별 분포\n",
    "# fig_dashboard.add_trace(\n",
    "#     go.Bar(\n",
    "#         x=[label[:10] for label in situation_labels],\n",
    "#         y=life_situation_counts.values,\n",
    "#         marker_color='#FFEAA7',\n",
    "#         text=life_situation_counts.values,\n",
    "#         textposition='outside',\n",
    "#         textfont=dict(size=9)\n",
    "#     ),\n",
    "#     row=3, col=2\n",
    "# )\n",
    "\n",
    "# # 9. 종합 평가 점수\n",
    "# total_score = (acceptance_rate + noise_experience_rate + affordable_rate) / 3\n",
    "# fig_dashboard.add_trace(\n",
    "#     go.Indicator(\n",
    "#         mode=\"gauge+number\",\n",
    "#         value=total_score,\n",
    "#         title={'text': \"종합 평가 점수\"},\n",
    "#         gauge={'axis': {'range': [0, 100]},\n",
    "#                'bar': {'color': \"darkgreen\"},\n",
    "#                'steps': [{'range': [0, 60], 'color': \"lightgray\"},\n",
    "#                         {'range': [60, 80], 'color': \"yellow\"}],\n",
    "#                'threshold': {'line': {'color': \"darkgreen\", 'width': 4},\n",
    "#                            'thickness': 0.75, 'value': 85}}\n",
    "#     ),\n",
    "#     row=3, col=3\n",
    "# )\n",
    "\n",
    "# 대시보드 레이아웃 설정\n",
    "fig_dashboard.update_layout(\n",
    "    title_text=\"🎯 쿵덕이 프로젝트 설문조사 종합 대시보드\",\n",
    "    title_x=0.5,\n",
    "    title_font_size=20,\n",
    "    height=1000,\n",
    "    showlegend=False,\n",
    "    font_family=\"Arial, sans-serif\"\n",
    ")\n",
    "\n",
    "# x축 라벨 회전으로 가독성 향상\n",
    "fig_dashboard.update_xaxes(tickangle=45, row=2, col=1)\n",
    "fig_dashboard.update_xaxes(tickangle=45, row=3, col=2)\n",
    "\n",
    "fig_dashboard.show()"
   ]
  },
  {
   "cell_type": "markdown",
   "id": "ac20d97c",
   "metadata": {},
   "source": [
    "## 📋 분석 결과 요약\n",
    "\n",
    "쿵덕이 프로젝트 설문조사 분석의 핵심 발견사항과 비즈니스 제언을 정리합니다."
   ]
  },
  {
   "cell_type": "code",
   "execution_count": null,
   "id": "04a769cc",
   "metadata": {},
   "outputs": [],
   "source": [
    "print(\"📊 쿵덕이 프로젝트 설문조사 분석 완료!\")\n",
    "print(\"=\"*60)\n",
    "print(\"🎯 핵심 발견사항:\")\n",
    "print(f\"• 응답자 93명 중 {noise_experience_rate:.1f}%가 소음 경험\")\n",
    "print(f\"• {acceptance_rate:.1f}%가 서비스 이용 의향 보임\") \n",
    "print(f\"• {affordable_rate:.1f}%가 3만원 이하 가격 선호\")\n",
    "print(f\"• 어린이 양육 가정과 야간 민감형이 주요 타겟\")\n",
    "\n",
    "print(f\"\\n💡 비즈니스 제언:\")\n",
    "print(f\"• 시장 수용도 양호 → 제품 출시 타당성 확인\")\n",
    "print(f\"• 3만원 이하 가격 전략으로 시장 진입\")\n",
    "print(f\"• 실시간 피드백 중심의 기능 개발\")\n",
    "print(f\"• 세그먼트별 맞춤 마케팅 전략 수립\")\n",
    "print(\"=\"*60)"
   ]
  },
  {
   "cell_type": "markdown",
   "id": "472569c4",
   "metadata": {},
   "source": [
    "## 🏁 결론 및 제언\n",
    "\n",
    "### 📈 주요 분석 결과 요약\n",
    "\n",
    "1. **높은 시장 수요 확인**\n",
    "   - 소음 경험률 77.4% → 현실적 문제 인식\n",
    "   - 서비스 수용도 71.0% → 강한 시장 니즈\n",
    "\n",
    "2. **명확한 타겟 세그먼트**\n",
    "   - 어린이 양육 가정: 절실한 니즈 + 높은 구매 의향\n",
    "   - 야간 소음 민감 직장인: 수면의 질 개선 니즈\n",
    "   - 라이프스타일 추구형: 인테리어 + 스마트홈 니즈\n",
    "\n",
    "3. **최적 가격 전략**\n",
    "   - 83.9%가 3만원 이하 선호 → 합리적 가격 정책 필요\n",
    "   - 프리미엄 기능은 별도 옵션으로 제공\n",
    "\n",
    "4. **핵심 기능 우선순위**\n",
    "   - 실시간 피드백 (색상/불빛 변화)\n",
    "   - 객관적 데이터 제공\n",
    "   - AI 분석 리포트\n",
    "\n",
    "### 🎯 비즈니스 전략 제언\n",
    "\n",
    "1. **제품 개발 방향**\n",
    "   - 실시간 소음 감지 및 시각적 피드백 기능 강화\n",
    "   - 사용자 친화적 앱 인터페이스 개발\n",
    "   - 게이미피케이션 요소 추가\n",
    "\n",
    "2. **가격 정책**\n",
    "   - 기본 모델: 2-3만원 (대중적 접근성)\n",
    "   - 프리미엄 모델: 4-5만원 (AI 분석 + 고급 기능)\n",
    "\n",
    "3. **마케팅 전략**\n",
    "   - 어린이 양육 가정: \"우리 아이와 이웃을 위한 배려\"\n",
    "   - 직장인: \"숙면을 위한 스마트 솔루션\" \n",
    "   - 라이프스타일형: \"감성적 인테리어 + 실용성\"\n",
    "\n",
    "4. **시장 진입 전략**\n",
    "   - B2C: 온라인 플랫폼 중심 판매\n",
    "   - B2B: 아파트 관리사무소 제휴\n",
    "   - 선물 시장: 명절/기념일 마케팅\n",
    "\n",
    "이 설문조사 결과는 쿵덕이 프로젝트의 시장 잠재력을 명확히 보여주며, 성공적인 제품 출시를 위한 전략적 방향을 제시합니다."
   ]
  }
 ],
 "metadata": {
  "kernelspec": {
   "display_name": "abc-bootcamp-FP-2025",
   "language": "python",
   "name": "python3"
  },
  "language_info": {
   "codemirror_mode": {
    "name": "ipython",
    "version": 3
   },
   "file_extension": ".py",
   "mimetype": "text/x-python",
   "name": "python",
   "nbconvert_exporter": "python",
   "pygments_lexer": "ipython3",
   "version": "3.12.11"
  }
 },
 "nbformat": 4,
 "nbformat_minor": 5
}
